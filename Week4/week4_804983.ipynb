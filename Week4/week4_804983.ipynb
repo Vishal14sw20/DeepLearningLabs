{
 "cells": [
  {
   "cell_type": "markdown",
   "metadata": {
    "colab_type": "text",
    "id": "DRkD79Wpw2wx"
   },
   "source": [
    "# Softmax Regression\n",
    "\n",
    "\n",
    "In the last two chapters, we worked through implementations\n",
    "linear regression, building everything from scratch and again using pytorch to automate the most repetitive work.\n",
    "\n",
    "Regression is the hammer we reach for\n",
    "when we want to answer *how much?* or *how many?* questions.\n",
    "If you want to predict the number of dollars (the *price*)\n",
    "at which a house will be sold,\n",
    "or the number of wins a baseball team might have,\n",
    "or the number of days that a patient\n",
    "will remain hospitalized before being discharged,\n",
    "then you're probably looking for a regression model.\n",
    "\n",
    "In practice, we're more often interested in classification:\n",
    "asking not *how much* but *which one*.\n",
    "\n",
    "* Does this email belong in the spam folder or the inbox?\n",
    "* Is this customer more likely *to sign up* or *not to sign up* for a subscription service?\n",
    "* Does this image depict a donkey, a dog, a cat, or a rooster?\n",
    "* Which movie is user most likely to watch next?\n",
    "\n",
    "Colloquially, we use the word *classification* to describe two subtly different problems: (i) those where we are interested only in *hard* assignments of examples to categories, and (ii) those where we wish to make *soft assignments*, i.e., to assess the *probability* that each category applies. One reason why the distinction between these tasks gets blurred is because most often, even when we only care about hard assignments, we still use models that make soft assignments.\n",
    "\n",
    "\n",
    "## Classification Problems\n",
    "\n",
    "To get our feet wet, let's start off with a somewhat contrived image classification problem. Here, each input will be a grayscale 2-by-2 image. We can represent each pixel location as a single scalar, representing each image with four features $x_1, x_2, x_3, x_4$. Further, let's assume that each image belongs to one among the categories \"cat\", \"chicken\" and \"dog\".\n",
    "\n",
    "First, we have to choose how to represent the labels. We have two obvious choices. Perhaps the most natural impulse would be to choose $y \\in \\{1, 2, 3\\}$, where the integers represent {dog, cat, chicken} respectively. This is a great way of *storing* such information on a computer.\n",
    "If the categories had some natural ordering among them, say if we were trying to predict {baby, child, adolescent, adult}, then it might even make sense to cast this problem as a regression and keep the labels in this format.\n",
    "\n",
    "But general classification problems do not come with natural orderings among the classes. To deal with problems like this, statisticians invented an alternative way to represent categorical data: the one hot encoding. Here we have a vector with one component for every possible category. For a given instance, we set the component corresponding to *its category* to 1, and set all other components to 0.\n",
    "\n",
    "$$y \\in \\{(1, 0, 0), (0, 1, 0), (0, 0, 1)\\}$$\n",
    "\n",
    "In our case, $y$ would be a three-dimensional vector, with $(1,0,0)$ corresponding to \"cat\", $(0,1,0)$ to \"chicken\" and $(0,0,1)$ to \"dog\".\n",
    "\n",
    "### Network Architecture\n",
    "\n",
    "In order to estimate multiple classes, we need a model with multiple outputs, one per category. This is one of the main differences between classification and regression models. To address classification with linear models, we will need as many linear functions as we have outputs. Each output will correspond to its own linear function. In our case, since we have 4 features and 3 possible output categories, we will need 12 scalars to represent the weights,  ($w$ with subscripts) and 3 scalars to represent the biases ($b$ with subscripts). We compute these three outputs, $o_1, o_2$, and $o_3$, for each input:\n",
    "\n",
    "$$\n",
    "\\begin{aligned}\n",
    "o_1 &= x_1 w_{11} + x_2 w_{21} + x_3 w_{31} + x_4 w_{41} + b_1,\\\\\n",
    "o_2 &= x_1 w_{12} + x_2 w_{22} + x_3 w_{32} + x_4 w_{42} + b_2,\\\\\n",
    "o_3 &= x_1 w_{13} + x_2 w_{23} + x_3 w_{33} + x_4 w_{43} + b_3.\n",
    "\\end{aligned}\n",
    "$$\n",
    "\n",
    "We can depict this calculation with the neural network diagram below. Just as in linear regression, softmax regression is also a single-layer neural network. And since the calculation of each output, $o_1, o_2$, and $o_3$, depends on all inputs, $x_1$, $x_2$, $x_3$, and $x_4$, the output layer of softmax regression can also be described as fully connected layer.\n",
    "\n",
    "![alt text](https://drive.google.com/uc?id=120yYCvUv0WQYjrVqtdJjIU0xy2CoEu0g)\n"
   ]
  },
  {
   "cell_type": "markdown",
   "metadata": {
    "colab_type": "text",
    "id": "_5GRboDSw2w5"
   },
   "source": [
    "Softmax regression is a single-layer neural network.  \n",
    "\n",
    "\n",
    "### Softmax Operation\n",
    "\n",
    "To express the model more compactly, we can use linear algebra notation. In vector form, we arrive at $\\mathbf{o} = \\mathbf{W} \\mathbf{x} + \\mathbf{b}$, a form better suited both for mathematics, and for writing code. Note that we have gathered all of our weights into a $3\\times4$ matrix and that for a given example $\\mathbf{x}$ our outputs are given by a matrix vector product of our weights by our inputs plus our biases $\\mathbf{b}$.\n",
    "\n",
    "\n",
    "If we are interested in hard classifications, we need to convert these outputs into a discrete prediction. One straightforward way to do this is to treat the output values $o_i$ as the relative confidence levels that the item belongs to each category $i$. Then we can choose the class with the largest output value as our prediction $\\operatorname*{argmax}_i o_i$. For example, if $o_1$, $o_2$, and $o_3$ are 0.1, 10, and 0.1, respectively, then we predict category 2, which represents \"chicken\".\n",
    "\n",
    "However, there are a few problems with using the output from the output layer directly. First, because the range of output values from the output layer is uncertain, it is difficult to judge the meaning of these values. For instance, the output value 10 from the previous example appears to indicate that we are *very confident* that the image category is *chicken*. But just how confident? Is it 100 times more likely to be a chicken than a dog or are we less confident?\n",
    "\n",
    "Moreover how do we train this model. If the argmax matches the label, then we have no error at all! And if if the argmax is not equal to the label, then no infinitesimal change in our weights will decrease our error. That takes gradient-based learning off the table.\n",
    "\n",
    "We might like for our outputs to correspond to probabilities, but then we would need a way to guarantee that on new (unseen) data the probabilities would be nonnegative and sum up to 1. Moreover, we would need a training objective that encouraged the model to actually estimate *probabilities*.\n",
    "Fortunately, statisticians have conveniently invented a model\n",
    "called softmax logistic regression that does precisely this.\n",
    "\n",
    "In order to ensure that our outputs are nonnegative and sum to 1,\n",
    "while requiring that our model remains differentiable,\n",
    "we subject the outputs of the linear portion of our model\n",
    "to a nonlinear *softmax* function:\n",
    "\n",
    "$$\n",
    "\\hat{\\mathbf{y}} = \\mathrm{softmax}(\\mathbf{o}) \\text{ where }\n",
    "\\hat{y}_i = \\frac{\\exp(o_i)}{\\sum_j \\exp(o_j)}\n",
    "$$\n",
    "\n",
    "It is easy to see $\\hat{y}_1 + \\hat{y}_2 + \\hat{y}_3 = 1$ with $0 \\leq \\hat{y}_i \\leq 1$ for all $i$. Thus, $\\hat{y}$ is a proper probability distribution and the values of $o$ now assume an easily quantifiable meaning. Note that we can still find the most likely class by\n",
    "\n",
    "$$\n",
    "\\hat{\\imath}(\\mathbf{o}) = \\operatorname*{argmax}_i o_i = \\operatorname*{argmax}_i \\hat y_i\n",
    "$$\n",
    "\n",
    "In short, the softmax operation preserves the orderings of its inputs, and thus does not alter the predicted category vs our simpler *argmax* model. However, it gives the outputs $\\mathbf{o}$ proper meaning: they are the pre-softmax values determining the probabilities assigned to each category. Summarizing it all in vector notation we get ${\\mathbf{o}}^{(i)} = \\mathbf{W} {\\mathbf{x}}^{(i)} + {\\mathbf{b}}$ where ${\\hat{\\mathbf{y}}}^{(i)} = \\mathrm{softmax}({\\mathbf{o}}^{(i)})$.\n",
    "\n",
    "\n",
    "### Vectorization for Minibatches\n",
    "\n",
    "Again, to improve computational efficiency and take advantage of GPUs, we will typically carry out vector calculations for mini-batches of data. Assume that we are given a mini-batch $\\mathbf{X}$ of examples with dimensionality $d$ and batch size $n$. Moreover, assume that we have $q$ categories (outputs). Then the minibatch features $\\mathbf{X}$ are in $\\mathbb{R}^{n \\times d}$, weights $\\mathbf{W} \\in \\mathbb{R}^{d \\times q}$ and the bias satisfies $\\mathbf{b} \\in \\mathbb{R}^q$.\n",
    "\n",
    "$$\n",
    "\\begin{aligned}\n",
    "\\mathbf{O} &= \\mathbf{X} \\mathbf{W} + \\mathbf{b} \\\\\n",
    "\\hat{\\mathbf{Y}} & = \\mathrm{softmax}(\\mathbf{O})\n",
    "\\end{aligned}\n",
    "$$\n",
    "\n",
    "This accelerates the dominant operation into a matrix-matrix product $\\mathbf{W} \\mathbf{X}$ vs the matrix-vector products we would be executing if we processed one example at a time. The softmax itself can be computed by exponentiating all entries in $\\mathbf{O}$ and then normalizing them by the sum appropriately.\n",
    "\n",
    "## Loss Function\n",
    "\n",
    "Now that we have some mechanism for outputting probabilities, we need to transform this into a measure of how accurate things are, i.e. we need a *loss function*. For this, we use the same concept that we already encountered in linear regression, namely likelihood maximization.\n",
    "\n",
    "### Log-Likelihood\n",
    "\n",
    "The softmax function maps $\\mathbf{o}$ into a vector of probabilities corresponding to various outcomes, such as $p(y=\\mathrm{cat}|\\mathbf{x})$. This allows us to compare the estimates with reality, simply by checking how well it predicted what we observe.\n",
    "\n",
    "$$\n",
    "p(Y|X) = \\prod_{i=1}^n p(y^{(i)}|x^{(i)})\n",
    "\\text{ and thus }\n",
    "-\\log p(Y|X) = \\sum_{i=1}^n -\\log p(y^{(i)}|x^{(i)})\n",
    "$$\n",
    "\n",
    "\n",
    "Maximizing $p(Y|X)$ (and thus equivalently minimizing $-\\log p(Y|X)$)\n",
    "corresponds to predicting the label well.\n",
    "This yields the loss function (we dropped the superscript $(i)$ to avoid notation clutter):\n",
    "\n",
    "$$\n",
    "l = -\\log p(y|x) = - \\sum_j y_j \\log \\hat{y}_j\n",
    "$$\n",
    "\n",
    "Here we used that by construction $\\hat{y} = \\mathrm{softmax}(\\mathbf{o})$ and moreover, that the vector $\\mathbf{y}$ consists of all zeroes but for the correct label, such as $(1, 0, 0)$. Hence the sum over all coordinates $j$ vanishes for all but one term. Since all $\\hat{y}_j$ are probabilities, their logarithm is never larger than $0$. Consequently, the loss function is minimized if we correctly predict $y$ with *certainty*, i.e. if $p(y|x) = 1$ for the correct label.\n",
    "\n",
    "### Softmax and Derivatives\n",
    "\n",
    "Since the Softmax and the corresponding loss are so common, it is worth while understanding a bit better how it is computed. Plugging $o$ into the definition of the loss $l$ and using the definition of the softmax we obtain:\n",
    "\n",
    "$$\n",
    "l = -\\sum_j y_j \\log \\hat{y}_j = \\sum_j y_j \\log \\sum_k \\exp(o_k) - \\sum_j y_j o_j\n",
    "= \\log \\sum_k \\exp(o_k) - \\sum_j y_j o_j\n",
    "$$\n",
    "\n",
    "To understand a bit better what is going on, consider the derivative with respect to $o$. We get\n",
    "\n",
    "$$\n",
    "\\partial_{o_j} l = \\frac{\\exp(o_j)}{\\sum_k \\exp(o_k)} - y_j = \\mathrm{softmax}(\\mathbf{o})_j - y_j = \\Pr(y = j|x) - y_j\n",
    "$$\n",
    "\n",
    "In other words, the gradient is the difference between the probability assigned to the true class by our model, as expressed by the probability $p(y|x)$, and what actually happened, as expressed by $y$. In this sense, it is very similar to what we saw in regression, where the gradient was the difference between the observation $y$ and estimate $\\hat{y}$. This is not coincidence. In any [exponential family](https://en.wikipedia.org/wiki/Exponential_family) model, the gradients of the log-likelihood are given by precisely this term. This fact makes computing gradients easy in practice.\n",
    "\n",
    "### Cross-Entropy Loss\n",
    "\n",
    "Now consider the case where we don't just observe a single outcome but maybe, an entire distribution over outcomes. We can use the same representation as before for $y$. The only difference is that rather than a vector containing only binary entries, say $(0, 0, 1)$, we now have a generic probability vector, say $(0.1, 0.2, 0.7)$. The math that we used previously to define the loss $l$ still works out fine, just that the interpretation is slightly more general. It is the expected value of the loss for a distribution over labels.\n",
    "\n",
    "$$\n",
    "l(\\mathbf{y}, \\hat{\\mathbf{y}}) = - \\sum_j y_j \\log \\hat{y}_j\n",
    "$$\n",
    "\n",
    "This loss is called the cross-entropy loss and it is one of the most commonly used losses for multiclass classification. To demystify its name we need some information theory. The following section can be skipped if needed.\n",
    "\n",
    "## Information Theory Basics\n",
    "\n",
    "Information theory deals with the problem of encoding, decoding, transmitting and manipulating information (aka data), preferentially in as concise form as possible.\n",
    "\n",
    "### Entropy\n",
    "\n",
    "A key concept is how many bits of information (or randomness) are contained in data. It can be measured as the [entropy](https://en.wikipedia.org/wiki/Entropy) of a distribution $p$ via\n",
    "\n",
    "$$\n",
    "H[p] = \\sum_j - p(j) \\log p(j)\n",
    "$$\n",
    "\n",
    "One of the fundamental theorems of information theory states that in order to encode data drawn randomly from the distribution $p$ we need at least $H[p]$ 'nats' to encode it. If you wonder what a 'nat' is, it is the equivalent of bit but when using a code with base $e$ rather than one with base 2. One nat is $\\frac{1}{\\log(2)} \\approx 1.44$ bit. $H[p] / \\log 2$ is often also called the binary entropy.\n",
    "\n",
    "To make this all a bit more theoretical consider the following: $p(1) = \\frac{1}{2}$ whereas $p(2) = p(3) = \\frac{1}{4}$. In this case we can easily design an optimal code for data drawn from this distribution, by using `0` to encode 1, `10` for 2 and `11` for 3. The expected number of bit is $1.5 = 0.5 * 1 + 0.25 * 2 + 0.25 * 2$. It is easy to check that this is the same as the binary entropy $H[p] / \\log 2$.\n",
    "\n",
    "### Kullback Leibler Divergence\n",
    "\n",
    "One way of measuring the difference between two distributions arises directly from the entropy. Since $H[p]$ is the minimum number of bits that we need to encode data drawn from $p$, we could ask how well it is encoded if we pick the 'wrong' distribution $q$. The amount of extra bits that we need to encode $q$ gives us some idea of how different these two distributions are. Let us compute this directly - recall that to encode $j$ using an optimal code for $q$ would cost $-\\log q(j)$ nats, and we need to use this in $p(j)$ of all cases. Hence we have\n",
    "\n",
    "$$\n",
    "D(p\\|q) = -\\sum_j p(j) \\log q(j) - H[p] = \\sum_j p(j) \\log \\frac{p(j)}{q(j)}\n",
    "$$\n",
    "\n",
    "Note that minimizing $D(p\\|q)$ with respect to $q$ is equivalent to minimizing the cross-entropy loss. This can be seen directly by dropping $H[p]$ which doesn't depend on $q$. We thus showed that softmax regression tries the minimize the surprise (and thus the number of bits) we experience when seeing the true label $y$ rather than our prediction $\\hat{y}$.\n",
    "\n",
    "## Model Prediction and Evaluation\n",
    "\n",
    "After training the softmax regression model, given any example features, we can predict the probability of each output category. Normally, we use the category with the highest predicted probability as the output category. The prediction is correct if it is consistent with the actual category (label). In the next part of the experiment, we will use accuracy to evaluate the model’s performance. This is equal to the ratio between the number of correct predictions and the total number of predictions.\n",
    "\n",
    "## Summary\n",
    "\n",
    "* We introduced the softmax operation which takes a vector maps it into probabilities.\n",
    "* Softmax regression applies to classification problems. It uses the probability distribution of the output category in the softmax operation.\n",
    "* Cross entropy is a good measure of the difference between two probability distributions. It measures the number of bits needed to encode the data given our model.\n",
    "\n"
   ]
  },
  {
   "cell_type": "markdown",
   "metadata": {
    "colab_type": "text",
    "id": "E2VpF3svw2w5"
   },
   "source": [
    "# Image Classification Data (Fashion-MNIST)\n",
    "\n",
    "Before we implement softmax regression ourselves, let's pick a real dataset to work with. To make things visually compelling, we will pick an image classification dataset. The most commonly used image classification data set is the [MNIST](http://yann.lecun.com/exdb/mnist/) handwritten digit recognition data set, proposed by LeCun, Cortes and Burges in the 1990s. However, even simple models achieve classification accuracy over 95% on MNIST, so it is hard to spot the differences between better models and weaker ones. In order to get a better intuition, we will use the qualitatively similar, but comparatively complex [Fashion-MNIST](https://github.com/zalandoresearch/fashion-mnist) dataset, proposed by [Xiao, Rasul and Vollgraf](https://arxiv.org/abs/1708.07747) in 2017."
   ]
  },
  {
   "cell_type": "markdown",
   "metadata": {
    "colab_type": "text",
    "id": "biN7AVeUw2w6"
   },
   "source": [
    "## Getting the Data\n",
    "\n",
    "First, import the packages or modules required in this section.\n",
    "\n"
   ]
  },
  {
   "cell_type": "code",
   "execution_count": 2,
   "metadata": {
    "colab": {},
    "colab_type": "code",
    "id": "e7iG_K8kw2w7"
   },
   "outputs": [],
   "source": [
    "%matplotlib inline\n",
    "import sys\n",
    "sys.path.insert(0, '..')\n",
    "\n",
    "import torch\n",
    "import torchvision\n",
    "from torchvision import transforms\n",
    "from torch.utils.data import DataLoader\n",
    "import time\n",
    "\n",
    "%config InlineBackend.figure_formats = ['svg']\n",
    "import matplotlib.pyplot as plt"
   ]
  },
  {
   "cell_type": "markdown",
   "metadata": {
    "colab_type": "text",
    "id": "-8xlBJncw2w_"
   },
   "source": [
    "Conveniently, PyTorch's `torchvision.datasets` package provides easy access to a number of benchmark vision datasets for testing our models.\n",
    "The first time we invoke `data.vision.FashionMNIST(train=True)`\n",
    "to collect the training data,\n",
    "PyTorch will automatically retrieve the dataset via our Internet connection.\n",
    "Subsequently, PyTorch will use the already-downloaded local copy.\n",
    "We specify whether we are requesting the training set or the test set\n",
    "by setting the value of the parameter `train` to `True` or `False`, respectively.\n",
    "Recall that we will only be using the training data for training,\n",
    "holding out the test set for a final evaluation of our model."
   ]
  },
  {
   "cell_type": "code",
   "execution_count": 3,
   "metadata": {
    "colab": {},
    "colab_type": "code",
    "id": "tZNhGJ8yw2xA"
   },
   "outputs": [],
   "source": [
    "# By default pytorch torchvision datasets are of type PIL.\n",
    "# Define a transform \"trans\" to change the PIL to Tensor format.\n",
    "trans = transforms.ToTensor() "
   ]
  },
  {
   "cell_type": "markdown",
   "metadata": {
    "colab_type": "text",
    "id": "HKc4buFew2xD"
   },
   "source": [
    "The `ToTensor` Transform also moves the image channel from the last dimension to the first dimension to facilitate the convolutional neural network calculations introduced later."
   ]
  },
  {
   "cell_type": "code",
   "execution_count": 4,
   "metadata": {
    "colab": {},
    "colab_type": "code",
    "id": "rrwCuG_Qw2xE"
   },
   "outputs": [],
   "source": [
    "mnist_train = torchvision.datasets.FashionMNIST(root=\"./\", train=True, transform=trans, target_transform=None, download=True)\n",
    "mnist_test = torchvision.datasets.FashionMNIST(root=\"./\", train=False, transform=trans, target_transform=None, download=True)"
   ]
  },
  {
   "cell_type": "markdown",
   "metadata": {
    "colab_type": "text",
    "id": "uv69j3NDw2xI"
   },
   "source": [
    "The number of images for each category in the training set and the testing set is 6,000 and 1,000, respectively. Since there are 10 categories, the numbers of examples in the training set and the test set are 60,000 and 10,000, respectively."
   ]
  },
  {
   "cell_type": "code",
   "execution_count": 5,
   "metadata": {
    "colab": {
     "base_uri": "https://localhost:8080/",
     "height": 34
    },
    "colab_type": "code",
    "id": "oEjFrg1Pw2xI",
    "outputId": "df89a36e-c6f0-4afa-a157-0a775824c398"
   },
   "outputs": [
    {
     "data": {
      "text/plain": "(60000, 10000)"
     },
     "execution_count": 5,
     "metadata": {},
     "output_type": "execute_result"
    }
   ],
   "source": [
    "len(mnist_train), len(mnist_test)"
   ]
  },
  {
   "cell_type": "markdown",
   "metadata": {
    "colab_type": "text",
    "id": "gj5og6yNw2xM"
   },
   "source": [
    "We can access any example by indexing into the dataset using square brackets `[]`. In the following code, we access the image and label corresponding to the first example."
   ]
  },
  {
   "cell_type": "code",
   "execution_count": 6,
   "metadata": {
    "colab": {},
    "colab_type": "code",
    "id": "caoE1Grew2xN"
   },
   "outputs": [],
   "source": [
    "feature, label = mnist_train[0] # accessing the first example in the training set"
   ]
  },
  {
   "cell_type": "markdown",
   "metadata": {
    "colab_type": "text",
    "id": "AVBbkUhSw2xR"
   },
   "source": [
    "Our example, stored here in the variable `feature` corresponds to an image with a height and width of 28 pixels. PyTorch automatically scales it into a tensor with each pixel value between 0 and 1. It is stored in a 3D Tensor. Its first dimension is the number of channels. Since the data set is a grayscale image, the number of channels is 1. When we encounter color, images, we'll have 3 channels for red, green, and blue. To keep things simple, we will record the shape of the image with the height and width of $h$ and $w$ pixels, respectively, as $h \\times w$ or `(h, w)`."
   ]
  },
  {
   "cell_type": "code",
   "execution_count": 7,
   "metadata": {
    "colab": {
     "base_uri": "https://localhost:8080/",
     "height": 34
    },
    "colab_type": "code",
    "id": "ilUvYbRZw2xS",
    "outputId": "1e61f334-828a-4b08-bac6-6c69ae6e70ee"
   },
   "outputs": [
    {
     "data": {
      "text/plain": "(torch.Size([1, 28, 28]), torch.float32)"
     },
     "execution_count": 7,
     "metadata": {},
     "output_type": "execute_result"
    }
   ],
   "source": [
    "feature.shape, feature.dtype"
   ]
  },
  {
   "cell_type": "markdown",
   "metadata": {
    "colab_type": "text",
    "id": "8FJOruWHw2xW"
   },
   "source": [
    "The label of each image is represented as a scalar in PyTorch. Its type is a 64-bit integer."
   ]
  },
  {
   "cell_type": "code",
   "execution_count": 8,
   "metadata": {
    "colab": {
     "base_uri": "https://localhost:8080/",
     "height": 34
    },
    "colab_type": "code",
    "id": "8zuV_U0nw2xW",
    "outputId": "ef6136f5-10b7-44ce-d670-13e1c06cf93d"
   },
   "outputs": [
    {
     "data": {
      "text/plain": "(9, int)"
     },
     "execution_count": 8,
     "metadata": {},
     "output_type": "execute_result"
    }
   ],
   "source": [
    "label, type(label)"
   ]
  },
  {
   "cell_type": "markdown",
   "metadata": {
    "colab_type": "text",
    "id": "Ydm8U4gow2xa"
   },
   "source": [
    "There are 10 categories in Fashion-MNIST: t-shirt, trousers, pullover, dress, coat, sandal, shirt, sneaker, bag and ankle boot. The following function can convert a numeric label into a corresponding text label."
   ]
  },
  {
   "cell_type": "code",
   "execution_count": 9,
   "metadata": {
    "colab": {},
    "colab_type": "code",
    "id": "x4UkUZfow2xa"
   },
   "outputs": [],
   "source": [
    "def get_fashion_mnist_labels(labels):\n",
    "    text_labels = ['t-shirt', 'trouser', 'pullover', 'dress', 'coat',\n",
    "                   'sandal', 'shirt', 'sneaker', 'bag', 'ankle boot']\n",
    "    return [text_labels[int(i)] for i in labels]"
   ]
  },
  {
   "cell_type": "markdown",
   "metadata": {
    "colab_type": "text",
    "id": "oaacrkxuw2xf"
   },
   "source": [
    "The following defines a function that can draw multiple images and corresponding labels in a single line."
   ]
  },
  {
   "cell_type": "code",
   "execution_count": 10,
   "metadata": {
    "colab": {},
    "colab_type": "code",
    "id": "KHz0phYfw2xf"
   },
   "outputs": [],
   "source": [
    "def show_fashion_mnist(images, labels):    \n",
    "    # Here _ means that we ignore (not use) variables\n",
    "    _, figs = plt.subplots(1, len(images), figsize=(12, 12))\n",
    "    for f, img, lbl in zip(figs, images, labels):\n",
    "        f.imshow(img.reshape((28, 28)).numpy())\n",
    "        f.set_title(lbl)\n",
    "        f.axes.get_xaxis().set_visible(False)\n",
    "        f.axes.get_yaxis().set_visible(False)"
   ]
  },
  {
   "cell_type": "markdown",
   "metadata": {
    "colab_type": "text",
    "id": "nPK5sh-Dw2xj"
   },
   "source": [
    "Next, let's take a look at the image contents and text labels for the first nine examples in the training data set.\n",
    "\n",
    "Note: PyTorch DataLoader objects don't support regular array slicing. You can instead iterate through."
   ]
  },
  {
   "cell_type": "code",
   "execution_count": 11,
   "metadata": {
    "colab": {
     "base_uri": "https://localhost:8080/",
     "height": 141
    },
    "colab_type": "code",
    "id": "GJByWiz3w2xk",
    "outputId": "a1696d53-94d1-4ba1-e8c5-e6bf74f98ea1"
   },
   "outputs": [
    {
     "data": {
      "text/plain": "<Figure size 864x864 with 10 Axes>",
      "image/svg+xml": "<?xml version=\"1.0\" encoding=\"utf-8\" standalone=\"no\"?>\n<!DOCTYPE svg PUBLIC \"-//W3C//DTD SVG 1.1//EN\"\n  \"http://www.w3.org/Graphics/SVG/1.1/DTD/svg11.dtd\">\n<!-- Created with matplotlib (https://matplotlib.org/) -->\n<svg height=\"89.763888pt\" version=\"1.1\" viewBox=\"0 0 687.5 89.763888\" width=\"687.5pt\" xmlns=\"http://www.w3.org/2000/svg\" xmlns:xlink=\"http://www.w3.org/1999/xlink\">\n <defs>\n  <style type=\"text/css\">\n*{stroke-linecap:butt;stroke-linejoin:round;white-space:pre;}\n  </style>\n </defs>\n <g id=\"figure_1\">\n  <g id=\"patch_1\">\n   <path d=\"M 0 89.763888 \nL 687.5 89.763888 \nL 687.5 -0 \nL 0 -0 \nz\n\" style=\"fill:none;\"/>\n  </g>\n  <g id=\"axes_1\">\n   <g id=\"patch_2\">\n    <path d=\"M 10.7 79.063888 \nL 67.445763 79.063888 \nL 67.445763 22.318125 \nL 10.7 22.318125 \nz\n\" style=\"fill:#ffffff;\"/>\n   </g>\n   <g clip-path=\"url(#p84c6fbf841)\">\n    <image height=\"57\" id=\"imagee1f20c4405\" transform=\"scale(1 -1)translate(0 -57)\" width=\"57\" x=\"10.7\" xlink:href=\"data:image/png;base64,\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\" y=\"-22.063888\"/>\n   </g>\n   <g id=\"patch_3\">\n    <path d=\"M 10.7 79.063888 \nL 10.7 22.318125 \n\" style=\"fill:none;stroke:#000000;stroke-linecap:square;stroke-linejoin:miter;stroke-width:0.8;\"/>\n   </g>\n   <g id=\"patch_4\">\n    <path d=\"M 67.445763 79.063888 \nL 67.445763 22.318125 \n\" style=\"fill:none;stroke:#000000;stroke-linecap:square;stroke-linejoin:miter;stroke-width:0.8;\"/>\n   </g>\n   <g id=\"patch_5\">\n    <path d=\"M 10.7 79.063888 \nL 67.445763 79.063888 \n\" style=\"fill:none;stroke:#000000;stroke-linecap:square;stroke-linejoin:miter;stroke-width:0.8;\"/>\n   </g>\n   <g id=\"patch_6\">\n    <path d=\"M 10.7 22.318125 \nL 67.445763 22.318125 \n\" style=\"fill:none;stroke:#000000;stroke-linecap:square;stroke-linejoin:miter;stroke-width:0.8;\"/>\n   </g>\n   <g id=\"text_1\">\n    <!-- ankle boot -->\n    <defs>\n     <path d=\"M 34.28125 27.484375 \nQ 23.390625 27.484375 19.1875 25 \nQ 14.984375 22.515625 14.984375 16.5 \nQ 14.984375 11.71875 18.140625 8.90625 \nQ 21.296875 6.109375 26.703125 6.109375 \nQ 34.1875 6.109375 38.703125 11.40625 \nQ 43.21875 16.703125 43.21875 25.484375 \nL 43.21875 27.484375 \nz\nM 52.203125 31.203125 \nL 52.203125 0 \nL 43.21875 0 \nL 43.21875 8.296875 \nQ 40.140625 3.328125 35.546875 0.953125 \nQ 30.953125 -1.421875 24.3125 -1.421875 \nQ 15.921875 -1.421875 10.953125 3.296875 \nQ 6 8.015625 6 15.921875 \nQ 6 25.140625 12.171875 29.828125 \nQ 18.359375 34.515625 30.609375 34.515625 \nL 43.21875 34.515625 \nL 43.21875 35.40625 \nQ 43.21875 41.609375 39.140625 45 \nQ 35.0625 48.390625 27.6875 48.390625 \nQ 23 48.390625 18.546875 47.265625 \nQ 14.109375 46.140625 10.015625 43.890625 \nL 10.015625 52.203125 \nQ 14.9375 54.109375 19.578125 55.046875 \nQ 24.21875 56 28.609375 56 \nQ 40.484375 56 46.34375 49.84375 \nQ 52.203125 43.703125 52.203125 31.203125 \nz\n\" id=\"DejaVuSans-97\"/>\n     <path d=\"M 54.890625 33.015625 \nL 54.890625 0 \nL 45.90625 0 \nL 45.90625 32.71875 \nQ 45.90625 40.484375 42.875 44.328125 \nQ 39.84375 48.1875 33.796875 48.1875 \nQ 26.515625 48.1875 22.3125 43.546875 \nQ 18.109375 38.921875 18.109375 30.90625 \nL 18.109375 0 \nL 9.078125 0 \nL 9.078125 54.6875 \nL 18.109375 54.6875 \nL 18.109375 46.1875 \nQ 21.34375 51.125 25.703125 53.5625 \nQ 30.078125 56 35.796875 56 \nQ 45.21875 56 50.046875 50.171875 \nQ 54.890625 44.34375 54.890625 33.015625 \nz\n\" id=\"DejaVuSans-110\"/>\n     <path d=\"M 9.078125 75.984375 \nL 18.109375 75.984375 \nL 18.109375 31.109375 \nL 44.921875 54.6875 \nL 56.390625 54.6875 \nL 27.390625 29.109375 \nL 57.625 0 \nL 45.90625 0 \nL 18.109375 26.703125 \nL 18.109375 0 \nL 9.078125 0 \nz\n\" id=\"DejaVuSans-107\"/>\n     <path d=\"M 9.421875 75.984375 \nL 18.40625 75.984375 \nL 18.40625 0 \nL 9.421875 0 \nz\n\" id=\"DejaVuSans-108\"/>\n     <path d=\"M 56.203125 29.59375 \nL 56.203125 25.203125 \nL 14.890625 25.203125 \nQ 15.484375 15.921875 20.484375 11.0625 \nQ 25.484375 6.203125 34.421875 6.203125 \nQ 39.59375 6.203125 44.453125 7.46875 \nQ 49.3125 8.734375 54.109375 11.28125 \nL 54.109375 2.78125 \nQ 49.265625 0.734375 44.1875 -0.34375 \nQ 39.109375 -1.421875 33.890625 -1.421875 \nQ 20.796875 -1.421875 13.15625 6.1875 \nQ 5.515625 13.8125 5.515625 26.8125 \nQ 5.515625 40.234375 12.765625 48.109375 \nQ 20.015625 56 32.328125 56 \nQ 43.359375 56 49.78125 48.890625 \nQ 56.203125 41.796875 56.203125 29.59375 \nz\nM 47.21875 32.234375 \nQ 47.125 39.59375 43.09375 43.984375 \nQ 39.0625 48.390625 32.421875 48.390625 \nQ 24.90625 48.390625 20.390625 44.140625 \nQ 15.875 39.890625 15.1875 32.171875 \nz\n\" id=\"DejaVuSans-101\"/>\n     <path id=\"DejaVuSans-32\"/>\n     <path d=\"M 48.6875 27.296875 \nQ 48.6875 37.203125 44.609375 42.84375 \nQ 40.53125 48.484375 33.40625 48.484375 \nQ 26.265625 48.484375 22.1875 42.84375 \nQ 18.109375 37.203125 18.109375 27.296875 \nQ 18.109375 17.390625 22.1875 11.75 \nQ 26.265625 6.109375 33.40625 6.109375 \nQ 40.53125 6.109375 44.609375 11.75 \nQ 48.6875 17.390625 48.6875 27.296875 \nz\nM 18.109375 46.390625 \nQ 20.953125 51.265625 25.265625 53.625 \nQ 29.59375 56 35.59375 56 \nQ 45.5625 56 51.78125 48.09375 \nQ 58.015625 40.1875 58.015625 27.296875 \nQ 58.015625 14.40625 51.78125 6.484375 \nQ 45.5625 -1.421875 35.59375 -1.421875 \nQ 29.59375 -1.421875 25.265625 0.953125 \nQ 20.953125 3.328125 18.109375 8.203125 \nL 18.109375 0 \nL 9.078125 0 \nL 9.078125 75.984375 \nL 18.109375 75.984375 \nz\n\" id=\"DejaVuSans-98\"/>\n     <path d=\"M 30.609375 48.390625 \nQ 23.390625 48.390625 19.1875 42.75 \nQ 14.984375 37.109375 14.984375 27.296875 \nQ 14.984375 17.484375 19.15625 11.84375 \nQ 23.34375 6.203125 30.609375 6.203125 \nQ 37.796875 6.203125 41.984375 11.859375 \nQ 46.1875 17.53125 46.1875 27.296875 \nQ 46.1875 37.015625 41.984375 42.703125 \nQ 37.796875 48.390625 30.609375 48.390625 \nz\nM 30.609375 56 \nQ 42.328125 56 49.015625 48.375 \nQ 55.71875 40.765625 55.71875 27.296875 \nQ 55.71875 13.875 49.015625 6.21875 \nQ 42.328125 -1.421875 30.609375 -1.421875 \nQ 18.84375 -1.421875 12.171875 6.21875 \nQ 5.515625 13.875 5.515625 27.296875 \nQ 5.515625 40.765625 12.171875 48.375 \nQ 18.84375 56 30.609375 56 \nz\n\" id=\"DejaVuSans-111\"/>\n     <path d=\"M 18.3125 70.21875 \nL 18.3125 54.6875 \nL 36.8125 54.6875 \nL 36.8125 47.703125 \nL 18.3125 47.703125 \nL 18.3125 18.015625 \nQ 18.3125 11.328125 20.140625 9.421875 \nQ 21.96875 7.515625 27.59375 7.515625 \nL 36.8125 7.515625 \nL 36.8125 0 \nL 27.59375 0 \nQ 17.1875 0 13.234375 3.875 \nQ 9.28125 7.765625 9.28125 18.015625 \nL 9.28125 47.703125 \nL 2.6875 47.703125 \nL 2.6875 54.6875 \nL 9.28125 54.6875 \nL 9.28125 70.21875 \nz\n\" id=\"DejaVuSans-116\"/>\n    </defs>\n    <g transform=\"translate(7.349756 16.318125)scale(0.12 -0.12)\">\n     <use xlink:href=\"#DejaVuSans-97\"/>\n     <use x=\"61.279297\" xlink:href=\"#DejaVuSans-110\"/>\n     <use x=\"124.658203\" xlink:href=\"#DejaVuSans-107\"/>\n     <use x=\"182.568359\" xlink:href=\"#DejaVuSans-108\"/>\n     <use x=\"210.351562\" xlink:href=\"#DejaVuSans-101\"/>\n     <use x=\"271.875\" xlink:href=\"#DejaVuSans-32\"/>\n     <use x=\"303.662109\" xlink:href=\"#DejaVuSans-98\"/>\n     <use x=\"367.138672\" xlink:href=\"#DejaVuSans-111\"/>\n     <use x=\"428.320312\" xlink:href=\"#DejaVuSans-111\"/>\n     <use x=\"489.501953\" xlink:href=\"#DejaVuSans-116\"/>\n    </g>\n   </g>\n  </g>\n  <g id=\"axes_2\">\n   <g id=\"patch_7\">\n    <path d=\"M 78.794915 79.063888 \nL 135.540678 79.063888 \nL 135.540678 22.318125 \nL 78.794915 22.318125 \nz\n\" style=\"fill:#ffffff;\"/>\n   </g>\n   <g clip-path=\"url(#pb91d61688a)\">\n    <image height=\"57\" id=\"imagea95ddcca08\" transform=\"scale(1 -1)translate(0 -57)\" width=\"57\" x=\"78.794915\" xlink:href=\"data:image/png;base64,\niVBORw0KGgoAAAANSUhEUgAAADkAAAA5CAYAAACMGIOFAAAABHNCSVQICAgIfAhkiAAABwxJREFUaIHtmkuMFOUWx39V1a/pYZgZHAYQUXyhRnxEIxiNqDe6IT4TEx839+40QuJCF5qYGGJcuDDqWuMzxKgL3WBEzdWLMQgR3y/URGZuEIRhRhhmpt9d5eKc09VVPc2UuvJ2/TeV+rq+U9Xfv845/3O+cq5zbgtIAseRYxC9/KdnLpOf874MTGflsqwfne/KwZt1w7FAbTpi02k47ae4dTnWBmVg6afy+9DWXYkeOXbr/29kEl8ZzE/4+rU/A3DLyBcATDUXAXBZ3z4AcgijWUeOg26z6y1KymxBqdw2ex4AK7NHAXjk1JsAGNqqE1xPjn53m5AymQz7Z4bkOLgEgKP1fgDGK+sAqAey2ou8KgAFc7S235qBrHXVl8cpejUApmryVkzmBgAojS2O3nwBBg0pkxF0ia6XjuyPnBsLLnKdsWUMFt1a69omYtNXJkt+DoC8XjuFMOmpPztNJ9EzxZEy+UdQV38yBlvjyqQXCBvGXjviY57a8GPjTjIX7EDKZARd3vvFmQrQuerGaFaX3yJowQmj64xfmNemqz7Y1LxpPurERBSOchSkefKvR1dDxRfNapEw7zQi5+ab7ajqHGPK2Ldo2/A1Mqut1CdPgL8cXY0hX/3H8qQx6McYrAfhLc1PDTbHoq2rGrboilrKlDojcxKkTCaBRc9qEDUVZ8nQ7psdEbnFvhs57zcmK1Fbjivzg3jUjSFlMglGsjMA7Csv1fNZIIy2plmNWRuH8C0whTPTlLxpDOfdRuReuWPJmhhxpExG0EVdtCsYgOlGHxCyYAwaO3E/hDCaGrNTWpP2eZo/1Te9eoxJJxlHKZNJsOPoOQCM5OaAzuremDNGswlki0XgYa8kNnRuqnhOgMRMduQk7ZTl1PfMb0ylGBumR+fTsHGt2prjRCuYmo53pF43mQJKmWxH0Iw6hLdY+i9WT7Z0pvpiPE/Gez5Aq0C0MTsOZspA2PPxlYvAS7VrV/TEn1z4ddVi2c3nAfAr8nrW154OwFnFHQDsnVsBwOrCJAC/1qTp7HZpSrUjLuaHM5KO9lekYY3cmtrimA1zoQUK+pRJoLU6xmALunpn5CYA+GpmFdAuuqP1T7fS60Sotol5gOpg7NEaUQHfDSmTkQuXLwOgfKEwdugeYbYSyGqb7003igD8qsverykl70aF/HywNDRRk42durJ/pCEbPvl1vyV93KjdPzXrbwan23b6Lw9fAcD5G38E4PbRPQCcrT64yhOfe3F6LQDjlZMAeGLFxwDUtSSrqw6s6LHQVh4VXXsLdOsuELazjoiCfXU5f+G3KwFYmZfNWIsDB+vDAOw5LpF+57sXAnDalo8j/6UnmOzqk5l1smoPrdwOwO7ymQD8rzYCwLLsNACLPPFNK5I3/vteAMpLhaXyEi2aNVBm58IXx9w0U5GxZk4idnVIc7MWyTdv+hCAWW2PWByw9ubVQz8AcOatRwD4cEtf5L/0NpPLnhCZcejl6Ba2RUlrOi1XRg944h+Z9z8DYOBy8Y/BvXJ9aZVEyP494y1bjubaoKobs1o6Hbtujdh4fTcAP/5LIvs1SyQ+mC9aJLf2yct71wOwmq8jz9zbTDo7vwRgfX4KgCMNYfRYU1avFEgZhPrVaPa4zpQo+/YbLwFwoCktjKu33w/A2LPvte6x4ZtbAXjn/G0AFF2xueXIYQB2vy6+t2H4JyBUUaaq7Lg0I23Rwq5F8/6X3mbS8PjEVQCsH5CPkg7XRclY63EgL9HVmsvoal/1wGYAZk+RdVzzpOSutWObW7ZHvpHX4PrifUBYFBcP6aYRn8u5bhOMVUdlnja0sxrRb+4/AMDWjyQ+xBN/yiTAW9slYv3jju+BsK1hOnNSdaU1gg8+KMz3HxRGl30irYzjd10OwIpd5ZbtQKNp7phuJeRF6dSG5LEmHhXVVXBfAcJ2yGRd7nlWQXz3P2XJ3cFn3837H1ImAU75QD8Bu00i11HNTfbRUakpqzuak+j62uYnATjZs7airOOM39B5YSOrqnrWVnpAo2vJF2b3NeTxts9IzrXoag3srG6z3//fOwFYw555/0PKJEDmA1Ewb0/Jam48SdTEV3OnAm0fAWpP55nyBiD0WYPltLlmPrQd6/svtIVgNv3WJ6PC+JrnKl3nQI8w2bWejMMbESVTflV8c9NpOwDI6eqPa3ViVf2sMtZQpvvUh8/uO9yy+UtNunHxjyvisI1dq3yGdCNoy3c3ArD8lr0nfPYeZ3KBXmbzmksA+Pl2cetHr30TgIpq2tVZqe1GPWHh4nw+bqIDz08vB0Jm7x6Uz0x3VoWLTV/8E4CVT0muNn29EHqcyY4rk31Ay7oLABh+WvTkt9vOBWD0c9Wj1TCCOjXJe5MXSe71bpCKZ2pc6sVzHxsDoHl4ItEjdkNPMPk7s02LdbPeK4gAAAAASUVORK5CYII=\" y=\"-22.063888\"/>\n   </g>\n   <g id=\"patch_8\">\n    <path d=\"M 78.794915 79.063888 \nL 78.794915 22.318125 \n\" style=\"fill:none;stroke:#000000;stroke-linecap:square;stroke-linejoin:miter;stroke-width:0.8;\"/>\n   </g>\n   <g id=\"patch_9\">\n    <path d=\"M 135.540678 79.063888 \nL 135.540678 22.318125 \n\" style=\"fill:none;stroke:#000000;stroke-linecap:square;stroke-linejoin:miter;stroke-width:0.8;\"/>\n   </g>\n   <g id=\"patch_10\">\n    <path d=\"M 78.794915 79.063888 \nL 135.540678 79.063888 \n\" style=\"fill:none;stroke:#000000;stroke-linecap:square;stroke-linejoin:miter;stroke-width:0.8;\"/>\n   </g>\n   <g id=\"patch_11\">\n    <path d=\"M 78.794915 22.318125 \nL 135.540678 22.318125 \n\" style=\"fill:none;stroke:#000000;stroke-linecap:square;stroke-linejoin:miter;stroke-width:0.8;\"/>\n   </g>\n   <g id=\"text_2\">\n    <!-- t-shirt -->\n    <defs>\n     <path d=\"M 4.890625 31.390625 \nL 31.203125 31.390625 \nL 31.203125 23.390625 \nL 4.890625 23.390625 \nz\n\" id=\"DejaVuSans-45\"/>\n     <path d=\"M 44.28125 53.078125 \nL 44.28125 44.578125 \nQ 40.484375 46.53125 36.375 47.5 \nQ 32.28125 48.484375 27.875 48.484375 \nQ 21.1875 48.484375 17.84375 46.4375 \nQ 14.5 44.390625 14.5 40.28125 \nQ 14.5 37.15625 16.890625 35.375 \nQ 19.28125 33.59375 26.515625 31.984375 \nL 29.59375 31.296875 \nQ 39.15625 29.25 43.1875 25.515625 \nQ 47.21875 21.78125 47.21875 15.09375 \nQ 47.21875 7.46875 41.1875 3.015625 \nQ 35.15625 -1.421875 24.609375 -1.421875 \nQ 20.21875 -1.421875 15.453125 -0.5625 \nQ 10.6875 0.296875 5.421875 2 \nL 5.421875 11.28125 \nQ 10.40625 8.6875 15.234375 7.390625 \nQ 20.0625 6.109375 24.8125 6.109375 \nQ 31.15625 6.109375 34.5625 8.28125 \nQ 37.984375 10.453125 37.984375 14.40625 \nQ 37.984375 18.0625 35.515625 20.015625 \nQ 33.0625 21.96875 24.703125 23.78125 \nL 21.578125 24.515625 \nQ 13.234375 26.265625 9.515625 29.90625 \nQ 5.8125 33.546875 5.8125 39.890625 \nQ 5.8125 47.609375 11.28125 51.796875 \nQ 16.75 56 26.8125 56 \nQ 31.78125 56 36.171875 55.265625 \nQ 40.578125 54.546875 44.28125 53.078125 \nz\n\" id=\"DejaVuSans-115\"/>\n     <path d=\"M 54.890625 33.015625 \nL 54.890625 0 \nL 45.90625 0 \nL 45.90625 32.71875 \nQ 45.90625 40.484375 42.875 44.328125 \nQ 39.84375 48.1875 33.796875 48.1875 \nQ 26.515625 48.1875 22.3125 43.546875 \nQ 18.109375 38.921875 18.109375 30.90625 \nL 18.109375 0 \nL 9.078125 0 \nL 9.078125 75.984375 \nL 18.109375 75.984375 \nL 18.109375 46.1875 \nQ 21.34375 51.125 25.703125 53.5625 \nQ 30.078125 56 35.796875 56 \nQ 45.21875 56 50.046875 50.171875 \nQ 54.890625 44.34375 54.890625 33.015625 \nz\n\" id=\"DejaVuSans-104\"/>\n     <path d=\"M 9.421875 54.6875 \nL 18.40625 54.6875 \nL 18.40625 0 \nL 9.421875 0 \nz\nM 9.421875 75.984375 \nL 18.40625 75.984375 \nL 18.40625 64.59375 \nL 9.421875 64.59375 \nz\n\" id=\"DejaVuSans-105\"/>\n     <path d=\"M 41.109375 46.296875 \nQ 39.59375 47.171875 37.8125 47.578125 \nQ 36.03125 48 33.890625 48 \nQ 26.265625 48 22.1875 43.046875 \nQ 18.109375 38.09375 18.109375 28.8125 \nL 18.109375 0 \nL 9.078125 0 \nL 9.078125 54.6875 \nL 18.109375 54.6875 \nL 18.109375 46.1875 \nQ 20.953125 51.171875 25.484375 53.578125 \nQ 30.03125 56 36.53125 56 \nQ 37.453125 56 38.578125 55.875 \nQ 39.703125 55.765625 41.0625 55.515625 \nz\n\" id=\"DejaVuSans-114\"/>\n    </defs>\n    <g transform=\"translate(89.237172 16.318125)scale(0.12 -0.12)\">\n     <use xlink:href=\"#DejaVuSans-116\"/>\n     <use x=\"39.208984\" xlink:href=\"#DejaVuSans-45\"/>\n     <use x=\"75.292969\" xlink:href=\"#DejaVuSans-115\"/>\n     <use x=\"127.392578\" xlink:href=\"#DejaVuSans-104\"/>\n     <use x=\"190.771484\" xlink:href=\"#DejaVuSans-105\"/>\n     <use x=\"218.554688\" xlink:href=\"#DejaVuSans-114\"/>\n     <use x=\"259.667969\" xlink:href=\"#DejaVuSans-116\"/>\n    </g>\n   </g>\n  </g>\n  <g id=\"axes_3\">\n   <g id=\"patch_12\">\n    <path d=\"M 146.889831 79.063888 \nL 203.635593 79.063888 \nL 203.635593 22.318125 \nL 146.889831 22.318125 \nz\n\" style=\"fill:#ffffff;\"/>\n   </g>\n   <g clip-path=\"url(#pc745903531)\">\n    <image height=\"57\" id=\"imaged86a435db5\" transform=\"scale(1 -1)translate(0 -57)\" width=\"57\" x=\"146.889831\" xlink:href=\"data:image/png;base64,\niVBORw0KGgoAAAANSUhEUgAAADkAAAA5CAYAAACMGIOFAAAABHNCSVQICAgIfAhkiAAABCdJREFUaIHtmr2PG0UYh5/x2jlnz7nIl+QIguiQIgogCEKFhKIUpKcASgpoEBUFFR3/BA1IUURLhxAVPVIKCgoIoiBwCQR0p5yc2Gd717sU77xje72Xm929Bt38mr3d+di5efx7d77MDfNOThMZI9e8vJr20xcBSLe3AJj01+ZFbZHTOwOp4u49ALLhsNI7jlKrVqn/mdqNa7C921pfB2D/rZcBODgv/Zes22y2O1uzkipeOweAmcm1dz8DYPObnwGYDQaNmngiSJqmnow2NgD486MrUqFAoH1QyGift9L560zhzVkk1/F5s1TX9he/AjDb3avVxhNBsrEnH735AjDv9bV9waNUsIHRWC/m0bysgmyly3XGDyQl6Unh8avPAdD5PpA8VI1Jpl3p7VYi97klp1FU7x3Bkggw66gHJVEjceex3Kc9Kdyp2cZA0ke9nTEAo6diYO5N9aJSKSOoUoLu3t5mtnWjC0LydM02BpI+iibWfJac9r4jWkHFMpn16uadcc3WiQJJH5lJUnggl7xB92lEzmw4bT+ayPOa9QWSPjKJfhDtfcnIZjH9Scra9ntpZzZKkhr+XlQg6SP1pEZG/cY5cDWMlEc64JVLaySeLJmKeimQ9JL1j3pQI6PzqCXsoq1hRblZ9mLuQrTNsPewURMDSS+lnk4pIeiSlKCuyqm/teppslqoggJJL+XL4dRF1yI59dcTiKpMvpw5n9WNq6JA0kf5cCR/aEAsRNfiGNYsQFlJo+BNtehBmIUcqRPxTzb/uabL64lHTbGW0gs/bfdYF7R0eJeFwHOkmg/QdUjWrLOBecBpj5vtJhYVSPrIxLJQOLN7q7rIvDLFKvPfIYN4XZiebixvC65sznoqkPRR+uAfAMzssjxYiZT2cXE5ZEFKUIdzadc2bij46xJUBZJVVFwYVl9l0eH5it9U3cLTTaTu3vFE2UCyipRQGgsF3Yx1Y+3DpmCwMv1aidQNFUhWkbF+MoXNVrdUqV5c9GjBx0pZ85Ydh6mjQLKKTtmt78QSdNHVppdtpxePuBSpR83myk6BZBW5OaCRfsuiZUzdfcGzeFgpie3RtLiwmKzbA2n4Tnrr2Ejqtpsq3hVTKuHBJXmVHikD2LgrdM/ck9A8uiB53LfUY/nSR4FkFekRsfhfoTPYlqpvfPADAC/F9wHYjB67Mr+MnwHg1p3XAdj6Suamk75t1jEtEASSVdSa2rngmhC9/v5tAK6dkWOc17q7APSj2JW53PkJgCtXdwD4JH8XgHNfS55p73gYBJI+ivp9AKZnheB7H38HwMNU1mVu/f0GAJ8nMrUYJqdc2Yvrcuz6bEeGNp+98i0Anw7eBmDzdiDprcbHs1Xt7UsA/PbhswA8/+VfAKS//+FdR3b9KgB7L8oiz9bNHwHIJ5NGbTsRJP8DGXZR6w0NfBcAAAAASUVORK5CYII=\" y=\"-22.063888\"/>\n   </g>\n   <g id=\"patch_13\">\n    <path d=\"M 146.889831 79.063888 \nL 146.889831 22.318125 \n\" style=\"fill:none;stroke:#000000;stroke-linecap:square;stroke-linejoin:miter;stroke-width:0.8;\"/>\n   </g>\n   <g id=\"patch_14\">\n    <path d=\"M 203.635593 79.063888 \nL 203.635593 22.318125 \n\" style=\"fill:none;stroke:#000000;stroke-linecap:square;stroke-linejoin:miter;stroke-width:0.8;\"/>\n   </g>\n   <g id=\"patch_15\">\n    <path d=\"M 146.889831 79.063888 \nL 203.635593 79.063888 \n\" style=\"fill:none;stroke:#000000;stroke-linecap:square;stroke-linejoin:miter;stroke-width:0.8;\"/>\n   </g>\n   <g id=\"patch_16\">\n    <path d=\"M 146.889831 22.318125 \nL 203.635593 22.318125 \n\" style=\"fill:none;stroke:#000000;stroke-linecap:square;stroke-linejoin:miter;stroke-width:0.8;\"/>\n   </g>\n   <g id=\"text_3\">\n    <!-- t-shirt -->\n    <g transform=\"translate(157.332087 16.318125)scale(0.12 -0.12)\">\n     <use xlink:href=\"#DejaVuSans-116\"/>\n     <use x=\"39.208984\" xlink:href=\"#DejaVuSans-45\"/>\n     <use x=\"75.292969\" xlink:href=\"#DejaVuSans-115\"/>\n     <use x=\"127.392578\" xlink:href=\"#DejaVuSans-104\"/>\n     <use x=\"190.771484\" xlink:href=\"#DejaVuSans-105\"/>\n     <use x=\"218.554688\" xlink:href=\"#DejaVuSans-114\"/>\n     <use x=\"259.667969\" xlink:href=\"#DejaVuSans-116\"/>\n    </g>\n   </g>\n  </g>\n  <g id=\"axes_4\">\n   <g id=\"patch_17\">\n    <path d=\"M 214.984746 79.063888 \nL 271.730508 79.063888 \nL 271.730508 22.318125 \nL 214.984746 22.318125 \nz\n\" style=\"fill:#ffffff;\"/>\n   </g>\n   <g clip-path=\"url(#p7a6a31643a)\">\n    <image height=\"57\" id=\"image1e2ab32aee\" transform=\"scale(1 -1)translate(0 -57)\" width=\"57\" x=\"214.984746\" xlink:href=\"data:image/png;base64,\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\" y=\"-22.063888\"/>\n   </g>\n   <g id=\"patch_18\">\n    <path d=\"M 214.984746 79.063888 \nL 214.984746 22.318125 \n\" style=\"fill:none;stroke:#000000;stroke-linecap:square;stroke-linejoin:miter;stroke-width:0.8;\"/>\n   </g>\n   <g id=\"patch_19\">\n    <path d=\"M 271.730508 79.063888 \nL 271.730508 22.318125 \n\" style=\"fill:none;stroke:#000000;stroke-linecap:square;stroke-linejoin:miter;stroke-width:0.8;\"/>\n   </g>\n   <g id=\"patch_20\">\n    <path d=\"M 214.984746 79.063888 \nL 271.730508 79.063888 \n\" style=\"fill:none;stroke:#000000;stroke-linecap:square;stroke-linejoin:miter;stroke-width:0.8;\"/>\n   </g>\n   <g id=\"patch_21\">\n    <path d=\"M 214.984746 22.318125 \nL 271.730508 22.318125 \n\" style=\"fill:none;stroke:#000000;stroke-linecap:square;stroke-linejoin:miter;stroke-width:0.8;\"/>\n   </g>\n   <g id=\"text_4\">\n    <!-- dress -->\n    <defs>\n     <path d=\"M 45.40625 46.390625 \nL 45.40625 75.984375 \nL 54.390625 75.984375 \nL 54.390625 0 \nL 45.40625 0 \nL 45.40625 8.203125 \nQ 42.578125 3.328125 38.25 0.953125 \nQ 33.9375 -1.421875 27.875 -1.421875 \nQ 17.96875 -1.421875 11.734375 6.484375 \nQ 5.515625 14.40625 5.515625 27.296875 \nQ 5.515625 40.1875 11.734375 48.09375 \nQ 17.96875 56 27.875 56 \nQ 33.9375 56 38.25 53.625 \nQ 42.578125 51.265625 45.40625 46.390625 \nz\nM 14.796875 27.296875 \nQ 14.796875 17.390625 18.875 11.75 \nQ 22.953125 6.109375 30.078125 6.109375 \nQ 37.203125 6.109375 41.296875 11.75 \nQ 45.40625 17.390625 45.40625 27.296875 \nQ 45.40625 37.203125 41.296875 42.84375 \nQ 37.203125 48.484375 30.078125 48.484375 \nQ 22.953125 48.484375 18.875 42.84375 \nQ 14.796875 37.203125 14.796875 27.296875 \nz\n\" id=\"DejaVuSans-100\"/>\n    </defs>\n    <g transform=\"translate(227.140752 16.318125)scale(0.12 -0.12)\">\n     <use xlink:href=\"#DejaVuSans-100\"/>\n     <use x=\"63.476562\" xlink:href=\"#DejaVuSans-114\"/>\n     <use x=\"104.558594\" xlink:href=\"#DejaVuSans-101\"/>\n     <use x=\"166.082031\" xlink:href=\"#DejaVuSans-115\"/>\n     <use x=\"218.181641\" xlink:href=\"#DejaVuSans-115\"/>\n    </g>\n   </g>\n  </g>\n  <g id=\"axes_5\">\n   <g id=\"patch_22\">\n    <path d=\"M 283.079661 79.063888 \nL 339.825424 79.063888 \nL 339.825424 22.318125 \nL 283.079661 22.318125 \nz\n\" style=\"fill:#ffffff;\"/>\n   </g>\n   <g clip-path=\"url(#pc0fe294547)\">\n    <image height=\"57\" id=\"imagedca4d4f99d\" transform=\"scale(1 -1)translate(0 -57)\" width=\"57\" x=\"283.079661\" xlink:href=\"data:image/png;base64,\niVBORw0KGgoAAAANSUhEUgAAADkAAAA5CAYAAACMGIOFAAAABHNCSVQICAgIfAhkiAAABXpJREFUaIHtm0tsVFUYx3/3XqYznc60pUB5FCVYqYSERCgYg+hGJYbgCqMLF25M1I1RSVy6cqFhIQsXPhKjCxMNQRcmGkw0yEPFitEgRQstJSC0FJrBaYd53XtdfN+ZV5vmdu4sTHr/m3mdc/L1/O75HuecWo9ZT/m0UPknHwDg1pZlALQ/fBOA3peLAJTHxittR97fCUDHqhwAqSNpALo+/bmVJmG3dLT/qZaFHcB/6H4Avj38MQCXSicBmPbaABiMy+uOR18CYEUNydN7DwHQ63RI38EZADYeTAGw69UXAUh/Ho5sRDKIqgSFwlChD4CcFwdgMH4DgOQNd07fE3fWArC5bRKA0VKv9PVvAfDjO+8BsPfs0wC4wyNN2RiRXEjXXt8FwKiuwdHScgC6bfGUJb9+aN+25oyxM3ENgIwnbTvtPABXyt0AJCwhev61TgAGnm/O1ojkQurdcxWAHlvm6YLOV8wqAzBZ6tKWQqOYkt+TNWMkLaVrS59pXbYJqwTASscBYOfmSwDcbtLWiORCGhsXTzjWL0Mcz94HwED7BAApR9bXcXnhszcPAnD2jd7KGBdLCQBGiqsByHrtAMQsQbrKGQVgaGSjjK1PxWIVkVxIfd/IehncKxnNUacAVCnYeABMlGVt9jkSRw0tgGk3VTdmhy1j/JCRp+LxpMTF1HBbs2aqLUtATZPsOjUOgOsLsaSSdP36eGji5ZQrBDNu1b8a6glLKpSELV715Fg/ALk18rSsGC41ayYQkVxY5QnJN88UhUZas5W8L+vHrC9D1raEuImBACVfSHmWzHXGlWrkrR1fALDakT7tx85JuyZtjUgG0ZGMVPfbkpcBuKUe09F5dxFaeT8m31tVHoakUcGTNle8HgCOah8vlwtlY0QyiA7/MQjAI7v/AuCaViOuUz9/eaU0n4rqgW+W5Snoj8t6f/v8HgDWcj6UjRHJIFp5TLyps1s2/cw6a4yXns6nPY+PNGvRRsZ4Ni27CR99kJrTthlFJIOo5+y/ADyRlLg4WpR42UjOeFdvnnk19NNauZwqSJv410NhzVMbloDC77uekWzktncHqOajrq8kNS4WK2u1Oq+uzrGLrF+TNf2auyesWXVaEiSXxB8Z+nE18vz6cyPjTGrTOKg+orUyIWTVsiwAX17fpr9cbYltEcnFyMVv+KxORR2NKZ6dmmSgoGEl50pCkdTy7MJV2ezaFJEMrpaRLPnzn+UaoiZBry2vzHvbkr6moLanwm1cNSoiuRjFrLkHOlBbPNt1r1BNFDxN5o0ndjua3eiYXxHJxWi53V732WkoqSqfa4CbFDCuBz6VVDAdbguyURHJQANs3KDvfgOqHjOnFyMcjZ9x3TiuJWzKr4Iewpoj+O6u2bBm1SkiGUSldbJxdWR2ed33Jg81m1S39ZjAlFO176+jx+dKOxErhzWrThHJIJpZLwep5kLEpC9UjOfsduT75zpl83msVPWcQ/m7ARhIyMFtjx7vef78MbdZRSSDaGa9zJM54DHeNesK4X0dUknse0aunU0cKFb6frfjQwAOZzcD4Gmc7EvJFYhsWONUEckgyg7IGjMxz+Sjd7XJJYYuzYTsk79LhwNbKn3NxUFDcFaP/TYkpwH4M6xxqohkEPVtEGKzmq2YmnCFLVlL43HBg+suV96PlKSN2RHIaiydLHRqi0xY84CIZDBt6p4CoE3j4vb2cQDW6EWJE3mhcuGT7QAcWv1upW9M89qtiSsADOs10q3pfwD4no6w5gERyWAquDLE6Vm5lnIuKxd1Z15YCYB77m8ANmmV8gq7Kn2de+U62f6vfgJgTUzW4C9ZOSZwumWdu5lmrw6KlgRJq9X/MhFGhqx78VJLx10SJP8DL5zDM0GRORcAAAAASUVORK5CYII=\" y=\"-22.063888\"/>\n   </g>\n   <g id=\"patch_23\">\n    <path d=\"M 283.079661 79.063888 \nL 283.079661 22.318125 \n\" style=\"fill:none;stroke:#000000;stroke-linecap:square;stroke-linejoin:miter;stroke-width:0.8;\"/>\n   </g>\n   <g id=\"patch_24\">\n    <path d=\"M 339.825424 79.063888 \nL 339.825424 22.318125 \n\" style=\"fill:none;stroke:#000000;stroke-linecap:square;stroke-linejoin:miter;stroke-width:0.8;\"/>\n   </g>\n   <g id=\"patch_25\">\n    <path d=\"M 283.079661 79.063888 \nL 339.825424 79.063888 \n\" style=\"fill:none;stroke:#000000;stroke-linecap:square;stroke-linejoin:miter;stroke-width:0.8;\"/>\n   </g>\n   <g id=\"patch_26\">\n    <path d=\"M 283.079661 22.318125 \nL 339.825424 22.318125 \n\" style=\"fill:none;stroke:#000000;stroke-linecap:square;stroke-linejoin:miter;stroke-width:0.8;\"/>\n   </g>\n   <g id=\"text_5\">\n    <!-- t-shirt -->\n    <g transform=\"translate(293.521917 16.318125)scale(0.12 -0.12)\">\n     <use xlink:href=\"#DejaVuSans-116\"/>\n     <use x=\"39.208984\" xlink:href=\"#DejaVuSans-45\"/>\n     <use x=\"75.292969\" xlink:href=\"#DejaVuSans-115\"/>\n     <use x=\"127.392578\" xlink:href=\"#DejaVuSans-104\"/>\n     <use x=\"190.771484\" xlink:href=\"#DejaVuSans-105\"/>\n     <use x=\"218.554688\" xlink:href=\"#DejaVuSans-114\"/>\n     <use x=\"259.667969\" xlink:href=\"#DejaVuSans-116\"/>\n    </g>\n   </g>\n  </g>\n  <g id=\"axes_6\">\n   <g id=\"patch_27\">\n    <path d=\"M 351.174576 79.063888 \nL 407.920339 79.063888 \nL 407.920339 22.318125 \nL 351.174576 22.318125 \nz\n\" style=\"fill:#ffffff;\"/>\n   </g>\n   <g clip-path=\"url(#p17d7cafc60)\">\n    <image height=\"57\" id=\"image7b9ba7934d\" transform=\"scale(1 -1)translate(0 -57)\" width=\"57\" x=\"351.174576\" xlink:href=\"data:image/png;base64,\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\" y=\"-22.063888\"/>\n   </g>\n   <g id=\"patch_28\">\n    <path d=\"M 351.174576 79.063888 \nL 351.174576 22.318125 \n\" style=\"fill:none;stroke:#000000;stroke-linecap:square;stroke-linejoin:miter;stroke-width:0.8;\"/>\n   </g>\n   <g id=\"patch_29\">\n    <path d=\"M 407.920339 79.063888 \nL 407.920339 22.318125 \n\" style=\"fill:none;stroke:#000000;stroke-linecap:square;stroke-linejoin:miter;stroke-width:0.8;\"/>\n   </g>\n   <g id=\"patch_30\">\n    <path d=\"M 351.174576 79.063888 \nL 407.920339 79.063888 \n\" style=\"fill:none;stroke:#000000;stroke-linecap:square;stroke-linejoin:miter;stroke-width:0.8;\"/>\n   </g>\n   <g id=\"patch_31\">\n    <path d=\"M 351.174576 22.318125 \nL 407.920339 22.318125 \n\" style=\"fill:none;stroke:#000000;stroke-linecap:square;stroke-linejoin:miter;stroke-width:0.8;\"/>\n   </g>\n   <g id=\"text_6\">\n    <!-- pullover -->\n    <defs>\n     <path d=\"M 18.109375 8.203125 \nL 18.109375 -20.796875 \nL 9.078125 -20.796875 \nL 9.078125 54.6875 \nL 18.109375 54.6875 \nL 18.109375 46.390625 \nQ 20.953125 51.265625 25.265625 53.625 \nQ 29.59375 56 35.59375 56 \nQ 45.5625 56 51.78125 48.09375 \nQ 58.015625 40.1875 58.015625 27.296875 \nQ 58.015625 14.40625 51.78125 6.484375 \nQ 45.5625 -1.421875 35.59375 -1.421875 \nQ 29.59375 -1.421875 25.265625 0.953125 \nQ 20.953125 3.328125 18.109375 8.203125 \nz\nM 48.6875 27.296875 \nQ 48.6875 37.203125 44.609375 42.84375 \nQ 40.53125 48.484375 33.40625 48.484375 \nQ 26.265625 48.484375 22.1875 42.84375 \nQ 18.109375 37.203125 18.109375 27.296875 \nQ 18.109375 17.390625 22.1875 11.75 \nQ 26.265625 6.109375 33.40625 6.109375 \nQ 40.53125 6.109375 44.609375 11.75 \nQ 48.6875 17.390625 48.6875 27.296875 \nz\n\" id=\"DejaVuSans-112\"/>\n     <path d=\"M 8.5 21.578125 \nL 8.5 54.6875 \nL 17.484375 54.6875 \nL 17.484375 21.921875 \nQ 17.484375 14.15625 20.5 10.265625 \nQ 23.53125 6.390625 29.59375 6.390625 \nQ 36.859375 6.390625 41.078125 11.03125 \nQ 45.3125 15.671875 45.3125 23.6875 \nL 45.3125 54.6875 \nL 54.296875 54.6875 \nL 54.296875 0 \nL 45.3125 0 \nL 45.3125 8.40625 \nQ 42.046875 3.421875 37.71875 1 \nQ 33.40625 -1.421875 27.6875 -1.421875 \nQ 18.265625 -1.421875 13.375 4.4375 \nQ 8.5 10.296875 8.5 21.578125 \nz\nM 31.109375 56 \nz\n\" id=\"DejaVuSans-117\"/>\n     <path d=\"M 2.984375 54.6875 \nL 12.5 54.6875 \nL 29.59375 8.796875 \nL 46.6875 54.6875 \nL 56.203125 54.6875 \nL 35.6875 0 \nL 23.484375 0 \nz\n\" id=\"DejaVuSans-118\"/>\n    </defs>\n    <g transform=\"translate(355.221208 16.318125)scale(0.12 -0.12)\">\n     <use xlink:href=\"#DejaVuSans-112\"/>\n     <use x=\"63.476562\" xlink:href=\"#DejaVuSans-117\"/>\n     <use x=\"126.855469\" xlink:href=\"#DejaVuSans-108\"/>\n     <use x=\"154.638672\" xlink:href=\"#DejaVuSans-108\"/>\n     <use x=\"182.421875\" xlink:href=\"#DejaVuSans-111\"/>\n     <use x=\"243.603516\" xlink:href=\"#DejaVuSans-118\"/>\n     <use x=\"302.783203\" xlink:href=\"#DejaVuSans-101\"/>\n     <use x=\"364.306641\" xlink:href=\"#DejaVuSans-114\"/>\n    </g>\n   </g>\n  </g>\n  <g id=\"axes_7\">\n   <g id=\"patch_32\">\n    <path d=\"M 419.269492 79.063888 \nL 476.015254 79.063888 \nL 476.015254 22.318125 \nL 419.269492 22.318125 \nz\n\" style=\"fill:#ffffff;\"/>\n   </g>\n   <g clip-path=\"url(#p3190277834)\">\n    <image height=\"57\" id=\"imaged6d32a24f8\" transform=\"scale(1 -1)translate(0 -57)\" width=\"57\" x=\"419.269492\" xlink:href=\"data:image/png;base64,\niVBORw0KGgoAAAANSUhEUgAAADkAAAA5CAYAAACMGIOFAAAABHNCSVQICAgIfAhkiAAABMBJREFUaIHtmUtsVGUUx3/3MY8OnT6AFKGQovgAkfCISaOC8YEYMBqjLFjJggWJmrhyY4gbXSkLY0zUxLhyYTCaGKKsfGyQxNdCY6MgtLTQFhSZTjvtdObOvS7+353x0lIGNZreuWfzzf2+8/jO9z/nfOfesXZaewNiTvb/vYH/ghIn40KJk3GhxMm4UOJkXChxMi6UOBkXcptltPN5AKxMWqMr0SC/RGOb5oN0VGXg6hwD25Kc58/RHTiGJ63RqojHLUyLwZJskHKiNkJdxkb4bE9KrvbroJ6bdXIxU/3Yna5OAKyl3UDj5EOyqp7mi1OayBrRwqTWC3q0XZ02gXlNdczp57LGolPXGWRSAPgKAnxLa9UuTUyvkkwlLyz8lLFRNfwhoDntNTUpm05VUdexQj61BpLOih79mp0FwDszFGGwczkA/I3rALh872oAJvt0euWVNQCCjEbCALANkr4m3EuCwS01IiTzhxkL4s0Wama+AkDbqPZkT85E9hRkDfRWNNoYvQhArWDCykRTayCJL29n+m8BYOweE/jrlXtbes8DcEf+GwB6UkUAltg65bJJlJSlnE1bQqM/OwJA1UCbtWSn027kZM5KG9nGHMCwJ9sjnqKo4Gss+RkA/EDY/OZ1RGwPTK8CoDcj+U8O3Q+0CpJDB4Xgtj0DAGw2p+CgO6fotQHwe7UdgLMzywCwLa23OdUI/1hZFe2jYBsAWbPu+UJraXq6bjzU0Z3S3JSXiWxuWaoEQN4pAw3EykHK2FR0TNRykb10u5Ib2W3sNHMSi53cNS9/BcD4cZ3817t0ms7NQrQto0q3uWcUgN6sKlfR0x02OiPkblxyCYC1OY3LU5LPmEttrNIFNFCBBpITJvdmTX4XDaIXZjsifPt7jmtvBsE+V/Xh09IGAE6WVpj1aFfVEkha1/sFffjFuwF4dt9RAHbkTgFwbHITAGfLytmZmlDp7zgTka8Gc9vliZryfnB6uZ6ripLVOUVNt6uc/eLCrQBkdg1F5E+/ehcA7zzxNgBHC1sAGDiwHmgRJFvCybnhalolK2ysPW9BBaW9/QCMPa4CdWzHGwB8X1b791nhdqARvmFhAliZVjherKrAjJtCsyZ7WToKawDY3KmG5OH8j+Krqdi9OXyfFD00BoDTrtc+q1vr3lk1JC2KZEhh++WrTbOzKgZ+uTwve0hhw//L4V4APtz+FgDnzel/WdxQ5w2voXZHLWJ4mR/5eSsABzaeAODdj3cCsPaQnt0+ITz4lMZvD74GwJOP7AegskxXkvv5d9r7gjuOCV33FTJXg3ndCeZXY23dCMDpfcq3m+4cqa8due0DAN4r6mr4YUp5PFLSi/vunp8A2NOu8em+7fPaGH9O19oNjw1r4sFzkfUEyb+ncWFk/0oXnxEChU2q4IcfeB+AcU/5O1VTzh4ZUo4uf/TkvHrCenHqJfGte/5EdL3pzS9i+veRvNJAynyqrFaaljn3ghB+/YDatFfWbfpHe0iQvD5NV3xUMjlZ/whdq0XmoQmUr7irr2o6o1ezoFKZYwNaBMmm/ya4Jl2lmi7U+14zT6+BYF2P+Zx6NWoJJBMn40KJk3GhxMm4UOJkXChxMi6UOBkXSpyMC/0JeJ11EyvWPzYAAAAASUVORK5CYII=\" y=\"-22.063888\"/>\n   </g>\n   <g id=\"patch_33\">\n    <path d=\"M 419.269492 79.063888 \nL 419.269492 22.318125 \n\" style=\"fill:none;stroke:#000000;stroke-linecap:square;stroke-linejoin:miter;stroke-width:0.8;\"/>\n   </g>\n   <g id=\"patch_34\">\n    <path d=\"M 476.015254 79.063888 \nL 476.015254 22.318125 \n\" style=\"fill:none;stroke:#000000;stroke-linecap:square;stroke-linejoin:miter;stroke-width:0.8;\"/>\n   </g>\n   <g id=\"patch_35\">\n    <path d=\"M 419.269492 79.063888 \nL 476.015254 79.063888 \n\" style=\"fill:none;stroke:#000000;stroke-linecap:square;stroke-linejoin:miter;stroke-width:0.8;\"/>\n   </g>\n   <g id=\"patch_36\">\n    <path d=\"M 419.269492 22.318125 \nL 476.015254 22.318125 \n\" style=\"fill:none;stroke:#000000;stroke-linecap:square;stroke-linejoin:miter;stroke-width:0.8;\"/>\n   </g>\n   <g id=\"text_7\">\n    <!-- sneaker -->\n    <g transform=\"translate(423.715498 16.318125)scale(0.12 -0.12)\">\n     <use xlink:href=\"#DejaVuSans-115\"/>\n     <use x=\"52.099609\" xlink:href=\"#DejaVuSans-110\"/>\n     <use x=\"115.478516\" xlink:href=\"#DejaVuSans-101\"/>\n     <use x=\"177.001953\" xlink:href=\"#DejaVuSans-97\"/>\n     <use x=\"238.28125\" xlink:href=\"#DejaVuSans-107\"/>\n     <use x=\"296.144531\" xlink:href=\"#DejaVuSans-101\"/>\n     <use x=\"357.667969\" xlink:href=\"#DejaVuSans-114\"/>\n    </g>\n   </g>\n  </g>\n  <g id=\"axes_8\">\n   <g id=\"patch_37\">\n    <path d=\"M 487.364407 79.063888 \nL 544.110169 79.063888 \nL 544.110169 22.318125 \nL 487.364407 22.318125 \nz\n\" style=\"fill:#ffffff;\"/>\n   </g>\n   <g clip-path=\"url(#p9a50e34256)\">\n    <image height=\"57\" id=\"image3e3867ff4f\" transform=\"scale(1 -1)translate(0 -57)\" width=\"57\" x=\"487.364407\" xlink:href=\"data:image/png;base64,\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\" y=\"-22.063888\"/>\n   </g>\n   <g id=\"patch_38\">\n    <path d=\"M 487.364407 79.063888 \nL 487.364407 22.318125 \n\" style=\"fill:none;stroke:#000000;stroke-linecap:square;stroke-linejoin:miter;stroke-width:0.8;\"/>\n   </g>\n   <g id=\"patch_39\">\n    <path d=\"M 544.110169 79.063888 \nL 544.110169 22.318125 \n\" style=\"fill:none;stroke:#000000;stroke-linecap:square;stroke-linejoin:miter;stroke-width:0.8;\"/>\n   </g>\n   <g id=\"patch_40\">\n    <path d=\"M 487.364407 79.063888 \nL 544.110169 79.063888 \n\" style=\"fill:none;stroke:#000000;stroke-linecap:square;stroke-linejoin:miter;stroke-width:0.8;\"/>\n   </g>\n   <g id=\"patch_41\">\n    <path d=\"M 487.364407 22.318125 \nL 544.110169 22.318125 \n\" style=\"fill:none;stroke:#000000;stroke-linecap:square;stroke-linejoin:miter;stroke-width:0.8;\"/>\n   </g>\n   <g id=\"text_8\">\n    <!-- pullover -->\n    <g transform=\"translate(491.411038 16.318125)scale(0.12 -0.12)\">\n     <use xlink:href=\"#DejaVuSans-112\"/>\n     <use x=\"63.476562\" xlink:href=\"#DejaVuSans-117\"/>\n     <use x=\"126.855469\" xlink:href=\"#DejaVuSans-108\"/>\n     <use x=\"154.638672\" xlink:href=\"#DejaVuSans-108\"/>\n     <use x=\"182.421875\" xlink:href=\"#DejaVuSans-111\"/>\n     <use x=\"243.603516\" xlink:href=\"#DejaVuSans-118\"/>\n     <use x=\"302.783203\" xlink:href=\"#DejaVuSans-101\"/>\n     <use x=\"364.306641\" xlink:href=\"#DejaVuSans-114\"/>\n    </g>\n   </g>\n  </g>\n  <g id=\"axes_9\">\n   <g id=\"patch_42\">\n    <path d=\"M 555.459322 79.063888 \nL 612.205085 79.063888 \nL 612.205085 22.318125 \nL 555.459322 22.318125 \nz\n\" style=\"fill:#ffffff;\"/>\n   </g>\n   <g clip-path=\"url(#pe2b4624032)\">\n    <image height=\"57\" id=\"image19a530295a\" transform=\"scale(1 -1)translate(0 -57)\" width=\"57\" x=\"555.459322\" xlink:href=\"data:image/png;base64,\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\" y=\"-22.063888\"/>\n   </g>\n   <g id=\"patch_43\">\n    <path d=\"M 555.459322 79.063888 \nL 555.459322 22.318125 \n\" style=\"fill:none;stroke:#000000;stroke-linecap:square;stroke-linejoin:miter;stroke-width:0.8;\"/>\n   </g>\n   <g id=\"patch_44\">\n    <path d=\"M 612.205085 79.063888 \nL 612.205085 22.318125 \n\" style=\"fill:none;stroke:#000000;stroke-linecap:square;stroke-linejoin:miter;stroke-width:0.8;\"/>\n   </g>\n   <g id=\"patch_45\">\n    <path d=\"M 555.459322 79.063888 \nL 612.205085 79.063888 \n\" style=\"fill:none;stroke:#000000;stroke-linecap:square;stroke-linejoin:miter;stroke-width:0.8;\"/>\n   </g>\n   <g id=\"patch_46\">\n    <path d=\"M 555.459322 22.318125 \nL 612.205085 22.318125 \n\" style=\"fill:none;stroke:#000000;stroke-linecap:square;stroke-linejoin:miter;stroke-width:0.8;\"/>\n   </g>\n   <g id=\"text_9\">\n    <!-- sandal -->\n    <g transform=\"translate(564.074391 16.318125)scale(0.12 -0.12)\">\n     <use xlink:href=\"#DejaVuSans-115\"/>\n     <use x=\"52.099609\" xlink:href=\"#DejaVuSans-97\"/>\n     <use x=\"113.378906\" xlink:href=\"#DejaVuSans-110\"/>\n     <use x=\"176.757812\" xlink:href=\"#DejaVuSans-100\"/>\n     <use x=\"240.234375\" xlink:href=\"#DejaVuSans-97\"/>\n     <use x=\"301.513672\" xlink:href=\"#DejaVuSans-108\"/>\n    </g>\n   </g>\n  </g>\n  <g id=\"axes_10\">\n   <g id=\"patch_47\">\n    <path d=\"M 623.554237 79.063888 \nL 680.3 79.063888 \nL 680.3 22.318125 \nL 623.554237 22.318125 \nz\n\" style=\"fill:#ffffff;\"/>\n   </g>\n   <g clip-path=\"url(#p0909db6311)\">\n    <image height=\"57\" id=\"image0d61fc0b8b\" transform=\"scale(1 -1)translate(0 -57)\" width=\"57\" x=\"623.554237\" xlink:href=\"data:image/png;base64,\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\" y=\"-22.063888\"/>\n   </g>\n   <g id=\"patch_48\">\n    <path d=\"M 623.554237 79.063888 \nL 623.554237 22.318125 \n\" style=\"fill:none;stroke:#000000;stroke-linecap:square;stroke-linejoin:miter;stroke-width:0.8;\"/>\n   </g>\n   <g id=\"patch_49\">\n    <path d=\"M 680.3 79.063888 \nL 680.3 22.318125 \n\" style=\"fill:none;stroke:#000000;stroke-linecap:square;stroke-linejoin:miter;stroke-width:0.8;\"/>\n   </g>\n   <g id=\"patch_50\">\n    <path d=\"M 623.554237 79.063888 \nL 680.3 79.063888 \n\" style=\"fill:none;stroke:#000000;stroke-linecap:square;stroke-linejoin:miter;stroke-width:0.8;\"/>\n   </g>\n   <g id=\"patch_51\">\n    <path d=\"M 623.554237 22.318125 \nL 680.3 22.318125 \n\" style=\"fill:none;stroke:#000000;stroke-linecap:square;stroke-linejoin:miter;stroke-width:0.8;\"/>\n   </g>\n   <g id=\"text_10\">\n    <!-- sandal -->\n    <g transform=\"translate(632.169306 16.318125)scale(0.12 -0.12)\">\n     <use xlink:href=\"#DejaVuSans-115\"/>\n     <use x=\"52.099609\" xlink:href=\"#DejaVuSans-97\"/>\n     <use x=\"113.378906\" xlink:href=\"#DejaVuSans-110\"/>\n     <use x=\"176.757812\" xlink:href=\"#DejaVuSans-100\"/>\n     <use x=\"240.234375\" xlink:href=\"#DejaVuSans-97\"/>\n     <use x=\"301.513672\" xlink:href=\"#DejaVuSans-108\"/>\n    </g>\n   </g>\n  </g>\n </g>\n <defs>\n  <clipPath id=\"p84c6fbf841\">\n   <rect height=\"56.745763\" width=\"56.745763\" x=\"10.7\" y=\"22.318125\"/>\n  </clipPath>\n  <clipPath id=\"pb91d61688a\">\n   <rect height=\"56.745763\" width=\"56.745763\" x=\"78.794915\" y=\"22.318125\"/>\n  </clipPath>\n  <clipPath id=\"pc745903531\">\n   <rect height=\"56.745763\" width=\"56.745763\" x=\"146.889831\" y=\"22.318125\"/>\n  </clipPath>\n  <clipPath id=\"p7a6a31643a\">\n   <rect height=\"56.745763\" width=\"56.745763\" x=\"214.984746\" y=\"22.318125\"/>\n  </clipPath>\n  <clipPath id=\"pc0fe294547\">\n   <rect height=\"56.745763\" width=\"56.745763\" x=\"283.079661\" y=\"22.318125\"/>\n  </clipPath>\n  <clipPath id=\"p17d7cafc60\">\n   <rect height=\"56.745763\" width=\"56.745763\" x=\"351.174576\" y=\"22.318125\"/>\n  </clipPath>\n  <clipPath id=\"p3190277834\">\n   <rect height=\"56.745763\" width=\"56.745763\" x=\"419.269492\" y=\"22.318125\"/>\n  </clipPath>\n  <clipPath id=\"p9a50e34256\">\n   <rect height=\"56.745763\" width=\"56.745763\" x=\"487.364407\" y=\"22.318125\"/>\n  </clipPath>\n  <clipPath id=\"pe2b4624032\">\n   <rect height=\"56.745763\" width=\"56.745763\" x=\"555.459322\" y=\"22.318125\"/>\n  </clipPath>\n  <clipPath id=\"p0909db6311\">\n   <rect height=\"56.745763\" width=\"56.745763\" x=\"623.554237\" y=\"22.318125\"/>\n  </clipPath>\n </defs>\n</svg>\n"
     },
     "metadata": {
      "needs_background": "light"
     },
     "output_type": "display_data"
    }
   ],
   "source": [
    "X=[]\n",
    "y=[]\n",
    "for idx, data in enumerate(mnist_train):\n",
    "    if(idx>=0 and idx<10):\n",
    "        X.append(data[0])\n",
    "        y.append(data[1])\n",
    "    if (idx>=10):\n",
    "        break\n",
    "show_fashion_mnist(X, get_fashion_mnist_labels(y))"
   ]
  },
  {
   "cell_type": "markdown",
   "metadata": {
    "colab_type": "text",
    "id": "Ton7Y_l-w2xn"
   },
   "source": [
    "## Reading a Minibatch\n",
    "\n",
    "To make our life easier when reading from the training and test sets we use a `DataLoader` rather than creating one from scratch, as we did in `chapter_linear_scratch`. Recall that a data loader reads a mini-batch of data with an example number of `batch_size` each time.\n",
    "\n",
    "In practice, reading data can often be a significant performance bottleneck for training, especially when the model is simple or when the computer is fast. A handy feature of PyTorch's `DataLoader` is the ability to use multiple processes to speed up data reading. For instance, we can set aside 4 processes to read the data (via `num_workers`).\n",
    "\n",
    "We've already applied required transformations before."
   ]
  },
  {
   "cell_type": "code",
   "execution_count": 12,
   "metadata": {
    "colab": {},
    "colab_type": "code",
    "id": "T2yhMtX-w2xo"
   },
   "outputs": [],
   "source": [
    "batch_size = 256\n",
    "if sys.platform.startswith('win'):\n",
    "    # set 0 for windows\n",
    "    # 0 means no additional processes are needed to speed up the reading of data\n",
    "    num_workers = 0\n",
    "else:\n",
    "    num_workers = 4\n",
    "\n",
    "train_iter = DataLoader(mnist_train, batch_size, shuffle=True, num_workers=num_workers)\n",
    "test_iter = DataLoader(mnist_test, batch_size, shuffle=False, num_workers=num_workers)"
   ]
  },
  {
   "cell_type": "markdown",
   "metadata": {
    "colab_type": "text",
    "id": "p-JI6u6ww2xr"
   },
   "source": [
    "Let's look at the time it takes to read all the training data."
   ]
  },
  {
   "cell_type": "code",
   "execution_count": 13,
   "metadata": {
    "colab": {
     "base_uri": "https://localhost:8080/",
     "height": 34
    },
    "colab_type": "code",
    "id": "focyja2Tw2xs",
    "outputId": "aca2797c-57b9-454c-e0d1-f8e46b8af950"
   },
   "outputs": [
    {
     "data": {
      "text/plain": "'1.33 sec'"
     },
     "execution_count": 13,
     "metadata": {},
     "output_type": "execute_result"
    }
   ],
   "source": [
    "start = time.time()\n",
    "for X, y in train_iter:\n",
    "    continue\n",
    "'%.2f sec' % (time.time() - start)"
   ]
  },
  {
   "cell_type": "markdown",
   "metadata": {
    "colab_type": "text",
    "id": "wvkQOTbZw2xw"
   },
   "source": [
    "## Summary\n",
    "\n",
    "* Fashion-MNIST is an apparel classification data set containing 10 categories, which we will use to test the performance of different algorithms in later chapters.\n",
    "* We store the shape of image using height and width of $h$ and $w$ pixels, respectively, as $h \\times w$ or `(h, w)`.\n",
    "* Data iterators are a key component for efficient performance. Use existing ones if available."
   ]
  },
  {
   "cell_type": "markdown",
   "metadata": {
    "colab_type": "text",
    "id": "W3rsCs1jk29n"
   },
   "source": [
    "**Exercise:** the `torchvision` library has multiple transforms that can be applied on Tensors and Images. Implement a function that takes one MNIST image, similar to a one from the list of images above, and *returns* a random square crop from this image. Note that `crop_size` is just an integer. (Hint1: you should use a `torchvision.transform` internally)\n",
    "\n",
    "\n"
   ]
  },
  {
   "cell_type": "code",
   "execution_count": 14,
   "metadata": {
    "colab": {},
    "colab_type": "code",
    "id": "gaU5kUNYnVFc"
   },
   "outputs": [
    {
     "data": {
      "text/plain": "tensor([[[0.3882, 0.9569, 0.8706, 0.8627, 0.8549],\n         [0.2157, 0.9255, 0.8941, 0.9020, 0.8941],\n         [0.9294, 0.8863, 0.8510, 0.8745, 0.8706],\n         [0.8941, 0.8118, 0.8353, 0.8667, 0.8549],\n         [0.8510, 0.8863, 0.7843, 0.8039, 0.8275]]])"
     },
     "execution_count": 14,
     "metadata": {},
     "output_type": "execute_result"
    }
   ],
   "source": [
    "def random_square_crop(img, crop_size):\n",
    "  to_pil_image = transforms.ToPILImage()\n",
    "  pil_img = to_pil_image(img)\n",
    "  result = None\n",
    "  ## write your code here\n",
    "  centerCrop = transforms.CenterCrop(5)\n",
    "  result = centerCrop(pil_img)\n",
    "  ## end of function\n",
    "  to_tensor = transforms.ToTensor()\n",
    "  return to_tensor(result)\n",
    "random_square_crop(feature,5)"
   ]
  },
  {
   "cell_type": "markdown",
   "metadata": {
    "colab_type": "text",
    "id": "L93Qidrow2xx"
   },
   "source": [
    "# Implementation of Softmax Regression from Scratch\n",
    "\n",
    ":label:`chapter_softmax_scratch`\n",
    "\n",
    "\n",
    "Just as we implemented linear regression from scratch,\n",
    "we believe that multiclass logistic (softmax) regression\n",
    "is similarly fundamental and you ought to know\n",
    "the gory details of how to implement it from scratch.\n",
    "As with linear regression, after doing things by hand\n",
    "we will breeze through an implementation in pytorch for comparison.\n",
    "To begin, let's import our packages."
   ]
  },
  {
   "cell_type": "code",
   "execution_count": 15,
   "metadata": {
    "colab": {},
    "colab_type": "code",
    "id": "3tPFU0CHw2xx"
   },
   "outputs": [],
   "source": [
    "import sys\n",
    "sys.path.insert(0, '..')\n",
    "from torchvision import transforms\n",
    "%matplotlib inline\n",
    "import torch\n",
    "from torch.distributions import normal"
   ]
  },
  {
   "cell_type": "markdown",
   "metadata": {
    "colab_type": "text",
    "id": "zzomkXXIw2x1"
   },
   "source": [
    "We will work with the Fashion-MNIST dataset just introduced,\n",
    "\n",
    "*   List item\n",
    "*   List item\n",
    "\n",
    "\n",
    "cuing up an iterator with batch size 256."
   ]
  },
  {
   "cell_type": "code",
   "execution_count": 16,
   "metadata": {
    "colab": {},
    "colab_type": "code",
    "id": "MdlBe0Yvw2x1"
   },
   "outputs": [],
   "source": [
    "batch_size = 256\n",
    "trans = transforms.ToTensor() \n",
    "mnist_train = torchvision.datasets.FashionMNIST(root=\"./\", train=True, transform=trans, target_transform=None, download=True)\n",
    "mnist_test = torchvision.datasets.FashionMNIST(root=\"./\", train=False, transform=trans, target_transform=None, download=True)\n",
    "\n",
    "if sys.platform.startswith('win'):\n",
    "    num_workers = 0\n",
    "else:\n",
    "    num_workers = 4\n",
    "\n",
    "train_iter = DataLoader(mnist_train, batch_size, shuffle=True, num_workers=num_workers)\n",
    "test_iter = DataLoader(mnist_test, batch_size, shuffle=False, num_workers=num_workers)"
   ]
  },
  {
   "cell_type": "markdown",
   "metadata": {
    "colab_type": "text",
    "id": "j-MPKwR8w2x6"
   },
   "source": [
    "## Initialize Model Parameters\n",
    "\n",
    "Just as in linear regression, we represent each example as a vector.\n",
    "Since each example is a $28 \\times 28$ image,\n",
    "we can flatten each example, treating them as $784$ dimensional vectors.\n",
    "In the future, we'll talk about more sophisticated strategies\n",
    "for exploiting the spatial structure in images,\n",
    "but for now we treat each pixel location as just another feature.\n",
    "\n",
    "Recall that in softmax regression,\n",
    "we have as many outputs as there are categories.\n",
    "Because our dataset has $10$ categories,\n",
    "our network will have an output dimension of $10$.\n",
    "Consequently, our weights will constitute a $784 \\times 10$ matrix\n",
    "and the biases will constitute a $1 \\times 10$ vector.\n",
    "As with linear regression, we will initialize our weights $W$\n",
    "with Gaussian noise and our biases to take the initial value $0$."
   ]
  },
  {
   "cell_type": "code",
   "execution_count": 17,
   "metadata": {
    "attributes": {
     "classes": [],
     "id": "",
     "n": "9"
    },
    "colab": {},
    "colab_type": "code",
    "id": "6UabEJZww2x7"
   },
   "outputs": [],
   "source": [
    "num_inputs = 784\n",
    "num_outputs = 10\n",
    "\n",
    "W = normal.Normal(loc = 0, scale = 0.01).sample((num_inputs, num_outputs))\n",
    "b = torch.zeros(num_outputs)"
   ]
  },
  {
   "cell_type": "markdown",
   "metadata": {
    "colab_type": "text",
    "id": "bGW-8_Ezw2x-"
   },
   "source": [
    "Recall that we need to *attach gradients* to the model parameters.\n",
    "More literally, we are allocating memory for future gradients to be stored\n",
    "and notifiying PyTorch that we want gradients to be calculated with respect to these parameters in the first place."
   ]
  },
  {
   "cell_type": "code",
   "execution_count": 18,
   "metadata": {
    "attributes": {
     "classes": [],
     "id": "",
     "n": "10"
    },
    "colab": {
     "base_uri": "https://localhost:8080/",
     "height": 34
    },
    "colab_type": "code",
    "id": "5J_fcKZ3w2x-",
    "outputId": "1f9b9271-f1d4-4081-ba26-16bc05ab10a4"
   },
   "outputs": [
    {
     "data": {
      "text/plain": "tensor([0., 0., 0., 0., 0., 0., 0., 0., 0., 0.], requires_grad=True)"
     },
     "execution_count": 18,
     "metadata": {},
     "output_type": "execute_result"
    }
   ],
   "source": [
    "W.requires_grad_(True)\n",
    "b.requires_grad_(True)"
   ]
  },
  {
   "cell_type": "markdown",
   "metadata": {
    "colab_type": "text",
    "id": "-oX_ntFTw2yB"
   },
   "source": [
    "## The Softmax\n",
    "\n",
    "Before implementing the softmax regression model,\n",
    "let's briefly review how `torch.sum` work\n",
    "along specific dimensions in a PyTorch tensor.\n",
    "Given a matrix `X` we can sum over all elements (default) or only\n",
    "over elements in the same column (`dim=0`) or the same row (`dim=1`).\n",
    "Note that if `X` is an array with shape `(2, 3)`\n",
    "and we sum over the columns (`torch.sum(X, dim=0`),\n",
    "the result will be a (1D) vector with shape `(3,)`.\n",
    "If we want to keep the number of axes in the original array\n",
    "(resulting in a 2D array with shape `(1,3)`),\n",
    "rather than collapsing out the dimension that we summed over\n",
    "we can specify `keepdim=True` when invoking `torch.sum`."
   ]
  },
  {
   "cell_type": "code",
   "execution_count": 19,
   "metadata": {
    "attributes": {
     "classes": [],
     "id": "",
     "n": "11"
    },
    "colab": {
     "base_uri": "https://localhost:8080/",
     "height": 51
    },
    "colab_type": "code",
    "id": "K9PxpqKEw2yC",
    "outputId": "99f8b872-6b46-496d-945c-0b45da036d3e"
   },
   "outputs": [
    {
     "data": {
      "text/plain": "(tensor([[5, 7, 9]]),\n tensor([[ 6],\n         [15]]))"
     },
     "execution_count": 19,
     "metadata": {},
     "output_type": "execute_result"
    }
   ],
   "source": [
    "X = torch.tensor([[1, 2, 3], [4, 5, 6]])\n",
    "torch.sum(X, dim=0, keepdim=True), torch.sum(X, dim=1, keepdim=True)"
   ]
  },
  {
   "cell_type": "markdown",
   "metadata": {
    "colab_type": "text",
    "id": "Ur13NL27w2yF"
   },
   "source": [
    "We are now ready to implement the softmax function.\n",
    "Recall that softmax consists of two steps:\n",
    "First, we exponentiate each term (using `torch.exp`).\n",
    "Then, we sum over each row (we have one row per example in the batch)\n",
    "to get the normalization constants for each example.\n",
    "Finally, we divide each row by its normalization constant,\n",
    "ensuring that the result sums to $1$.\n",
    "Before looking at the code, let's recall\n",
    "what this looks expressed as an equation:\n",
    "\n",
    "$$\n",
    "\\mathrm{softmax}(\\mathbf{X})_{ij} = \\frac{\\exp(X_{ij})}{\\sum_k \\exp(X_{ik})}\n",
    "$$\n",
    "\n",
    "The denominator, or normalization constant,\n",
    "is also sometimes called the partition function\n",
    "(and its logarithm the log-partition function).\n",
    "The origins of that name are in [statistical physics](https://en.wikipedia.org/wiki/Partition_function_(statistical_mechanics))\n",
    "where a related equation models the distribution\n",
    "over an ensemble of particles)."
   ]
  },
  {
   "cell_type": "code",
   "execution_count": 20,
   "metadata": {
    "attributes": {
     "classes": [],
     "id": "",
     "n": "12"
    },
    "colab": {},
    "colab_type": "code",
    "id": "MzWPSo7Rw2yG"
   },
   "outputs": [],
   "source": [
    "def softmax(X):\n",
    "    X_exp = torch.exp(X)\n",
    "    partition = torch.sum(X_exp, dim=1, keepdim=True)\n",
    "    return X_exp / partition  # The broadcast mechanism is applied here"
   ]
  },
  {
   "cell_type": "markdown",
   "metadata": {
    "colab_type": "text",
    "id": "xPB6XxCpw2yI"
   },
   "source": [
    "As you can see, for any random input, we turn each element into a non-negative number. Moreover, each row sums up to 1, as is required for a probability.\n",
    "Note that while this looks correct mathematically,\n",
    "we were a bit sloppy in our implementation\n",
    "because failed to take precautions against numerical overflow or underflow\n",
    "due to large (or very small) elements of the matrix,\n",
    "as we did in\n",
    ":numref:`chapter_naive_bayes`."
   ]
  },
  {
   "cell_type": "code",
   "execution_count": 21,
   "metadata": {
    "attributes": {
     "classes": [],
     "id": "",
     "n": "13"
    },
    "colab": {
     "base_uri": "https://localhost:8080/",
     "height": 51
    },
    "colab_type": "code",
    "id": "eOSmeZoww2yJ",
    "outputId": "47077497-2a86-413b-d935-26e9f2d87009"
   },
   "outputs": [
    {
     "data": {
      "text/plain": "(tensor([[0.6660, 0.0426, 0.0191, 0.1423, 0.1301],\n         [0.0378, 0.0753, 0.0564, 0.4469, 0.3837]]),\n tensor([1.0000, 1.0000]))"
     },
     "execution_count": 21,
     "metadata": {},
     "output_type": "execute_result"
    }
   ],
   "source": [
    "X = normal.Normal(loc = 0, scale = 1).sample((2, 5))\n",
    "X_prob = softmax(X)\n",
    "X_prob, torch.sum(X_prob, dim=1)"
   ]
  },
  {
   "cell_type": "markdown",
   "metadata": {
    "colab_type": "text",
    "id": "oXIT9FD3w2yO"
   },
   "source": [
    "## The Model\n",
    "\n",
    "Now that we have defined the softmax operation,\n",
    "we can implement the softmax regression model.\n",
    "The below code defines the forward pass through the network.\n",
    "Note that we flatten each original image in the batch\n",
    "into a vector with length `num_inputs` with the `view` function\n",
    "before passing the data through our model."
   ]
  },
  {
   "cell_type": "code",
   "execution_count": 22,
   "metadata": {
    "attributes": {
     "classes": [],
     "id": "",
     "n": "14"
    },
    "colab": {},
    "colab_type": "code",
    "id": "Q3X7Qqhsw2yP"
   },
   "outputs": [],
   "source": [
    "def net(X):\n",
    "    return softmax(torch.matmul(X.reshape((-1, num_inputs)), W) + b)"
   ]
  },
  {
   "cell_type": "markdown",
   "metadata": {
    "colab_type": "text",
    "id": "r-Rxpv2Sw2yS"
   },
   "source": [
    "## The Loss Function\n",
    "\n",
    "Next, we need to implement the cross entropy loss function,\n",
    "introduced in :numref:`chapter_softmax`.\n",
    "This may be the most common loss function\n",
    "in all of deep learning because, at the moment,\n",
    "classification problems far outnumber regression problems.\n",
    "\n",
    "\n",
    "Recall that cross entropy takes the negative log likelihood\n",
    "of the predicted probability assigned to the true label $-\\log p(y|x)$.\n",
    "Rather than iterating over the predictions with a Python `for` loop\n",
    "(which tends to be inefficient), we can use the `gather` function\n",
    "which allows us to select the appropriate terms\n",
    "from the matrix of softmax entries easily.\n",
    "Below, we illustrate the `gather` function on a toy example,\n",
    "with 3 categories and 2 examples."
   ]
  },
  {
   "cell_type": "code",
   "execution_count": 23,
   "metadata": {
    "colab": {
     "base_uri": "https://localhost:8080/",
     "height": 68
    },
    "colab_type": "code",
    "id": "fkoFXd_Mw2yS",
    "outputId": "c64eb093-472f-4f7b-ea24-b8b61d26e1a8"
   },
   "outputs": [
    {
     "name": "stdout",
     "output_type": "stream",
     "text": [
      "tensor([[0.1000],\n",
      "        [0.5000]])\n",
      "torch.Size([2, 1])\n"
     ]
    }
   ],
   "source": [
    "# gather function is not that clear\n",
    "y_hat = torch.tensor([[0.1, 0.3, 0.6], [0.3, 0.2, 0.5]])\n",
    "y = torch.tensor([0, 2])\n",
    "print(torch.gather(y_hat, 1, y.unsqueeze(dim=1))) # y has to be unsqueezed so that shape(y_hat) = shape(y)\n",
    "#torch.gather\n",
    "print(torch.gather(y_hat, 1, y.unsqueeze(dim=1)).shape)"
   ]
  },
  {
   "cell_type": "markdown",
   "metadata": {
    "colab_type": "text",
    "id": "49mz76mEw2yV"
   },
   "source": [
    "Now we can implement the cross-entropy loss function efficiently\n",
    "with just one line of code."
   ]
  },
  {
   "cell_type": "code",
   "execution_count": 24,
   "metadata": {
    "attributes": {
     "classes": [],
     "id": "",
     "n": "16"
    },
    "colab": {},
    "colab_type": "code",
    "id": "S3tZsMhSw2yW"
   },
   "outputs": [],
   "source": [
    "def cross_entropy(y_hat, y):\n",
    "    return -torch.gather(y_hat, 1, y.unsqueeze(dim=1)).log()"
   ]
  },
  {
   "cell_type": "markdown",
   "metadata": {
    "colab_type": "text",
    "id": "00hHeDRvw2yZ"
   },
   "source": [
    "## Classification Accuracy\n",
    "\n",
    "Given the predicted probability distribution `y_hat`,\n",
    "we typically choose the class with highest predicted probability\n",
    "whenever we must output a *hard* prediction. Indeed, many applications require that we make a choice. Gmail must catetegorize an email into Primary, Social, Updates, or Forums. It might estimate probabilities internally, but at the end of the day it has to choose one among the categories.\n",
    "\n",
    "When predictions are consistent with the actual category `y`, they are correct. The classification accuracy is the fraction of all predictions that are correct. Although we cannot optimize accuracy directly (it is not differentiable), it's often the performance metric that we care most about, and we will nearly always report it when training classifiers.\n",
    "\n",
    "To compute accuracy we do the following:\n",
    "First, we execute `y_hat.argmax(dim=1)`\n",
    "to gather the predicted classes\n",
    "(given by the indices for the largest entires each row).\n",
    "The result has the same shape as the variable `y`.\n",
    "Now we just need to check how frequently the two match. The result is PyTorch tensor containing entries of 0 (false) and 1 (true). Since the attribute `mean` can only calculate the mean of floating types,\n",
    "we also need to convert the result to `float`. Taking the mean yields the desired result."
   ]
  },
  {
   "cell_type": "code",
   "execution_count": 25,
   "metadata": {
    "attributes": {
     "classes": [],
     "id": "",
     "n": "17"
    },
    "colab": {},
    "colab_type": "code",
    "id": "9Xoycotnw2yZ"
   },
   "outputs": [],
   "source": [
    "def accuracy(y_hat, y):\n",
    "    return (y_hat.argmax(dim=1) == y).float().mean().item()"
   ]
  },
  {
   "cell_type": "markdown",
   "metadata": {
    "colab_type": "text",
    "id": "2HFrssHzw2yc"
   },
   "source": [
    "We will continue to use the variables `y_hat` and `y`\n",
    "defined in the `gather` function,\n",
    "as the predicted probability distribution and label, respectively.\n",
    "We can see that the first example's prediction category is 2\n",
    "(the largest element of the row is 0.6 with an index of 2),\n",
    "which is inconsistent with the actual label, 0.\n",
    "The second example's prediction category is 2\n",
    "(the largest element of the row is 0.5 with an index of 2),\n",
    "which is consistent with the actual label, 2.\n",
    "Therefore, the classification accuracy rate for these two examples is 0.5."
   ]
  },
  {
   "cell_type": "code",
   "execution_count": 26,
   "metadata": {
    "attributes": {
     "classes": [],
     "id": "",
     "n": "18"
    },
    "colab": {
     "base_uri": "https://localhost:8080/",
     "height": 34
    },
    "colab_type": "code",
    "id": "gP_SK1ASw2yd",
    "outputId": "fbfcd047-1f29-4aef-e598-d4bb856513a8"
   },
   "outputs": [
    {
     "data": {
      "text/plain": "0.5"
     },
     "execution_count": 26,
     "metadata": {},
     "output_type": "execute_result"
    }
   ],
   "source": [
    "accuracy(y_hat, y)"
   ]
  },
  {
   "cell_type": "markdown",
   "metadata": {
    "colab_type": "text",
    "id": "GJ7dZ4npw2yh"
   },
   "source": [
    "Similarly, we can evaluate the accuracy for model `net` on the data set\n",
    "(accessed via `data_iter`)."
   ]
  },
  {
   "cell_type": "code",
   "execution_count": 27,
   "metadata": {
    "attributes": {
     "classes": [],
     "id": "",
     "n": "19"
    },
    "colab": {},
    "colab_type": "code",
    "id": "AZaIP_8Ew2yi"
   },
   "outputs": [],
   "source": [
    "# The function will be gradually improved: the complete implementation will be\n",
    "# discussed in the \"Image Augmentation\" section\n",
    "def evaluate_accuracy(data_iter, net):\n",
    "    acc_sum, n = 0.0, 0\n",
    "    for X, y in data_iter:\n",
    "        acc_sum += (net(X).argmax(dim=1) == y).sum().item()\n",
    "        n += y.size()[0]  # y.size()[0] = batch_size\n",
    "    return acc_sum / n"
   ]
  },
  {
   "cell_type": "markdown",
   "metadata": {
    "colab_type": "text",
    "id": "1Pqfr0c3w2yl"
   },
   "source": [
    "Because we initialized the `net` model with random weights,\n",
    "the accuracy of this model should be close to random guessing,\n",
    "i.e. 0.1 for 10 classes."
   ]
  },
  {
   "cell_type": "code",
   "execution_count": 28,
   "metadata": {
    "attributes": {
     "classes": [],
     "id": "",
     "n": "20"
    },
    "colab": {
     "base_uri": "https://localhost:8080/",
     "height": 34
    },
    "colab_type": "code",
    "id": "4DPnCy2Bw2yl",
    "outputId": "ad059577-d537-4bc9-a861-a2dff25957de"
   },
   "outputs": [
    {
     "data": {
      "text/plain": "0.068"
     },
     "execution_count": 28,
     "metadata": {},
     "output_type": "execute_result"
    }
   ],
   "source": [
    "evaluate_accuracy(test_iter, net)"
   ]
  },
  {
   "cell_type": "markdown",
   "metadata": {
    "colab_type": "text",
    "id": "ofOHHe-ww2yo"
   },
   "source": [
    "## Model Training\n",
    "\n",
    "The training loop for softmax regression should look strikingly familiar\n",
    "if you read through our implementation\n",
    "of linear regression earlier in this chapter.\n",
    "Again, we use the mini-batch stochastic gradient descent\n",
    "to optimize the loss function of the model.\n",
    "Note that the number of epochs (`num_epochs`),\n",
    "and learning rate (`lr`) are both adjustable hyper-parameters.\n",
    "By changing their values, we may be able to increase the classification accuracy of the model. In practice we'll want to split our data three ways\n",
    "into training, validation, and test data, using the validation data to choose the best values of our hyperparameters."
   ]
  },
  {
   "cell_type": "code",
   "execution_count": 29,
   "metadata": {
    "attributes": {
     "classes": [],
     "id": "",
     "n": "21"
    },
    "colab": {
     "base_uri": "https://localhost:8080/",
     "height": 102
    },
    "colab_type": "code",
    "id": "vBjoEY9Dw2yp",
    "outputId": "c039f045-8782-400d-f511-0bf3fc7e1f4d"
   },
   "outputs": [
    {
     "name": "stdout",
     "output_type": "stream",
     "text": [
      "epoch 1, loss 223.0516, train acc 188.017, test acc 0.799\n",
      "epoch 2, loss 155.1265, train acc 205.485, test acc 0.821\n",
      "epoch 3, loss 146.5037, train acc 207.906, test acc 0.820\n",
      "epoch 4, loss 134.8658, train acc 210.600, test acc 0.832\n",
      "epoch 5, loss 133.1505, train acc 211.617, test acc 0.831\n"
     ]
    }
   ],
   "source": [
    "num_epochs, lr = 5, 0.001\n",
    "\n",
    "def train(net, train_iter, test_iter, loss, num_epochs, batch_size, trainer, params=None):\n",
    "    for epoch in range(num_epochs):\n",
    "        train_l_sum, train_acc_sum = 0.0, 0.0\n",
    "        for X, y in train_iter:\n",
    "            y_hat = net(X)\n",
    "            l = loss(y_hat, y).sum()\n",
    "            trainer.zero_grad() \n",
    "            l.backward()                \n",
    "            trainer.step()\n",
    "            train_l_sum += l.item()\n",
    "            train_acc_sum += (y_hat.argmax(dim=1) == y).sum().item()            \n",
    "        test_acc = evaluate_accuracy(test_iter, net)\n",
    "        print('epoch %d, loss %.4f, train acc %.3f, test acc %.3f'\n",
    "              % (epoch + 1, train_l_sum / len(train_iter), train_acc_sum / len(train_iter), test_acc))\n",
    "\n",
    "trainer = torch.optim.SGD([W, b], lr) \n",
    "train(net, train_iter, test_iter, cross_entropy, num_epochs, batch_size, trainer, [W, b])"
   ]
  },
  {
   "cell_type": "markdown",
   "metadata": {
    "colab_type": "text",
    "id": "0oM_8pbYw2ys"
   },
   "source": [
    "## Prediction\n",
    "\n",
    "Now that training is complete, our model is ready to classify some images.\n",
    "Given a series of images, we will compare their actual labels\n",
    "(first line of text output) and the model predictions\n",
    "(second line of text output)."
   ]
  },
  {
   "cell_type": "code",
   "execution_count": 30,
   "metadata": {
    "colab": {
     "base_uri": "https://localhost:8080/",
     "height": 159
    },
    "colab_type": "code",
    "id": "g8afzfbWw2yt",
    "outputId": "97e9f1fd-066f-4b9d-ced0-9d4031be2764",
    "scrolled": true
   },
   "outputs": [
    {
     "data": {
      "text/plain": "<Figure size 864x864 with 10 Axes>",
      "image/svg+xml": "<?xml version=\"1.0\" encoding=\"utf-8\" standalone=\"no\"?>\n<!DOCTYPE svg PUBLIC \"-//W3C//DTD SVG 1.1//EN\"\n  \"http://www.w3.org/Graphics/SVG/1.1/DTD/svg11.dtd\">\n<!-- Created with matplotlib (https://matplotlib.org/) -->\n<svg height=\"103.201263pt\" version=\"1.1\" viewBox=\"0 0 687.5 103.201263\" width=\"687.5pt\" xmlns=\"http://www.w3.org/2000/svg\" xmlns:xlink=\"http://www.w3.org/1999/xlink\">\n <defs>\n  <style type=\"text/css\">\n*{stroke-linecap:butt;stroke-linejoin:round;white-space:pre;}\n  </style>\n </defs>\n <g id=\"figure_1\">\n  <g id=\"patch_1\">\n   <path d=\"M 0 103.201263 \nL 687.5 103.201263 \nL 687.5 -0 \nL 0 -0 \nz\n\" style=\"fill:none;\"/>\n  </g>\n  <g id=\"axes_1\">\n   <g id=\"patch_2\">\n    <path d=\"M 10.7 92.501263 \nL 67.445763 92.501263 \nL 67.445763 35.7555 \nL 10.7 35.7555 \nz\n\" style=\"fill:#ffffff;\"/>\n   </g>\n   <g clip-path=\"url(#pc2a13cbb59)\">\n    <image height=\"57\" id=\"image308ff14ca1\" transform=\"scale(1 -1)translate(0 -57)\" width=\"57\" x=\"10.7\" xlink:href=\"data:image/png;base64,\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\" y=\"-35.501263\"/>\n   </g>\n   <g id=\"patch_3\">\n    <path d=\"M 10.7 92.501263 \nL 10.7 35.7555 \n\" style=\"fill:none;stroke:#000000;stroke-linecap:square;stroke-linejoin:miter;stroke-width:0.8;\"/>\n   </g>\n   <g id=\"patch_4\">\n    <path d=\"M 67.445763 92.501263 \nL 67.445763 35.7555 \n\" style=\"fill:none;stroke:#000000;stroke-linecap:square;stroke-linejoin:miter;stroke-width:0.8;\"/>\n   </g>\n   <g id=\"patch_5\">\n    <path d=\"M 10.7 92.501263 \nL 67.445763 92.501263 \n\" style=\"fill:none;stroke:#000000;stroke-linecap:square;stroke-linejoin:miter;stroke-width:0.8;\"/>\n   </g>\n   <g id=\"patch_6\">\n    <path d=\"M 10.7 35.7555 \nL 67.445763 35.7555 \n\" style=\"fill:none;stroke:#000000;stroke-linecap:square;stroke-linejoin:miter;stroke-width:0.8;\"/>\n   </g>\n   <g id=\"text_1\">\n    <!-- coat -->\n    <defs>\n     <path d=\"M 48.78125 52.59375 \nL 48.78125 44.1875 \nQ 44.96875 46.296875 41.140625 47.34375 \nQ 37.3125 48.390625 33.40625 48.390625 \nQ 24.65625 48.390625 19.8125 42.84375 \nQ 14.984375 37.3125 14.984375 27.296875 \nQ 14.984375 17.28125 19.8125 11.734375 \nQ 24.65625 6.203125 33.40625 6.203125 \nQ 37.3125 6.203125 41.140625 7.25 \nQ 44.96875 8.296875 48.78125 10.40625 \nL 48.78125 2.09375 \nQ 45.015625 0.34375 40.984375 -0.53125 \nQ 36.96875 -1.421875 32.421875 -1.421875 \nQ 20.0625 -1.421875 12.78125 6.34375 \nQ 5.515625 14.109375 5.515625 27.296875 \nQ 5.515625 40.671875 12.859375 48.328125 \nQ 20.21875 56 33.015625 56 \nQ 37.15625 56 41.109375 55.140625 \nQ 45.0625 54.296875 48.78125 52.59375 \nz\n\" id=\"DejaVuSans-99\"/>\n     <path d=\"M 30.609375 48.390625 \nQ 23.390625 48.390625 19.1875 42.75 \nQ 14.984375 37.109375 14.984375 27.296875 \nQ 14.984375 17.484375 19.15625 11.84375 \nQ 23.34375 6.203125 30.609375 6.203125 \nQ 37.796875 6.203125 41.984375 11.859375 \nQ 46.1875 17.53125 46.1875 27.296875 \nQ 46.1875 37.015625 41.984375 42.703125 \nQ 37.796875 48.390625 30.609375 48.390625 \nz\nM 30.609375 56 \nQ 42.328125 56 49.015625 48.375 \nQ 55.71875 40.765625 55.71875 27.296875 \nQ 55.71875 13.875 49.015625 6.21875 \nQ 42.328125 -1.421875 30.609375 -1.421875 \nQ 18.84375 -1.421875 12.171875 6.21875 \nQ 5.515625 13.875 5.515625 27.296875 \nQ 5.515625 40.765625 12.171875 48.375 \nQ 18.84375 56 30.609375 56 \nz\n\" id=\"DejaVuSans-111\"/>\n     <path d=\"M 34.28125 27.484375 \nQ 23.390625 27.484375 19.1875 25 \nQ 14.984375 22.515625 14.984375 16.5 \nQ 14.984375 11.71875 18.140625 8.90625 \nQ 21.296875 6.109375 26.703125 6.109375 \nQ 34.1875 6.109375 38.703125 11.40625 \nQ 43.21875 16.703125 43.21875 25.484375 \nL 43.21875 27.484375 \nz\nM 52.203125 31.203125 \nL 52.203125 0 \nL 43.21875 0 \nL 43.21875 8.296875 \nQ 40.140625 3.328125 35.546875 0.953125 \nQ 30.953125 -1.421875 24.3125 -1.421875 \nQ 15.921875 -1.421875 10.953125 3.296875 \nQ 6 8.015625 6 15.921875 \nQ 6 25.140625 12.171875 29.828125 \nQ 18.359375 34.515625 30.609375 34.515625 \nL 43.21875 34.515625 \nL 43.21875 35.40625 \nQ 43.21875 41.609375 39.140625 45 \nQ 35.0625 48.390625 27.6875 48.390625 \nQ 23 48.390625 18.546875 47.265625 \nQ 14.109375 46.140625 10.015625 43.890625 \nL 10.015625 52.203125 \nQ 14.9375 54.109375 19.578125 55.046875 \nQ 24.21875 56 28.609375 56 \nQ 40.484375 56 46.34375 49.84375 \nQ 52.203125 43.703125 52.203125 31.203125 \nz\n\" id=\"DejaVuSans-97\"/>\n     <path d=\"M 18.3125 70.21875 \nL 18.3125 54.6875 \nL 36.8125 54.6875 \nL 36.8125 47.703125 \nL 18.3125 47.703125 \nL 18.3125 18.015625 \nQ 18.3125 11.328125 20.140625 9.421875 \nQ 21.96875 7.515625 27.59375 7.515625 \nL 36.8125 7.515625 \nL 36.8125 0 \nL 27.59375 0 \nQ 17.1875 0 13.234375 3.875 \nQ 9.28125 7.765625 9.28125 18.015625 \nL 9.28125 47.703125 \nL 2.6875 47.703125 \nL 2.6875 54.6875 \nL 9.28125 54.6875 \nL 9.28125 70.21875 \nz\n\" id=\"DejaVuSans-116\"/>\n    </defs>\n    <g transform=\"translate(26.073506 16.318125)scale(0.12 -0.12)\">\n     <use xlink:href=\"#DejaVuSans-99\"/>\n     <use x=\"54.980469\" xlink:href=\"#DejaVuSans-111\"/>\n     <use x=\"116.162109\" xlink:href=\"#DejaVuSans-97\"/>\n     <use x=\"177.441406\" xlink:href=\"#DejaVuSans-116\"/>\n    </g>\n    <!-- coat -->\n    <g transform=\"translate(26.073506 29.7555)scale(0.12 -0.12)\">\n     <use xlink:href=\"#DejaVuSans-99\"/>\n     <use x=\"54.980469\" xlink:href=\"#DejaVuSans-111\"/>\n     <use x=\"116.162109\" xlink:href=\"#DejaVuSans-97\"/>\n     <use x=\"177.441406\" xlink:href=\"#DejaVuSans-116\"/>\n    </g>\n   </g>\n  </g>\n  <g id=\"axes_2\">\n   <g id=\"patch_7\">\n    <path d=\"M 78.794915 92.501263 \nL 135.540678 92.501263 \nL 135.540678 35.7555 \nL 78.794915 35.7555 \nz\n\" style=\"fill:#ffffff;\"/>\n   </g>\n   <g clip-path=\"url(#p12cdd8aec1)\">\n    <image height=\"57\" id=\"image1e74a9ac98\" transform=\"scale(1 -1)translate(0 -57)\" width=\"57\" x=\"78.794915\" xlink:href=\"data:image/png;base64,\niVBORw0KGgoAAAANSUhEUgAAADkAAAA5CAYAAACMGIOFAAAABHNCSVQICAgIfAhkiAAABRtJREFUaIHtmVtslEUUx3/f7nZbdqvb67bZUijlHrmICLVGXhQx4UGJt/igCWgM+mQ08RofNJHEKAk+8aCCUWN8gQcwBoMgpigXISSKIaAIlXDpUrrbdul27+vDf/Zrti5oYiL67fd/mZ1vzpyZM/85Z87MWiuth4s4HJ4bPYF/A66RToFrpFPgGukUuEY6Ba6RToFrpFPg8zaEABhbMVdl2AtAutECIF8rwXygaOoqC3Xm8lJQ0Tb7CgAeS9/jVwMAZDI+AOrqstI/UmcP3nBUygODUhK8kDJj+wEIvXgOgIGrNwEQGwkCYJn+gUAagPFUDQDZpPp5/HkAZnwoyepgMtk7B4ChdWMAhALjAHjyYjRf0GpkTX1Wkxjze7VaS0O/A7B3bS8Al+66WXruiwJQ35gB4Pz+TgAaoxPX19Xr9wPQW/8rACdSHQBczkhH2D8KwOZTdwPQ3S2drVOuArCpcycAn4wsAeDjUz0A3BY5Lz3ZLtnyt5fjfwxf7a4jAHTsqizgbW0F4NRrMwGIdJwB4ODAdACeaDsAwL7+S2pP5QC44G0DYFjuxLQ3JDe+Zrmtuz/ZDEwweTwhJqO9o2bsbgCCT8rnuhcPAXBo+2IA1r4TAyDx2B0aY9tRAE48vQyA1rx2Z3UwiSWfs3w1ZQ3FbMb8UOSbsUP1bzpnA1A4IYreC9wLQPMOrVriUbEwZbARgI6v45I34/Rtft8e4+XorQBki4rAZzbOByDIYQDyg4MApJtnlc0tMFD+LNXybD8AmW2qh48kAIgt0ByrhMmiVqWYy5Y1WD6tbv6K/MD7rcr0A9r/hVZF17NR+VVhSxiAmuiPANSOTtX3Ou0QX0cEgMf7Q/YYHku7ZHduAQDB7YcrTrJl4WUAmvzaLakHhwH4bZHmUr9dXLXlBjTXYcn5UvUa5zoL4Bj47F/F8n1ezClKlhgt1Zt+km+NRQzTTcpSEi+YSNZ+OwDRFWJpzjPHASgsmgfA9z9H7DHaOxUdR/sUiadyoOIk01mNte+i4kGgVvEhvOQCADUbdG7mjXysR/qajmn3VQmTlnVdgRKDJTR9dFClqVs1yhfPvSQG8/drVYmbHHX5QsklxHhNbGLzjIXVN91SqDy4mVv8iqJksEHZWDKhnDfbp7I5frCsW2KauAt9pvO3KpisCiN9kwPOZNiBJ58vbygdPSZp6NxQOWgMPH8nAMllSvB9JyfcY/xkAwBT+3J/7gic/lTJQqRFASp2qF065sklhnqkM3xAASkdUWLvT5TrqQomrZWeRyadHaZaSve8Wq3JAchWYAKPVWdu19nypKKQUsA587auYlbXmN2WS2uXtO5V35bvlOQ/t/tLAC7mlBq+dWy1dMUk9+6qzwF49dgaAPKXdEHvvEXJQO2q/rI5VAWT1/ZJO92rzKAtZnzSTuivge5XFObHHuqxv43M1C7xZnSEZD6Q36/fsw6A6d1K54LmmaNoyq/iOpZyQ1MAaJmjQ39kpxKNMP3AxC6rCiat/9Lf6UNPyW+H79GhH/xBvlZ6TEsvTgLQGJJfJ9P+sv7T1ov50hWtFFeqgknfX4v8Q5TSRuPjHpOoA+Q2mYv2Vj17eI1bv7n0CwC2blH0jM0XlV0RPWSd3T0DgPF2+bA3Ka4sf7ziFKqCyRvrk4Zl78wuAPKnz6puHrx/eV3PIXM36ntheESlOXttNZOug5PhMukUVAWTrpFOgWukU+Aa6RS4RjoFrpFOgWukU+Aa6RT8AT8Kl3hT52zRAAAAAElFTkSuQmCC\" y=\"-35.501263\"/>\n   </g>\n   <g id=\"patch_8\">\n    <path d=\"M 78.794915 92.501263 \nL 78.794915 35.7555 \n\" style=\"fill:none;stroke:#000000;stroke-linecap:square;stroke-linejoin:miter;stroke-width:0.8;\"/>\n   </g>\n   <g id=\"patch_9\">\n    <path d=\"M 135.540678 92.501263 \nL 135.540678 35.7555 \n\" style=\"fill:none;stroke:#000000;stroke-linecap:square;stroke-linejoin:miter;stroke-width:0.8;\"/>\n   </g>\n   <g id=\"patch_10\">\n    <path d=\"M 78.794915 92.501263 \nL 135.540678 92.501263 \n\" style=\"fill:none;stroke:#000000;stroke-linecap:square;stroke-linejoin:miter;stroke-width:0.8;\"/>\n   </g>\n   <g id=\"patch_11\">\n    <path d=\"M 78.794915 35.7555 \nL 135.540678 35.7555 \n\" style=\"fill:none;stroke:#000000;stroke-linecap:square;stroke-linejoin:miter;stroke-width:0.8;\"/>\n   </g>\n   <g id=\"text_2\">\n    <!-- sandal -->\n    <defs>\n     <path d=\"M 44.28125 53.078125 \nL 44.28125 44.578125 \nQ 40.484375 46.53125 36.375 47.5 \nQ 32.28125 48.484375 27.875 48.484375 \nQ 21.1875 48.484375 17.84375 46.4375 \nQ 14.5 44.390625 14.5 40.28125 \nQ 14.5 37.15625 16.890625 35.375 \nQ 19.28125 33.59375 26.515625 31.984375 \nL 29.59375 31.296875 \nQ 39.15625 29.25 43.1875 25.515625 \nQ 47.21875 21.78125 47.21875 15.09375 \nQ 47.21875 7.46875 41.1875 3.015625 \nQ 35.15625 -1.421875 24.609375 -1.421875 \nQ 20.21875 -1.421875 15.453125 -0.5625 \nQ 10.6875 0.296875 5.421875 2 \nL 5.421875 11.28125 \nQ 10.40625 8.6875 15.234375 7.390625 \nQ 20.0625 6.109375 24.8125 6.109375 \nQ 31.15625 6.109375 34.5625 8.28125 \nQ 37.984375 10.453125 37.984375 14.40625 \nQ 37.984375 18.0625 35.515625 20.015625 \nQ 33.0625 21.96875 24.703125 23.78125 \nL 21.578125 24.515625 \nQ 13.234375 26.265625 9.515625 29.90625 \nQ 5.8125 33.546875 5.8125 39.890625 \nQ 5.8125 47.609375 11.28125 51.796875 \nQ 16.75 56 26.8125 56 \nQ 31.78125 56 36.171875 55.265625 \nQ 40.578125 54.546875 44.28125 53.078125 \nz\n\" id=\"DejaVuSans-115\"/>\n     <path d=\"M 54.890625 33.015625 \nL 54.890625 0 \nL 45.90625 0 \nL 45.90625 32.71875 \nQ 45.90625 40.484375 42.875 44.328125 \nQ 39.84375 48.1875 33.796875 48.1875 \nQ 26.515625 48.1875 22.3125 43.546875 \nQ 18.109375 38.921875 18.109375 30.90625 \nL 18.109375 0 \nL 9.078125 0 \nL 9.078125 54.6875 \nL 18.109375 54.6875 \nL 18.109375 46.1875 \nQ 21.34375 51.125 25.703125 53.5625 \nQ 30.078125 56 35.796875 56 \nQ 45.21875 56 50.046875 50.171875 \nQ 54.890625 44.34375 54.890625 33.015625 \nz\n\" id=\"DejaVuSans-110\"/>\n     <path d=\"M 45.40625 46.390625 \nL 45.40625 75.984375 \nL 54.390625 75.984375 \nL 54.390625 0 \nL 45.40625 0 \nL 45.40625 8.203125 \nQ 42.578125 3.328125 38.25 0.953125 \nQ 33.9375 -1.421875 27.875 -1.421875 \nQ 17.96875 -1.421875 11.734375 6.484375 \nQ 5.515625 14.40625 5.515625 27.296875 \nQ 5.515625 40.1875 11.734375 48.09375 \nQ 17.96875 56 27.875 56 \nQ 33.9375 56 38.25 53.625 \nQ 42.578125 51.265625 45.40625 46.390625 \nz\nM 14.796875 27.296875 \nQ 14.796875 17.390625 18.875 11.75 \nQ 22.953125 6.109375 30.078125 6.109375 \nQ 37.203125 6.109375 41.296875 11.75 \nQ 45.40625 17.390625 45.40625 27.296875 \nQ 45.40625 37.203125 41.296875 42.84375 \nQ 37.203125 48.484375 30.078125 48.484375 \nQ 22.953125 48.484375 18.875 42.84375 \nQ 14.796875 37.203125 14.796875 27.296875 \nz\n\" id=\"DejaVuSans-100\"/>\n     <path d=\"M 9.421875 75.984375 \nL 18.40625 75.984375 \nL 18.40625 0 \nL 9.421875 0 \nz\n\" id=\"DejaVuSans-108\"/>\n    </defs>\n    <g transform=\"translate(87.409984 16.318125)scale(0.12 -0.12)\">\n     <use xlink:href=\"#DejaVuSans-115\"/>\n     <use x=\"52.099609\" xlink:href=\"#DejaVuSans-97\"/>\n     <use x=\"113.378906\" xlink:href=\"#DejaVuSans-110\"/>\n     <use x=\"176.757812\" xlink:href=\"#DejaVuSans-100\"/>\n     <use x=\"240.234375\" xlink:href=\"#DejaVuSans-97\"/>\n     <use x=\"301.513672\" xlink:href=\"#DejaVuSans-108\"/>\n    </g>\n    <!-- sandal -->\n    <g transform=\"translate(87.409984 29.7555)scale(0.12 -0.12)\">\n     <use xlink:href=\"#DejaVuSans-115\"/>\n     <use x=\"52.099609\" xlink:href=\"#DejaVuSans-97\"/>\n     <use x=\"113.378906\" xlink:href=\"#DejaVuSans-110\"/>\n     <use x=\"176.757812\" xlink:href=\"#DejaVuSans-100\"/>\n     <use x=\"240.234375\" xlink:href=\"#DejaVuSans-97\"/>\n     <use x=\"301.513672\" xlink:href=\"#DejaVuSans-108\"/>\n    </g>\n   </g>\n  </g>\n  <g id=\"axes_3\">\n   <g id=\"patch_12\">\n    <path d=\"M 146.889831 92.501263 \nL 203.635593 92.501263 \nL 203.635593 35.7555 \nL 146.889831 35.7555 \nz\n\" style=\"fill:#ffffff;\"/>\n   </g>\n   <g clip-path=\"url(#p2d501aa178)\">\n    <image height=\"57\" id=\"image186dd323e1\" transform=\"scale(1 -1)translate(0 -57)\" width=\"57\" x=\"146.889831\" xlink:href=\"data:image/png;base64,\niVBORw0KGgoAAAANSUhEUgAAADkAAAA5CAYAAACMGIOFAAAABHNCSVQICAgIfAhkiAAABFJJREFUaIHtms9vG1UQxz/rXXu9iU3spA1pQkpFiUSacqgARXAFcQSBEP8B/wK3CnHhD+ACPfSA1BMSEhVFgDj0gCooPyRKRUsaQlMIbUjaBMeO7dj7g8P3rcOaNEJUArHeuYx33rx5b+Y7b+bZa+sZ66WIlFPuv97Av0GZk2mhzMm0UOZkWihzMi2UOZkWypxMC2VOpoUcZ+J+AK6ePAJAflN+d8YCaeRD8a7klid5udIEIIwsqdmSB6H0/EA8l9PX1VJxB4DI6AO0OnkAvEI38dxoFLWWmZuzxANjM6oVJG/LVsHsuXpNey29+0XCyYFA0jp+9mQE8Pnj7wDw2to8ABudYQDK+TYAhwo1AH5qHQBg4XdlwPhQHQDHChOG/UjxawdCZ8d3EnKAZjefmLPTlU5jW0jajkHGUxYcHG4AUCm0EntrmTU8WxlxovQzAG+deh4YFCSf/OTVCGBu9BYAF947AUBzVtFzXB/YPXtBU9HuD0/v/BR0NvN58TDUPL9ry56R/1kWxjaD3fMKYDfNGTRrhcOaWxjR3qpl1YXatgeA53YAePHIJQBmizf32mo6yfl1WWfs9ZmzAHw6ewwAr6x831kuA+DeNlFV8GkfUlQjU32jGIy2PvQQN0jGKFnrxd7ibsdU5npyU77KAd5alFgzKOTNWuL1YknysvQ2x3UmzznHAbg+Kt8GA8kHP1AUnn5OyDir6kH+inhYFVLNo8p3uyaEnJriE7rmrA4nq6u9rXG7pfHQFNLOyO7PvDmZJMoZnYLGugaZ0DG9tpvcdOiK+55B2hEvrGoRa0rPl99+VPP3i0BayOmUlfCnaxMA+JOqXDNTawDMVlYBuLY1DkApr/GbjRHxBclHvhfCcbu0QkWzPSaUHBVC3OXdxXeqGourp21uMDGPEQ1KMhrfcOLsKN4Wv++G9IZuqY44b6hThM0lzfsbgfjf00A46bibavaXmw8AkDNXqdW6Wsf1i9MA2Kbcx8Wi+ZA+PPHYIgDleaXx+a/mAHAnlJ/RVZV5d9OkYGm34Tu6ndE6aArOqGn2VaVdblG95MAFzRn9bAUA/5eVfZ0K+54HA0nv4mJCEDRUhofOqWlPfbOugd/Eg9oWAJatglV/5GEAvn6lAoA7ua3xS8qE2Wdlf+HjGSDZQipzd2TjRhWA0pKK1/SHQjK48l1ib37f5i3HXDjs+LZgLih+UnMgkLTil7BbHx0FIH9qDADv/S//kUH7/CQAC98eBiBnznLcBuIv5QDFdY1NnflBOnc2kpszSEVBwL4U7f8eeSCQdOIPlZfV/MP6UkIhV9bZilqtPQ305//GaSEYzZurmZEPT+oWPv1mp6cbLPwo3mezd9Z6i9zbG//BQjKs1/dUuJv8bjRyRj8i1Q8/BUD7mDJg8oUrwF9RA8AyvdMg1p8d90oDgaSV/cUlJZQ5mRbKnEwLZU6mhTIn00KZk2mhzMm0UOZkWihzMi30BzA4bTdnAJ0AAAAAAElFTkSuQmCC\" y=\"-35.501263\"/>\n   </g>\n   <g id=\"patch_13\">\n    <path d=\"M 146.889831 92.501263 \nL 146.889831 35.7555 \n\" style=\"fill:none;stroke:#000000;stroke-linecap:square;stroke-linejoin:miter;stroke-width:0.8;\"/>\n   </g>\n   <g id=\"patch_14\">\n    <path d=\"M 203.635593 92.501263 \nL 203.635593 35.7555 \n\" style=\"fill:none;stroke:#000000;stroke-linecap:square;stroke-linejoin:miter;stroke-width:0.8;\"/>\n   </g>\n   <g id=\"patch_15\">\n    <path d=\"M 146.889831 92.501263 \nL 203.635593 92.501263 \n\" style=\"fill:none;stroke:#000000;stroke-linecap:square;stroke-linejoin:miter;stroke-width:0.8;\"/>\n   </g>\n   <g id=\"patch_16\">\n    <path d=\"M 146.889831 35.7555 \nL 203.635593 35.7555 \n\" style=\"fill:none;stroke:#000000;stroke-linecap:square;stroke-linejoin:miter;stroke-width:0.8;\"/>\n   </g>\n   <g id=\"text_3\">\n    <!-- sneaker -->\n    <defs>\n     <path d=\"M 56.203125 29.59375 \nL 56.203125 25.203125 \nL 14.890625 25.203125 \nQ 15.484375 15.921875 20.484375 11.0625 \nQ 25.484375 6.203125 34.421875 6.203125 \nQ 39.59375 6.203125 44.453125 7.46875 \nQ 49.3125 8.734375 54.109375 11.28125 \nL 54.109375 2.78125 \nQ 49.265625 0.734375 44.1875 -0.34375 \nQ 39.109375 -1.421875 33.890625 -1.421875 \nQ 20.796875 -1.421875 13.15625 6.1875 \nQ 5.515625 13.8125 5.515625 26.8125 \nQ 5.515625 40.234375 12.765625 48.109375 \nQ 20.015625 56 32.328125 56 \nQ 43.359375 56 49.78125 48.890625 \nQ 56.203125 41.796875 56.203125 29.59375 \nz\nM 47.21875 32.234375 \nQ 47.125 39.59375 43.09375 43.984375 \nQ 39.0625 48.390625 32.421875 48.390625 \nQ 24.90625 48.390625 20.390625 44.140625 \nQ 15.875 39.890625 15.1875 32.171875 \nz\n\" id=\"DejaVuSans-101\"/>\n     <path d=\"M 9.078125 75.984375 \nL 18.109375 75.984375 \nL 18.109375 31.109375 \nL 44.921875 54.6875 \nL 56.390625 54.6875 \nL 27.390625 29.109375 \nL 57.625 0 \nL 45.90625 0 \nL 18.109375 26.703125 \nL 18.109375 0 \nL 9.078125 0 \nz\n\" id=\"DejaVuSans-107\"/>\n     <path d=\"M 41.109375 46.296875 \nQ 39.59375 47.171875 37.8125 47.578125 \nQ 36.03125 48 33.890625 48 \nQ 26.265625 48 22.1875 43.046875 \nQ 18.109375 38.09375 18.109375 28.8125 \nL 18.109375 0 \nL 9.078125 0 \nL 9.078125 54.6875 \nL 18.109375 54.6875 \nL 18.109375 46.1875 \nQ 20.953125 51.171875 25.484375 53.578125 \nQ 30.03125 56 36.53125 56 \nQ 37.453125 56 38.578125 55.875 \nQ 39.703125 55.765625 41.0625 55.515625 \nz\n\" id=\"DejaVuSans-114\"/>\n    </defs>\n    <g transform=\"translate(151.335837 16.318125)scale(0.12 -0.12)\">\n     <use xlink:href=\"#DejaVuSans-115\"/>\n     <use x=\"52.099609\" xlink:href=\"#DejaVuSans-110\"/>\n     <use x=\"115.478516\" xlink:href=\"#DejaVuSans-101\"/>\n     <use x=\"177.001953\" xlink:href=\"#DejaVuSans-97\"/>\n     <use x=\"238.28125\" xlink:href=\"#DejaVuSans-107\"/>\n     <use x=\"296.144531\" xlink:href=\"#DejaVuSans-101\"/>\n     <use x=\"357.667969\" xlink:href=\"#DejaVuSans-114\"/>\n    </g>\n    <!-- sandal -->\n    <g transform=\"translate(155.504899 29.7555)scale(0.12 -0.12)\">\n     <use xlink:href=\"#DejaVuSans-115\"/>\n     <use x=\"52.099609\" xlink:href=\"#DejaVuSans-97\"/>\n     <use x=\"113.378906\" xlink:href=\"#DejaVuSans-110\"/>\n     <use x=\"176.757812\" xlink:href=\"#DejaVuSans-100\"/>\n     <use x=\"240.234375\" xlink:href=\"#DejaVuSans-97\"/>\n     <use x=\"301.513672\" xlink:href=\"#DejaVuSans-108\"/>\n    </g>\n   </g>\n  </g>\n  <g id=\"axes_4\">\n   <g id=\"patch_17\">\n    <path d=\"M 214.984746 92.501263 \nL 271.730508 92.501263 \nL 271.730508 35.7555 \nL 214.984746 35.7555 \nz\n\" style=\"fill:#ffffff;\"/>\n   </g>\n   <g clip-path=\"url(#p18af26e6fd)\">\n    <image height=\"57\" id=\"image3db297868e\" transform=\"scale(1 -1)translate(0 -57)\" width=\"57\" x=\"214.984746\" xlink:href=\"data:image/png;base64,\niVBORw0KGgoAAAANSUhEUgAAADkAAAA5CAYAAACMGIOFAAAABHNCSVQICAgIfAhkiAAABKVJREFUaIHtmstvVFUcxz/3Ma/OTMtU+rA+aHgYiDFxiTYYFqzdoNHEjRtYmLghhvhfGGLiygUaF8aNJsrChSRookKEaoAitGKLIn23dDqd1324+N0zd24HTe7MIWnS+900t3PmzK/z6e95jnHCeM1Ho5ZPvwTA+mHZ1st5ABRnbACGr9Vaa50+CwB7ywVg5UhW1nz0o06TMLXutkNl69po+txRAG6cPAfA97UiAPtTqwCMWULtt0a69Z680QRg3csBMNvcC8Ch9+YBOPv+OwAUvvi5J9sSknH0+asfAvBl5UkAblXHAGjk/wDg08oBADacbOs9y/UCAHm7AYBpiP9mB4RwrWQAUOjRtoRkHJ2dfh2Ad8cvRn4/aj8EYCS1AYAV0AKoe/Lxe1JVAKpuCoAlpx+AwakwEveihGQclesSNZ9JrQBwxd8PQM0XOi7iXzUv1XqPZUguTRmSJ5cd8b43+qcAuFA9BkCviTwhGUflikTNYpD7tsvzzeCnEX54QHDA3gLgAQMAVDxhZy2LHzs92paQjKPmRgaAPaZET0VMEVR+107S3OaTtulG9nQfLGixLSEZR5l52WrAlCircmDDl5rVbMuPSoqgFcRPx5O1q57s4dfrWmxLSMZRalN8LWPIllVXaDQROvUgP9bb8mTejpJSPln2suhUQjKO8vfF5ywj+r2V3Vzk2SOMrirSbgU+qCog1VfqUkIyjkrX1yPPqcC/Kp7kTxVdzUdUom6QS3Om9JUX1w4Hr2xosS0hGUf+1EzkeShdBsJI2ap4HuGTzSCX9tvSP347dwSAp7ipxbaEZBz5jvQKi24FgIwhz1uu+KTqNJpBVQOQt8Q/N4M1w2nxwcpiXpdZQEKyO329KVM5Re5+vRR5bq9hM6bQViSV3w7c1GvWriC5K/5I7f+uF5ZeAODkyDUApr0RICzMc1Y4Hgkb66C8C/5tS3caWm1KSHajydvjALw5egWAgiXtlBpFWnQOl9WIRAWg7IIEqc42uzslJLtR6apsmT0uvqdKNlXO2WYnSaXjxVsAXP1V73efkOxGw5elNFt3+4DQB7fcdMfa1YasGUpvAvBd+Xnd5gAJye7kT0p7dDQ3B8CCI6P/h45QO5CZb61drMuRuxoy/7LybGDUPa02JSR70enbbwFwat8PABRNaYizZueBkCJ5d2YUgOcSkvGlj6QRjDV8oTL35xAA2fHgGgvik6tOeM3hn4r464mSHLp+c+/l/92zWyUkY2nbt232SUOcN6V2VfVpu14c/Btoo6v1AlybLY9n252lxxZdXzkkI8pFR3KhuvSgRhwAjmdGXquORQ9he/VFpYRkL9ob1KN3anINbdCWUeW+9HJrzZItlG9UngbA79tGUpMSkt3IyEh3f6x4HQivkH08OwGA/9lQa+3EGZkejGXksKj/iYpuc4BdQtLQfT1baf4rObQZ/kAOfMxLk/+5du1tudJ98NTvAKxMrGm1ZVeQ1O6TZl4Oa/o/EV80L12OLjDCozuVB0vnfwJgtiZXvIv0dh27wyatu+1Q6Z8MBBeMCndl1tMxO22rYgxbPl4d+xX+Ci7xauo+lHYFyX8BNtJ+G9AjTHoAAAAASUVORK5CYII=\" y=\"-35.501263\"/>\n   </g>\n   <g id=\"patch_18\">\n    <path d=\"M 214.984746 92.501263 \nL 214.984746 35.7555 \n\" style=\"fill:none;stroke:#000000;stroke-linecap:square;stroke-linejoin:miter;stroke-width:0.8;\"/>\n   </g>\n   <g id=\"patch_19\">\n    <path d=\"M 271.730508 92.501263 \nL 271.730508 35.7555 \n\" style=\"fill:none;stroke:#000000;stroke-linecap:square;stroke-linejoin:miter;stroke-width:0.8;\"/>\n   </g>\n   <g id=\"patch_20\">\n    <path d=\"M 214.984746 92.501263 \nL 271.730508 92.501263 \n\" style=\"fill:none;stroke:#000000;stroke-linecap:square;stroke-linejoin:miter;stroke-width:0.8;\"/>\n   </g>\n   <g id=\"patch_21\">\n    <path d=\"M 214.984746 35.7555 \nL 271.730508 35.7555 \n\" style=\"fill:none;stroke:#000000;stroke-linecap:square;stroke-linejoin:miter;stroke-width:0.8;\"/>\n   </g>\n   <g id=\"text_4\">\n    <!-- dress -->\n    <g transform=\"translate(227.140752 16.318125)scale(0.12 -0.12)\">\n     <use xlink:href=\"#DejaVuSans-100\"/>\n     <use x=\"63.476562\" xlink:href=\"#DejaVuSans-114\"/>\n     <use x=\"104.558594\" xlink:href=\"#DejaVuSans-101\"/>\n     <use x=\"166.082031\" xlink:href=\"#DejaVuSans-115\"/>\n     <use x=\"218.181641\" xlink:href=\"#DejaVuSans-115\"/>\n    </g>\n    <!-- dress -->\n    <g transform=\"translate(227.140752 29.7555)scale(0.12 -0.12)\">\n     <use xlink:href=\"#DejaVuSans-100\"/>\n     <use x=\"63.476562\" xlink:href=\"#DejaVuSans-114\"/>\n     <use x=\"104.558594\" xlink:href=\"#DejaVuSans-101\"/>\n     <use x=\"166.082031\" xlink:href=\"#DejaVuSans-115\"/>\n     <use x=\"218.181641\" xlink:href=\"#DejaVuSans-115\"/>\n    </g>\n   </g>\n  </g>\n  <g id=\"axes_5\">\n   <g id=\"patch_22\">\n    <path d=\"M 283.079661 92.501263 \nL 339.825424 92.501263 \nL 339.825424 35.7555 \nL 283.079661 35.7555 \nz\n\" style=\"fill:#ffffff;\"/>\n   </g>\n   <g clip-path=\"url(#pc0c3969407)\">\n    <image height=\"57\" id=\"imagea739f7d468\" transform=\"scale(1 -1)translate(0 -57)\" width=\"57\" x=\"283.079661\" xlink:href=\"data:image/png;base64,\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\" y=\"-35.501263\"/>\n   </g>\n   <g id=\"patch_23\">\n    <path d=\"M 283.079661 92.501263 \nL 283.079661 35.7555 \n\" style=\"fill:none;stroke:#000000;stroke-linecap:square;stroke-linejoin:miter;stroke-width:0.8;\"/>\n   </g>\n   <g id=\"patch_24\">\n    <path d=\"M 339.825424 92.501263 \nL 339.825424 35.7555 \n\" style=\"fill:none;stroke:#000000;stroke-linecap:square;stroke-linejoin:miter;stroke-width:0.8;\"/>\n   </g>\n   <g id=\"patch_25\">\n    <path d=\"M 283.079661 92.501263 \nL 339.825424 92.501263 \n\" style=\"fill:none;stroke:#000000;stroke-linecap:square;stroke-linejoin:miter;stroke-width:0.8;\"/>\n   </g>\n   <g id=\"patch_26\">\n    <path d=\"M 283.079661 35.7555 \nL 339.825424 35.7555 \n\" style=\"fill:none;stroke:#000000;stroke-linecap:square;stroke-linejoin:miter;stroke-width:0.8;\"/>\n   </g>\n   <g id=\"text_5\">\n    <!-- coat -->\n    <g transform=\"translate(298.453167 16.318125)scale(0.12 -0.12)\">\n     <use xlink:href=\"#DejaVuSans-99\"/>\n     <use x=\"54.980469\" xlink:href=\"#DejaVuSans-111\"/>\n     <use x=\"116.162109\" xlink:href=\"#DejaVuSans-97\"/>\n     <use x=\"177.441406\" xlink:href=\"#DejaVuSans-116\"/>\n    </g>\n    <!-- coat -->\n    <g transform=\"translate(298.453167 29.7555)scale(0.12 -0.12)\">\n     <use xlink:href=\"#DejaVuSans-99\"/>\n     <use x=\"54.980469\" xlink:href=\"#DejaVuSans-111\"/>\n     <use x=\"116.162109\" xlink:href=\"#DejaVuSans-97\"/>\n     <use x=\"177.441406\" xlink:href=\"#DejaVuSans-116\"/>\n    </g>\n   </g>\n  </g>\n  <g id=\"axes_6\">\n   <g id=\"patch_27\">\n    <path d=\"M 351.174576 92.501263 \nL 407.920339 92.501263 \nL 407.920339 35.7555 \nL 351.174576 35.7555 \nz\n\" style=\"fill:#ffffff;\"/>\n   </g>\n   <g clip-path=\"url(#p7692656bcd)\">\n    <image height=\"57\" id=\"imagec87aecbb5e\" transform=\"scale(1 -1)translate(0 -57)\" width=\"57\" x=\"351.174576\" xlink:href=\"data:image/png;base64,\niVBORw0KGgoAAAANSUhEUgAAADkAAAA5CAYAAACMGIOFAAAABHNCSVQICAgIfAhkiAAABMZJREFUaIHtmstvG1UUh7952GOP7bxDnEebRAUCFKmqWEG7AAkWqBILhAT8Aez5W7pnxZ4FG3aUBSsKBVQIUhTaNGloUELeju14HizOmYmiqUTGvgukzG8zmet7xjfz+cw595yx3rU+ijEo6+Z1ANbvDAPgnMr43N0HAESdTjo3fvMGAKufVmTAlsPiVwEA7rc/GVmTbeQq/3NZpkkOfz8OQLNyeG784d4MAOX3nqRjzj0ZuzP1EIC1zgQAfxw2Aei9/czImi4FSdf0Be+vLALw4vzfAHQD+Yq/dkYAuMYZyY19GVsbFoKbbTlfXp8G4CUKkheWcZKlag+AmiuP1UZJnqZPw9HM3CBwAPCd83PjtmN0TQXJfmQ7EQBlR2JdEMl9tN0oM7fhC7le5OhcJegafeAXJPtSw+8CcBKUAbAtoRK2Spm5fkn8txvJMjylb5Wy1AdRQXIQJb5YUTo8B04UWwDs93zgjGjcM3vvC5L9qNURX+xqDByp6q4jtDJzhzz5bO14TGxPxdatBkbXVJDsR+0d8a+xB0Jy7/0D+SALknYgT9zHy5KrOm255+F01+iaCpJ9SWOcvy3o9jYaOp7NYkp2CEB9Tahb+gQ+qmVj6iAqSOaR5Xly1Bw1qMilnY4QDcphxiaJoUFNzh11Rav3HAceQAXJPLIcjYujLQCCind+gp31ySCWe6yJDqVjOUZekbvmljmSrlyqFwrRZPsYVuQPy8v6ZJK7WvpRcrQ7Re6aW+ZITkj+GSudUlt80FEq3lw2i6mXzo+F6saWWZe8HCQvxT9p7Ocae5KKddqyXfKr8rN1dKc1NXSUsZn3dwH4XaogaSiJPP2pj0jTKNw/GGhtBck8Om1KIh7qgyaoyritKVqtJAXkcOFqalN3VoGz9l6gHbzY0cTBMsOgIJlHoaeF4SQJUJ90T+S87kq4ePbKldTGsVYAiNXU1qqHlZRKXDPLK0jmUehpilYK9VzGNTcg0vrH8czZV9po4Vn3yG77/DWtupRS2B5sbQXJPOoOa2JekcDYHZF4mdzGjSNpsO681UttjhV3Ehd7rtCO6+KcvabYWI/PGrf9qCCZR60ZoTA/uQfAoy3xp8Qnh7WQ/Nntr1ObH4+k9R4vyUa7pq28pSHJcHZmF2R8wLUVJPMo6Z/envgTgN1rkvLYSjJptN5deSe1ufnCJgBvzG0AcKpzmhXJc5+OCIOC5AVkLncdk1Rn+1Ry2CvqVwenkpAOlyUIJi8/ANzfkuwnaQol5ZCkrd6alfPxAddWkMyjsCYktzpC0tUWQKjN2Dl/H4Bfd2cztkkLL9HGoewju5PZ4lc/KkjmkdWV+7V5LBSmfKkULwz9A4Bvy6ZxbXUqtfHGxU+v1iS2rrfkhaakGGaqXVCQzCV9lWV7T3xytCKUHB1/uboFwK0bK6nJgi+Ukxcilp9IM9belrzX2ysqAxeWMZLlfc1OFqUUsFCXSlxVfbEVyY7jg4mfU5tOJBvJe/uvAhC3ZTkTr+0AsPvLpJG1FSTzKKmZfvH6lwB8d7IEwIeN3wB41BsCYNJppTbXy5Lf3qp+A8DHEz8A0LDFnz+PPjGytktB0viL9v8ld7qZ/h0dym4jaildS+NjWZ6ucdfMqy6XguS/sfti8HLpgwIAAAAASUVORK5CYII=\" y=\"-35.501263\"/>\n   </g>\n   <g id=\"patch_28\">\n    <path d=\"M 351.174576 92.501263 \nL 351.174576 35.7555 \n\" style=\"fill:none;stroke:#000000;stroke-linecap:square;stroke-linejoin:miter;stroke-width:0.8;\"/>\n   </g>\n   <g id=\"patch_29\">\n    <path d=\"M 407.920339 92.501263 \nL 407.920339 35.7555 \n\" style=\"fill:none;stroke:#000000;stroke-linecap:square;stroke-linejoin:miter;stroke-width:0.8;\"/>\n   </g>\n   <g id=\"patch_30\">\n    <path d=\"M 351.174576 92.501263 \nL 407.920339 92.501263 \n\" style=\"fill:none;stroke:#000000;stroke-linecap:square;stroke-linejoin:miter;stroke-width:0.8;\"/>\n   </g>\n   <g id=\"patch_31\">\n    <path d=\"M 351.174576 35.7555 \nL 407.920339 35.7555 \n\" style=\"fill:none;stroke:#000000;stroke-linecap:square;stroke-linejoin:miter;stroke-width:0.8;\"/>\n   </g>\n   <g id=\"text_6\">\n    <!-- trouser -->\n    <defs>\n     <path d=\"M 8.5 21.578125 \nL 8.5 54.6875 \nL 17.484375 54.6875 \nL 17.484375 21.921875 \nQ 17.484375 14.15625 20.5 10.265625 \nQ 23.53125 6.390625 29.59375 6.390625 \nQ 36.859375 6.390625 41.078125 11.03125 \nQ 45.3125 15.671875 45.3125 23.6875 \nL 45.3125 54.6875 \nL 54.296875 54.6875 \nL 54.296875 0 \nL 45.3125 0 \nL 45.3125 8.40625 \nQ 42.046875 3.421875 37.71875 1 \nQ 33.40625 -1.421875 27.6875 -1.421875 \nQ 18.265625 -1.421875 13.375 4.4375 \nQ 8.5 10.296875 8.5 21.578125 \nz\nM 31.109375 56 \nz\n\" id=\"DejaVuSans-117\"/>\n    </defs>\n    <g transform=\"translate(357.97277 16.318125)scale(0.12 -0.12)\">\n     <use xlink:href=\"#DejaVuSans-116\"/>\n     <use x=\"39.208984\" xlink:href=\"#DejaVuSans-114\"/>\n     <use x=\"80.291016\" xlink:href=\"#DejaVuSans-111\"/>\n     <use x=\"141.472656\" xlink:href=\"#DejaVuSans-117\"/>\n     <use x=\"204.851562\" xlink:href=\"#DejaVuSans-115\"/>\n     <use x=\"256.951172\" xlink:href=\"#DejaVuSans-101\"/>\n     <use x=\"318.474609\" xlink:href=\"#DejaVuSans-114\"/>\n    </g>\n    <!-- trouser -->\n    <g transform=\"translate(357.97277 29.7555)scale(0.12 -0.12)\">\n     <use xlink:href=\"#DejaVuSans-116\"/>\n     <use x=\"39.208984\" xlink:href=\"#DejaVuSans-114\"/>\n     <use x=\"80.291016\" xlink:href=\"#DejaVuSans-111\"/>\n     <use x=\"141.472656\" xlink:href=\"#DejaVuSans-117\"/>\n     <use x=\"204.851562\" xlink:href=\"#DejaVuSans-115\"/>\n     <use x=\"256.951172\" xlink:href=\"#DejaVuSans-101\"/>\n     <use x=\"318.474609\" xlink:href=\"#DejaVuSans-114\"/>\n    </g>\n   </g>\n  </g>\n  <g id=\"axes_7\">\n   <g id=\"patch_32\">\n    <path d=\"M 419.269492 92.501263 \nL 476.015254 92.501263 \nL 476.015254 35.7555 \nL 419.269492 35.7555 \nz\n\" style=\"fill:#ffffff;\"/>\n   </g>\n   <g clip-path=\"url(#p5792873dec)\">\n    <image height=\"57\" id=\"imagedcf9817bf3\" transform=\"scale(1 -1)translate(0 -57)\" width=\"57\" x=\"419.269492\" xlink:href=\"data:image/png;base64,\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\" y=\"-35.501263\"/>\n   </g>\n   <g id=\"patch_33\">\n    <path d=\"M 419.269492 92.501263 \nL 419.269492 35.7555 \n\" style=\"fill:none;stroke:#000000;stroke-linecap:square;stroke-linejoin:miter;stroke-width:0.8;\"/>\n   </g>\n   <g id=\"patch_34\">\n    <path d=\"M 476.015254 92.501263 \nL 476.015254 35.7555 \n\" style=\"fill:none;stroke:#000000;stroke-linecap:square;stroke-linejoin:miter;stroke-width:0.8;\"/>\n   </g>\n   <g id=\"patch_35\">\n    <path d=\"M 419.269492 92.501263 \nL 476.015254 92.501263 \n\" style=\"fill:none;stroke:#000000;stroke-linecap:square;stroke-linejoin:miter;stroke-width:0.8;\"/>\n   </g>\n   <g id=\"patch_36\">\n    <path d=\"M 419.269492 35.7555 \nL 476.015254 35.7555 \n\" style=\"fill:none;stroke:#000000;stroke-linecap:square;stroke-linejoin:miter;stroke-width:0.8;\"/>\n   </g>\n   <g id=\"text_7\">\n    <!-- pullover -->\n    <defs>\n     <path d=\"M 18.109375 8.203125 \nL 18.109375 -20.796875 \nL 9.078125 -20.796875 \nL 9.078125 54.6875 \nL 18.109375 54.6875 \nL 18.109375 46.390625 \nQ 20.953125 51.265625 25.265625 53.625 \nQ 29.59375 56 35.59375 56 \nQ 45.5625 56 51.78125 48.09375 \nQ 58.015625 40.1875 58.015625 27.296875 \nQ 58.015625 14.40625 51.78125 6.484375 \nQ 45.5625 -1.421875 35.59375 -1.421875 \nQ 29.59375 -1.421875 25.265625 0.953125 \nQ 20.953125 3.328125 18.109375 8.203125 \nz\nM 48.6875 27.296875 \nQ 48.6875 37.203125 44.609375 42.84375 \nQ 40.53125 48.484375 33.40625 48.484375 \nQ 26.265625 48.484375 22.1875 42.84375 \nQ 18.109375 37.203125 18.109375 27.296875 \nQ 18.109375 17.390625 22.1875 11.75 \nQ 26.265625 6.109375 33.40625 6.109375 \nQ 40.53125 6.109375 44.609375 11.75 \nQ 48.6875 17.390625 48.6875 27.296875 \nz\n\" id=\"DejaVuSans-112\"/>\n     <path d=\"M 2.984375 54.6875 \nL 12.5 54.6875 \nL 29.59375 8.796875 \nL 46.6875 54.6875 \nL 56.203125 54.6875 \nL 35.6875 0 \nL 23.484375 0 \nz\n\" id=\"DejaVuSans-118\"/>\n    </defs>\n    <g transform=\"translate(423.316123 16.318125)scale(0.12 -0.12)\">\n     <use xlink:href=\"#DejaVuSans-112\"/>\n     <use x=\"63.476562\" xlink:href=\"#DejaVuSans-117\"/>\n     <use x=\"126.855469\" xlink:href=\"#DejaVuSans-108\"/>\n     <use x=\"154.638672\" xlink:href=\"#DejaVuSans-108\"/>\n     <use x=\"182.421875\" xlink:href=\"#DejaVuSans-111\"/>\n     <use x=\"243.603516\" xlink:href=\"#DejaVuSans-118\"/>\n     <use x=\"302.783203\" xlink:href=\"#DejaVuSans-101\"/>\n     <use x=\"364.306641\" xlink:href=\"#DejaVuSans-114\"/>\n    </g>\n    <!-- pullover -->\n    <g transform=\"translate(423.316123 29.7555)scale(0.12 -0.12)\">\n     <use xlink:href=\"#DejaVuSans-112\"/>\n     <use x=\"63.476562\" xlink:href=\"#DejaVuSans-117\"/>\n     <use x=\"126.855469\" xlink:href=\"#DejaVuSans-108\"/>\n     <use x=\"154.638672\" xlink:href=\"#DejaVuSans-108\"/>\n     <use x=\"182.421875\" xlink:href=\"#DejaVuSans-111\"/>\n     <use x=\"243.603516\" xlink:href=\"#DejaVuSans-118\"/>\n     <use x=\"302.783203\" xlink:href=\"#DejaVuSans-101\"/>\n     <use x=\"364.306641\" xlink:href=\"#DejaVuSans-114\"/>\n    </g>\n   </g>\n  </g>\n  <g id=\"axes_8\">\n   <g id=\"patch_37\">\n    <path d=\"M 487.364407 92.501263 \nL 544.110169 92.501263 \nL 544.110169 35.7555 \nL 487.364407 35.7555 \nz\n\" style=\"fill:#ffffff;\"/>\n   </g>\n   <g clip-path=\"url(#p3532643312)\">\n    <image height=\"57\" id=\"imageb9bb987111\" transform=\"scale(1 -1)translate(0 -57)\" width=\"57\" x=\"487.364407\" xlink:href=\"data:image/png;base64,\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\" y=\"-35.501263\"/>\n   </g>\n   <g id=\"patch_38\">\n    <path d=\"M 487.364407 92.501263 \nL 487.364407 35.7555 \n\" style=\"fill:none;stroke:#000000;stroke-linecap:square;stroke-linejoin:miter;stroke-width:0.8;\"/>\n   </g>\n   <g id=\"patch_39\">\n    <path d=\"M 544.110169 92.501263 \nL 544.110169 35.7555 \n\" style=\"fill:none;stroke:#000000;stroke-linecap:square;stroke-linejoin:miter;stroke-width:0.8;\"/>\n   </g>\n   <g id=\"patch_40\">\n    <path d=\"M 487.364407 92.501263 \nL 544.110169 92.501263 \n\" style=\"fill:none;stroke:#000000;stroke-linecap:square;stroke-linejoin:miter;stroke-width:0.8;\"/>\n   </g>\n   <g id=\"patch_41\">\n    <path d=\"M 487.364407 35.7555 \nL 544.110169 35.7555 \n\" style=\"fill:none;stroke:#000000;stroke-linecap:square;stroke-linejoin:miter;stroke-width:0.8;\"/>\n   </g>\n   <g id=\"text_8\">\n    <!-- coat -->\n    <g transform=\"translate(502.737913 16.318125)scale(0.12 -0.12)\">\n     <use xlink:href=\"#DejaVuSans-99\"/>\n     <use x=\"54.980469\" xlink:href=\"#DejaVuSans-111\"/>\n     <use x=\"116.162109\" xlink:href=\"#DejaVuSans-97\"/>\n     <use x=\"177.441406\" xlink:href=\"#DejaVuSans-116\"/>\n    </g>\n    <!-- shirt -->\n    <defs>\n     <path d=\"M 54.890625 33.015625 \nL 54.890625 0 \nL 45.90625 0 \nL 45.90625 32.71875 \nQ 45.90625 40.484375 42.875 44.328125 \nQ 39.84375 48.1875 33.796875 48.1875 \nQ 26.515625 48.1875 22.3125 43.546875 \nQ 18.109375 38.921875 18.109375 30.90625 \nL 18.109375 0 \nL 9.078125 0 \nL 9.078125 75.984375 \nL 18.109375 75.984375 \nL 18.109375 46.1875 \nQ 21.34375 51.125 25.703125 53.5625 \nQ 30.078125 56 35.796875 56 \nQ 45.21875 56 50.046875 50.171875 \nQ 54.890625 44.34375 54.890625 33.015625 \nz\n\" id=\"DejaVuSans-104\"/>\n     <path d=\"M 9.421875 54.6875 \nL 18.40625 54.6875 \nL 18.40625 0 \nL 9.421875 0 \nz\nM 9.421875 75.984375 \nL 18.40625 75.984375 \nL 18.40625 64.59375 \nL 9.421875 64.59375 \nz\n\" id=\"DejaVuSans-105\"/>\n    </defs>\n    <g transform=\"translate(502.323538 29.7555)scale(0.12 -0.12)\">\n     <use xlink:href=\"#DejaVuSans-115\"/>\n     <use x=\"52.099609\" xlink:href=\"#DejaVuSans-104\"/>\n     <use x=\"115.478516\" xlink:href=\"#DejaVuSans-105\"/>\n     <use x=\"143.261719\" xlink:href=\"#DejaVuSans-114\"/>\n     <use x=\"184.375\" xlink:href=\"#DejaVuSans-116\"/>\n    </g>\n   </g>\n  </g>\n  <g id=\"axes_9\">\n   <g id=\"patch_42\">\n    <path d=\"M 555.459322 92.501263 \nL 612.205085 92.501263 \nL 612.205085 35.7555 \nL 555.459322 35.7555 \nz\n\" style=\"fill:#ffffff;\"/>\n   </g>\n   <g clip-path=\"url(#p8b4e720db7)\">\n    <image height=\"57\" id=\"imagedb584c069f\" transform=\"scale(1 -1)translate(0 -57)\" width=\"57\" x=\"555.459322\" xlink:href=\"data:image/png;base64,\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\" y=\"-35.501263\"/>\n   </g>\n   <g id=\"patch_43\">\n    <path d=\"M 555.459322 92.501263 \nL 555.459322 35.7555 \n\" style=\"fill:none;stroke:#000000;stroke-linecap:square;stroke-linejoin:miter;stroke-width:0.8;\"/>\n   </g>\n   <g id=\"patch_44\">\n    <path d=\"M 612.205085 92.501263 \nL 612.205085 35.7555 \n\" style=\"fill:none;stroke:#000000;stroke-linecap:square;stroke-linejoin:miter;stroke-width:0.8;\"/>\n   </g>\n   <g id=\"patch_45\">\n    <path d=\"M 555.459322 92.501263 \nL 612.205085 92.501263 \n\" style=\"fill:none;stroke:#000000;stroke-linecap:square;stroke-linejoin:miter;stroke-width:0.8;\"/>\n   </g>\n   <g id=\"patch_46\">\n    <path d=\"M 555.459322 35.7555 \nL 612.205085 35.7555 \n\" style=\"fill:none;stroke:#000000;stroke-linecap:square;stroke-linejoin:miter;stroke-width:0.8;\"/>\n   </g>\n   <g id=\"text_9\">\n    <!-- bag -->\n    <defs>\n     <path d=\"M 48.6875 27.296875 \nQ 48.6875 37.203125 44.609375 42.84375 \nQ 40.53125 48.484375 33.40625 48.484375 \nQ 26.265625 48.484375 22.1875 42.84375 \nQ 18.109375 37.203125 18.109375 27.296875 \nQ 18.109375 17.390625 22.1875 11.75 \nQ 26.265625 6.109375 33.40625 6.109375 \nQ 40.53125 6.109375 44.609375 11.75 \nQ 48.6875 17.390625 48.6875 27.296875 \nz\nM 18.109375 46.390625 \nQ 20.953125 51.265625 25.265625 53.625 \nQ 29.59375 56 35.59375 56 \nQ 45.5625 56 51.78125 48.09375 \nQ 58.015625 40.1875 58.015625 27.296875 \nQ 58.015625 14.40625 51.78125 6.484375 \nQ 45.5625 -1.421875 35.59375 -1.421875 \nQ 29.59375 -1.421875 25.265625 0.953125 \nQ 20.953125 3.328125 18.109375 8.203125 \nL 18.109375 0 \nL 9.078125 0 \nL 9.078125 75.984375 \nL 18.109375 75.984375 \nz\n\" id=\"DejaVuSans-98\"/>\n     <path d=\"M 45.40625 27.984375 \nQ 45.40625 37.75 41.375 43.109375 \nQ 37.359375 48.484375 30.078125 48.484375 \nQ 22.859375 48.484375 18.828125 43.109375 \nQ 14.796875 37.75 14.796875 27.984375 \nQ 14.796875 18.265625 18.828125 12.890625 \nQ 22.859375 7.515625 30.078125 7.515625 \nQ 37.359375 7.515625 41.375 12.890625 \nQ 45.40625 18.265625 45.40625 27.984375 \nz\nM 54.390625 6.78125 \nQ 54.390625 -7.171875 48.1875 -13.984375 \nQ 42 -20.796875 29.203125 -20.796875 \nQ 24.46875 -20.796875 20.265625 -20.09375 \nQ 16.0625 -19.390625 12.109375 -17.921875 \nL 12.109375 -9.1875 \nQ 16.0625 -11.328125 19.921875 -12.34375 \nQ 23.78125 -13.375 27.78125 -13.375 \nQ 36.625 -13.375 41.015625 -8.765625 \nQ 45.40625 -4.15625 45.40625 5.171875 \nL 45.40625 9.625 \nQ 42.625 4.78125 38.28125 2.390625 \nQ 33.9375 0 27.875 0 \nQ 17.828125 0 11.671875 7.65625 \nQ 5.515625 15.328125 5.515625 27.984375 \nQ 5.515625 40.671875 11.671875 48.328125 \nQ 17.828125 56 27.875 56 \nQ 33.9375 56 38.28125 53.609375 \nQ 42.625 51.21875 45.40625 46.390625 \nL 45.40625 54.6875 \nL 54.390625 54.6875 \nz\n\" id=\"DejaVuSans-103\"/>\n    </defs>\n    <g transform=\"translate(572.537203 16.318125)scale(0.12 -0.12)\">\n     <use xlink:href=\"#DejaVuSans-98\"/>\n     <use x=\"63.476562\" xlink:href=\"#DejaVuSans-97\"/>\n     <use x=\"124.755859\" xlink:href=\"#DejaVuSans-103\"/>\n    </g>\n    <!-- bag -->\n    <g transform=\"translate(572.537203 29.7555)scale(0.12 -0.12)\">\n     <use xlink:href=\"#DejaVuSans-98\"/>\n     <use x=\"63.476562\" xlink:href=\"#DejaVuSans-97\"/>\n     <use x=\"124.755859\" xlink:href=\"#DejaVuSans-103\"/>\n    </g>\n   </g>\n  </g>\n  <g id=\"axes_10\">\n   <g id=\"patch_47\">\n    <path d=\"M 623.554237 92.501263 \nL 680.3 92.501263 \nL 680.3 35.7555 \nL 623.554237 35.7555 \nz\n\" style=\"fill:#ffffff;\"/>\n   </g>\n   <g clip-path=\"url(#p3f2cd15829)\">\n    <image height=\"57\" id=\"image901288eb67\" transform=\"scale(1 -1)translate(0 -57)\" width=\"57\" x=\"623.554237\" xlink:href=\"data:image/png;base64,\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\" y=\"-35.501263\"/>\n   </g>\n   <g id=\"patch_48\">\n    <path d=\"M 623.554237 92.501263 \nL 623.554237 35.7555 \n\" style=\"fill:none;stroke:#000000;stroke-linecap:square;stroke-linejoin:miter;stroke-width:0.8;\"/>\n   </g>\n   <g id=\"patch_49\">\n    <path d=\"M 680.3 92.501263 \nL 680.3 35.7555 \n\" style=\"fill:none;stroke:#000000;stroke-linecap:square;stroke-linejoin:miter;stroke-width:0.8;\"/>\n   </g>\n   <g id=\"patch_50\">\n    <path d=\"M 623.554237 92.501263 \nL 680.3 92.501263 \n\" style=\"fill:none;stroke:#000000;stroke-linecap:square;stroke-linejoin:miter;stroke-width:0.8;\"/>\n   </g>\n   <g id=\"patch_51\">\n    <path d=\"M 623.554237 35.7555 \nL 680.3 35.7555 \n\" style=\"fill:none;stroke:#000000;stroke-linecap:square;stroke-linejoin:miter;stroke-width:0.8;\"/>\n   </g>\n   <g id=\"text_10\">\n    <!-- t-shirt -->\n    <defs>\n     <path d=\"M 4.890625 31.390625 \nL 31.203125 31.390625 \nL 31.203125 23.390625 \nL 4.890625 23.390625 \nz\n\" id=\"DejaVuSans-45\"/>\n    </defs>\n    <g transform=\"translate(633.996494 16.318125)scale(0.12 -0.12)\">\n     <use xlink:href=\"#DejaVuSans-116\"/>\n     <use x=\"39.208984\" xlink:href=\"#DejaVuSans-45\"/>\n     <use x=\"75.292969\" xlink:href=\"#DejaVuSans-115\"/>\n     <use x=\"127.392578\" xlink:href=\"#DejaVuSans-104\"/>\n     <use x=\"190.771484\" xlink:href=\"#DejaVuSans-105\"/>\n     <use x=\"218.554688\" xlink:href=\"#DejaVuSans-114\"/>\n     <use x=\"259.667969\" xlink:href=\"#DejaVuSans-116\"/>\n    </g>\n    <!-- t-shirt -->\n    <g transform=\"translate(633.996494 29.7555)scale(0.12 -0.12)\">\n     <use xlink:href=\"#DejaVuSans-116\"/>\n     <use x=\"39.208984\" xlink:href=\"#DejaVuSans-45\"/>\n     <use x=\"75.292969\" xlink:href=\"#DejaVuSans-115\"/>\n     <use x=\"127.392578\" xlink:href=\"#DejaVuSans-104\"/>\n     <use x=\"190.771484\" xlink:href=\"#DejaVuSans-105\"/>\n     <use x=\"218.554688\" xlink:href=\"#DejaVuSans-114\"/>\n     <use x=\"259.667969\" xlink:href=\"#DejaVuSans-116\"/>\n    </g>\n   </g>\n  </g>\n </g>\n <defs>\n  <clipPath id=\"pc2a13cbb59\">\n   <rect height=\"56.745763\" width=\"56.745763\" x=\"10.7\" y=\"35.7555\"/>\n  </clipPath>\n  <clipPath id=\"p12cdd8aec1\">\n   <rect height=\"56.745763\" width=\"56.745763\" x=\"78.794915\" y=\"35.7555\"/>\n  </clipPath>\n  <clipPath id=\"p2d501aa178\">\n   <rect height=\"56.745763\" width=\"56.745763\" x=\"146.889831\" y=\"35.7555\"/>\n  </clipPath>\n  <clipPath id=\"p18af26e6fd\">\n   <rect height=\"56.745763\" width=\"56.745763\" x=\"214.984746\" y=\"35.7555\"/>\n  </clipPath>\n  <clipPath id=\"pc0c3969407\">\n   <rect height=\"56.745763\" width=\"56.745763\" x=\"283.079661\" y=\"35.7555\"/>\n  </clipPath>\n  <clipPath id=\"p7692656bcd\">\n   <rect height=\"56.745763\" width=\"56.745763\" x=\"351.174576\" y=\"35.7555\"/>\n  </clipPath>\n  <clipPath id=\"p5792873dec\">\n   <rect height=\"56.745763\" width=\"56.745763\" x=\"419.269492\" y=\"35.7555\"/>\n  </clipPath>\n  <clipPath id=\"p3532643312\">\n   <rect height=\"56.745763\" width=\"56.745763\" x=\"487.364407\" y=\"35.7555\"/>\n  </clipPath>\n  <clipPath id=\"p8b4e720db7\">\n   <rect height=\"56.745763\" width=\"56.745763\" x=\"555.459322\" y=\"35.7555\"/>\n  </clipPath>\n  <clipPath id=\"p3f2cd15829\">\n   <rect height=\"56.745763\" width=\"56.745763\" x=\"623.554237\" y=\"35.7555\"/>\n  </clipPath>\n </defs>\n</svg>\n"
     },
     "metadata": {
      "needs_background": "light"
     },
     "output_type": "display_data"
    }
   ],
   "source": [
    "for X, y in test_iter:\n",
    "    break\n",
    "\n",
    "# the functions \"get_fashion_mnist_labels\" and \"show_fashion_mnist\" are defined above in this notebook\n",
    "true_labels = get_fashion_mnist_labels(y.detach().numpy())\n",
    "pred_labels = get_fashion_mnist_labels(net(X).argmax(dim=1).detach().numpy())\n",
    "titles = [truelabel + '\\n' + predlabel for truelabel, predlabel in zip(true_labels, pred_labels)]\n",
    "\n",
    "show_fashion_mnist(X[10:20], titles[10:20])"
   ]
  },
  {
   "cell_type": "markdown",
   "metadata": {
    "colab_type": "text",
    "id": "84GPYmu7w2yw"
   },
   "source": [
    "## Summary\n",
    "\n",
    "With softmax regression, we can train models for multi-category classification. The training loop is very similar to that in linear regression: retrieve and read data, define models and loss functions,\n",
    "then train models using optimization algorithms. As you'll soon find out, most common deep learning models have similar training procedures."
   ]
  },
  {
   "cell_type": "markdown",
   "metadata": {
    "colab_type": "text",
    "id": "38wFQlq5w2yw"
   },
   "source": [
    "# Concise Implementation of Softmax Regression\n",
    "\n",
    "Just as PyTorch made it much easier to implement linear regression, we'll find it similarly (or possibly more)\n",
    "convenient for implementing classification models. Again, we begin with our import ritual."
   ]
  },
  {
   "cell_type": "code",
   "execution_count": 31,
   "metadata": {
    "colab": {},
    "colab_type": "code",
    "id": "cXA_XBgcw2yx"
   },
   "outputs": [],
   "source": [
    "import sys\n",
    "sys.path.insert(0, '..')\n",
    "import torch\n",
    "import torchvision\n",
    "from torch.utils.data import DataLoader\n",
    "import torch.nn as nn\n",
    "import numpy as np\n"
   ]
  },
  {
   "cell_type": "markdown",
   "metadata": {
    "colab_type": "text",
    "id": "vnM23r-Cw2y0"
   },
   "source": [
    "Let's stick with the Fashion-MNIST dataset and keep the batch size at $256$ as in the last section."
   ]
  },
  {
   "cell_type": "code",
   "execution_count": 32,
   "metadata": {
    "colab": {},
    "colab_type": "code",
    "id": "GSab6J62w2y1"
   },
   "outputs": [],
   "source": [
    "batch_size = 256\n",
    "\n",
    "# By default pytorch torchvision datasets are of type PIL.\n",
    "# Define a transform \"trans\" to change the PIL to Tensor format.\n",
    "trans = torchvision.transforms.ToTensor() \n",
    "mnist_train = torchvision.datasets.FashionMNIST(root=\"./\", train=True, transform=trans, target_transform=None, download=True)\n",
    "mnist_test = torchvision.datasets.FashionMNIST(root=\"./\", train=False, transform=trans, target_transform=None, download=True)"
   ]
  },
  {
   "cell_type": "code",
   "execution_count": 33,
   "metadata": {
    "colab": {},
    "colab_type": "code",
    "id": "uQuTYGmzEXpV"
   },
   "outputs": [],
   "source": [
    "if sys.platform.startswith('win'):\n",
    "    # set 0 for windows\n",
    "    # 0 means no additional processes are needed to speed up the reading of data\n",
    "    num_workers = 0\n",
    "else:\n",
    "    num_workers = 4\n",
    "\n",
    "train_iter = DataLoader(mnist_train, batch_size, shuffle=True, num_workers=num_workers)\n",
    "test_iter = DataLoader(mnist_test, batch_size, shuffle=False, num_workers=num_workers)"
   ]
  },
  {
   "cell_type": "markdown",
   "metadata": {
    "colab_type": "text",
    "id": "TxqiAjbEw2y4"
   },
   "source": [
    "## Initialize Model Parameters\n",
    "\n",
    "As mentioned in `chapter_softmax`, the output layer of softmax regression is a fully connected (`Linear`) layer. Therefore, to implement our model, we just need to add one `Linear` layer with 10 outputs to our `Sequential`. Again, here, the `Sequential` isn't really necessary, but we might as well form the habit since it will be ubiquitous when implementing deep models. Again, we initialize the weights at random with zero mean and standard deviation 0.01."
   ]
  },
  {
   "cell_type": "code",
   "execution_count": 34,
   "metadata": {
    "colab": {
     "base_uri": "https://localhost:8080/",
     "height": 85
    },
    "colab_type": "code",
    "id": "DAS0Yg8lw2y4",
    "outputId": "15a77549-a19a-43db-dda7-63fc9cd6dec9"
   },
   "outputs": [
    {
     "data": {
      "text/plain": "Sequential(\n  (0): Reshape()\n  (1): Linear(in_features=784, out_features=10, bias=True)\n)"
     },
     "execution_count": 34,
     "metadata": {},
     "output_type": "execute_result"
    }
   ],
   "source": [
    "class Reshape(torch.nn.Module):\n",
    "    def forward(self, x):\n",
    "        return x.view(-1,784)\n",
    "    \n",
    "net = nn.Sequential(Reshape(), nn.Linear(784, 10))\n",
    "\n",
    "def init_weights(m):\n",
    "    if type(m) == nn.Linear:\n",
    "        torch.nn.init.normal_(m.weight, std=0.01)\n",
    "\n",
    "net.apply(init_weights)"
   ]
  },
  {
   "cell_type": "markdown",
   "metadata": {
    "colab_type": "text",
    "id": "QRCGXS2ew2y9"
   },
   "source": [
    "## The Softmax\n",
    "\n",
    "In the previous example, we calculated our model's output and then ran this\n",
    "output through the cross-entropy loss. Mathematically, that's a perfectly reasonable thing to do. However,\n",
    "computationally, things can get hairy when dealing with exponentiation due to\n",
    "numerical stability issues, a matter we've already discussed a few times\n",
    "(e.g. in `chapter_naive_bayes`) and in the problem set of the previous chapter).\n",
    "Recall that the softmax function calculates $\\hat y_j = \\frac{e^{z_j}}{\\sum_{i=1}^{n} e^{z_i}}$, where $\\hat y_j$\n",
    "is the j-th element of ``yhat`` and $z_j$ is the j-th element of the input\n",
    "``y_linear`` variable, as computed by the softmax.\n",
    "\n",
    "If some of the $z_i$ are very large (i.e. very positive),\n",
    "$e^{z_i}$ might be larger than the largest number\n",
    "we can have for certain types of ``float`` (i.e. overflow).\n",
    "This would make the denominator (and/or numerator) ``inf`` and we get zero,\n",
    "or ``inf``, or ``nan`` for $\\hat y_j$.\n",
    "In any case, we won't get a well-defined return value for ``cross_entropy``. This is the reason we subtract $\\text{max}(z_i)$\n",
    "from all $z_i$ first in ``softmax`` function.\n",
    "You can verify that this shifting in $z_i$\n",
    "will not change the return value of ``softmax``.\n",
    "\n",
    "After the above subtraction/ normalization step,\n",
    "it is possible that $z_j$ is very negative.\n",
    "Thus, $e^{z_j}$ will be very close to zero\n",
    "and might be rounded to zero due to finite precision (i.e underflow),\n",
    "which makes $\\hat y_j$ zero and we get ``-inf`` for $\\text{log}(\\hat y_j)$.\n",
    "A few steps down the road in backpropagation,\n",
    "we start to get horrific not-a-number (``nan``) results printed to screen.\n",
    "\n",
    "Our salvation is that even though we're computing these exponential functions, we ultimately plan to take their log in the cross-entropy functions.\n",
    "It turns out that by combining these two operators\n",
    "``softmax`` and ``cross_entropy`` together,\n",
    "we can escape the numerical stability issues\n",
    "that might otherwise plague us during backpropagation.\n",
    "As shown in the equation below, we avoided calculating $e^{z_j}$\n",
    "but directly used $z_j$ due to $\\log(\\exp(\\cdot))$.\n",
    "\n",
    "$$\n",
    "\\begin{aligned}\n",
    "\\log{(\\hat y_j)} & = \\log\\left( \\frac{e^{z_j}}{\\sum_{i=1}^{n} e^{z_i}}\\right) \\\\\n",
    "& = \\log{(e^{z_j})}-\\text{log}{\\left( \\sum_{i=1}^{n} e^{z_i} \\right)} \\\\\n",
    "& = z_j -\\log{\\left( \\sum_{i=1}^{n} e^{z_i} \\right)}\n",
    "\\end{aligned}\n",
    "$$\n",
    "\n",
    "We'll want to keep the conventional softmax function handy\n",
    "in case we ever want to evaluate the probabilities output by our model.\n",
    "But instead of passing softmax probabilities into our new loss function,\n",
    "we'll just pass $\\hat{y}$ and compute the softmax and its log\n",
    "all at once inside the softmax_cross_entropy loss function,\n",
    "which does smart things like the log-sum-exp trick ([see on Wikipedia](https://en.wikipedia.org/wiki/LogSumExp)).\n"
   ]
  },
  {
   "cell_type": "code",
   "execution_count": 35,
   "metadata": {
    "colab": {},
    "colab_type": "code",
    "id": "eBnzvdFrw2y9"
   },
   "outputs": [],
   "source": [
    "loss = nn.CrossEntropyLoss()"
   ]
  },
  {
   "cell_type": "markdown",
   "metadata": {
    "colab_type": "text",
    "id": "j3iv3YPDw2zD"
   },
   "source": [
    "## Optimization Algorithm\n",
    "\n",
    "We use the mini-batch random gradient descent\n",
    "with a learning rate of $0.1$ as the optimization algorithm.\n",
    "Note that this is the same choice as for linear regression\n",
    "and it illustrates the general applicability of the optimizers."
   ]
  },
  {
   "cell_type": "markdown",
   "metadata": {
    "colab_type": "text",
    "id": "M_ui1tWpw2zE"
   },
   "source": [
    "## Training\n",
    "\n",
    "Next, we use the training functions defined in the last section to train a model."
   ]
  },
  {
   "cell_type": "code",
   "execution_count": 36,
   "metadata": {
    "colab": {
     "base_uri": "https://localhost:8080/",
     "height": 187
    },
    "colab_type": "code",
    "id": "9L-77QQGw2zE",
    "outputId": "e63fd859-3155-4475-d733-ace0e791d008"
   },
   "outputs": [
    {
     "name": "stdout",
     "output_type": "stream",
     "text": [
      "epoch 1, train loss 0.7855786681175232, test loss 0.63691246509552\n",
      "epoch 2, train loss 0.5710914134979248, test loss 0.576055645942688\n",
      "epoch 3, train loss 0.5262321829795837, test loss 0.5373440980911255\n",
      "epoch 4, train loss 0.5003777742385864, test loss 0.5250235795974731\n",
      "epoch 5, train loss 0.4853460490703583, test loss 0.5281084775924683\n",
      "epoch 6, train loss 0.4732479155063629, test loss 0.5025325417518616\n",
      "epoch 7, train loss 0.46544626355171204, test loss 0.4885702133178711\n",
      "epoch 8, train loss 0.45750564336776733, test loss 0.4811631143093109\n",
      "epoch 9, train loss 0.45185115933418274, test loss 0.4790119230747223\n",
      "epoch 10, train loss 0.44688114523887634, test loss 0.4793454110622406\n"
     ]
    }
   ],
   "source": [
    "num_epochs = 10\n",
    "lr = 0.1\n",
    "\n",
    "trainer = torch.optim.SGD(net.parameters(), lr) \n",
    "\n",
    "for epoch in range(num_epochs): \n",
    "  train_loss_epoch = 0.0\n",
    "  net.train()\n",
    "  for X, y in train_iter:  \n",
    "    y_hat = net(X)\n",
    "    l = loss(y_hat, y)\n",
    "    train_loss_epoch += l\n",
    "    trainer.zero_grad() \n",
    "    l.backward() \n",
    "    trainer.step() \n",
    "  train_loss_epoch /= len(train_iter)\n",
    "  \n",
    "  net.eval()\n",
    "  with torch.no_grad():\n",
    "    test_loss_epoch = 0.0\n",
    "    for X_test, y_test in test_iter:\n",
    "      b_l = loss(net(X_test), y_test) \n",
    "      test_loss_epoch += b_l\n",
    "    test_loss_epoch /= len(test_iter)  \n",
    "  print('epoch {}, train loss {}, test loss {}'.format(epoch+1, train_loss_epoch, test_loss_epoch)) "
   ]
  },
  {
   "cell_type": "markdown",
   "metadata": {
    "colab_type": "text",
    "id": "po4aUnePw2zH"
   },
   "source": [
    "Note that in many cases, PyTorch takes specific precautions\n",
    "in addition to the most well-known tricks for ensuring numerical stability.\n",
    "This saves us from many common pitfalls that might befall us\n",
    "if we were to code all of our models from scratch."
   ]
  },
  {
   "cell_type": "markdown",
   "metadata": {
    "colab_type": "text",
    "id": "QrJH5iHZxbSY"
   },
   "source": [
    "**Exercise:** We will copy the code from above, and will place it in the cell below. Change the function below to compute the train and test accuracies.\n",
    "However, this time compute top5 accuracy, and return it for test data set."
   ]
  },
  {
   "cell_type": "code",
   "execution_count": 46,
   "metadata": {
    "colab": {
     "base_uri": "https://localhost:8080/",
     "height": 204
    },
    "colab_type": "code",
    "id": "nBIOtmXqw2zI",
    "outputId": "a93ee93e-3ba5-43e8-f02b-7c42b5f4a894"
   },
   "outputs": [
    {
     "name": "stdout",
     "output_type": "stream",
     "text": [
      "epoch 1, train loss 0.7457433938980103, test loss 0.5944547653198242, trainer accuracy 0.7593333333333333, Test top5 Accuracy 0.995\n",
      "epoch 2, train loss 0.5499647259712219, test loss 0.5520690083503723, trainer accuracy 0.8120166666666667, Test top5 Accuracy 0.9958994999999999\n",
      "epoch 3, train loss 0.5098927617073059, test loss 0.5181949138641357, trainer accuracy 0.8256833333333333, Test top5 Accuracy 0.99619958995\n",
      "epoch 4, train loss 0.4897765517234802, test loss 0.5053835511207581, trainer accuracy 0.8323666666666667, Test top5 Accuracy 0.995699619958995\n",
      "epoch 5, train loss 0.4757748544216156, test loss 0.506111741065979, trainer accuracy 0.8366666666666667, Test top5 Accuracy 0.9961995699619958\n",
      "epoch 6, train loss 0.4652721583843231, test loss 0.4917351305484772, trainer accuracy 0.8403166666666667, Test top5 Accuracy 0.9958996199569963\n",
      "epoch 7, train loss 0.45741215348243713, test loss 0.49237877130508423, trainer accuracy 0.8427666666666667, Test top5 Accuracy 0.9961995899619956\n",
      "epoch 8, train loss 0.4516715109348297, test loss 0.49457889795303345, trainer accuracy 0.8449666666666666, Test top5 Accuracy 0.9953996199589961\n",
      "epoch 9, train loss 0.44652822613716125, test loss 0.4867977499961853, trainer accuracy 0.8459166666666667, Test top5 Accuracy 0.9958995399619959\n",
      "epoch 10, train loss 0.44235870242118835, test loss 0.46625471115112305, trainer accuracy 0.848, Test top5 Accuracy 0.9959995899539961\n"
     ]
    },
    {
     "data": {
      "text/plain": "0.9959995899539961"
     },
     "execution_count": 46,
     "metadata": {},
     "output_type": "execute_result"
    }
   ],
   "source": [
    "net.apply(init_weights) # this line is to reset the weights of the network\n",
    "\n",
    "def good_num_epochs():\n",
    "  ## compute the top5 accuracy and return it\n",
    "  lr = 0.1\n",
    "  trainer = torch.optim.SGD(net.parameters(), lr)\n",
    "  num_epochs = 10\n",
    "  top5_acc_test = 0.0\n",
    "\n",
    "  for epoch in range(num_epochs):\n",
    "    train_loss_epoch = 0.0\n",
    "    train_acc_sum, n_train = 0, 0\n",
    "    net.train()\n",
    "    for X, y in train_iter:\n",
    "      y_hat = net(X)\n",
    "      l = loss(y_hat, y)\n",
    "      train_loss_epoch += l\n",
    "      trainer.zero_grad()\n",
    "      l.backward()\n",
    "      trainer.step()\n",
    "      train_acc_sum += (y_hat.argmax(dim=1) == y).sum().item()\n",
    "      n_train += y.size()[0]\n",
    "\n",
    "    train_loss_epoch /= len(train_iter)\n",
    "\n",
    "    net.eval()\n",
    "    with torch.no_grad():\n",
    "      test_loss_epoch = 0.0\n",
    "      n=0\n",
    "      y_hats = torch.tensor([]).long()\n",
    "      for X_test, y_test in test_iter:\n",
    "        y_hat = net(X_test)\n",
    "        n+=len(X_test)\n",
    "        probs = torch.argsort(y_hat,descending=True)\n",
    "        top5_acc_test += (probs[:,:5]==y_test.reshape(-1,1)).any(1).sum().item()\n",
    "        b_l = loss(y_hat, y_test)\n",
    "        test_loss_epoch += b_l\n",
    "      test_loss_epoch /= len(test_iter)\n",
    "      top5_acc_test=top5_acc_test/n\n",
    "\n",
    "\n",
    "    print('epoch {}, train loss {}, test loss {}, trainer accuracy {}, Test top5 Accuracy {}'.format(epoch+1, train_loss_epoch, test_loss_epoch, train_acc_sum/n_train, top5_acc_test))\n",
    "  ## end of change area\n",
    "  return top5_acc_test\n",
    "\n",
    "good_num_epochs()"
   ]
  },
  {
   "cell_type": "markdown",
   "metadata": {
    "colab_type": "text",
    "id": "V8_ma2FHESWY"
   },
   "source": [
    "### Evaluating the model"
   ]
  },
  {
   "cell_type": "markdown",
   "metadata": {
    "colab_type": "text",
    "id": "_1H37UZjESWY"
   },
   "source": [
    "\\begin{equation}\n",
    "\\text{accuracy} = \\frac{1}{N} \\text{# correctly classified}\n",
    "\\end{equation}"
   ]
  },
  {
   "cell_type": "markdown",
   "metadata": {
    "colab_type": "text",
    "id": "h8N7wNZOESWZ"
   },
   "source": [
    "#### Confusion matrix"
   ]
  },
  {
   "cell_type": "markdown",
   "metadata": {
    "colab_type": "text",
    "id": "SjJMinqHESWZ"
   },
   "source": [
    "|          | Predicted Positive | Predicted Negative |\n",
    "|----------| ------------------ |:------------------:|\n",
    "| **Positive** | True Positive ($TP$) | False Negative ($FN$)|\n",
    "| **Negative** | False Positive ($FP$)| True Negative ($TN$) |\n"
   ]
  },
  {
   "cell_type": "markdown",
   "metadata": {
    "colab_type": "text",
    "id": "0Xrw0B8QESWa"
   },
   "source": [
    "#### Trade-off between Sensitivity and Specificity"
   ]
  },
  {
   "cell_type": "markdown",
   "metadata": {
    "colab_type": "text",
    "id": "Ya2ib5iFESWa"
   },
   "source": [
    "\\begin{equation}\n",
    "\\text{sensitivity} = \\frac{TP}{TP + FN}\n",
    "\\end{equation}"
   ]
  },
  {
   "cell_type": "markdown",
   "metadata": {
    "colab_type": "text",
    "id": "b-0CDZxPESWb"
   },
   "source": [
    "\\begin{equation}\n",
    "\\text{specificity} = \\frac{TP}{TP + FP}\n",
    "\\end{equation}"
   ]
  },
  {
   "cell_type": "markdown",
   "metadata": {
    "colab_type": "text",
    "id": "Q_ODQFbKNvMH"
   },
   "source": [
    "#### Question on Confusion Matrix (TODO)\n",
    "\n",
    "\n",
    "\n"
   ]
  },
  {
   "cell_type": "markdown",
   "metadata": {
    "colab_type": "text",
    "id": "pLSEf4wGPh0J"
   },
   "source": [
    "**Exercise:** as you have noticed already, the Fashion-MNIST dataset offers multiple categories (classes), this is a multi-class classification problem. Another classification task would be binary classification between cats and dogs, for instance. Using Fashion-MNIST data, create a model that classifies between trousers and t-shirts only. This would cast the problem as a binary classification task.\n",
    "\n",
    "*Note:* you can use the same network architecture from above (with only one layer). The only difference is in the loss function you use, in pytorch. Because now the output of the model should be using \"Sigmoid\", instead of a \"Softmax\". \n",
    "\n",
    "Write a function that computes the following metrics on the *test set* of Fashion-MNIST using those two classes (trousers vs. t-shirts). Compute the true positive rate, false positive rate, true negative rate, false negative rate, precision, recall, sensitivity, specificity, f1-score, and accuracy. [Read more here](https://en.wikipedia.org/wiki/Sensitivity_and_specificity). The function should return a dictionary with all these values as entries (please fill them in as normal float numbers). \n"
   ]
  },
  {
   "cell_type": "code",
   "execution_count": 38,
   "metadata": {
    "colab": {},
    "colab_type": "code",
    "id": "BWrohgJtPhGj"
   },
   "outputs": [
    {
     "name": "stderr",
     "output_type": "stream",
     "text": [
      "/usr/local/lib/python3.6/dist-packages/torchvision/datasets/mnist.py:55: UserWarning: train_data has been renamed data\n",
      "  warnings.warn(\"train_data has been renamed data\")\n",
      "/usr/local/lib/python3.6/dist-packages/torchvision/datasets/mnist.py:60: UserWarning: test_data has been renamed data\n",
      "  warnings.warn(\"test_data has been renamed data\")\n"
     ]
    },
    {
     "ename": "RuntimeError",
     "evalue": "Caught RuntimeError in DataLoader worker process 0.\nOriginal Traceback (most recent call last):\n  File \"/usr/local/lib/python3.6/dist-packages/torch/utils/data/_utils/worker.py\", line 178, in _worker_loop\n    data = fetcher.fetch(index)\n  File \"/usr/local/lib/python3.6/dist-packages/torch/utils/data/_utils/fetch.py\", line 47, in fetch\n    return self.collate_fn(data)\n  File \"/usr/local/lib/python3.6/dist-packages/torch/utils/data/_utils/collate.py\", line 55, in default_collate\n    return torch.stack(batch, 0, out=out)\nRuntimeError: stack expects each tensor to be equal size, but got [12000, 28, 28] at entry 0 and [12000] at entry 1\n",
     "output_type": "error",
     "traceback": [
      "\u001B[0;31m---------------------------------------------------------------------------\u001B[0m",
      "\u001B[0;31mRuntimeError\u001B[0m                              Traceback (most recent call last)",
      "\u001B[0;32m<ipython-input-38-541f0c755f3b>\u001B[0m in \u001B[0;36m<module>\u001B[0;34m\u001B[0m\n\u001B[1;32m     72\u001B[0m   \u001B[0;31m## end of function\u001B[0m\u001B[0;34m\u001B[0m\u001B[0;34m\u001B[0m\u001B[0;34m\u001B[0m\u001B[0m\n\u001B[1;32m     73\u001B[0m   \u001B[0;32mreturn\u001B[0m \u001B[0moutput_metrics\u001B[0m\u001B[0;34m\u001B[0m\u001B[0;34m\u001B[0m\u001B[0m\n\u001B[0;32m---> 74\u001B[0;31m \u001B[0mtrousers_vs_t_shirts\u001B[0m\u001B[0;34m(\u001B[0m\u001B[0;34m)\u001B[0m\u001B[0;34m\u001B[0m\u001B[0;34m\u001B[0m\u001B[0m\n\u001B[0m",
      "\u001B[0;32m<ipython-input-38-541f0c755f3b>\u001B[0m in \u001B[0;36mtrousers_vs_t_shirts\u001B[0;34m()\u001B[0m\n\u001B[1;32m     52\u001B[0m       \u001B[0mtrain_loss_epoch\u001B[0m \u001B[0;34m=\u001B[0m \u001B[0;36m0.0\u001B[0m\u001B[0;34m\u001B[0m\u001B[0;34m\u001B[0m\u001B[0m\n\u001B[1;32m     53\u001B[0m       \u001B[0mnet\u001B[0m\u001B[0;34m.\u001B[0m\u001B[0mtrain\u001B[0m\u001B[0;34m(\u001B[0m\u001B[0;34m)\u001B[0m\u001B[0;34m\u001B[0m\u001B[0;34m\u001B[0m\u001B[0m\n\u001B[0;32m---> 54\u001B[0;31m       \u001B[0;32mfor\u001B[0m \u001B[0mX\u001B[0m\u001B[0;34m,\u001B[0m \u001B[0my\u001B[0m \u001B[0;32min\u001B[0m \u001B[0mtrain_iter\u001B[0m\u001B[0;34m:\u001B[0m\u001B[0;34m\u001B[0m\u001B[0;34m\u001B[0m\u001B[0m\n\u001B[0m\u001B[1;32m     55\u001B[0m           \u001B[0my_hat\u001B[0m \u001B[0;34m=\u001B[0m \u001B[0msigmoid\u001B[0m\u001B[0;34m(\u001B[0m\u001B[0mnet\u001B[0m\u001B[0;34m(\u001B[0m\u001B[0mX\u001B[0m\u001B[0;34m)\u001B[0m\u001B[0;34m)\u001B[0m\u001B[0;34m\u001B[0m\u001B[0;34m\u001B[0m\u001B[0m\n\u001B[1;32m     56\u001B[0m           \u001B[0ml\u001B[0m \u001B[0;34m=\u001B[0m \u001B[0mloss\u001B[0m\u001B[0;34m(\u001B[0m\u001B[0my_hat\u001B[0m\u001B[0;34m,\u001B[0m \u001B[0my\u001B[0m\u001B[0;34m)\u001B[0m\u001B[0;34m\u001B[0m\u001B[0;34m\u001B[0m\u001B[0m\n",
      "\u001B[0;32m/usr/local/lib/python3.6/dist-packages/torch/utils/data/dataloader.py\u001B[0m in \u001B[0;36m__next__\u001B[0;34m(self)\u001B[0m\n\u001B[1;32m    343\u001B[0m \u001B[0;34m\u001B[0m\u001B[0m\n\u001B[1;32m    344\u001B[0m     \u001B[0;32mdef\u001B[0m \u001B[0m__next__\u001B[0m\u001B[0;34m(\u001B[0m\u001B[0mself\u001B[0m\u001B[0;34m)\u001B[0m\u001B[0;34m:\u001B[0m\u001B[0;34m\u001B[0m\u001B[0;34m\u001B[0m\u001B[0m\n\u001B[0;32m--> 345\u001B[0;31m         \u001B[0mdata\u001B[0m \u001B[0;34m=\u001B[0m \u001B[0mself\u001B[0m\u001B[0;34m.\u001B[0m\u001B[0m_next_data\u001B[0m\u001B[0;34m(\u001B[0m\u001B[0;34m)\u001B[0m\u001B[0;34m\u001B[0m\u001B[0;34m\u001B[0m\u001B[0m\n\u001B[0m\u001B[1;32m    346\u001B[0m         \u001B[0mself\u001B[0m\u001B[0;34m.\u001B[0m\u001B[0m_num_yielded\u001B[0m \u001B[0;34m+=\u001B[0m \u001B[0;36m1\u001B[0m\u001B[0;34m\u001B[0m\u001B[0;34m\u001B[0m\u001B[0m\n\u001B[1;32m    347\u001B[0m         \u001B[0;32mif\u001B[0m \u001B[0mself\u001B[0m\u001B[0;34m.\u001B[0m\u001B[0m_dataset_kind\u001B[0m \u001B[0;34m==\u001B[0m \u001B[0m_DatasetKind\u001B[0m\u001B[0;34m.\u001B[0m\u001B[0mIterable\u001B[0m \u001B[0;32mand\u001B[0m\u001B[0;31m \u001B[0m\u001B[0;31m\\\u001B[0m\u001B[0;34m\u001B[0m\u001B[0;34m\u001B[0m\u001B[0m\n",
      "\u001B[0;32m/usr/local/lib/python3.6/dist-packages/torch/utils/data/dataloader.py\u001B[0m in \u001B[0;36m_next_data\u001B[0;34m(self)\u001B[0m\n\u001B[1;32m    854\u001B[0m             \u001B[0;32melse\u001B[0m\u001B[0;34m:\u001B[0m\u001B[0;34m\u001B[0m\u001B[0;34m\u001B[0m\u001B[0m\n\u001B[1;32m    855\u001B[0m                 \u001B[0;32mdel\u001B[0m \u001B[0mself\u001B[0m\u001B[0;34m.\u001B[0m\u001B[0m_task_info\u001B[0m\u001B[0;34m[\u001B[0m\u001B[0midx\u001B[0m\u001B[0;34m]\u001B[0m\u001B[0;34m\u001B[0m\u001B[0;34m\u001B[0m\u001B[0m\n\u001B[0;32m--> 856\u001B[0;31m                 \u001B[0;32mreturn\u001B[0m \u001B[0mself\u001B[0m\u001B[0;34m.\u001B[0m\u001B[0m_process_data\u001B[0m\u001B[0;34m(\u001B[0m\u001B[0mdata\u001B[0m\u001B[0;34m)\u001B[0m\u001B[0;34m\u001B[0m\u001B[0;34m\u001B[0m\u001B[0m\n\u001B[0m\u001B[1;32m    857\u001B[0m \u001B[0;34m\u001B[0m\u001B[0m\n\u001B[1;32m    858\u001B[0m     \u001B[0;32mdef\u001B[0m \u001B[0m_try_put_index\u001B[0m\u001B[0;34m(\u001B[0m\u001B[0mself\u001B[0m\u001B[0;34m)\u001B[0m\u001B[0;34m:\u001B[0m\u001B[0;34m\u001B[0m\u001B[0;34m\u001B[0m\u001B[0m\n",
      "\u001B[0;32m/usr/local/lib/python3.6/dist-packages/torch/utils/data/dataloader.py\u001B[0m in \u001B[0;36m_process_data\u001B[0;34m(self, data)\u001B[0m\n\u001B[1;32m    879\u001B[0m         \u001B[0mself\u001B[0m\u001B[0;34m.\u001B[0m\u001B[0m_try_put_index\u001B[0m\u001B[0;34m(\u001B[0m\u001B[0;34m)\u001B[0m\u001B[0;34m\u001B[0m\u001B[0;34m\u001B[0m\u001B[0m\n\u001B[1;32m    880\u001B[0m         \u001B[0;32mif\u001B[0m \u001B[0misinstance\u001B[0m\u001B[0;34m(\u001B[0m\u001B[0mdata\u001B[0m\u001B[0;34m,\u001B[0m \u001B[0mExceptionWrapper\u001B[0m\u001B[0;34m)\u001B[0m\u001B[0;34m:\u001B[0m\u001B[0;34m\u001B[0m\u001B[0;34m\u001B[0m\u001B[0m\n\u001B[0;32m--> 881\u001B[0;31m             \u001B[0mdata\u001B[0m\u001B[0;34m.\u001B[0m\u001B[0mreraise\u001B[0m\u001B[0;34m(\u001B[0m\u001B[0;34m)\u001B[0m\u001B[0;34m\u001B[0m\u001B[0;34m\u001B[0m\u001B[0m\n\u001B[0m\u001B[1;32m    882\u001B[0m         \u001B[0;32mreturn\u001B[0m \u001B[0mdata\u001B[0m\u001B[0;34m\u001B[0m\u001B[0;34m\u001B[0m\u001B[0m\n\u001B[1;32m    883\u001B[0m \u001B[0;34m\u001B[0m\u001B[0m\n",
      "\u001B[0;32m/usr/local/lib/python3.6/dist-packages/torch/_utils.py\u001B[0m in \u001B[0;36mreraise\u001B[0;34m(self)\u001B[0m\n\u001B[1;32m    393\u001B[0m             \u001B[0;31m# (https://bugs.python.org/issue2651), so we work around it.\u001B[0m\u001B[0;34m\u001B[0m\u001B[0;34m\u001B[0m\u001B[0;34m\u001B[0m\u001B[0m\n\u001B[1;32m    394\u001B[0m             \u001B[0mmsg\u001B[0m \u001B[0;34m=\u001B[0m \u001B[0mKeyErrorMessage\u001B[0m\u001B[0;34m(\u001B[0m\u001B[0mmsg\u001B[0m\u001B[0;34m)\u001B[0m\u001B[0;34m\u001B[0m\u001B[0;34m\u001B[0m\u001B[0m\n\u001B[0;32m--> 395\u001B[0;31m         \u001B[0;32mraise\u001B[0m \u001B[0mself\u001B[0m\u001B[0;34m.\u001B[0m\u001B[0mexc_type\u001B[0m\u001B[0;34m(\u001B[0m\u001B[0mmsg\u001B[0m\u001B[0;34m)\u001B[0m\u001B[0;34m\u001B[0m\u001B[0;34m\u001B[0m\u001B[0m\n\u001B[0m",
      "\u001B[0;31mRuntimeError\u001B[0m: Caught RuntimeError in DataLoader worker process 0.\nOriginal Traceback (most recent call last):\n  File \"/usr/local/lib/python3.6/dist-packages/torch/utils/data/_utils/worker.py\", line 178, in _worker_loop\n    data = fetcher.fetch(index)\n  File \"/usr/local/lib/python3.6/dist-packages/torch/utils/data/_utils/fetch.py\", line 47, in fetch\n    return self.collate_fn(data)\n  File \"/usr/local/lib/python3.6/dist-packages/torch/utils/data/_utils/collate.py\", line 55, in default_collate\n    return torch.stack(batch, 0, out=out)\nRuntimeError: stack expects each tensor to be equal size, but got [12000, 28, 28] at entry 0 and [12000] at entry 1\n"
     ]
    }
   ],
   "source": [
    "def trousers_vs_t_shirts():  \n",
    "  output_metrics = dict()\n",
    "  output_metrics[\"true_positive_rate\"] = None\n",
    "  output_metrics[\"false_positive_rate\"] = None\n",
    "  output_metrics[\"true_negative_rate\"] = None\n",
    "  output_metrics[\"false_negative_rate\"] = None\n",
    "  output_metrics[\"precision\"] = None\n",
    "  output_metrics[\"recall\"] = None\n",
    "  output_metrics[\"sensitivity\"] = None\n",
    "  output_metrics[\"specificity\"] = None\n",
    "  output_metrics[\"f1_score\"] = None\n",
    "  output_metrics[\"accuracy\"] = None  \n",
    "  np.random.seed(0)\n",
    "  torch.manual_seed(0)\n",
    "  \n",
    "  ## write your code here (remember to: 1. create a network with a sigmoid output layer. 2. fill in the correct values in the output_metrics dictionary)\n",
    "\n",
    "  # x_train=mnist_train.train_data[(mnist_train.targets==0)|(mnist_train.targets==1)]\n",
    "  # y_train=mnist_train.targets[(mnist_train.targets==0)|(mnist_train.targets==1)]\n",
    "  # x_test=mnist_test.test_data[(mnist_test.targets==0)|(mnist_test.targets==1)]\n",
    "  # y_test=mnist_test.targets[(mnist_test.targets==0)|(mnist_test.targets==1)]\n",
    "  new_train_data=[mnist_train.train_data[(mnist_train.targets==0)|(mnist_train.targets==1)],mnist_train.targets[(mnist_train.targets==0)|(mnist_train.targets==1)]]\n",
    "  new_test_data= [mnist_test.test_data[(mnist_test.targets==0)|(mnist_test.targets==1)],mnist_test.targets[(mnist_test.targets==0)|(mnist_test.targets==1)]]\n",
    "  num_workers = 4\n",
    "\n",
    "  train_iter = DataLoader(new_train_data, batch_size, shuffle=True, num_workers=num_workers)\n",
    "  test_iter = DataLoader(new_test_data, batch_size, shuffle=False, num_workers=num_workers)\n",
    "\n",
    "  class Reshape(torch.nn.Module):\n",
    "    def forward(self, x):\n",
    "        return x.view(-1,784)\n",
    "\n",
    "  net = nn.Sequential(Reshape(), nn.Linear(784, 1))\n",
    "  def init_weights(m):\n",
    "    if type(m) == nn.Linear:\n",
    "        torch.nn.init.normal_(m.weight, std=0.01)\n",
    "\n",
    "  net.apply(init_weights)\n",
    "  loss = nn.BCELoss()\n",
    "  sigmoid = nn.Sigmoid()\n",
    "\n",
    "  W = normal.Normal(loc = 0, scale = 0.01).sample((num_inputs, num_outputs))\n",
    "  b = torch.zeros(num_outputs)\n",
    "  W.requires_grad_(True)\n",
    "  b.requires_grad_(True)\n",
    "\n",
    "  num_epochs = 10\n",
    "  lr = 0.1\n",
    "  trainer = torch.optim.SGD(net.parameters(), lr)\n",
    "\n",
    "  for epoch in range(num_epochs):\n",
    "      train_loss_epoch = 0.0\n",
    "      net.train()\n",
    "      for X, y in train_iter:\n",
    "          y_hat = sigmoid(net(X))\n",
    "          l = loss(y_hat, y)\n",
    "          train_loss_epoch += l\n",
    "          trainer.zero_grad()\n",
    "          l.backward()\n",
    "          trainer.step()\n",
    "      train_loss_epoch /= len(train_iter)\n",
    "      net.eval()\n",
    "      with torch.no_grad():\n",
    "          test_loss_epoch = 0.0\n",
    "          for X_test, y_test in test_iter:\n",
    "              b_l = loss(sigmoid(net(X_test)), y_test)\n",
    "              test_loss_epoch += b_l\n",
    "          test_loss_epoch /= len(test_iter)\n",
    "  print('epoch {}, train loss {}, test loss {}'.format(epoch+1, train_loss_epoch, test_loss_epoch))\n",
    "\n",
    "\n",
    "  ## end of function\n",
    "  return output_metrics\n",
    "trousers_vs_t_shirts()"
   ]
  }
 ],
 "metadata": {
  "colab": {
   "collapsed_sections": [
    "84GPYmu7w2yw",
    "j3iv3YPDw2zD"
   ],
   "name": "week4_804983.ipynb",
   "provenance": []
  },
  "kernelspec": {
   "display_name": "PyCharm (MachineLearningLabs)",
   "language": "python",
   "name": "pycharm-a1440e1a"
  }
 },
 "nbformat": 4,
 "nbformat_minor": 1
}