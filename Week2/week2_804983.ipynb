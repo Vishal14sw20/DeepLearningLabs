{
  "nbformat": 4,
  "nbformat_minor": 0,
  "metadata": {
    "kernelspec": {
      "display_name": "Python 3",
      "language": "python",
      "name": "python3"
    },
    "language_info": {
      "codemirror_mode": {
        "name": "ipython",
        "version": 3
      },
      "file_extension": ".py",
      "mimetype": "text/x-python",
      "name": "python",
      "nbconvert_exporter": "python",
      "pygments_lexer": "ipython3",
      "version": "3.7.4"
    },
    "colab": {
      "name": "week2_804983.ipynb",
      "provenance": [],
      "collapsed_sections": [
        "rPbFM4OLV688"
      ]
    }
  },
  "cells": [
    {
      "cell_type": "markdown",
      "metadata": {
        "id": "aEyj1dRAV68e",
        "colab_type": "text"
      },
      "source": [
        "# Linear Regression\n",
        "\n",
        "\n",
        "To start off, we will introduce the problem of regression.\n",
        "This is the task of predicting a *real valued target* $y$\n",
        "given a data point $\\mathbf{x}$.\n",
        "Regression problems are common in practice, arising\n",
        "whenever we want to predict a continuous numerical value.\n",
        "Some examples of regression problems include\n",
        "predicting house prices, stock prices,\n",
        "length of stay (for patients in the hospital),\n",
        "tomorrow's temperature, demand forecasting (for retail sales), and many more.\n",
        "Note that not every prediction problem is a regression problem.\n",
        "In subsequent sections we will discuss classification problems,\n",
        "where our predictions are discrete categories.\n",
        "\n",
        "## Basic Elements of Linear Regression\n",
        "\n",
        "Linear regression, which dates to Gauss and Legendre,\n",
        "is perhaps the simplest, and by far the most popular approach\n",
        "to solving regression problems.\n",
        "What makes linear regression *linear* is that\n",
        "we assume that the output truly can be expressed\n",
        "as a *linear* combination of the input features.\n",
        "\n",
        "\n",
        "### Linear Model\n",
        "\n",
        "To keep things simple, we will start with running example\n",
        "in which we consider the problem\n",
        "of estimating the price of a house (e.g. in dollars)\n",
        "based on area (e.g. in square feet) and age (e.g. in years).\n",
        "More formally, the assumption of linearity suggests\n",
        "that our model can be expressed in the following form:\n",
        "\n",
        "$$\\mathrm{price} = w_{\\mathrm{area}} \\cdot \\mathrm{area} + w_{\\mathrm{age}} \\cdot \\mathrm{age} + b$$\n",
        "\n",
        "In economics papers, it is common for authors to write out linear models in this format with a gigantic equation that spans multiple lines containing terms for every single feature.\n",
        "For the high-dimensional data that we often address in machine learning,\n",
        "writing out the entire model can be tedious.\n",
        "In these cases, we will find it more convenient to use linear algebra notation.\n",
        "In the case of $d$ variables, we could express our prediction $\\hat{y}$ as follows:\n",
        "\n",
        "$$\\hat{y} = w_1 \\cdot x_1 + ... + w_d \\cdot x_d + b$$\n",
        "\n",
        "or alternatively, collecting all features into a single vector $\\mathbf{x}$ and all parameters into a vector $\\mathbf{w}$, we can express our linear model as $\\hat{y} = \\mathbf{w}^T \\mathbf{x} + b$.\n",
        "\n",
        "Above, the vector $\\mathbf{x}$ corresponds to a single data point.\n",
        "Commonly, we will want notation to refer to\n",
        "the entire dataset of all input data points.\n",
        "This matrix, often denoted using a capital letter $X$,\n",
        "is called the *design matrix* and contains one row for every example,\n",
        "and one column for every feature.\n",
        "\n",
        "Given a collection of data points $X$ and a vector\n",
        "containing the corresponding target values $\\mathbf{y}$,\n",
        "the goal of linear regression is to find\n",
        "the *weight* vector $w$ and bias term $b$\n",
        "(also called an *offset* or *intercept*)\n",
        "that associates each data point $\\mathbf{x}_i$\n",
        "with an approximation $\\hat{y}_i$ of its corresponding label $y_i$.\n",
        "\n",
        "Expressed in terms of a single data point,\n",
        "this gives us the expression (same as above)\n",
        "$\\hat{y} = \\mathbf{w}^\\top \\mathbf{x} + b$.\n",
        "\n",
        "Finally, for a collection of data points $\\mathbf{X}$,\n",
        "the predictions $\\hat{\\mathbf{y}}$ can be expressed via the matrix-vector product:\n",
        "\n",
        "$${\\hat{\\mathbf{y}}} = X \\mathbf{w} + b$$\n",
        "\n",
        "Even if we believe that the best model\n",
        "to relate $\\mathbf{x}$ and $y$ is linear,\n",
        "it's unlikely that we'd find data where $y$\n",
        "lines up exactly as a linear function of $\\mathbf{x}$.\n",
        "For example, both the target values $y$ and the features $X$\n",
        "might be subject to some amount of measurement error.\n",
        "Thus even when we believe that the linearity assumption holds,\n",
        "we will typically incorporate a noise term to account for such errors.\n",
        "\n",
        "Before we can go about solving for the best setting of the parameters $w$ and $b$, we will need two more things:\n",
        "(i) some way to measure the quality of the current model\n",
        "and (ii) some way to manipulate the model to improve its quality.\n",
        "\n",
        "### Training Data\n",
        "\n",
        "The first thing that we need is training data.\n",
        "Sticking with our running example, we'll need some collection of examples\n",
        "for which we know both the actual selling price of each house\n",
        "as well as their corresponding area and age.\n",
        "Our goal is to identify model parameters\n",
        "that minimize the error between the predicted price and the real price.\n",
        "In the terminology of machine learning, the data set is called a ‘training data’ or ‘training set’, a house (often a house and its price) here comprises one ‘sample’, and its actual selling price is called a ‘label’.\n",
        "The two factors used to predict the label\n",
        "are called ‘features’ or 'covariates'.\n",
        "\n",
        "Typically, we will use $n$ to denote the number of samples in our dataset.\n",
        "We index the samples by $i$, denoting each input data point as $x^{(i)} = [x_1^{(i)}, x_2^{(i)}]$ and the corresponding label as $y^{(i)}$.\n",
        "\n",
        "### Loss Function\n",
        "\n",
        "In model training, we need to measure the error\n",
        "between the predicted value and the real value of the price.\n",
        "Usually, we will choose a non-negative number as the error.\n",
        "The smaller the value, the smaller the error.\n",
        "A common choice is the square function.\n",
        "For given parameters $\\mathbf{w}$ and $b$,\n",
        "we can express the error of our prediction on a given a sample as follows:\n",
        "\n",
        "$$l^{(i)}(\\mathbf{w}, b) = \\frac{1}{2} \\left(\\hat{y}^{(i)} - y^{(i)}\\right)^2,$$\n",
        "\n",
        "The constant $1/2$ is just for mathematical convenience,\n",
        "ensuring that after we take the derivative of the loss,\n",
        "the constant coefficient will be $1$.\n",
        "The smaller the error, the closer the predicted price is to the actual price, and when the two are equal, the error will be zero.\n",
        "\n",
        "Since the training dataset is given to us, and thus out of our control,\n",
        "the error is only a function of the model parameters.\n",
        "In machine learning, we call the function that measures the error the ‘loss function’.\n",
        "The squared error function used here is commonly referred to as ‘square loss’.\n",
        "\n",
        "To make things a bit more concrete, consider the example below where we plot a regression problem for a one-dimensional case, e.g. for a model where house prices depend only on area.\n",
        "\n",
        "![alt text](https://drive.google.com/uc?id=1ago9T6RAYLHwLZ-u6w41qba95RlLP-_z)\n"
      ]
    },
    {
      "cell_type": "markdown",
      "metadata": {
        "id": "rEAYVNOFV68o",
        "colab_type": "text"
      },
      "source": [
        "Linear regression is a single-layer neural network. \n",
        "\n",
        "As you can see, large differences between estimates $\\hat{y}^{(i)}$ and observations $y^{(i)}$ lead to even larger contributions in terms of the loss, due to the quadratic dependence. To measure the quality of a model on the entire dataset, we can simply average the losses on the training set.\n",
        "\n",
        "$$L(\\mathbf{w}, b) =\\frac{1}{n}\\sum_{i=1}^n l^{(i)}(\\mathbf{w}, b) =\\frac{1}{n} \\sum_{i=1}^n \\frac{1}{2}\\left(\\mathbf{w}^\\top \\mathbf{x}^{(i)} + b - y^{(i)}\\right)^2.$$\n",
        "\n",
        "When training the model, we want to find parameters ($\\mathbf{w}^*, b^*$) that minimize the average loss across all training samples:\n",
        "\n",
        "$$\\mathbf{w}^*, b^* = \\operatorname*{argmin}_{\\mathbf{w}, b}\\  L(\\mathbf{w}, b).$$\n",
        "\n",
        "\n",
        "### Analytic Solution\n",
        "\n",
        "Linear regression happens to be an unusually simple optimization problem.\n",
        "Unlike nearly every other model that we will encounter in this book,\n",
        "linear regression can be solved easily with a simple formula,\n",
        "yielding a global optimum.\n",
        "To start we can subsume the bias $b$ into the parameter $\\mathbf{w}$\n",
        "by appending a column to the design matrix consisting of all $1s$.\n",
        "Then our prediction problem is to minimize $||\\mathbf{y} - X\\mathbf{w}||$.\n",
        "Because this expression has a quadratic form it is clearly convex,\n",
        "and so long as the problem is not degenerate\n",
        "(our features are linearly independent), it is strictly convex.\n",
        "\n",
        "Thus there is just one global critical point on the loss surface\n",
        "corresponding to the global minimum.\n",
        "Taking the derivative of the loss with respect to $\\mathbf{w}$\n",
        "and setting it equal to 0 gives the analytic solution:\n",
        "\n",
        "$$\\mathbf{w}^* = (X^T X)^{-1}X^T y$$\n",
        "\n",
        "While simple problems like linear regression may admit analytic solutions,\n",
        "you should not get used to such good fortune.\n",
        "Although analytic solutions allow for nice mathematical analysis,\n",
        "the requirement of an analytic solution confines one to\n",
        "an restrictive set of models that would exclude all of deep learning.\n",
        "\n",
        "**Exercise:** Implement a function that computes and returns the list of optimal weights w* using the analytic solution formula. (Hint: inputs `X,y` are `numpy` arrays; you can doublecheck your answers by looking at shapes of X, w and y)"
      ]
    },
    {
      "cell_type": "code",
      "metadata": {
        "id": "hnEl9Q0jJabZ",
        "colab_type": "code",
        "outputId": "8dac6671-3053-42f6-84de-d711848f91f9",
        "colab": {
          "base_uri": "https://localhost:8080/",
          "height": 34
        }
      },
      "source": [
        "import numpy as np\n",
        "\n",
        "\n",
        "def analytic_weights(X, y):\n",
        "    ## write your code here\n",
        "    X_transpose = X.transpose()\n",
        "    multiplication = X.dot(X_transpose)\n",
        "    inverse = np.linalg.inv(multiplication)\n",
        "    final = inverse.dot(X_transpose)\n",
        "    w_star = final.dot(y)  \n",
        "    return w_star\n",
        "\n",
        "    ## end of function\n",
        "\n",
        "X = np.array([[7, 8, 67], [3, 4, 23], [4, 54, 6]])\n",
        "y = np.array([73, 45, 87])\n",
        "w_star =analytic_weights(X,y)\n",
        "\n",
        "X.shape , y.shape , w_star.shape , w_star"
      ],
      "execution_count": 0,
      "outputs": [
        {
          "output_type": "execute_result",
          "data": {
            "text/plain": [
              "((3, 3), (3,), (3,), array([-6422.54157062, 18785.85908716,  -449.10565769]))"
            ]
          },
          "metadata": {
            "tags": []
          },
          "execution_count": 10
        }
      ]
    },
    {
      "cell_type": "markdown",
      "metadata": {
        "id": "TtXSXktLJbDv",
        "colab_type": "text"
      },
      "source": [
        "\n",
        "### Gradient descent\n",
        "\n",
        "Even in cases where we cannot solve the models analytically,\n",
        "and even when the loss surfaces are high-dimensional and nonconvex,\n",
        "it turns out that we can still make progress.\n",
        "Moreover, when those difficult-to-optimize models are sufficiently superior for the task at hand, figuring out how to train them is well worth the trouble.\n",
        "\n",
        "The key trick behind nearly all of deep learning\n",
        "and that we will repeatedly throughout this book\n",
        "is to reduce the error gradually by iteratively updating the parameters,\n",
        "each step moving the parameters in the direction\n",
        "that incrementally lowers the loss function.\n",
        "This algorithm is called gradient descent.\n",
        "On convex loss surfaces it will eventually converge to a global minimum,\n",
        "and while the same can't be said for nonconvex surfaces,\n",
        "it will at least lead towards a (hopefully good) local minimum.\n",
        "\n",
        "The most naive application of gradient descent consists of taking the derivative of the true loss, which is an average of the losses computed on every single example in the dataset. In practice, this can be extremely slow. We must pass over the entire dataset before making a single update.\n",
        "Thus, we'll often settle for sampling a random mini-batch\n",
        "of examples every time we need to computer the update,\n",
        "a variant called *stochastic gradient descent*.\n",
        "\n",
        "In each iteration, we first randomly and uniformly sample a mini-batch $\\mathcal{B}$ consisting of a fixed number of training data examples.\n",
        "We then compute the derivative (gradient) of the average loss on the mini batch with regard to the model parameters.\n",
        "Finally, the product of this result and a predetermined step size $\\eta > 0$ are used to update the parameters in the direction that lowers the loss.\n",
        "\n",
        "We can express the update mathematically as follows ($\\partial$ denotes the partial derivative):\n",
        "\n",
        "$$(\\mathbf{w},b) \\leftarrow (\\mathbf{w},b) - \\frac{\\eta}{|\\mathcal{B}|} \\sum_{i \\in \\mathcal{B}} \\partial_{(\\mathbf{w},b)} l^{(i)}(\\mathbf{w},b)$$\n",
        "\n",
        "\n",
        "To summarize, steps of the algorithm are the following:\n",
        "(i) we initialize the values of the model parameters, typically at random;\n",
        "(ii) we iterate over the data many times,\n",
        "updating the parameters in each by moving the parameters in the direction of the negative gradient, as calculated on a random minibatch of data.\n",
        "\n",
        "\n",
        "For quadratic losses and linear functions we can write this out explicitly as follows. Note that $\\mathbf{w}$ and $\\mathbf{x}$ are vectors. Here the more elegant vector notation makes the math much more readable than expressing things in terms of coefficients, say $w_1, w_2, \\ldots w_d$.\n",
        "\n",
        "$$\n",
        "\\begin{aligned}\n",
        "\\mathbf{w} &\\leftarrow \\mathbf{w} -   \\frac{\\eta}{|\\mathcal{B}|} \\sum_{i \\in \\mathcal{B}} \\partial_{\\mathbf{w}} l^{(i)}(\\mathbf{w}, b) && =\n",
        "w - \\frac{\\eta}{|\\mathcal{B}|} \\sum_{i \\in \\mathcal{B}} \\mathbf{x}^{(i)} \\left(\\mathbf{w}^\\top \\mathbf{x}^{(i)} + b - y^{(i)}\\right),\\\\\n",
        "b &\\leftarrow b -  \\frac{\\eta}{|\\mathcal{B}|} \\sum_{i \\in \\mathcal{B}} \\partial_b l^{(i)}(\\mathbf{w}, b)  && =\n",
        "b - \\frac{\\eta}{|\\mathcal{B}|} \\sum_{i \\in \\mathcal{B}} \\left(\\mathbf{w}^\\top \\mathbf{x}^{(i)} + b - y^{(i)}\\right).\n",
        "\\end{aligned}\n",
        "$$\n",
        "\n",
        "In the above equation $|\\mathcal{B}|$ represents the number of samples (batch size) in each mini-batch, $\\eta$ is referred to as ‘learning rate’ and takes a positive number. It should be emphasized that the values of the batch size and learning rate are set somewhat manually and are typically not learned through model training. Therefore, they are referred to as *hyper-parameters*. What we usually call *tuning hyper-parameters* refers to the adjustment of these terms. In the worst case this is performed through repeated trial and error until the appropriate hyper-parameters are found. A better approach is to learn these as parts of model training. This is an advanced topic and we do not cover them here for the sake of simplicity.\n",
        "\n",
        "### Model Prediction\n",
        "\n",
        "After completing the training process, we record the estimated model parameters, denoted $\\hat{\\mathbf{w}}, \\hat{b}$\n",
        "(in general the \"hat\" symbol denotes estimates).\n",
        "Note that the parameters that we learn via gradient descent\n",
        "are not exactly equal to the true minimizers of the loss on the training set,\n",
        "that's because gradient descent converges slowly to a local minimum but does not achieve it exactly.\n",
        "Moreover if the problem has multiple local minimum, we may not necessarily achieve the lowest minimum.\n",
        "Fortunately, for deep neural networks, finding parameters that minimize the loss *on training data* is seldom a significant problem. The more formidable task is to find parameters that will achieve low loss on data that we have not seen before, a challenge called *generalization*. We return to these topics throughout the book.\n",
        "\n",
        "Given the learned linear regression model $\\hat{\\mathbf{w}}^\\top x + \\hat{b}$, we can now estimate the price of any house outside the training data set with area (square feet) as $x_1$ and house age (year) as $x_2$. Here, estimation also referred to as ‘model prediction’ or ‘model inference’.\n",
        "\n",
        "Note that calling this step 'inference' is a misnomer,\n",
        "but has become standard jargon in deep learning.\n",
        "In statistics, 'inference' means estimating parameters\n",
        "and outcomes based on other data.\n",
        "This misuse of terminology in deep learning\n",
        "can be a source of confusion when talking to statisticians.\n",
        "\n",
        "\n",
        "## From Linear Regression to Deep Networks\n",
        "\n",
        "So far we only talked about linear functions. While neural networks cover a much richer family of models, we can begin thinking of the linear model as a neural network by expressing it the language of neural networks. To begin, let's start by rewriting things in a 'layer' notation.\n",
        "\n",
        "### Neural Network Diagram\n",
        "\n",
        "Commonly, deep learning practitioners represent models visually using neural network diagrams. In Figure 3.1, we represent linear regression with a neural network diagram. The diagram shows the connectivity among the inputs and output, but does not depict the weights or biases (which are given implicitly).\n",
        "\n",
        "![alt text](https://drive.google.com/uc?id=1-8TFMQ8pA1p4fpRTILCFXv_3X5a5RkST)\n"
      ]
    },
    {
      "cell_type": "markdown",
      "metadata": {
        "id": "FzmFE2UnV68t",
        "colab_type": "text"
      },
      "source": [
        "Linear regression is a single-layer neural network.\n",
        "\n",
        "In the above network, the inputs are $x_1, x_2, \\ldots x_d$.\n",
        "Sometimes the number of inputs are referred to as the feature dimension.\n",
        "For linear regression models, we act upon $d$ inputs and output $1$ value.\n",
        "Because there is just a single computed neuron (node) in the graph,\n",
        "we can think of linear models as neural networks consisting of just a single neuron. Since all inputs are connected to all outputs (in this case it's just one), this layer can also be regarded as an instance of a *fully-connected layer*, also commonly called a *dense layer*.\n",
        "\n",
        "### Biology\n",
        "\n",
        "Neural networks derive their name from their inspirations in neuroscience.\n",
        "Although linear regression predates computation neuroscience,\n",
        "many of the models we subsequently discuss truly owe to neural inspiration.\n",
        "To understand the neural inspiration for artificial neural networks\n",
        "it is worth while considering the basic structure of a neuron.\n",
        "For the purpose of the analogy it is sufficient to consider the *dendrites*\n",
        "(input terminals), the *nucleus* (CPU), the *axon* (output wire),\n",
        "and the *axon terminals* (output terminals)\n",
        "which connect to other neurons via *synapses*.\n",
        "\n",
        "![alt text](https://drive.google.com/uc?id=1S8LylGxrv-AZDmdSf3QFs8zp7OimhNzF)"
      ]
    },
    {
      "cell_type": "markdown",
      "metadata": {
        "id": "TPGmq-SwV68y",
        "colab_type": "text"
      },
      "source": [
        "The real neuron\n",
        "\n",
        "Information $x_i$ arriving from other neurons (or environmental sensors such as the retina) is received in the dendrites. In particular, that information is weighted by *synaptic weights* $w_i$ which determine how to respond to the inputs (e.g. activation or inhibition via $x_i w_i$). All this is aggregated in the nucleus $y = \\sum_i x_i w_i + b$, and this information is then sent for further processing in the axon $y$, typically after some nonlinear processing via $\\sigma(y)$. From there it either reaches its destination (e.g. a muscle) or is fed into another neuron via its dendrites.\n",
        "\n",
        "Brain *structures* vary significantly. Some look (to us) rather arbitrary whereas others have a regular structure. For example, the visual system of many insects is consistent across members of a species. The analysis of such structures has often inspired neuroscientists to propose new architectures, and in some cases, this has been successful. However, much research in artificial neural networks has little to do with any direct inspiration in neuroscience, just as although airplanes are *inspired* by birds, the study of orninthology hasn't been the primary driver of aeronautics innovaton in the last century. Equal amounts of inspiration these days comes from mathematics, statistics, and computer science.\n",
        "\n",
        "### Vectorization for Speed\n",
        "\n",
        "In model training or prediction, we often use vector calculations and process multiple observations at the same time. To illustrate why this matters, consider two methods of adding vectors. We begin by creating two 10000 dimensional ones first."
      ]
    },
    {
      "cell_type": "code",
      "metadata": {
        "attributes": {
          "classes": [],
          "id": "",
          "n": "1"
        },
        "id": "k-fCAZItV68y",
        "colab_type": "code",
        "outputId": "a6e3c35c-38ff-4c29-bf0a-91705e39facd",
        "colab": {
          "base_uri": "https://localhost:8080/",
          "height": 34
        }
      },
      "source": [
        "import torch\n",
        "from time import time\n",
        "\n",
        "a = torch.ones(10000)\n",
        "b = torch.ones(10000)\n",
        "a"
      ],
      "execution_count": 0,
      "outputs": [
        {
          "output_type": "execute_result",
          "data": {
            "text/plain": [
              "tensor([1., 1., 1.,  ..., 1., 1., 1.])"
            ]
          },
          "metadata": {
            "tags": []
          },
          "execution_count": 12
        }
      ]
    },
    {
      "cell_type": "markdown",
      "metadata": {
        "id": "UiHMziNAV681",
        "colab_type": "text"
      },
      "source": [
        "One way to add vectors is to add them one coordinate at a time using a for loop."
      ]
    },
    {
      "cell_type": "code",
      "metadata": {
        "attributes": {
          "classes": [],
          "id": "",
          "n": "2"
        },
        "id": "FNbWwzH3V682",
        "colab_type": "code",
        "outputId": "3646f3db-51d2-4241-af77-af4de9376a6b",
        "colab": {
          "base_uri": "https://localhost:8080/",
          "height": 34
        }
      },
      "source": [
        "start = time()\n",
        "c = torch.zeros(10000)\n",
        "for i in range(10000):\n",
        "    c[i] = a[i] + b[i]\n",
        "time() - start"
      ],
      "execution_count": 0,
      "outputs": [
        {
          "output_type": "execute_result",
          "data": {
            "text/plain": [
              "0.18034720420837402"
            ]
          },
          "metadata": {
            "tags": []
          },
          "execution_count": 15
        }
      ]
    },
    {
      "cell_type": "markdown",
      "metadata": {
        "id": "rmLcNZe9V684",
        "colab_type": "text"
      },
      "source": [
        "Another way to add vectors is to add the vectors directly:"
      ]
    },
    {
      "cell_type": "code",
      "metadata": {
        "attributes": {
          "classes": [],
          "id": "",
          "n": "3"
        },
        "id": "VxA7PJXZV684",
        "colab_type": "code",
        "outputId": "15b5d169-63da-4671-ec1a-a76f7f1d38fe",
        "colab": {
          "base_uri": "https://localhost:8080/",
          "height": 34
        }
      },
      "source": [
        "start = time()\n",
        "d = a + b\n",
        "time() - start"
      ],
      "execution_count": 0,
      "outputs": [
        {
          "output_type": "execute_result",
          "data": {
            "text/plain": [
              "0.006076812744140625"
            ]
          },
          "metadata": {
            "tags": []
          },
          "execution_count": 18
        }
      ]
    },
    {
      "cell_type": "markdown",
      "metadata": {
        "id": "gdYr0C-8V686",
        "colab_type": "text"
      },
      "source": [
        "Obviously, the latter is vastly faster than the former. Vectorizing code is a good way of getting order of magnitude speedups. Likewise, as we saw above, it also greatly simplifies the mathematics and with it, it reduces the potential for errors in the notation.\n",
        "\n",
        "## The Normal Distribution and Squared Loss\n",
        "\n",
        "The following is optional and can be skipped but it will greatly help with understanding some of the design choices in building deep learning models. As we saw above, using the squared loss $l(y, \\hat{y}) = \\frac{1}{2} (y - \\hat{y})^2$ has many nice properties, such as having a particularly simple derivative $\\partial_{\\hat{y}} l(y, \\hat{y}) = (\\hat{y} - y)$. That is, the gradient is given by the difference between estimate and observation. You might reasonably point out that linear regression is a [classical](https://en.wikipedia.org/wiki/Regression_analysis#History) statistical model. Legendre first developed the method of least squares regression in 1805, which was shortly thereafter rediscovered by Gauss in 1809. To understand this a bit better, recall the normal distribution with mean $\\mu$ and variance $\\sigma^2$.\n",
        "\n",
        "$$p(x) = \\frac{1}{\\sqrt{2 \\pi \\sigma^2}} \\exp\\left(-\\frac{1}{2 \\sigma^2} (x - \\mu)^2\\right)$$\n",
        "\n",
        "It can be visualized as follows:"
      ]
    },
    {
      "cell_type": "code",
      "metadata": {
        "attributes": {
          "classes": [],
          "id": "",
          "n": "2"
        },
        "id": "yjERfLD2V686",
        "colab_type": "code",
        "outputId": "5b2d538b-95e1-432c-80d0-d5e8f769b5b1",
        "colab": {
          "base_uri": "https://localhost:8080/",
          "height": 497
        }
      },
      "source": [
        "%matplotlib inline\n",
        "from matplotlib import pyplot as plt\n",
        "from IPython import display\n",
        "import torch\n",
        "import math\n",
        "\n",
        "x = torch.arange(-7, 7, 0.01)\n",
        "# Mean and variance pairs\n",
        "parameters = [(0,1), (0,2), (3,1)]\n",
        "\n",
        "# Display SVG rather than JPG\n",
        "display.set_matplotlib_formats('svg')\n",
        "plt.figure(figsize=(10, 6))\n",
        "for (mu, sigma) in parameters:\n",
        "    p = (1/math.sqrt(2 * math.pi * sigma**2)) * torch.exp(-(0.5/sigma**2) * (x-mu)**2)\n",
        "    plt.plot(x.numpy(), p.numpy(), label='mean ' + str(mu) + ', variance ' + str(sigma))\n",
        "\n",
        "plt.legend()\n",
        "plt.show()"
      ],
      "execution_count": 0,
      "outputs": [
        {
          "output_type": "display_data",
          "data": {
            "text/plain": [
              "<Figure size 720x432 with 1 Axes>"
            ],
            "image/svg+xml": "<?xml version=\"1.0\" encoding=\"utf-8\" standalone=\"no\"?>\n<!DOCTYPE svg PUBLIC \"-//W3C//DTD SVG 1.1//EN\"\n  \"http://www.w3.org/Graphics/SVG/1.1/DTD/svg11.dtd\">\n<!-- Created with matplotlib (https://matplotlib.org/) -->\n<svg height=\"357.238125pt\" version=\"1.1\" viewBox=\"0 0 601.665625 357.238125\" width=\"601.665625pt\" xmlns=\"http://www.w3.org/2000/svg\" xmlns:xlink=\"http://www.w3.org/1999/xlink\">\n <defs>\n  <style type=\"text/css\">\n*{stroke-linecap:butt;stroke-linejoin:round;}\n  </style>\n </defs>\n <g id=\"figure_1\">\n  <g id=\"patch_1\">\n   <path d=\"M 0 357.238125 \nL 601.665625 357.238125 \nL 601.665625 0 \nL 0 0 \nz\n\" style=\"fill:none;\"/>\n  </g>\n  <g id=\"axes_1\">\n   <g id=\"patch_2\">\n    <path d=\"M 36.465625 333.36 \nL 594.465625 333.36 \nL 594.465625 7.2 \nL 36.465625 7.2 \nz\n\" style=\"fill:#ffffff;\"/>\n   </g>\n   <g id=\"matplotlib.axis_1\">\n    <g id=\"xtick_1\">\n     <g id=\"line2d_1\">\n      <defs>\n       <path d=\"M 0 0 \nL 0 3.5 \n\" id=\"mc4b9cb2a11\" style=\"stroke:#000000;stroke-width:0.8;\"/>\n      </defs>\n      <g>\n       <use style=\"stroke:#000000;stroke-width:0.8;\" x=\"98.088928\" xlink:href=\"#mc4b9cb2a11\" y=\"333.36\"/>\n      </g>\n     </g>\n     <g id=\"text_1\">\n      <!-- −6 -->\n      <defs>\n       <path d=\"M 10.59375 35.5 \nL 73.1875 35.5 \nL 73.1875 27.203125 \nL 10.59375 27.203125 \nz\n\" id=\"DejaVuSans-8722\"/>\n       <path d=\"M 33.015625 40.375 \nQ 26.375 40.375 22.484375 35.828125 \nQ 18.609375 31.296875 18.609375 23.390625 \nQ 18.609375 15.53125 22.484375 10.953125 \nQ 26.375 6.390625 33.015625 6.390625 \nQ 39.65625 6.390625 43.53125 10.953125 \nQ 47.40625 15.53125 47.40625 23.390625 \nQ 47.40625 31.296875 43.53125 35.828125 \nQ 39.65625 40.375 33.015625 40.375 \nz\nM 52.59375 71.296875 \nL 52.59375 62.3125 \nQ 48.875 64.0625 45.09375 64.984375 \nQ 41.3125 65.921875 37.59375 65.921875 \nQ 27.828125 65.921875 22.671875 59.328125 \nQ 17.53125 52.734375 16.796875 39.40625 \nQ 19.671875 43.65625 24.015625 45.921875 \nQ 28.375 48.1875 33.59375 48.1875 \nQ 44.578125 48.1875 50.953125 41.515625 \nQ 57.328125 34.859375 57.328125 23.390625 \nQ 57.328125 12.15625 50.6875 5.359375 \nQ 44.046875 -1.421875 33.015625 -1.421875 \nQ 20.359375 -1.421875 13.671875 8.265625 \nQ 6.984375 17.96875 6.984375 36.375 \nQ 6.984375 53.65625 15.1875 63.9375 \nQ 23.390625 74.21875 37.203125 74.21875 \nQ 40.921875 74.21875 44.703125 73.484375 \nQ 48.484375 72.75 52.59375 71.296875 \nz\n\" id=\"DejaVuSans-54\"/>\n      </defs>\n      <g transform=\"translate(90.717834 347.958438)scale(0.1 -0.1)\">\n       <use xlink:href=\"#DejaVuSans-8722\"/>\n       <use x=\"83.789062\" xlink:href=\"#DejaVuSans-54\"/>\n      </g>\n     </g>\n    </g>\n    <g id=\"xtick_2\">\n     <g id=\"line2d_2\">\n      <g>\n       <use style=\"stroke:#000000;stroke-width:0.8;\" x=\"170.608261\" xlink:href=\"#mc4b9cb2a11\" y=\"333.36\"/>\n      </g>\n     </g>\n     <g id=\"text_2\">\n      <!-- −4 -->\n      <defs>\n       <path d=\"M 37.796875 64.3125 \nL 12.890625 25.390625 \nL 37.796875 25.390625 \nz\nM 35.203125 72.90625 \nL 47.609375 72.90625 \nL 47.609375 25.390625 \nL 58.015625 25.390625 \nL 58.015625 17.1875 \nL 47.609375 17.1875 \nL 47.609375 0 \nL 37.796875 0 \nL 37.796875 17.1875 \nL 4.890625 17.1875 \nL 4.890625 26.703125 \nz\n\" id=\"DejaVuSans-52\"/>\n      </defs>\n      <g transform=\"translate(163.237167 347.958438)scale(0.1 -0.1)\">\n       <use xlink:href=\"#DejaVuSans-8722\"/>\n       <use x=\"83.789062\" xlink:href=\"#DejaVuSans-52\"/>\n      </g>\n     </g>\n    </g>\n    <g id=\"xtick_3\">\n     <g id=\"line2d_3\">\n      <g>\n       <use style=\"stroke:#000000;stroke-width:0.8;\" x=\"243.127594\" xlink:href=\"#mc4b9cb2a11\" y=\"333.36\"/>\n      </g>\n     </g>\n     <g id=\"text_3\">\n      <!-- −2 -->\n      <defs>\n       <path d=\"M 19.1875 8.296875 \nL 53.609375 8.296875 \nL 53.609375 0 \nL 7.328125 0 \nL 7.328125 8.296875 \nQ 12.9375 14.109375 22.625 23.890625 \nQ 32.328125 33.6875 34.8125 36.53125 \nQ 39.546875 41.84375 41.421875 45.53125 \nQ 43.3125 49.21875 43.3125 52.78125 \nQ 43.3125 58.59375 39.234375 62.25 \nQ 35.15625 65.921875 28.609375 65.921875 \nQ 23.96875 65.921875 18.8125 64.3125 \nQ 13.671875 62.703125 7.8125 59.421875 \nL 7.8125 69.390625 \nQ 13.765625 71.78125 18.9375 73 \nQ 24.125 74.21875 28.421875 74.21875 \nQ 39.75 74.21875 46.484375 68.546875 \nQ 53.21875 62.890625 53.21875 53.421875 \nQ 53.21875 48.921875 51.53125 44.890625 \nQ 49.859375 40.875 45.40625 35.40625 \nQ 44.1875 33.984375 37.640625 27.21875 \nQ 31.109375 20.453125 19.1875 8.296875 \nz\n\" id=\"DejaVuSans-50\"/>\n      </defs>\n      <g transform=\"translate(235.756501 347.958438)scale(0.1 -0.1)\">\n       <use xlink:href=\"#DejaVuSans-8722\"/>\n       <use x=\"83.789062\" xlink:href=\"#DejaVuSans-50\"/>\n      </g>\n     </g>\n    </g>\n    <g id=\"xtick_4\">\n     <g id=\"line2d_4\">\n      <g>\n       <use style=\"stroke:#000000;stroke-width:0.8;\" x=\"315.646927\" xlink:href=\"#mc4b9cb2a11\" y=\"333.36\"/>\n      </g>\n     </g>\n     <g id=\"text_4\">\n      <!-- 0 -->\n      <defs>\n       <path d=\"M 31.78125 66.40625 \nQ 24.171875 66.40625 20.328125 58.90625 \nQ 16.5 51.421875 16.5 36.375 \nQ 16.5 21.390625 20.328125 13.890625 \nQ 24.171875 6.390625 31.78125 6.390625 \nQ 39.453125 6.390625 43.28125 13.890625 \nQ 47.125 21.390625 47.125 36.375 \nQ 47.125 51.421875 43.28125 58.90625 \nQ 39.453125 66.40625 31.78125 66.40625 \nz\nM 31.78125 74.21875 \nQ 44.046875 74.21875 50.515625 64.515625 \nQ 56.984375 54.828125 56.984375 36.375 \nQ 56.984375 17.96875 50.515625 8.265625 \nQ 44.046875 -1.421875 31.78125 -1.421875 \nQ 19.53125 -1.421875 13.0625 8.265625 \nQ 6.59375 17.96875 6.59375 36.375 \nQ 6.59375 54.828125 13.0625 64.515625 \nQ 19.53125 74.21875 31.78125 74.21875 \nz\n\" id=\"DejaVuSans-48\"/>\n      </defs>\n      <g transform=\"translate(312.465677 347.958438)scale(0.1 -0.1)\">\n       <use xlink:href=\"#DejaVuSans-48\"/>\n      </g>\n     </g>\n    </g>\n    <g id=\"xtick_5\">\n     <g id=\"line2d_5\">\n      <g>\n       <use style=\"stroke:#000000;stroke-width:0.8;\" x=\"388.166261\" xlink:href=\"#mc4b9cb2a11\" y=\"333.36\"/>\n      </g>\n     </g>\n     <g id=\"text_5\">\n      <!-- 2 -->\n      <g transform=\"translate(384.985011 347.958438)scale(0.1 -0.1)\">\n       <use xlink:href=\"#DejaVuSans-50\"/>\n      </g>\n     </g>\n    </g>\n    <g id=\"xtick_6\">\n     <g id=\"line2d_6\">\n      <g>\n       <use style=\"stroke:#000000;stroke-width:0.8;\" x=\"460.685594\" xlink:href=\"#mc4b9cb2a11\" y=\"333.36\"/>\n      </g>\n     </g>\n     <g id=\"text_6\">\n      <!-- 4 -->\n      <g transform=\"translate(457.504344 347.958438)scale(0.1 -0.1)\">\n       <use xlink:href=\"#DejaVuSans-52\"/>\n      </g>\n     </g>\n    </g>\n    <g id=\"xtick_7\">\n     <g id=\"line2d_7\">\n      <g>\n       <use style=\"stroke:#000000;stroke-width:0.8;\" x=\"533.204927\" xlink:href=\"#mc4b9cb2a11\" y=\"333.36\"/>\n      </g>\n     </g>\n     <g id=\"text_7\">\n      <!-- 6 -->\n      <g transform=\"translate(530.023677 347.958438)scale(0.1 -0.1)\">\n       <use xlink:href=\"#DejaVuSans-54\"/>\n      </g>\n     </g>\n    </g>\n   </g>\n   <g id=\"matplotlib.axis_2\">\n    <g id=\"ytick_1\">\n     <g id=\"line2d_8\">\n      <defs>\n       <path d=\"M 0 0 \nL -3.5 0 \n\" id=\"m11efec4881\" style=\"stroke:#000000;stroke-width:0.8;\"/>\n      </defs>\n      <g>\n       <use style=\"stroke:#000000;stroke-width:0.8;\" x=\"36.465625\" xlink:href=\"#m11efec4881\" y=\"318.534545\"/>\n      </g>\n     </g>\n     <g id=\"text_8\">\n      <!-- 0.00 -->\n      <defs>\n       <path d=\"M 10.6875 12.40625 \nL 21 12.40625 \nL 21 0 \nL 10.6875 0 \nz\n\" id=\"DejaVuSans-46\"/>\n      </defs>\n      <g transform=\"translate(7.2 322.333764)scale(0.1 -0.1)\">\n       <use xlink:href=\"#DejaVuSans-48\"/>\n       <use x=\"63.623047\" xlink:href=\"#DejaVuSans-46\"/>\n       <use x=\"95.410156\" xlink:href=\"#DejaVuSans-48\"/>\n       <use x=\"159.033203\" xlink:href=\"#DejaVuSans-48\"/>\n      </g>\n     </g>\n    </g>\n    <g id=\"ytick_2\">\n     <g id=\"line2d_9\">\n      <g>\n       <use style=\"stroke:#000000;stroke-width:0.8;\" x=\"36.465625\" xlink:href=\"#m11efec4881\" y=\"281.372643\"/>\n      </g>\n     </g>\n     <g id=\"text_9\">\n      <!-- 0.05 -->\n      <defs>\n       <path d=\"M 10.796875 72.90625 \nL 49.515625 72.90625 \nL 49.515625 64.59375 \nL 19.828125 64.59375 \nL 19.828125 46.734375 \nQ 21.96875 47.46875 24.109375 47.828125 \nQ 26.265625 48.1875 28.421875 48.1875 \nQ 40.625 48.1875 47.75 41.5 \nQ 54.890625 34.8125 54.890625 23.390625 \nQ 54.890625 11.625 47.5625 5.09375 \nQ 40.234375 -1.421875 26.90625 -1.421875 \nQ 22.3125 -1.421875 17.546875 -0.640625 \nQ 12.796875 0.140625 7.71875 1.703125 \nL 7.71875 11.625 \nQ 12.109375 9.234375 16.796875 8.0625 \nQ 21.484375 6.890625 26.703125 6.890625 \nQ 35.15625 6.890625 40.078125 11.328125 \nQ 45.015625 15.765625 45.015625 23.390625 \nQ 45.015625 31 40.078125 35.4375 \nQ 35.15625 39.890625 26.703125 39.890625 \nQ 22.75 39.890625 18.8125 39.015625 \nQ 14.890625 38.140625 10.796875 36.28125 \nz\n\" id=\"DejaVuSans-53\"/>\n      </defs>\n      <g transform=\"translate(7.2 285.171862)scale(0.1 -0.1)\">\n       <use xlink:href=\"#DejaVuSans-48\"/>\n       <use x=\"63.623047\" xlink:href=\"#DejaVuSans-46\"/>\n       <use x=\"95.410156\" xlink:href=\"#DejaVuSans-48\"/>\n       <use x=\"159.033203\" xlink:href=\"#DejaVuSans-53\"/>\n      </g>\n     </g>\n    </g>\n    <g id=\"ytick_3\">\n     <g id=\"line2d_10\">\n      <g>\n       <use style=\"stroke:#000000;stroke-width:0.8;\" x=\"36.465625\" xlink:href=\"#m11efec4881\" y=\"244.21074\"/>\n      </g>\n     </g>\n     <g id=\"text_10\">\n      <!-- 0.10 -->\n      <defs>\n       <path d=\"M 12.40625 8.296875 \nL 28.515625 8.296875 \nL 28.515625 63.921875 \nL 10.984375 60.40625 \nL 10.984375 69.390625 \nL 28.421875 72.90625 \nL 38.28125 72.90625 \nL 38.28125 8.296875 \nL 54.390625 8.296875 \nL 54.390625 0 \nL 12.40625 0 \nz\n\" id=\"DejaVuSans-49\"/>\n      </defs>\n      <g transform=\"translate(7.2 248.009959)scale(0.1 -0.1)\">\n       <use xlink:href=\"#DejaVuSans-48\"/>\n       <use x=\"63.623047\" xlink:href=\"#DejaVuSans-46\"/>\n       <use x=\"95.410156\" xlink:href=\"#DejaVuSans-49\"/>\n       <use x=\"159.033203\" xlink:href=\"#DejaVuSans-48\"/>\n      </g>\n     </g>\n    </g>\n    <g id=\"ytick_4\">\n     <g id=\"line2d_11\">\n      <g>\n       <use style=\"stroke:#000000;stroke-width:0.8;\" x=\"36.465625\" xlink:href=\"#m11efec4881\" y=\"207.048838\"/>\n      </g>\n     </g>\n     <g id=\"text_11\">\n      <!-- 0.15 -->\n      <g transform=\"translate(7.2 210.848057)scale(0.1 -0.1)\">\n       <use xlink:href=\"#DejaVuSans-48\"/>\n       <use x=\"63.623047\" xlink:href=\"#DejaVuSans-46\"/>\n       <use x=\"95.410156\" xlink:href=\"#DejaVuSans-49\"/>\n       <use x=\"159.033203\" xlink:href=\"#DejaVuSans-53\"/>\n      </g>\n     </g>\n    </g>\n    <g id=\"ytick_5\">\n     <g id=\"line2d_12\">\n      <g>\n       <use style=\"stroke:#000000;stroke-width:0.8;\" x=\"36.465625\" xlink:href=\"#m11efec4881\" y=\"169.886935\"/>\n      </g>\n     </g>\n     <g id=\"text_12\">\n      <!-- 0.20 -->\n      <g transform=\"translate(7.2 173.686154)scale(0.1 -0.1)\">\n       <use xlink:href=\"#DejaVuSans-48\"/>\n       <use x=\"63.623047\" xlink:href=\"#DejaVuSans-46\"/>\n       <use x=\"95.410156\" xlink:href=\"#DejaVuSans-50\"/>\n       <use x=\"159.033203\" xlink:href=\"#DejaVuSans-48\"/>\n      </g>\n     </g>\n    </g>\n    <g id=\"ytick_6\">\n     <g id=\"line2d_13\">\n      <g>\n       <use style=\"stroke:#000000;stroke-width:0.8;\" x=\"36.465625\" xlink:href=\"#m11efec4881\" y=\"132.725033\"/>\n      </g>\n     </g>\n     <g id=\"text_13\">\n      <!-- 0.25 -->\n      <g transform=\"translate(7.2 136.524252)scale(0.1 -0.1)\">\n       <use xlink:href=\"#DejaVuSans-48\"/>\n       <use x=\"63.623047\" xlink:href=\"#DejaVuSans-46\"/>\n       <use x=\"95.410156\" xlink:href=\"#DejaVuSans-50\"/>\n       <use x=\"159.033203\" xlink:href=\"#DejaVuSans-53\"/>\n      </g>\n     </g>\n    </g>\n    <g id=\"ytick_7\">\n     <g id=\"line2d_14\">\n      <g>\n       <use style=\"stroke:#000000;stroke-width:0.8;\" x=\"36.465625\" xlink:href=\"#m11efec4881\" y=\"95.563131\"/>\n      </g>\n     </g>\n     <g id=\"text_14\">\n      <!-- 0.30 -->\n      <defs>\n       <path d=\"M 40.578125 39.3125 \nQ 47.65625 37.796875 51.625 33 \nQ 55.609375 28.21875 55.609375 21.1875 \nQ 55.609375 10.40625 48.1875 4.484375 \nQ 40.765625 -1.421875 27.09375 -1.421875 \nQ 22.515625 -1.421875 17.65625 -0.515625 \nQ 12.796875 0.390625 7.625 2.203125 \nL 7.625 11.71875 \nQ 11.71875 9.328125 16.59375 8.109375 \nQ 21.484375 6.890625 26.8125 6.890625 \nQ 36.078125 6.890625 40.9375 10.546875 \nQ 45.796875 14.203125 45.796875 21.1875 \nQ 45.796875 27.640625 41.28125 31.265625 \nQ 36.765625 34.90625 28.71875 34.90625 \nL 20.21875 34.90625 \nL 20.21875 43.015625 \nL 29.109375 43.015625 \nQ 36.375 43.015625 40.234375 45.921875 \nQ 44.09375 48.828125 44.09375 54.296875 \nQ 44.09375 59.90625 40.109375 62.90625 \nQ 36.140625 65.921875 28.71875 65.921875 \nQ 24.65625 65.921875 20.015625 65.03125 \nQ 15.375 64.15625 9.8125 62.3125 \nL 9.8125 71.09375 \nQ 15.4375 72.65625 20.34375 73.4375 \nQ 25.25 74.21875 29.59375 74.21875 \nQ 40.828125 74.21875 47.359375 69.109375 \nQ 53.90625 64.015625 53.90625 55.328125 \nQ 53.90625 49.265625 50.4375 45.09375 \nQ 46.96875 40.921875 40.578125 39.3125 \nz\n\" id=\"DejaVuSans-51\"/>\n      </defs>\n      <g transform=\"translate(7.2 99.362349)scale(0.1 -0.1)\">\n       <use xlink:href=\"#DejaVuSans-48\"/>\n       <use x=\"63.623047\" xlink:href=\"#DejaVuSans-46\"/>\n       <use x=\"95.410156\" xlink:href=\"#DejaVuSans-51\"/>\n       <use x=\"159.033203\" xlink:href=\"#DejaVuSans-48\"/>\n      </g>\n     </g>\n    </g>\n    <g id=\"ytick_8\">\n     <g id=\"line2d_15\">\n      <g>\n       <use style=\"stroke:#000000;stroke-width:0.8;\" x=\"36.465625\" xlink:href=\"#m11efec4881\" y=\"58.401228\"/>\n      </g>\n     </g>\n     <g id=\"text_15\">\n      <!-- 0.35 -->\n      <g transform=\"translate(7.2 62.200447)scale(0.1 -0.1)\">\n       <use xlink:href=\"#DejaVuSans-48\"/>\n       <use x=\"63.623047\" xlink:href=\"#DejaVuSans-46\"/>\n       <use x=\"95.410156\" xlink:href=\"#DejaVuSans-51\"/>\n       <use x=\"159.033203\" xlink:href=\"#DejaVuSans-53\"/>\n      </g>\n     </g>\n    </g>\n    <g id=\"ytick_9\">\n     <g id=\"line2d_16\">\n      <g>\n       <use style=\"stroke:#000000;stroke-width:0.8;\" x=\"36.465625\" xlink:href=\"#m11efec4881\" y=\"21.239326\"/>\n      </g>\n     </g>\n     <g id=\"text_16\">\n      <!-- 0.40 -->\n      <g transform=\"translate(7.2 25.038544)scale(0.1 -0.1)\">\n       <use xlink:href=\"#DejaVuSans-48\"/>\n       <use x=\"63.623047\" xlink:href=\"#DejaVuSans-46\"/>\n       <use x=\"95.410156\" xlink:href=\"#DejaVuSans-52\"/>\n       <use x=\"159.033203\" xlink:href=\"#DejaVuSans-48\"/>\n      </g>\n     </g>\n    </g>\n   </g>\n   <g id=\"line2d_17\">\n    <path clip-path=\"url(#p048fc7bfec)\" d=\"M 61.829261 318.534545 \nL 171.333454 318.426815 \nL 182.573948 318.181928 \nL 189.825883 317.814451 \nL 195.264837 317.336277 \nL 199.978589 316.705073 \nL 203.967157 315.951735 \nL 207.59312 315.037641 \nL 210.856487 313.980446 \nL 213.757266 312.814206 \nL 216.658037 311.395152 \nL 219.196211 309.912887 \nL 221.734394 308.173759 \nL 224.272568 306.144691 \nL 226.810743 303.790668 \nL 228.986321 301.486636 \nL 231.161907 298.893374 \nL 233.337485 295.98696 \nL 235.513063 292.743486 \nL 237.688641 289.139454 \nL 239.864227 285.15217 \nL 242.402402 279.987561 \nL 244.940576 274.241495 \nL 247.478754 267.887652 \nL 250.016933 260.905421 \nL 252.555107 253.281166 \nL 255.093286 245.009366 \nL 257.994056 234.768494 \nL 260.894831 223.71003 \nL 264.158202 210.345728 \nL 267.784166 194.460587 \nL 271.77273 175.93679 \nL 277.211683 149.470444 \nL 287.364389 99.795829 \nL 290.990354 83.230654 \nL 293.891127 70.869325 \nL 296.429305 60.877893 \nL 298.967481 51.793622 \nL 301.143061 44.822173 \nL 302.956044 39.641635 \nL 304.769027 35.072599 \nL 306.582011 31.148089 \nL 308.032398 28.491923 \nL 309.482784 26.279205 \nL 310.933171 24.520389 \nL 312.020961 23.504314 \nL 313.108751 22.751007 \nL 314.196541 22.262551 \nL 315.284331 22.040273 \nL 316.372121 22.084751 \nL 317.459911 22.395851 \nL 318.547701 22.972753 \nL 319.635491 23.81393 \nL 320.723281 24.917055 \nL 321.811071 26.279205 \nL 323.261457 28.491923 \nL 324.711844 31.148089 \nL 326.16223 34.235165 \nL 327.975214 38.677791 \nL 329.788197 43.73885 \nL 331.963777 50.577177 \nL 334.139357 58.184293 \nL 336.677533 67.92957 \nL 339.578308 80.056373 \nL 342.841677 94.717736 \nL 346.830241 113.684571 \nL 354.807369 153.049997 \nL 360.608914 181.08212 \nL 364.597478 199.331564 \nL 368.223446 214.904453 \nL 371.486813 227.950512 \nL 374.387588 238.70626 \nL 377.288362 248.633695 \nL 380.189133 257.717024 \nL 382.727312 264.973193 \nL 385.265486 271.594181 \nL 387.803664 277.597805 \nL 390.341839 283.008079 \nL 392.880021 287.854035 \nL 395.418196 292.16848 \nL 397.95637 295.98696 \nL 400.494544 299.346681 \nL 403.032727 302.285604 \nL 405.570901 304.841641 \nL 408.109076 307.052 \nL 410.64725 308.952624 \nL 413.185433 310.577739 \nL 415.723607 311.959523 \nL 418.624377 313.27903 \nL 421.525157 314.360534 \nL 424.788524 315.338136 \nL 428.414487 316.180752 \nL 432.403055 316.872785 \nL 437.116807 317.450361 \nL 442.555761 317.885934 \nL 449.445099 318.206949 \nL 459.235209 318.417912 \nL 475.914657 318.517572 \nL 539.006468 318.534544 \nL 569.101989 318.534545 \nL 569.101989 318.534545 \n\" style=\"fill:none;stroke:#1f77b4;stroke-linecap:square;stroke-width:1.5;\"/>\n   </g>\n   <g id=\"line2d_18\">\n    <path clip-path=\"url(#p048fc7bfec)\" d=\"M 61.829261 318.21024 \nL 77.783517 317.850868 \nL 90.111809 317.357649 \nL 100.264506 316.733296 \nL 108.966835 315.980494 \nL 116.581366 315.108459 \nL 123.470688 314.10773 \nL 129.997439 312.938105 \nL 136.161585 311.602753 \nL 141.963126 310.111948 \nL 147.402079 308.482955 \nL 152.478428 306.739485 \nL 157.554776 304.761265 \nL 162.268537 302.698034 \nL 166.982298 300.402501 \nL 171.69605 297.861759 \nL 176.409811 295.064363 \nL 181.123563 292.000778 \nL 185.837324 288.663764 \nL 190.551076 285.048854 \nL 195.264837 281.154737 \nL 199.978589 276.98369 \nL 205.054946 272.189325 \nL 210.131295 267.094442 \nL 215.570248 261.324431 \nL 221.371798 254.850708 \nL 227.898532 247.235668 \nL 235.875659 237.576533 \nL 260.169639 207.890498 \nL 265.971184 201.283397 \nL 271.047537 195.82524 \nL 275.761293 191.090076 \nL 280.112454 187.051128 \nL 284.101017 183.663628 \nL 287.726985 180.870231 \nL 291.35295 178.369836 \nL 294.616321 176.384855 \nL 297.879691 174.663385 \nL 301.143061 173.215635 \nL 304.043834 172.165571 \nL 306.944608 171.343598 \nL 309.845381 170.753649 \nL 312.746154 170.398548 \nL 315.646927 170.28 \nL 318.547701 170.398548 \nL 321.448474 170.753649 \nL 324.349247 171.343598 \nL 327.250021 172.165571 \nL 330.150794 173.215635 \nL 333.051567 174.48883 \nL 336.314937 176.180365 \nL 339.578308 178.136617 \nL 342.841677 180.346112 \nL 346.467645 183.082428 \nL 350.09361 186.096066 \nL 354.082172 189.706219 \nL 358.433332 193.962938 \nL 363.147089 198.902802 \nL 368.223446 204.543699 \nL 374.387588 211.742786 \nL 382.364715 221.435579 \nL 404.483112 248.52594 \nL 411.372451 256.497566 \nL 417.536589 263.281785 \nL 422.975542 268.947452 \nL 428.05189 273.936913 \nL 433.128248 278.620403 \nL 438.204605 282.986662 \nL 442.918357 286.751967 \nL 447.632118 290.238257 \nL 452.34587 293.448339 \nL 457.059631 296.38802 \nL 461.773391 299.065653 \nL 466.487135 301.491694 \nL 471.200896 303.678332 \nL 476.277244 305.780885 \nL 481.35361 307.639391 \nL 486.792546 309.381095 \nL 492.2315 310.887507 \nL 498.033058 312.261148 \nL 504.197187 313.486854 \nL 510.723938 314.556142 \nL 517.975864 315.509637 \nL 525.953001 316.322472 \nL 534.655312 316.983807 \nL 544.808027 317.528396 \nL 557.136301 317.955005 \nL 569.101989 318.204519 \nL 569.101989 318.204519 \n\" style=\"fill:none;stroke:#ff7f0e;stroke-linecap:square;stroke-width:1.5;\"/>\n   </g>\n   <g id=\"line2d_19\">\n    <path clip-path=\"url(#p048fc7bfec)\" d=\"M 61.829261 318.534545 \nL 280.112454 318.426815 \nL 291.35295 318.181928 \nL 298.604884 317.814451 \nL 304.043834 317.336277 \nL 308.757591 316.705073 \nL 312.746154 315.951735 \nL 316.372121 315.037641 \nL 319.635491 313.980446 \nL 322.536264 312.814206 \nL 325.437038 311.395152 \nL 327.975214 309.912887 \nL 330.513391 308.173759 \nL 333.051567 306.144691 \nL 335.589745 303.790668 \nL 337.765325 301.486627 \nL 339.940905 298.893374 \nL 342.116485 295.98696 \nL 344.292065 292.743486 \nL 346.467645 289.139454 \nL 348.643225 285.15217 \nL 351.181401 279.987561 \nL 353.719576 274.241495 \nL 356.257754 267.887652 \nL 358.795933 260.905421 \nL 361.334107 253.281166 \nL 363.872286 245.009366 \nL 366.773056 234.768494 \nL 369.673831 223.71003 \nL 372.937202 210.345728 \nL 376.563165 194.460587 \nL 380.551729 175.93679 \nL 385.990683 149.470444 \nL 396.143388 99.795829 \nL 399.769352 83.230654 \nL 402.670131 70.869325 \nL 405.208305 60.877893 \nL 407.746479 51.793622 \nL 409.922057 44.822173 \nL 411.735047 39.641613 \nL 413.548029 35.072599 \nL 415.361011 31.148089 \nL 416.811396 28.491923 \nL 418.261781 26.279205 \nL 419.712166 24.520389 \nL 420.799964 23.504314 \nL 421.887753 22.751007 \nL 422.975542 22.262551 \nL 424.063331 22.040273 \nL 425.15112 22.084751 \nL 426.238909 22.395851 \nL 427.326698 22.972753 \nL 428.414487 23.81393 \nL 429.502284 24.917055 \nL 430.590073 26.279205 \nL 432.040459 28.491923 \nL 433.490844 31.148089 \nL 434.941229 34.235165 \nL 436.754211 38.677791 \nL 438.567201 43.73885 \nL 440.742779 50.577177 \nL 442.918357 58.184293 \nL 445.456531 67.92957 \nL 448.35731 80.056373 \nL 451.620677 94.717736 \nL 455.609237 113.684549 \nL 463.586364 153.049986 \nL 469.387906 181.082086 \nL 473.376474 199.331531 \nL 477.002437 214.90442 \nL 480.265812 227.950512 \nL 483.166583 238.706249 \nL 486.067354 248.633668 \nL 488.968141 257.717052 \nL 491.506307 264.973182 \nL 494.04449 271.594187 \nL 496.582655 277.597788 \nL 499.120838 283.008079 \nL 501.659021 287.854035 \nL 504.197187 292.168469 \nL 506.73537 295.98696 \nL 509.273553 299.346692 \nL 511.811718 302.285597 \nL 514.349901 304.841641 \nL 516.888084 307.052008 \nL 519.42625 308.952624 \nL 521.964432 310.577739 \nL 524.502615 311.959528 \nL 527.403386 313.279032 \nL 530.304156 314.360534 \nL 533.567532 315.338139 \nL 537.193495 316.180754 \nL 541.182046 316.872783 \nL 545.895807 317.450361 \nL 551.33476 317.885934 \nL 558.224099 318.206949 \nL 568.014208 318.417912 \nL 569.101989 318.431023 \nL 569.101989 318.431023 \n\" style=\"fill:none;stroke:#2ca02c;stroke-linecap:square;stroke-width:1.5;\"/>\n   </g>\n   <g id=\"patch_3\">\n    <path d=\"M 36.465625 333.36 \nL 36.465625 7.2 \n\" style=\"fill:none;stroke:#000000;stroke-linecap:square;stroke-linejoin:miter;stroke-width:0.8;\"/>\n   </g>\n   <g id=\"patch_4\">\n    <path d=\"M 594.465625 333.36 \nL 594.465625 7.2 \n\" style=\"fill:none;stroke:#000000;stroke-linecap:square;stroke-linejoin:miter;stroke-width:0.8;\"/>\n   </g>\n   <g id=\"patch_5\">\n    <path d=\"M 36.465625 333.36 \nL 594.465625 333.36 \n\" style=\"fill:none;stroke:#000000;stroke-linecap:square;stroke-linejoin:miter;stroke-width:0.8;\"/>\n   </g>\n   <g id=\"patch_6\">\n    <path d=\"M 36.465625 7.2 \nL 594.465625 7.2 \n\" style=\"fill:none;stroke:#000000;stroke-linecap:square;stroke-linejoin:miter;stroke-width:0.8;\"/>\n   </g>\n   <g id=\"legend_1\">\n    <g id=\"patch_7\">\n     <path d=\"M 458.615625 59.234375 \nL 587.465625 59.234375 \nQ 589.465625 59.234375 589.465625 57.234375 \nL 589.465625 14.2 \nQ 589.465625 12.2 587.465625 12.2 \nL 458.615625 12.2 \nQ 456.615625 12.2 456.615625 14.2 \nL 456.615625 57.234375 \nQ 456.615625 59.234375 458.615625 59.234375 \nz\n\" style=\"fill:#ffffff;opacity:0.8;stroke:#cccccc;stroke-linejoin:miter;\"/>\n    </g>\n    <g id=\"line2d_20\">\n     <path d=\"M 460.615625 20.298437 \nL 480.615625 20.298437 \n\" style=\"fill:none;stroke:#1f77b4;stroke-linecap:square;stroke-width:1.5;\"/>\n    </g>\n    <g id=\"line2d_21\"/>\n    <g id=\"text_17\">\n     <!-- mean 0, variance 1 -->\n     <defs>\n      <path d=\"M 52 44.1875 \nQ 55.375 50.25 60.0625 53.125 \nQ 64.75 56 71.09375 56 \nQ 79.640625 56 84.28125 50.015625 \nQ 88.921875 44.046875 88.921875 33.015625 \nL 88.921875 0 \nL 79.890625 0 \nL 79.890625 32.71875 \nQ 79.890625 40.578125 77.09375 44.375 \nQ 74.3125 48.1875 68.609375 48.1875 \nQ 61.625 48.1875 57.5625 43.546875 \nQ 53.515625 38.921875 53.515625 30.90625 \nL 53.515625 0 \nL 44.484375 0 \nL 44.484375 32.71875 \nQ 44.484375 40.625 41.703125 44.40625 \nQ 38.921875 48.1875 33.109375 48.1875 \nQ 26.21875 48.1875 22.15625 43.53125 \nQ 18.109375 38.875 18.109375 30.90625 \nL 18.109375 0 \nL 9.078125 0 \nL 9.078125 54.6875 \nL 18.109375 54.6875 \nL 18.109375 46.1875 \nQ 21.1875 51.21875 25.484375 53.609375 \nQ 29.78125 56 35.6875 56 \nQ 41.65625 56 45.828125 52.96875 \nQ 50 49.953125 52 44.1875 \nz\n\" id=\"DejaVuSans-109\"/>\n      <path d=\"M 56.203125 29.59375 \nL 56.203125 25.203125 \nL 14.890625 25.203125 \nQ 15.484375 15.921875 20.484375 11.0625 \nQ 25.484375 6.203125 34.421875 6.203125 \nQ 39.59375 6.203125 44.453125 7.46875 \nQ 49.3125 8.734375 54.109375 11.28125 \nL 54.109375 2.78125 \nQ 49.265625 0.734375 44.1875 -0.34375 \nQ 39.109375 -1.421875 33.890625 -1.421875 \nQ 20.796875 -1.421875 13.15625 6.1875 \nQ 5.515625 13.8125 5.515625 26.8125 \nQ 5.515625 40.234375 12.765625 48.109375 \nQ 20.015625 56 32.328125 56 \nQ 43.359375 56 49.78125 48.890625 \nQ 56.203125 41.796875 56.203125 29.59375 \nz\nM 47.21875 32.234375 \nQ 47.125 39.59375 43.09375 43.984375 \nQ 39.0625 48.390625 32.421875 48.390625 \nQ 24.90625 48.390625 20.390625 44.140625 \nQ 15.875 39.890625 15.1875 32.171875 \nz\n\" id=\"DejaVuSans-101\"/>\n      <path d=\"M 34.28125 27.484375 \nQ 23.390625 27.484375 19.1875 25 \nQ 14.984375 22.515625 14.984375 16.5 \nQ 14.984375 11.71875 18.140625 8.90625 \nQ 21.296875 6.109375 26.703125 6.109375 \nQ 34.1875 6.109375 38.703125 11.40625 \nQ 43.21875 16.703125 43.21875 25.484375 \nL 43.21875 27.484375 \nz\nM 52.203125 31.203125 \nL 52.203125 0 \nL 43.21875 0 \nL 43.21875 8.296875 \nQ 40.140625 3.328125 35.546875 0.953125 \nQ 30.953125 -1.421875 24.3125 -1.421875 \nQ 15.921875 -1.421875 10.953125 3.296875 \nQ 6 8.015625 6 15.921875 \nQ 6 25.140625 12.171875 29.828125 \nQ 18.359375 34.515625 30.609375 34.515625 \nL 43.21875 34.515625 \nL 43.21875 35.40625 \nQ 43.21875 41.609375 39.140625 45 \nQ 35.0625 48.390625 27.6875 48.390625 \nQ 23 48.390625 18.546875 47.265625 \nQ 14.109375 46.140625 10.015625 43.890625 \nL 10.015625 52.203125 \nQ 14.9375 54.109375 19.578125 55.046875 \nQ 24.21875 56 28.609375 56 \nQ 40.484375 56 46.34375 49.84375 \nQ 52.203125 43.703125 52.203125 31.203125 \nz\n\" id=\"DejaVuSans-97\"/>\n      <path d=\"M 54.890625 33.015625 \nL 54.890625 0 \nL 45.90625 0 \nL 45.90625 32.71875 \nQ 45.90625 40.484375 42.875 44.328125 \nQ 39.84375 48.1875 33.796875 48.1875 \nQ 26.515625 48.1875 22.3125 43.546875 \nQ 18.109375 38.921875 18.109375 30.90625 \nL 18.109375 0 \nL 9.078125 0 \nL 9.078125 54.6875 \nL 18.109375 54.6875 \nL 18.109375 46.1875 \nQ 21.34375 51.125 25.703125 53.5625 \nQ 30.078125 56 35.796875 56 \nQ 45.21875 56 50.046875 50.171875 \nQ 54.890625 44.34375 54.890625 33.015625 \nz\n\" id=\"DejaVuSans-110\"/>\n      <path id=\"DejaVuSans-32\"/>\n      <path d=\"M 11.71875 12.40625 \nL 22.015625 12.40625 \nL 22.015625 4 \nL 14.015625 -11.625 \nL 7.71875 -11.625 \nL 11.71875 4 \nz\n\" id=\"DejaVuSans-44\"/>\n      <path d=\"M 2.984375 54.6875 \nL 12.5 54.6875 \nL 29.59375 8.796875 \nL 46.6875 54.6875 \nL 56.203125 54.6875 \nL 35.6875 0 \nL 23.484375 0 \nz\n\" id=\"DejaVuSans-118\"/>\n      <path d=\"M 41.109375 46.296875 \nQ 39.59375 47.171875 37.8125 47.578125 \nQ 36.03125 48 33.890625 48 \nQ 26.265625 48 22.1875 43.046875 \nQ 18.109375 38.09375 18.109375 28.8125 \nL 18.109375 0 \nL 9.078125 0 \nL 9.078125 54.6875 \nL 18.109375 54.6875 \nL 18.109375 46.1875 \nQ 20.953125 51.171875 25.484375 53.578125 \nQ 30.03125 56 36.53125 56 \nQ 37.453125 56 38.578125 55.875 \nQ 39.703125 55.765625 41.0625 55.515625 \nz\n\" id=\"DejaVuSans-114\"/>\n      <path d=\"M 9.421875 54.6875 \nL 18.40625 54.6875 \nL 18.40625 0 \nL 9.421875 0 \nz\nM 9.421875 75.984375 \nL 18.40625 75.984375 \nL 18.40625 64.59375 \nL 9.421875 64.59375 \nz\n\" id=\"DejaVuSans-105\"/>\n      <path d=\"M 48.78125 52.59375 \nL 48.78125 44.1875 \nQ 44.96875 46.296875 41.140625 47.34375 \nQ 37.3125 48.390625 33.40625 48.390625 \nQ 24.65625 48.390625 19.8125 42.84375 \nQ 14.984375 37.3125 14.984375 27.296875 \nQ 14.984375 17.28125 19.8125 11.734375 \nQ 24.65625 6.203125 33.40625 6.203125 \nQ 37.3125 6.203125 41.140625 7.25 \nQ 44.96875 8.296875 48.78125 10.40625 \nL 48.78125 2.09375 \nQ 45.015625 0.34375 40.984375 -0.53125 \nQ 36.96875 -1.421875 32.421875 -1.421875 \nQ 20.0625 -1.421875 12.78125 6.34375 \nQ 5.515625 14.109375 5.515625 27.296875 \nQ 5.515625 40.671875 12.859375 48.328125 \nQ 20.21875 56 33.015625 56 \nQ 37.15625 56 41.109375 55.140625 \nQ 45.0625 54.296875 48.78125 52.59375 \nz\n\" id=\"DejaVuSans-99\"/>\n     </defs>\n     <g transform=\"translate(488.615625 23.798437)scale(0.1 -0.1)\">\n      <use xlink:href=\"#DejaVuSans-109\"/>\n      <use x=\"97.412109\" xlink:href=\"#DejaVuSans-101\"/>\n      <use x=\"158.935547\" xlink:href=\"#DejaVuSans-97\"/>\n      <use x=\"220.214844\" xlink:href=\"#DejaVuSans-110\"/>\n      <use x=\"283.59375\" xlink:href=\"#DejaVuSans-32\"/>\n      <use x=\"315.380859\" xlink:href=\"#DejaVuSans-48\"/>\n      <use x=\"379.003906\" xlink:href=\"#DejaVuSans-44\"/>\n      <use x=\"410.791016\" xlink:href=\"#DejaVuSans-32\"/>\n      <use x=\"442.578125\" xlink:href=\"#DejaVuSans-118\"/>\n      <use x=\"501.757812\" xlink:href=\"#DejaVuSans-97\"/>\n      <use x=\"563.037109\" xlink:href=\"#DejaVuSans-114\"/>\n      <use x=\"604.150391\" xlink:href=\"#DejaVuSans-105\"/>\n      <use x=\"631.933594\" xlink:href=\"#DejaVuSans-97\"/>\n      <use x=\"693.212891\" xlink:href=\"#DejaVuSans-110\"/>\n      <use x=\"756.591797\" xlink:href=\"#DejaVuSans-99\"/>\n      <use x=\"811.572266\" xlink:href=\"#DejaVuSans-101\"/>\n      <use x=\"873.095703\" xlink:href=\"#DejaVuSans-32\"/>\n      <use x=\"904.882812\" xlink:href=\"#DejaVuSans-49\"/>\n     </g>\n    </g>\n    <g id=\"line2d_22\">\n     <path d=\"M 460.615625 34.976562 \nL 480.615625 34.976562 \n\" style=\"fill:none;stroke:#ff7f0e;stroke-linecap:square;stroke-width:1.5;\"/>\n    </g>\n    <g id=\"line2d_23\"/>\n    <g id=\"text_18\">\n     <!-- mean 0, variance 2 -->\n     <g transform=\"translate(488.615625 38.476562)scale(0.1 -0.1)\">\n      <use xlink:href=\"#DejaVuSans-109\"/>\n      <use x=\"97.412109\" xlink:href=\"#DejaVuSans-101\"/>\n      <use x=\"158.935547\" xlink:href=\"#DejaVuSans-97\"/>\n      <use x=\"220.214844\" xlink:href=\"#DejaVuSans-110\"/>\n      <use x=\"283.59375\" xlink:href=\"#DejaVuSans-32\"/>\n      <use x=\"315.380859\" xlink:href=\"#DejaVuSans-48\"/>\n      <use x=\"379.003906\" xlink:href=\"#DejaVuSans-44\"/>\n      <use x=\"410.791016\" xlink:href=\"#DejaVuSans-32\"/>\n      <use x=\"442.578125\" xlink:href=\"#DejaVuSans-118\"/>\n      <use x=\"501.757812\" xlink:href=\"#DejaVuSans-97\"/>\n      <use x=\"563.037109\" xlink:href=\"#DejaVuSans-114\"/>\n      <use x=\"604.150391\" xlink:href=\"#DejaVuSans-105\"/>\n      <use x=\"631.933594\" xlink:href=\"#DejaVuSans-97\"/>\n      <use x=\"693.212891\" xlink:href=\"#DejaVuSans-110\"/>\n      <use x=\"756.591797\" xlink:href=\"#DejaVuSans-99\"/>\n      <use x=\"811.572266\" xlink:href=\"#DejaVuSans-101\"/>\n      <use x=\"873.095703\" xlink:href=\"#DejaVuSans-32\"/>\n      <use x=\"904.882812\" xlink:href=\"#DejaVuSans-50\"/>\n     </g>\n    </g>\n    <g id=\"line2d_24\">\n     <path d=\"M 460.615625 49.654687 \nL 480.615625 49.654687 \n\" style=\"fill:none;stroke:#2ca02c;stroke-linecap:square;stroke-width:1.5;\"/>\n    </g>\n    <g id=\"line2d_25\"/>\n    <g id=\"text_19\">\n     <!-- mean 3, variance 1 -->\n     <g transform=\"translate(488.615625 53.154687)scale(0.1 -0.1)\">\n      <use xlink:href=\"#DejaVuSans-109\"/>\n      <use x=\"97.412109\" xlink:href=\"#DejaVuSans-101\"/>\n      <use x=\"158.935547\" xlink:href=\"#DejaVuSans-97\"/>\n      <use x=\"220.214844\" xlink:href=\"#DejaVuSans-110\"/>\n      <use x=\"283.59375\" xlink:href=\"#DejaVuSans-32\"/>\n      <use x=\"315.380859\" xlink:href=\"#DejaVuSans-51\"/>\n      <use x=\"379.003906\" xlink:href=\"#DejaVuSans-44\"/>\n      <use x=\"410.791016\" xlink:href=\"#DejaVuSans-32\"/>\n      <use x=\"442.578125\" xlink:href=\"#DejaVuSans-118\"/>\n      <use x=\"501.757812\" xlink:href=\"#DejaVuSans-97\"/>\n      <use x=\"563.037109\" xlink:href=\"#DejaVuSans-114\"/>\n      <use x=\"604.150391\" xlink:href=\"#DejaVuSans-105\"/>\n      <use x=\"631.933594\" xlink:href=\"#DejaVuSans-97\"/>\n      <use x=\"693.212891\" xlink:href=\"#DejaVuSans-110\"/>\n      <use x=\"756.591797\" xlink:href=\"#DejaVuSans-99\"/>\n      <use x=\"811.572266\" xlink:href=\"#DejaVuSans-101\"/>\n      <use x=\"873.095703\" xlink:href=\"#DejaVuSans-32\"/>\n      <use x=\"904.882812\" xlink:href=\"#DejaVuSans-49\"/>\n     </g>\n    </g>\n   </g>\n  </g>\n </g>\n <defs>\n  <clipPath id=\"p048fc7bfec\">\n   <rect height=\"326.16\" width=\"558\" x=\"36.465625\" y=\"7.2\"/>\n  </clipPath>\n </defs>\n</svg>\n"
          },
          "metadata": {
            "tags": [],
            "needs_background": "light"
          }
        }
      ]
    },
    {
      "cell_type": "markdown",
      "metadata": {
        "id": "rPbFM4OLV688",
        "colab_type": "text"
      },
      "source": [
        "As can be seen in the figure above, changing the mean shifts the function, increasing the variance makes it more spread-out with a lower peak. The key assumption in linear regression with least mean squares loss is that the observations actually arise from noisy observations, where noise is added to the data, e.g. as part of the observations process.\n",
        "\n",
        "$$y = \\mathbf{w}^\\top \\mathbf{x} + b + \\epsilon \\text{ where } \\epsilon \\sim \\mathcal{N}(0, \\sigma^2)$$\n",
        "\n",
        "This allows us to write out the *likelihood* of seeing a particular $y$ for a given $\\mathbf{x}$ via\n",
        "\n",
        "$$p(y|\\mathbf{x}) = \\frac{1}{\\sqrt{2 \\pi \\sigma^2}} \\exp\\left(-\\frac{1}{2 \\sigma^2} (y - \\mathbf{w}^\\top \\mathbf{x} - b)^2\\right)$$\n",
        "\n",
        "A good way of finding the most likely values of $b$ and $\\mathbf{w}$ is to maximize the *likelihood* of the entire dataset\n",
        "\n",
        "$$p(Y|X) = \\prod_{i=1}^{n} p(y^{(i)}|\\mathbf{x}^{(i)})$$\n",
        "\n",
        "The notion of maximizing the likelihood of the data subject to the parameters is well known as the *Maximum Likelihood Principle* and its estimators are usually called *Maximum Likelihood Estimators* (MLE). Unfortunately, maximizing the product of many exponential functions is pretty awkward, both in terms of implementation and in terms of writing it out on paper. Instead, a much better way is to minimize the *Negative Log-Likelihood* $-\\log P(Y|X)$. In the above case this works out to be\n",
        "\n",
        "$$-\\log P(Y|X) = \\sum_{i=1}^n \\frac{1}{2} \\log(2 \\pi \\sigma^2) + \\frac{1}{2 \\sigma^2} \\left(y^{(i)} - \\mathbf{w}^\\top \\mathbf{x}^{(i)} - b\\right)^2$$\n",
        "\n",
        "A closer inspection reveals that for the purpose of minimizing $-\\log P(Y|X)$ we can skip the first term since it doesn't depend on $\\mathbf{w}, b$ or even the data. The second term is identical to the objective we initially introduced, but for the multiplicative constant $\\frac{1}{\\sigma^2}$. Again, this can be skipped if we just want to get the most likely solution. It follows that maximum likelihood in a linear model with additive Gaussian noise is equivalent to linear regression with squared loss.\n",
        "\n",
        "## Summary\n",
        "\n",
        "* Key ingredients in a machine learning model are training data, a loss function, an optimization algorithm, and quite obviously, the model itself.\n",
        "* Vectorizing makes everything better (mostly math) and faster (mostly code).\n",
        "* Minimizing an objective function and performing maximum likelihood can mean the same thing.\n",
        "* Linear models are neural networks, too.\n"
      ]
    },
    {
      "cell_type": "markdown",
      "metadata": {
        "id": "ZmqS9JflV689",
        "colab_type": "text"
      },
      "source": [
        "# Linear Regression Implementation from Scratch\n",
        "\n",
        "\n",
        "Now that you have some background on the *ideas* behind linear regression,\n",
        "we are ready to step through a hands-on implementation.\n",
        "In this section, and similar ones that follow,\n",
        "we are going to implement all parts of linear regression:\n",
        "the data pipeline, the model, the loss function,\n",
        "and the gradient descent optimizer, from scratch.\n",
        "Not surprisingly, today's deep learning frameworks\n",
        "can automate nearly all of this work,\n",
        "but if you never learn to implement things from scratch,\n",
        "then you may never truly understand how the model works.\n",
        "Moreover, when it comes time to customize models,\n",
        "defining our own layers, loss functions, etc.,\n",
        "knowing how things work under the hood will come in handy.\n",
        "Thus, we start off describing how to implement linear regression\n",
        "relying only on the primitives in the `torch.Tensor` and `autograd` packages.\n",
        "In the section immediately following, we will present the compact implementation, using all of torch's bells and whistles,\n",
        "but this is where we dive into the details.\n",
        "\n",
        "To start off, we import the packages required to run this section's experiments: we'll be using `matplotlib` for plotting, setting it to embed in the GUI."
      ]
    },
    {
      "cell_type": "code",
      "metadata": {
        "attributes": {
          "classes": [],
          "id": "",
          "n": "1"
        },
        "id": "xBf0gNrJV689",
        "colab_type": "code",
        "colab": {}
      },
      "source": [
        "%matplotlib inline\n",
        "from IPython import display\n",
        "from matplotlib import pyplot as plt\n",
        "import torch\n",
        "import random"
      ],
      "execution_count": 0,
      "outputs": []
    },
    {
      "cell_type": "markdown",
      "metadata": {
        "id": "FuwGqe5oV68_",
        "colab_type": "text"
      },
      "source": [
        "## Generating Data Sets\n",
        "\n",
        "For this demonstration, we will construct a simple artificial dataset\n",
        "so that we can easily visualize the data\n",
        "and compare the true pattern to the learned parameters.\n",
        "We will set the number of examples in our training set to be 1000\n",
        "and the number of features (or covariates) to 2.\n",
        "Thus our synthetic dataset will be an object\n",
        "$\\mathbf{X}\\in \\mathbb{R}^{1000 \\times 2}$.\n",
        "In this example, we will synthesize our data by sampling\n",
        "each data point $\\mathbf{x}_i$ from a Gaussian distribution.\n",
        "\n",
        "Moreover, to make sure that our algorithm works,\n",
        "we will assume that the linearity assumption holds\n",
        "with true underlying parameters $\\mathbf{w} = [2, -3.4]^\\top$ and $b = 4.2$.\n",
        "Thus our synthetic labels will be given according to the\n",
        "following linear model which includes a noise term $\\epsilon$ to account for\n",
        "measurement errors on the features and labels:\n",
        "\n",
        "$$\\mathbf{y}= \\mathbf{X} \\mathbf{w} + b + \\mathbf\\epsilon$$\n",
        "\n",
        "Following standard assumptions, we choose a noise term $\\epsilon$\n",
        "that obeys a normal distribution with mean of $0$,\n",
        "and in this example, we'll set its standard deviation to $0.01$.\n",
        "The following code generates our synthetic dataset:"
      ]
    },
    {
      "cell_type": "code",
      "metadata": {
        "attributes": {
          "classes": [],
          "id": "",
          "n": "2"
        },
        "id": "z2lxbXo7V68_",
        "colab_type": "code",
        "colab": {}
      },
      "source": [
        "num_inputs = 2\n",
        "num_examples = 1000\n",
        "true_w = torch.tensor([2, -3.4])\n",
        "true_b = 4.2\n",
        "features = torch.zeros(size=(num_examples, num_inputs)).normal_()\n",
        "labels = torch.matmul(features, true_w) + true_b\n",
        "labels += torch.zeros(size=labels.shape).normal_(std=0.01)"
      ],
      "execution_count": 0,
      "outputs": []
    },
    {
      "cell_type": "markdown",
      "metadata": {
        "id": "k6xI9qZAV69B",
        "colab_type": "text"
      },
      "source": [
        "Note that each row in `features` consists of a 2-dimensional data point and that each row in `labels` consists of a 1-dimensional target value (a scalar)."
      ]
    },
    {
      "cell_type": "code",
      "metadata": {
        "attributes": {
          "classes": [],
          "id": "",
          "n": "3"
        },
        "id": "momdVY6SV69B",
        "colab_type": "code",
        "outputId": "57b8b2bc-dd32-4616-eccf-c91dbb2bcfdc",
        "colab": {
          "base_uri": "https://localhost:8080/",
          "height": 34
        }
      },
      "source": [
        "features[0], labels[0]"
      ],
      "execution_count": 0,
      "outputs": [
        {
          "output_type": "execute_result",
          "data": {
            "text/plain": [
              "(tensor([-1.1086, -3.1176]), tensor(12.5709))"
            ]
          },
          "metadata": {
            "tags": []
          },
          "execution_count": 21
        }
      ]
    },
    {
      "cell_type": "markdown",
      "metadata": {
        "id": "s43X5w_wV69C",
        "colab_type": "text"
      },
      "source": [
        "By generating a scatter plot using the second `features[:, 1]` and `labels`, we can clearly observe the linear correlation between the two."
      ]
    },
    {
      "cell_type": "code",
      "metadata": {
        "attributes": {
          "classes": [],
          "id": "",
          "n": "4"
        },
        "id": "C4GDw7iYV69D",
        "colab_type": "code",
        "outputId": "0ae32340-3ec5-442b-deee-011bc261c1aa",
        "colab": {
          "base_uri": "https://localhost:8080/",
          "height": 497
        }
      },
      "source": [
        "def use_svg_display():\n",
        "    # Display in vector graphics\n",
        "    display.set_matplotlib_formats('svg')\n",
        "\n",
        "def set_figsize(figsize=(3.5, 2.5)):\n",
        "    use_svg_display()\n",
        "    # Set the size of the graph to be plotted\n",
        "    plt.rcParams['figure.figsize'] = figsize\n",
        "\n",
        "set_figsize()\n",
        "plt.figure(figsize=(10, 6))\n",
        "plt.scatter(features[:, 1].numpy(), labels.numpy(), 1);"
      ],
      "execution_count": 0,
      "outputs": [
        {
          "output_type": "display_data",
          "data": {
            "text/plain": [
              "<Figure size 720x432 with 1 Axes>"
            ],
            "image/svg+xml": "<?xml version=\"1.0\" encoding=\"utf-8\" standalone=\"no\"?>\n<!DOCTYPE svg PUBLIC \"-//W3C//DTD SVG 1.1//EN\"\n  \"http://www.w3.org/Graphics/SVG/1.1/DTD/svg11.dtd\">\n<!-- Created with matplotlib (https://matplotlib.org/) -->\n<svg height=\"357.238125pt\" version=\"1.1\" viewBox=\"0 0 594.142187 357.238125\" width=\"594.142187pt\" xmlns=\"http://www.w3.org/2000/svg\" xmlns:xlink=\"http://www.w3.org/1999/xlink\">\n <defs>\n  <style type=\"text/css\">\n*{stroke-linecap:butt;stroke-linejoin:round;}\n  </style>\n </defs>\n <g id=\"figure_1\">\n  <g id=\"patch_1\">\n   <path d=\"M 0 357.238125 \nL 594.142187 357.238125 \nL 594.142187 0 \nL 0 0 \nz\n\" style=\"fill:none;\"/>\n  </g>\n  <g id=\"axes_1\">\n   <g id=\"patch_2\">\n    <path d=\"M 28.942188 333.36 \nL 586.942188 333.36 \nL 586.942188 7.2 \nL 28.942188 7.2 \nz\n\" style=\"fill:#ffffff;\"/>\n   </g>\n   <g id=\"PathCollection_1\">\n    <defs>\n     <path d=\"M 0 0.5 \nC 0.132602 0.5 0.25979 0.447317 0.353553 0.353553 \nC 0.447317 0.25979 0.5 0.132602 0.5 0 \nC 0.5 -0.132602 0.447317 -0.25979 0.353553 -0.353553 \nC 0.25979 -0.447317 0.132602 -0.5 0 -0.5 \nC -0.132602 -0.5 -0.25979 -0.447317 -0.353553 -0.353553 \nC -0.447317 -0.25979 -0.5 -0.132602 -0.5 0 \nC -0.5 0.132602 -0.447317 0.25979 -0.353553 0.353553 \nC -0.25979 0.447317 -0.132602 0.5 0 0.5 \nz\n\" id=\"m6e960385da\" style=\"stroke:#1f77b4;\"/>\n    </defs>\n    <g clip-path=\"url(#p7be4fbdabf)\">\n     <use style=\"fill:#1f77b4;stroke:#1f77b4;\" x=\"70.227423\" xlink:href=\"#m6e960385da\" y=\"51.591979\"/>\n     <use style=\"fill:#1f77b4;stroke:#1f77b4;\" x=\"316.716706\" xlink:href=\"#m6e960385da\" y=\"116.19416\"/>\n     <use style=\"fill:#1f77b4;stroke:#1f77b4;\" x=\"363.755758\" xlink:href=\"#m6e960385da\" y=\"148.637546\"/>\n     <use style=\"fill:#1f77b4;stroke:#1f77b4;\" x=\"370.07597\" xlink:href=\"#m6e960385da\" y=\"190.5857\"/>\n     <use style=\"fill:#1f77b4;stroke:#1f77b4;\" x=\"193.728102\" xlink:href=\"#m6e960385da\" y=\"100.600414\"/>\n     <use style=\"fill:#1f77b4;stroke:#1f77b4;\" x=\"280.997186\" xlink:href=\"#m6e960385da\" y=\"130.607396\"/>\n     <use style=\"fill:#1f77b4;stroke:#1f77b4;\" x=\"188.947662\" xlink:href=\"#m6e960385da\" y=\"73.494581\"/>\n     <use style=\"fill:#1f77b4;stroke:#1f77b4;\" x=\"301.632081\" xlink:href=\"#m6e960385da\" y=\"180.469662\"/>\n     <use style=\"fill:#1f77b4;stroke:#1f77b4;\" x=\"209.89288\" xlink:href=\"#m6e960385da\" y=\"103.71478\"/>\n     <use style=\"fill:#1f77b4;stroke:#1f77b4;\" x=\"342.483215\" xlink:href=\"#m6e960385da\" y=\"158.023616\"/>\n     <use style=\"fill:#1f77b4;stroke:#1f77b4;\" x=\"197.789805\" xlink:href=\"#m6e960385da\" y=\"112.862551\"/>\n     <use style=\"fill:#1f77b4;stroke:#1f77b4;\" x=\"366.495884\" xlink:href=\"#m6e960385da\" y=\"205.309615\"/>\n     <use style=\"fill:#1f77b4;stroke:#1f77b4;\" x=\"243.749338\" xlink:href=\"#m6e960385da\" y=\"98.851665\"/>\n     <use style=\"fill:#1f77b4;stroke:#1f77b4;\" x=\"351.281722\" xlink:href=\"#m6e960385da\" y=\"195.342833\"/>\n     <use style=\"fill:#1f77b4;stroke:#1f77b4;\" x=\"329.155717\" xlink:href=\"#m6e960385da\" y=\"180.509417\"/>\n     <use style=\"fill:#1f77b4;stroke:#1f77b4;\" x=\"266.794474\" xlink:href=\"#m6e960385da\" y=\"146.120392\"/>\n     <use style=\"fill:#1f77b4;stroke:#1f77b4;\" x=\"276.588835\" xlink:href=\"#m6e960385da\" y=\"145.298565\"/>\n     <use style=\"fill:#1f77b4;stroke:#1f77b4;\" x=\"227.433163\" xlink:href=\"#m6e960385da\" y=\"92.571789\"/>\n     <use style=\"fill:#1f77b4;stroke:#1f77b4;\" x=\"301.728655\" xlink:href=\"#m6e960385da\" y=\"183.223769\"/>\n     <use style=\"fill:#1f77b4;stroke:#1f77b4;\" x=\"274.842372\" xlink:href=\"#m6e960385da\" y=\"106.007939\"/>\n     <use style=\"fill:#1f77b4;stroke:#1f77b4;\" x=\"409.691927\" xlink:href=\"#m6e960385da\" y=\"192.265859\"/>\n     <use style=\"fill:#1f77b4;stroke:#1f77b4;\" x=\"293.857409\" xlink:href=\"#m6e960385da\" y=\"156.935572\"/>\n     <use style=\"fill:#1f77b4;stroke:#1f77b4;\" x=\"364.509909\" xlink:href=\"#m6e960385da\" y=\"191.098518\"/>\n     <use style=\"fill:#1f77b4;stroke:#1f77b4;\" x=\"359.140724\" xlink:href=\"#m6e960385da\" y=\"205.836285\"/>\n     <use style=\"fill:#1f77b4;stroke:#1f77b4;\" x=\"165.787852\" xlink:href=\"#m6e960385da\" y=\"69.03386\"/>\n     <use style=\"fill:#1f77b4;stroke:#1f77b4;\" x=\"336.708016\" xlink:href=\"#m6e960385da\" y=\"138.28965\"/>\n     <use style=\"fill:#1f77b4;stroke:#1f77b4;\" x=\"367.122416\" xlink:href=\"#m6e960385da\" y=\"152.84739\"/>\n     <use style=\"fill:#1f77b4;stroke:#1f77b4;\" x=\"258.987948\" xlink:href=\"#m6e960385da\" y=\"120.329782\"/>\n     <use style=\"fill:#1f77b4;stroke:#1f77b4;\" x=\"236.506969\" xlink:href=\"#m6e960385da\" y=\"97.473923\"/>\n     <use style=\"fill:#1f77b4;stroke:#1f77b4;\" x=\"332.009305\" xlink:href=\"#m6e960385da\" y=\"183.514137\"/>\n     <use style=\"fill:#1f77b4;stroke:#1f77b4;\" x=\"412.023407\" xlink:href=\"#m6e960385da\" y=\"273.235957\"/>\n     <use style=\"fill:#1f77b4;stroke:#1f77b4;\" x=\"246.456841\" xlink:href=\"#m6e960385da\" y=\"98.711461\"/>\n     <use style=\"fill:#1f77b4;stroke:#1f77b4;\" x=\"166.361457\" xlink:href=\"#m6e960385da\" y=\"79.120076\"/>\n     <use style=\"fill:#1f77b4;stroke:#1f77b4;\" x=\"414.136046\" xlink:href=\"#m6e960385da\" y=\"259.358843\"/>\n     <use style=\"fill:#1f77b4;stroke:#1f77b4;\" x=\"309.357391\" xlink:href=\"#m6e960385da\" y=\"136.459524\"/>\n     <use style=\"fill:#1f77b4;stroke:#1f77b4;\" x=\"300.925524\" xlink:href=\"#m6e960385da\" y=\"165.656766\"/>\n     <use style=\"fill:#1f77b4;stroke:#1f77b4;\" x=\"431.54854\" xlink:href=\"#m6e960385da\" y=\"181.035664\"/>\n     <use style=\"fill:#1f77b4;stroke:#1f77b4;\" x=\"451.189693\" xlink:href=\"#m6e960385da\" y=\"283.153672\"/>\n     <use style=\"fill:#1f77b4;stroke:#1f77b4;\" x=\"239.242383\" xlink:href=\"#m6e960385da\" y=\"136.762817\"/>\n     <use style=\"fill:#1f77b4;stroke:#1f77b4;\" x=\"353.247728\" xlink:href=\"#m6e960385da\" y=\"184.929381\"/>\n     <use style=\"fill:#1f77b4;stroke:#1f77b4;\" x=\"438.745317\" xlink:href=\"#m6e960385da\" y=\"272.454911\"/>\n     <use style=\"fill:#1f77b4;stroke:#1f77b4;\" x=\"376.540776\" xlink:href=\"#m6e960385da\" y=\"168.101476\"/>\n     <use style=\"fill:#1f77b4;stroke:#1f77b4;\" x=\"248.132579\" xlink:href=\"#m6e960385da\" y=\"126.5395\"/>\n     <use style=\"fill:#1f77b4;stroke:#1f77b4;\" x=\"301.551691\" xlink:href=\"#m6e960385da\" y=\"131.48025\"/>\n     <use style=\"fill:#1f77b4;stroke:#1f77b4;\" x=\"461.174923\" xlink:href=\"#m6e960385da\" y=\"248.336904\"/>\n     <use style=\"fill:#1f77b4;stroke:#1f77b4;\" x=\"141.536274\" xlink:href=\"#m6e960385da\" y=\"55.044104\"/>\n     <use style=\"fill:#1f77b4;stroke:#1f77b4;\" x=\"285.781649\" xlink:href=\"#m6e960385da\" y=\"124.242469\"/>\n     <use style=\"fill:#1f77b4;stroke:#1f77b4;\" x=\"429.174034\" xlink:href=\"#m6e960385da\" y=\"207.847451\"/>\n     <use style=\"fill:#1f77b4;stroke:#1f77b4;\" x=\"370.377935\" xlink:href=\"#m6e960385da\" y=\"136.406809\"/>\n     <use style=\"fill:#1f77b4;stroke:#1f77b4;\" x=\"244.307159\" xlink:href=\"#m6e960385da\" y=\"114.494477\"/>\n     <use style=\"fill:#1f77b4;stroke:#1f77b4;\" x=\"390.018693\" xlink:href=\"#m6e960385da\" y=\"210.88526\"/>\n     <use style=\"fill:#1f77b4;stroke:#1f77b4;\" x=\"311.161476\" xlink:href=\"#m6e960385da\" y=\"192.159068\"/>\n     <use style=\"fill:#1f77b4;stroke:#1f77b4;\" x=\"311.695499\" xlink:href=\"#m6e960385da\" y=\"206.105008\"/>\n     <use style=\"fill:#1f77b4;stroke:#1f77b4;\" x=\"291.658346\" xlink:href=\"#m6e960385da\" y=\"121.798538\"/>\n     <use style=\"fill:#1f77b4;stroke:#1f77b4;\" x=\"428.460833\" xlink:href=\"#m6e960385da\" y=\"186.896597\"/>\n     <use style=\"fill:#1f77b4;stroke:#1f77b4;\" x=\"355.422809\" xlink:href=\"#m6e960385da\" y=\"196.610678\"/>\n     <use style=\"fill:#1f77b4;stroke:#1f77b4;\" x=\"310.271482\" xlink:href=\"#m6e960385da\" y=\"189.386238\"/>\n     <use style=\"fill:#1f77b4;stroke:#1f77b4;\" x=\"315.062402\" xlink:href=\"#m6e960385da\" y=\"167.957375\"/>\n     <use style=\"fill:#1f77b4;stroke:#1f77b4;\" x=\"172.837407\" xlink:href=\"#m6e960385da\" y=\"72.742291\"/>\n     <use style=\"fill:#1f77b4;stroke:#1f77b4;\" x=\"259.576942\" xlink:href=\"#m6e960385da\" y=\"127.022111\"/>\n     <use style=\"fill:#1f77b4;stroke:#1f77b4;\" x=\"404.928322\" xlink:href=\"#m6e960385da\" y=\"234.148991\"/>\n     <use style=\"fill:#1f77b4;stroke:#1f77b4;\" x=\"277.058125\" xlink:href=\"#m6e960385da\" y=\"156.75978\"/>\n     <use style=\"fill:#1f77b4;stroke:#1f77b4;\" x=\"326.599502\" xlink:href=\"#m6e960385da\" y=\"180.680534\"/>\n     <use style=\"fill:#1f77b4;stroke:#1f77b4;\" x=\"170.871631\" xlink:href=\"#m6e960385da\" y=\"104.54069\"/>\n     <use style=\"fill:#1f77b4;stroke:#1f77b4;\" x=\"561.578551\" xlink:href=\"#m6e960385da\" y=\"308.294697\"/>\n     <use style=\"fill:#1f77b4;stroke:#1f77b4;\" x=\"319.152994\" xlink:href=\"#m6e960385da\" y=\"164.995273\"/>\n     <use style=\"fill:#1f77b4;stroke:#1f77b4;\" x=\"333.364855\" xlink:href=\"#m6e960385da\" y=\"141.806012\"/>\n     <use style=\"fill:#1f77b4;stroke:#1f77b4;\" x=\"311.670559\" xlink:href=\"#m6e960385da\" y=\"151.09318\"/>\n     <use style=\"fill:#1f77b4;stroke:#1f77b4;\" x=\"220.991813\" xlink:href=\"#m6e960385da\" y=\"102.553469\"/>\n     <use style=\"fill:#1f77b4;stroke:#1f77b4;\" x=\"255.256461\" xlink:href=\"#m6e960385da\" y=\"91.854137\"/>\n     <use style=\"fill:#1f77b4;stroke:#1f77b4;\" x=\"452.226354\" xlink:href=\"#m6e960385da\" y=\"242.642275\"/>\n     <use style=\"fill:#1f77b4;stroke:#1f77b4;\" x=\"388.591834\" xlink:href=\"#m6e960385da\" y=\"222.431117\"/>\n     <use style=\"fill:#1f77b4;stroke:#1f77b4;\" x=\"253.532753\" xlink:href=\"#m6e960385da\" y=\"110.497142\"/>\n     <use style=\"fill:#1f77b4;stroke:#1f77b4;\" x=\"292.545267\" xlink:href=\"#m6e960385da\" y=\"203.3559\"/>\n     <use style=\"fill:#1f77b4;stroke:#1f77b4;\" x=\"312.752025\" xlink:href=\"#m6e960385da\" y=\"152.040661\"/>\n     <use style=\"fill:#1f77b4;stroke:#1f77b4;\" x=\"166.268795\" xlink:href=\"#m6e960385da\" y=\"54.424224\"/>\n     <use style=\"fill:#1f77b4;stroke:#1f77b4;\" x=\"332.071357\" xlink:href=\"#m6e960385da\" y=\"182.138474\"/>\n     <use style=\"fill:#1f77b4;stroke:#1f77b4;\" x=\"271.819849\" xlink:href=\"#m6e960385da\" y=\"122.381837\"/>\n     <use style=\"fill:#1f77b4;stroke:#1f77b4;\" x=\"151.510112\" xlink:href=\"#m6e960385da\" y=\"69.204321\"/>\n     <use style=\"fill:#1f77b4;stroke:#1f77b4;\" x=\"411.319791\" xlink:href=\"#m6e960385da\" y=\"204.362159\"/>\n     <use style=\"fill:#1f77b4;stroke:#1f77b4;\" x=\"336.13436\" xlink:href=\"#m6e960385da\" y=\"146.367285\"/>\n     <use style=\"fill:#1f77b4;stroke:#1f77b4;\" x=\"367.134406\" xlink:href=\"#m6e960385da\" y=\"188.194618\"/>\n     <use style=\"fill:#1f77b4;stroke:#1f77b4;\" x=\"286.176575\" xlink:href=\"#m6e960385da\" y=\"164.460041\"/>\n     <use style=\"fill:#1f77b4;stroke:#1f77b4;\" x=\"204.200169\" xlink:href=\"#m6e960385da\" y=\"73.883434\"/>\n     <use style=\"fill:#1f77b4;stroke:#1f77b4;\" x=\"420.158176\" xlink:href=\"#m6e960385da\" y=\"172.537788\"/>\n     <use style=\"fill:#1f77b4;stroke:#1f77b4;\" x=\"250.296083\" xlink:href=\"#m6e960385da\" y=\"111.743281\"/>\n     <use style=\"fill:#1f77b4;stroke:#1f77b4;\" x=\"402.599572\" xlink:href=\"#m6e960385da\" y=\"230.051458\"/>\n     <use style=\"fill:#1f77b4;stroke:#1f77b4;\" x=\"256.901775\" xlink:href=\"#m6e960385da\" y=\"138.782934\"/>\n     <use style=\"fill:#1f77b4;stroke:#1f77b4;\" x=\"393.271633\" xlink:href=\"#m6e960385da\" y=\"242.432651\"/>\n     <use style=\"fill:#1f77b4;stroke:#1f77b4;\" x=\"298.121599\" xlink:href=\"#m6e960385da\" y=\"163.01417\"/>\n     <use style=\"fill:#1f77b4;stroke:#1f77b4;\" x=\"391.77443\" xlink:href=\"#m6e960385da\" y=\"174.473192\"/>\n     <use style=\"fill:#1f77b4;stroke:#1f77b4;\" x=\"397.153364\" xlink:href=\"#m6e960385da\" y=\"219.33286\"/>\n     <use style=\"fill:#1f77b4;stroke:#1f77b4;\" x=\"316.511494\" xlink:href=\"#m6e960385da\" y=\"159.198138\"/>\n     <use style=\"fill:#1f77b4;stroke:#1f77b4;\" x=\"446.145814\" xlink:href=\"#m6e960385da\" y=\"313.621235\"/>\n     <use style=\"fill:#1f77b4;stroke:#1f77b4;\" x=\"418.358923\" xlink:href=\"#m6e960385da\" y=\"200.967409\"/>\n     <use style=\"fill:#1f77b4;stroke:#1f77b4;\" x=\"303.926187\" xlink:href=\"#m6e960385da\" y=\"155.222342\"/>\n     <use style=\"fill:#1f77b4;stroke:#1f77b4;\" x=\"331.688272\" xlink:href=\"#m6e960385da\" y=\"208.476762\"/>\n     <use style=\"fill:#1f77b4;stroke:#1f77b4;\" x=\"330.792471\" xlink:href=\"#m6e960385da\" y=\"177.474154\"/>\n     <use style=\"fill:#1f77b4;stroke:#1f77b4;\" x=\"271.136314\" xlink:href=\"#m6e960385da\" y=\"160.224433\"/>\n     <use style=\"fill:#1f77b4;stroke:#1f77b4;\" x=\"427.614862\" xlink:href=\"#m6e960385da\" y=\"186.120838\"/>\n     <use style=\"fill:#1f77b4;stroke:#1f77b4;\" x=\"269.445648\" xlink:href=\"#m6e960385da\" y=\"153.356237\"/>\n     <use style=\"fill:#1f77b4;stroke:#1f77b4;\" x=\"250.759524\" xlink:href=\"#m6e960385da\" y=\"76.368799\"/>\n     <use style=\"fill:#1f77b4;stroke:#1f77b4;\" x=\"459.520877\" xlink:href=\"#m6e960385da\" y=\"261.354954\"/>\n     <use style=\"fill:#1f77b4;stroke:#1f77b4;\" x=\"473.556822\" xlink:href=\"#m6e960385da\" y=\"224.094679\"/>\n     <use style=\"fill:#1f77b4;stroke:#1f77b4;\" x=\"163.230639\" xlink:href=\"#m6e960385da\" y=\"84.257915\"/>\n     <use style=\"fill:#1f77b4;stroke:#1f77b4;\" x=\"287.937606\" xlink:href=\"#m6e960385da\" y=\"191.288026\"/>\n     <use style=\"fill:#1f77b4;stroke:#1f77b4;\" x=\"267.35166\" xlink:href=\"#m6e960385da\" y=\"146.435861\"/>\n     <use style=\"fill:#1f77b4;stroke:#1f77b4;\" x=\"372.304949\" xlink:href=\"#m6e960385da\" y=\"219.067874\"/>\n     <use style=\"fill:#1f77b4;stroke:#1f77b4;\" x=\"347.538042\" xlink:href=\"#m6e960385da\" y=\"187.345742\"/>\n     <use style=\"fill:#1f77b4;stroke:#1f77b4;\" x=\"384.696013\" xlink:href=\"#m6e960385da\" y=\"238.636808\"/>\n     <use style=\"fill:#1f77b4;stroke:#1f77b4;\" x=\"491.020862\" xlink:href=\"#m6e960385da\" y=\"230.184312\"/>\n     <use style=\"fill:#1f77b4;stroke:#1f77b4;\" x=\"358.0848\" xlink:href=\"#m6e960385da\" y=\"150.93701\"/>\n     <use style=\"fill:#1f77b4;stroke:#1f77b4;\" x=\"420.239719\" xlink:href=\"#m6e960385da\" y=\"223.723891\"/>\n     <use style=\"fill:#1f77b4;stroke:#1f77b4;\" x=\"285.838856\" xlink:href=\"#m6e960385da\" y=\"153.692947\"/>\n     <use style=\"fill:#1f77b4;stroke:#1f77b4;\" x=\"442.697316\" xlink:href=\"#m6e960385da\" y=\"238.254081\"/>\n     <use style=\"fill:#1f77b4;stroke:#1f77b4;\" x=\"245.355706\" xlink:href=\"#m6e960385da\" y=\"165.934807\"/>\n     <use style=\"fill:#1f77b4;stroke:#1f77b4;\" x=\"336.88062\" xlink:href=\"#m6e960385da\" y=\"135.008577\"/>\n     <use style=\"fill:#1f77b4;stroke:#1f77b4;\" x=\"431.844772\" xlink:href=\"#m6e960385da\" y=\"207.057432\"/>\n     <use style=\"fill:#1f77b4;stroke:#1f77b4;\" x=\"329.238167\" xlink:href=\"#m6e960385da\" y=\"160.205401\"/>\n     <use style=\"fill:#1f77b4;stroke:#1f77b4;\" x=\"339.27829\" xlink:href=\"#m6e960385da\" y=\"164.409154\"/>\n     <use style=\"fill:#1f77b4;stroke:#1f77b4;\" x=\"137.362308\" xlink:href=\"#m6e960385da\" y=\"38.55687\"/>\n     <use style=\"fill:#1f77b4;stroke:#1f77b4;\" x=\"294.189978\" xlink:href=\"#m6e960385da\" y=\"171.460805\"/>\n     <use style=\"fill:#1f77b4;stroke:#1f77b4;\" x=\"446.183888\" xlink:href=\"#m6e960385da\" y=\"238.423297\"/>\n     <use style=\"fill:#1f77b4;stroke:#1f77b4;\" x=\"368.602733\" xlink:href=\"#m6e960385da\" y=\"164.436514\"/>\n     <use style=\"fill:#1f77b4;stroke:#1f77b4;\" x=\"468.733977\" xlink:href=\"#m6e960385da\" y=\"225.083262\"/>\n     <use style=\"fill:#1f77b4;stroke:#1f77b4;\" x=\"253.750479\" xlink:href=\"#m6e960385da\" y=\"134.286116\"/>\n     <use style=\"fill:#1f77b4;stroke:#1f77b4;\" x=\"282.98189\" xlink:href=\"#m6e960385da\" y=\"138.646751\"/>\n     <use style=\"fill:#1f77b4;stroke:#1f77b4;\" x=\"119.437452\" xlink:href=\"#m6e960385da\" y=\"44.516959\"/>\n     <use style=\"fill:#1f77b4;stroke:#1f77b4;\" x=\"253.51342\" xlink:href=\"#m6e960385da\" y=\"143.460241\"/>\n     <use style=\"fill:#1f77b4;stroke:#1f77b4;\" x=\"281.576829\" xlink:href=\"#m6e960385da\" y=\"139.460418\"/>\n     <use style=\"fill:#1f77b4;stroke:#1f77b4;\" x=\"359.814712\" xlink:href=\"#m6e960385da\" y=\"188.8968\"/>\n     <use style=\"fill:#1f77b4;stroke:#1f77b4;\" x=\"404.622129\" xlink:href=\"#m6e960385da\" y=\"198.090615\"/>\n     <use style=\"fill:#1f77b4;stroke:#1f77b4;\" x=\"174.847404\" xlink:href=\"#m6e960385da\" y=\"48.184732\"/>\n     <use style=\"fill:#1f77b4;stroke:#1f77b4;\" x=\"241.326928\" xlink:href=\"#m6e960385da\" y=\"110.657055\"/>\n     <use style=\"fill:#1f77b4;stroke:#1f77b4;\" x=\"295.139617\" xlink:href=\"#m6e960385da\" y=\"185.402222\"/>\n     <use style=\"fill:#1f77b4;stroke:#1f77b4;\" x=\"221.554309\" xlink:href=\"#m6e960385da\" y=\"65.999866\"/>\n     <use style=\"fill:#1f77b4;stroke:#1f77b4;\" x=\"285.071432\" xlink:href=\"#m6e960385da\" y=\"138.421669\"/>\n     <use style=\"fill:#1f77b4;stroke:#1f77b4;\" x=\"331.26418\" xlink:href=\"#m6e960385da\" y=\"159.416282\"/>\n     <use style=\"fill:#1f77b4;stroke:#1f77b4;\" x=\"372.494773\" xlink:href=\"#m6e960385da\" y=\"197.1428\"/>\n     <use style=\"fill:#1f77b4;stroke:#1f77b4;\" x=\"237.108452\" xlink:href=\"#m6e960385da\" y=\"165.291527\"/>\n     <use style=\"fill:#1f77b4;stroke:#1f77b4;\" x=\"403.291392\" xlink:href=\"#m6e960385da\" y=\"212.731623\"/>\n     <use style=\"fill:#1f77b4;stroke:#1f77b4;\" x=\"276.896591\" xlink:href=\"#m6e960385da\" y=\"143.074633\"/>\n     <use style=\"fill:#1f77b4;stroke:#1f77b4;\" x=\"229.913314\" xlink:href=\"#m6e960385da\" y=\"90.402017\"/>\n     <use style=\"fill:#1f77b4;stroke:#1f77b4;\" x=\"400.377946\" xlink:href=\"#m6e960385da\" y=\"252.210429\"/>\n     <use style=\"fill:#1f77b4;stroke:#1f77b4;\" x=\"228.742283\" xlink:href=\"#m6e960385da\" y=\"86.448151\"/>\n     <use style=\"fill:#1f77b4;stroke:#1f77b4;\" x=\"406.14413\" xlink:href=\"#m6e960385da\" y=\"202.719148\"/>\n     <use style=\"fill:#1f77b4;stroke:#1f77b4;\" x=\"295.486715\" xlink:href=\"#m6e960385da\" y=\"131.929116\"/>\n     <use style=\"fill:#1f77b4;stroke:#1f77b4;\" x=\"224.159397\" xlink:href=\"#m6e960385da\" y=\"87.280304\"/>\n     <use style=\"fill:#1f77b4;stroke:#1f77b4;\" x=\"274.790688\" xlink:href=\"#m6e960385da\" y=\"139.142448\"/>\n     <use style=\"fill:#1f77b4;stroke:#1f77b4;\" x=\"304.109153\" xlink:href=\"#m6e960385da\" y=\"182.666793\"/>\n     <use style=\"fill:#1f77b4;stroke:#1f77b4;\" x=\"314.618707\" xlink:href=\"#m6e960385da\" y=\"140.093602\"/>\n     <use style=\"fill:#1f77b4;stroke:#1f77b4;\" x=\"382.478421\" xlink:href=\"#m6e960385da\" y=\"242.639945\"/>\n     <use style=\"fill:#1f77b4;stroke:#1f77b4;\" x=\"193.010702\" xlink:href=\"#m6e960385da\" y=\"103.189358\"/>\n     <use style=\"fill:#1f77b4;stroke:#1f77b4;\" x=\"308.310072\" xlink:href=\"#m6e960385da\" y=\"147.091912\"/>\n     <use style=\"fill:#1f77b4;stroke:#1f77b4;\" x=\"363.638339\" xlink:href=\"#m6e960385da\" y=\"162.659055\"/>\n     <use style=\"fill:#1f77b4;stroke:#1f77b4;\" x=\"295.50579\" xlink:href=\"#m6e960385da\" y=\"158.635751\"/>\n     <use style=\"fill:#1f77b4;stroke:#1f77b4;\" x=\"138.654848\" xlink:href=\"#m6e960385da\" y=\"75.043567\"/>\n     <use style=\"fill:#1f77b4;stroke:#1f77b4;\" x=\"340.332994\" xlink:href=\"#m6e960385da\" y=\"174.399661\"/>\n     <use style=\"fill:#1f77b4;stroke:#1f77b4;\" x=\"290.675868\" xlink:href=\"#m6e960385da\" y=\"158.899113\"/>\n     <use style=\"fill:#1f77b4;stroke:#1f77b4;\" x=\"282.580734\" xlink:href=\"#m6e960385da\" y=\"156.74089\"/>\n     <use style=\"fill:#1f77b4;stroke:#1f77b4;\" x=\"432.557615\" xlink:href=\"#m6e960385da\" y=\"251.866933\"/>\n     <use style=\"fill:#1f77b4;stroke:#1f77b4;\" x=\"316.96259\" xlink:href=\"#m6e960385da\" y=\"181.488538\"/>\n     <use style=\"fill:#1f77b4;stroke:#1f77b4;\" x=\"405.025361\" xlink:href=\"#m6e960385da\" y=\"257.348268\"/>\n     <use style=\"fill:#1f77b4;stroke:#1f77b4;\" x=\"331.503747\" xlink:href=\"#m6e960385da\" y=\"157.791647\"/>\n     <use style=\"fill:#1f77b4;stroke:#1f77b4;\" x=\"283.054517\" xlink:href=\"#m6e960385da\" y=\"118.57036\"/>\n     <use style=\"fill:#1f77b4;stroke:#1f77b4;\" x=\"365.664412\" xlink:href=\"#m6e960385da\" y=\"228.597551\"/>\n     <use style=\"fill:#1f77b4;stroke:#1f77b4;\" x=\"335.58788\" xlink:href=\"#m6e960385da\" y=\"214.452463\"/>\n     <use style=\"fill:#1f77b4;stroke:#1f77b4;\" x=\"279.630965\" xlink:href=\"#m6e960385da\" y=\"160.544568\"/>\n     <use style=\"fill:#1f77b4;stroke:#1f77b4;\" x=\"204.058785\" xlink:href=\"#m6e960385da\" y=\"121.133899\"/>\n     <use style=\"fill:#1f77b4;stroke:#1f77b4;\" x=\"329.394069\" xlink:href=\"#m6e960385da\" y=\"135.870913\"/>\n     <use style=\"fill:#1f77b4;stroke:#1f77b4;\" x=\"225.779597\" xlink:href=\"#m6e960385da\" y=\"129.733853\"/>\n     <use style=\"fill:#1f77b4;stroke:#1f77b4;\" x=\"229.169448\" xlink:href=\"#m6e960385da\" y=\"115.741348\"/>\n     <use style=\"fill:#1f77b4;stroke:#1f77b4;\" x=\"326.271163\" xlink:href=\"#m6e960385da\" y=\"185.639683\"/>\n     <use style=\"fill:#1f77b4;stroke:#1f77b4;\" x=\"274.602191\" xlink:href=\"#m6e960385da\" y=\"136.919956\"/>\n     <use style=\"fill:#1f77b4;stroke:#1f77b4;\" x=\"343.998175\" xlink:href=\"#m6e960385da\" y=\"180.266101\"/>\n     <use style=\"fill:#1f77b4;stroke:#1f77b4;\" x=\"200.593962\" xlink:href=\"#m6e960385da\" y=\"120.539784\"/>\n     <use style=\"fill:#1f77b4;stroke:#1f77b4;\" x=\"318.435708\" xlink:href=\"#m6e960385da\" y=\"129.926549\"/>\n     <use style=\"fill:#1f77b4;stroke:#1f77b4;\" x=\"343.535614\" xlink:href=\"#m6e960385da\" y=\"199.871072\"/>\n     <use style=\"fill:#1f77b4;stroke:#1f77b4;\" x=\"362.420021\" xlink:href=\"#m6e960385da\" y=\"194.026111\"/>\n     <use style=\"fill:#1f77b4;stroke:#1f77b4;\" x=\"369.055742\" xlink:href=\"#m6e960385da\" y=\"195.805724\"/>\n     <use style=\"fill:#1f77b4;stroke:#1f77b4;\" x=\"252.299541\" xlink:href=\"#m6e960385da\" y=\"185.027948\"/>\n     <use style=\"fill:#1f77b4;stroke:#1f77b4;\" x=\"337.110917\" xlink:href=\"#m6e960385da\" y=\"131.37806\"/>\n     <use style=\"fill:#1f77b4;stroke:#1f77b4;\" x=\"158.529878\" xlink:href=\"#m6e960385da\" y=\"86.160358\"/>\n     <use style=\"fill:#1f77b4;stroke:#1f77b4;\" x=\"210.874944\" xlink:href=\"#m6e960385da\" y=\"99.362566\"/>\n     <use style=\"fill:#1f77b4;stroke:#1f77b4;\" x=\"363.713969\" xlink:href=\"#m6e960385da\" y=\"188.998981\"/>\n     <use style=\"fill:#1f77b4;stroke:#1f77b4;\" x=\"220.771974\" xlink:href=\"#m6e960385da\" y=\"121.417665\"/>\n     <use style=\"fill:#1f77b4;stroke:#1f77b4;\" x=\"420.288931\" xlink:href=\"#m6e960385da\" y=\"246.503976\"/>\n     <use style=\"fill:#1f77b4;stroke:#1f77b4;\" x=\"291.228824\" xlink:href=\"#m6e960385da\" y=\"173.889579\"/>\n     <use style=\"fill:#1f77b4;stroke:#1f77b4;\" x=\"412.097013\" xlink:href=\"#m6e960385da\" y=\"202.676611\"/>\n     <use style=\"fill:#1f77b4;stroke:#1f77b4;\" x=\"334.317079\" xlink:href=\"#m6e960385da\" y=\"184.68269\"/>\n     <use style=\"fill:#1f77b4;stroke:#1f77b4;\" x=\"257.405357\" xlink:href=\"#m6e960385da\" y=\"108.11866\"/>\n     <use style=\"fill:#1f77b4;stroke:#1f77b4;\" x=\"328.944249\" xlink:href=\"#m6e960385da\" y=\"221.185792\"/>\n     <use style=\"fill:#1f77b4;stroke:#1f77b4;\" x=\"240.762295\" xlink:href=\"#m6e960385da\" y=\"133.808805\"/>\n     <use style=\"fill:#1f77b4;stroke:#1f77b4;\" x=\"291.965261\" xlink:href=\"#m6e960385da\" y=\"135.685285\"/>\n     <use style=\"fill:#1f77b4;stroke:#1f77b4;\" x=\"361.544492\" xlink:href=\"#m6e960385da\" y=\"184.103654\"/>\n     <use style=\"fill:#1f77b4;stroke:#1f77b4;\" x=\"148.162533\" xlink:href=\"#m6e960385da\" y=\"74.44718\"/>\n     <use style=\"fill:#1f77b4;stroke:#1f77b4;\" x=\"411.357752\" xlink:href=\"#m6e960385da\" y=\"222.326616\"/>\n     <use style=\"fill:#1f77b4;stroke:#1f77b4;\" x=\"364.808358\" xlink:href=\"#m6e960385da\" y=\"143.334073\"/>\n     <use style=\"fill:#1f77b4;stroke:#1f77b4;\" x=\"188.958546\" xlink:href=\"#m6e960385da\" y=\"94.454512\"/>\n     <use style=\"fill:#1f77b4;stroke:#1f77b4;\" x=\"348.956524\" xlink:href=\"#m6e960385da\" y=\"121.771929\"/>\n     <use style=\"fill:#1f77b4;stroke:#1f77b4;\" x=\"355.999616\" xlink:href=\"#m6e960385da\" y=\"177.350667\"/>\n     <use style=\"fill:#1f77b4;stroke:#1f77b4;\" x=\"340.152086\" xlink:href=\"#m6e960385da\" y=\"188.677182\"/>\n     <use style=\"fill:#1f77b4;stroke:#1f77b4;\" x=\"396.223826\" xlink:href=\"#m6e960385da\" y=\"152.945994\"/>\n     <use style=\"fill:#1f77b4;stroke:#1f77b4;\" x=\"317.422349\" xlink:href=\"#m6e960385da\" y=\"171.173562\"/>\n     <use style=\"fill:#1f77b4;stroke:#1f77b4;\" x=\"362.773619\" xlink:href=\"#m6e960385da\" y=\"216.680785\"/>\n     <use style=\"fill:#1f77b4;stroke:#1f77b4;\" x=\"309.320172\" xlink:href=\"#m6e960385da\" y=\"155.339742\"/>\n     <use style=\"fill:#1f77b4;stroke:#1f77b4;\" x=\"291.222038\" xlink:href=\"#m6e960385da\" y=\"134.112452\"/>\n     <use style=\"fill:#1f77b4;stroke:#1f77b4;\" x=\"290.632465\" xlink:href=\"#m6e960385da\" y=\"159.490721\"/>\n     <use style=\"fill:#1f77b4;stroke:#1f77b4;\" x=\"265.777815\" xlink:href=\"#m6e960385da\" y=\"175.862811\"/>\n     <use style=\"fill:#1f77b4;stroke:#1f77b4;\" x=\"234.833321\" xlink:href=\"#m6e960385da\" y=\"99.504458\"/>\n     <use style=\"fill:#1f77b4;stroke:#1f77b4;\" x=\"354.121119\" xlink:href=\"#m6e960385da\" y=\"175.141343\"/>\n     <use style=\"fill:#1f77b4;stroke:#1f77b4;\" x=\"324.87783\" xlink:href=\"#m6e960385da\" y=\"165.207237\"/>\n     <use style=\"fill:#1f77b4;stroke:#1f77b4;\" x=\"295.536132\" xlink:href=\"#m6e960385da\" y=\"190.640323\"/>\n     <use style=\"fill:#1f77b4;stroke:#1f77b4;\" x=\"294.039518\" xlink:href=\"#m6e960385da\" y=\"161.182487\"/>\n     <use style=\"fill:#1f77b4;stroke:#1f77b4;\" x=\"254.137296\" xlink:href=\"#m6e960385da\" y=\"149.397823\"/>\n     <use style=\"fill:#1f77b4;stroke:#1f77b4;\" x=\"323.087424\" xlink:href=\"#m6e960385da\" y=\"175.661695\"/>\n     <use style=\"fill:#1f77b4;stroke:#1f77b4;\" x=\"170.655116\" xlink:href=\"#m6e960385da\" y=\"66.426486\"/>\n     <use style=\"fill:#1f77b4;stroke:#1f77b4;\" x=\"352.663464\" xlink:href=\"#m6e960385da\" y=\"169.559444\"/>\n     <use style=\"fill:#1f77b4;stroke:#1f77b4;\" x=\"303.859478\" xlink:href=\"#m6e960385da\" y=\"167.37967\"/>\n     <use style=\"fill:#1f77b4;stroke:#1f77b4;\" x=\"323.576851\" xlink:href=\"#m6e960385da\" y=\"120.741142\"/>\n     <use style=\"fill:#1f77b4;stroke:#1f77b4;\" x=\"473.539677\" xlink:href=\"#m6e960385da\" y=\"229.091724\"/>\n     <use style=\"fill:#1f77b4;stroke:#1f77b4;\" x=\"372.231305\" xlink:href=\"#m6e960385da\" y=\"125.141572\"/>\n     <use style=\"fill:#1f77b4;stroke:#1f77b4;\" x=\"351.6604\" xlink:href=\"#m6e960385da\" y=\"208.797038\"/>\n     <use style=\"fill:#1f77b4;stroke:#1f77b4;\" x=\"331.799822\" xlink:href=\"#m6e960385da\" y=\"180.761439\"/>\n     <use style=\"fill:#1f77b4;stroke:#1f77b4;\" x=\"394.480126\" xlink:href=\"#m6e960385da\" y=\"201.041463\"/>\n     <use style=\"fill:#1f77b4;stroke:#1f77b4;\" x=\"358.75458\" xlink:href=\"#m6e960385da\" y=\"175.49612\"/>\n     <use style=\"fill:#1f77b4;stroke:#1f77b4;\" x=\"345.112382\" xlink:href=\"#m6e960385da\" y=\"186.745521\"/>\n     <use style=\"fill:#1f77b4;stroke:#1f77b4;\" x=\"307.349132\" xlink:href=\"#m6e960385da\" y=\"174.269938\"/>\n     <use style=\"fill:#1f77b4;stroke:#1f77b4;\" x=\"273.807363\" xlink:href=\"#m6e960385da\" y=\"129.220166\"/>\n     <use style=\"fill:#1f77b4;stroke:#1f77b4;\" x=\"288.655048\" xlink:href=\"#m6e960385da\" y=\"204.826831\"/>\n     <use style=\"fill:#1f77b4;stroke:#1f77b4;\" x=\"320.415891\" xlink:href=\"#m6e960385da\" y=\"233.855508\"/>\n     <use style=\"fill:#1f77b4;stroke:#1f77b4;\" x=\"397.607673\" xlink:href=\"#m6e960385da\" y=\"191.747462\"/>\n     <use style=\"fill:#1f77b4;stroke:#1f77b4;\" x=\"333.224128\" xlink:href=\"#m6e960385da\" y=\"118.37082\"/>\n     <use style=\"fill:#1f77b4;stroke:#1f77b4;\" x=\"297.824365\" xlink:href=\"#m6e960385da\" y=\"173.493196\"/>\n     <use style=\"fill:#1f77b4;stroke:#1f77b4;\" x=\"240.719739\" xlink:href=\"#m6e960385da\" y=\"124.049991\"/>\n     <use style=\"fill:#1f77b4;stroke:#1f77b4;\" x=\"283.123621\" xlink:href=\"#m6e960385da\" y=\"136.977008\"/>\n     <use style=\"fill:#1f77b4;stroke:#1f77b4;\" x=\"353.462967\" xlink:href=\"#m6e960385da\" y=\"197.586104\"/>\n     <use style=\"fill:#1f77b4;stroke:#1f77b4;\" x=\"293.674868\" xlink:href=\"#m6e960385da\" y=\"154.994816\"/>\n     <use style=\"fill:#1f77b4;stroke:#1f77b4;\" x=\"322.467679\" xlink:href=\"#m6e960385da\" y=\"182.364846\"/>\n     <use style=\"fill:#1f77b4;stroke:#1f77b4;\" x=\"252.004745\" xlink:href=\"#m6e960385da\" y=\"155.809265\"/>\n     <use style=\"fill:#1f77b4;stroke:#1f77b4;\" x=\"242.898513\" xlink:href=\"#m6e960385da\" y=\"135.371498\"/>\n     <use style=\"fill:#1f77b4;stroke:#1f77b4;\" x=\"325.401103\" xlink:href=\"#m6e960385da\" y=\"164.792221\"/>\n     <use style=\"fill:#1f77b4;stroke:#1f77b4;\" x=\"252.934466\" xlink:href=\"#m6e960385da\" y=\"149.663518\"/>\n     <use style=\"fill:#1f77b4;stroke:#1f77b4;\" x=\"456.450559\" xlink:href=\"#m6e960385da\" y=\"230.045022\"/>\n     <use style=\"fill:#1f77b4;stroke:#1f77b4;\" x=\"438.177209\" xlink:href=\"#m6e960385da\" y=\"226.266422\"/>\n     <use style=\"fill:#1f77b4;stroke:#1f77b4;\" x=\"321.975622\" xlink:href=\"#m6e960385da\" y=\"190.305792\"/>\n     <use style=\"fill:#1f77b4;stroke:#1f77b4;\" x=\"453.495903\" xlink:href=\"#m6e960385da\" y=\"243.419417\"/>\n     <use style=\"fill:#1f77b4;stroke:#1f77b4;\" x=\"346.076501\" xlink:href=\"#m6e960385da\" y=\"204.257265\"/>\n     <use style=\"fill:#1f77b4;stroke:#1f77b4;\" x=\"305.145581\" xlink:href=\"#m6e960385da\" y=\"195.810476\"/>\n     <use style=\"fill:#1f77b4;stroke:#1f77b4;\" x=\"356.347884\" xlink:href=\"#m6e960385da\" y=\"134.274245\"/>\n     <use style=\"fill:#1f77b4;stroke:#1f77b4;\" x=\"271.514018\" xlink:href=\"#m6e960385da\" y=\"149.932223\"/>\n     <use style=\"fill:#1f77b4;stroke:#1f77b4;\" x=\"233.301321\" xlink:href=\"#m6e960385da\" y=\"80.689762\"/>\n     <use style=\"fill:#1f77b4;stroke:#1f77b4;\" x=\"343.398635\" xlink:href=\"#m6e960385da\" y=\"151.767804\"/>\n     <use style=\"fill:#1f77b4;stroke:#1f77b4;\" x=\"132.928131\" xlink:href=\"#m6e960385da\" y=\"62.475747\"/>\n     <use style=\"fill:#1f77b4;stroke:#1f77b4;\" x=\"285.309668\" xlink:href=\"#m6e960385da\" y=\"143.685899\"/>\n     <use style=\"fill:#1f77b4;stroke:#1f77b4;\" x=\"187.009379\" xlink:href=\"#m6e960385da\" y=\"39.851783\"/>\n     <use style=\"fill:#1f77b4;stroke:#1f77b4;\" x=\"316.979921\" xlink:href=\"#m6e960385da\" y=\"154.691392\"/>\n     <use style=\"fill:#1f77b4;stroke:#1f77b4;\" x=\"390.110748\" xlink:href=\"#m6e960385da\" y=\"173.12034\"/>\n     <use style=\"fill:#1f77b4;stroke:#1f77b4;\" x=\"303.577812\" xlink:href=\"#m6e960385da\" y=\"162.565782\"/>\n     <use style=\"fill:#1f77b4;stroke:#1f77b4;\" x=\"240.536487\" xlink:href=\"#m6e960385da\" y=\"131.079768\"/>\n     <use style=\"fill:#1f77b4;stroke:#1f77b4;\" x=\"282.888148\" xlink:href=\"#m6e960385da\" y=\"146.146442\"/>\n     <use style=\"fill:#1f77b4;stroke:#1f77b4;\" x=\"305.214743\" xlink:href=\"#m6e960385da\" y=\"152.499418\"/>\n     <use style=\"fill:#1f77b4;stroke:#1f77b4;\" x=\"321.952317\" xlink:href=\"#m6e960385da\" y=\"202.071431\"/>\n     <use style=\"fill:#1f77b4;stroke:#1f77b4;\" x=\"365.89014\" xlink:href=\"#m6e960385da\" y=\"193.06098\"/>\n     <use style=\"fill:#1f77b4;stroke:#1f77b4;\" x=\"361.583484\" xlink:href=\"#m6e960385da\" y=\"182.820795\"/>\n     <use style=\"fill:#1f77b4;stroke:#1f77b4;\" x=\"339.507487\" xlink:href=\"#m6e960385da\" y=\"209.022609\"/>\n     <use style=\"fill:#1f77b4;stroke:#1f77b4;\" x=\"240.948847\" xlink:href=\"#m6e960385da\" y=\"75.010827\"/>\n     <use style=\"fill:#1f77b4;stroke:#1f77b4;\" x=\"314.998101\" xlink:href=\"#m6e960385da\" y=\"169.624613\"/>\n     <use style=\"fill:#1f77b4;stroke:#1f77b4;\" x=\"244.274983\" xlink:href=\"#m6e960385da\" y=\"89.581022\"/>\n     <use style=\"fill:#1f77b4;stroke:#1f77b4;\" x=\"294.009435\" xlink:href=\"#m6e960385da\" y=\"166.499199\"/>\n     <use style=\"fill:#1f77b4;stroke:#1f77b4;\" x=\"167.892074\" xlink:href=\"#m6e960385da\" y=\"55.788252\"/>\n     <use style=\"fill:#1f77b4;stroke:#1f77b4;\" x=\"268.706217\" xlink:href=\"#m6e960385da\" y=\"132.564826\"/>\n     <use style=\"fill:#1f77b4;stroke:#1f77b4;\" x=\"321.023416\" xlink:href=\"#m6e960385da\" y=\"150.889669\"/>\n     <use style=\"fill:#1f77b4;stroke:#1f77b4;\" x=\"379.110393\" xlink:href=\"#m6e960385da\" y=\"156.806301\"/>\n     <use style=\"fill:#1f77b4;stroke:#1f77b4;\" x=\"390.584173\" xlink:href=\"#m6e960385da\" y=\"123.629155\"/>\n     <use style=\"fill:#1f77b4;stroke:#1f77b4;\" x=\"360.100837\" xlink:href=\"#m6e960385da\" y=\"197.869105\"/>\n     <use style=\"fill:#1f77b4;stroke:#1f77b4;\" x=\"261.752153\" xlink:href=\"#m6e960385da\" y=\"113.31486\"/>\n     <use style=\"fill:#1f77b4;stroke:#1f77b4;\" x=\"440.811672\" xlink:href=\"#m6e960385da\" y=\"195.445865\"/>\n     <use style=\"fill:#1f77b4;stroke:#1f77b4;\" x=\"282.865277\" xlink:href=\"#m6e960385da\" y=\"157.594347\"/>\n     <use style=\"fill:#1f77b4;stroke:#1f77b4;\" x=\"447.424335\" xlink:href=\"#m6e960385da\" y=\"190.674607\"/>\n     <use style=\"fill:#1f77b4;stroke:#1f77b4;\" x=\"309.561995\" xlink:href=\"#m6e960385da\" y=\"170.355253\"/>\n     <use style=\"fill:#1f77b4;stroke:#1f77b4;\" x=\"336.646131\" xlink:href=\"#m6e960385da\" y=\"163.684788\"/>\n     <use style=\"fill:#1f77b4;stroke:#1f77b4;\" x=\"335.340689\" xlink:href=\"#m6e960385da\" y=\"148.451633\"/>\n     <use style=\"fill:#1f77b4;stroke:#1f77b4;\" x=\"249.608118\" xlink:href=\"#m6e960385da\" y=\"148.681642\"/>\n     <use style=\"fill:#1f77b4;stroke:#1f77b4;\" x=\"315.230993\" xlink:href=\"#m6e960385da\" y=\"147.342944\"/>\n     <use style=\"fill:#1f77b4;stroke:#1f77b4;\" x=\"247.9529\" xlink:href=\"#m6e960385da\" y=\"177.895437\"/>\n     <use style=\"fill:#1f77b4;stroke:#1f77b4;\" x=\"338.628884\" xlink:href=\"#m6e960385da\" y=\"193.229718\"/>\n     <use style=\"fill:#1f77b4;stroke:#1f77b4;\" x=\"331.30237\" xlink:href=\"#m6e960385da\" y=\"177.435756\"/>\n     <use style=\"fill:#1f77b4;stroke:#1f77b4;\" x=\"282.688127\" xlink:href=\"#m6e960385da\" y=\"133.872974\"/>\n     <use style=\"fill:#1f77b4;stroke:#1f77b4;\" x=\"389.025552\" xlink:href=\"#m6e960385da\" y=\"257.205063\"/>\n     <use style=\"fill:#1f77b4;stroke:#1f77b4;\" x=\"469.793771\" xlink:href=\"#m6e960385da\" y=\"246.006243\"/>\n     <use style=\"fill:#1f77b4;stroke:#1f77b4;\" x=\"247.48678\" xlink:href=\"#m6e960385da\" y=\"146.895859\"/>\n     <use style=\"fill:#1f77b4;stroke:#1f77b4;\" x=\"313.532494\" xlink:href=\"#m6e960385da\" y=\"133.00084\"/>\n     <use style=\"fill:#1f77b4;stroke:#1f77b4;\" x=\"275.263888\" xlink:href=\"#m6e960385da\" y=\"192.107892\"/>\n     <use style=\"fill:#1f77b4;stroke:#1f77b4;\" x=\"356.18606\" xlink:href=\"#m6e960385da\" y=\"170.563911\"/>\n     <use style=\"fill:#1f77b4;stroke:#1f77b4;\" x=\"370.831147\" xlink:href=\"#m6e960385da\" y=\"176.194442\"/>\n     <use style=\"fill:#1f77b4;stroke:#1f77b4;\" x=\"413.767818\" xlink:href=\"#m6e960385da\" y=\"205.704736\"/>\n     <use style=\"fill:#1f77b4;stroke:#1f77b4;\" x=\"390.195021\" xlink:href=\"#m6e960385da\" y=\"203.122291\"/>\n     <use style=\"fill:#1f77b4;stroke:#1f77b4;\" x=\"257.862852\" xlink:href=\"#m6e960385da\" y=\"176.399812\"/>\n     <use style=\"fill:#1f77b4;stroke:#1f77b4;\" x=\"376.664738\" xlink:href=\"#m6e960385da\" y=\"154.433602\"/>\n     <use style=\"fill:#1f77b4;stroke:#1f77b4;\" x=\"206.81599\" xlink:href=\"#m6e960385da\" y=\"97.800239\"/>\n     <use style=\"fill:#1f77b4;stroke:#1f77b4;\" x=\"321.914352\" xlink:href=\"#m6e960385da\" y=\"196.596787\"/>\n     <use style=\"fill:#1f77b4;stroke:#1f77b4;\" x=\"298.765014\" xlink:href=\"#m6e960385da\" y=\"178.67236\"/>\n     <use style=\"fill:#1f77b4;stroke:#1f77b4;\" x=\"251.635161\" xlink:href=\"#m6e960385da\" y=\"117.953657\"/>\n     <use style=\"fill:#1f77b4;stroke:#1f77b4;\" x=\"367.84949\" xlink:href=\"#m6e960385da\" y=\"204.239824\"/>\n     <use style=\"fill:#1f77b4;stroke:#1f77b4;\" x=\"269.798007\" xlink:href=\"#m6e960385da\" y=\"141.41099\"/>\n     <use style=\"fill:#1f77b4;stroke:#1f77b4;\" x=\"345.908463\" xlink:href=\"#m6e960385da\" y=\"148.294805\"/>\n     <use style=\"fill:#1f77b4;stroke:#1f77b4;\" x=\"357.283871\" xlink:href=\"#m6e960385da\" y=\"159.148687\"/>\n     <use style=\"fill:#1f77b4;stroke:#1f77b4;\" x=\"435.532033\" xlink:href=\"#m6e960385da\" y=\"262.941274\"/>\n     <use style=\"fill:#1f77b4;stroke:#1f77b4;\" x=\"183.127502\" xlink:href=\"#m6e960385da\" y=\"61.728123\"/>\n     <use style=\"fill:#1f77b4;stroke:#1f77b4;\" x=\"397.692897\" xlink:href=\"#m6e960385da\" y=\"210.082952\"/>\n     <use style=\"fill:#1f77b4;stroke:#1f77b4;\" x=\"498.353054\" xlink:href=\"#m6e960385da\" y=\"311.770923\"/>\n     <use style=\"fill:#1f77b4;stroke:#1f77b4;\" x=\"313.222391\" xlink:href=\"#m6e960385da\" y=\"114.441986\"/>\n     <use style=\"fill:#1f77b4;stroke:#1f77b4;\" x=\"310.13262\" xlink:href=\"#m6e960385da\" y=\"172.247504\"/>\n     <use style=\"fill:#1f77b4;stroke:#1f77b4;\" x=\"311.644925\" xlink:href=\"#m6e960385da\" y=\"160.011297\"/>\n     <use style=\"fill:#1f77b4;stroke:#1f77b4;\" x=\"90.720921\" xlink:href=\"#m6e960385da\" y=\"22.703876\"/>\n     <use style=\"fill:#1f77b4;stroke:#1f77b4;\" x=\"206.412315\" xlink:href=\"#m6e960385da\" y=\"82.492895\"/>\n     <use style=\"fill:#1f77b4;stroke:#1f77b4;\" x=\"421.678342\" xlink:href=\"#m6e960385da\" y=\"248.738215\"/>\n     <use style=\"fill:#1f77b4;stroke:#1f77b4;\" x=\"418.682073\" xlink:href=\"#m6e960385da\" y=\"212.883318\"/>\n     <use style=\"fill:#1f77b4;stroke:#1f77b4;\" x=\"289.611101\" xlink:href=\"#m6e960385da\" y=\"137.504856\"/>\n     <use style=\"fill:#1f77b4;stroke:#1f77b4;\" x=\"310.220372\" xlink:href=\"#m6e960385da\" y=\"157.798342\"/>\n     <use style=\"fill:#1f77b4;stroke:#1f77b4;\" x=\"293.006712\" xlink:href=\"#m6e960385da\" y=\"152.488763\"/>\n     <use style=\"fill:#1f77b4;stroke:#1f77b4;\" x=\"285.488135\" xlink:href=\"#m6e960385da\" y=\"136.080381\"/>\n     <use style=\"fill:#1f77b4;stroke:#1f77b4;\" x=\"439.552987\" xlink:href=\"#m6e960385da\" y=\"221.324322\"/>\n     <use style=\"fill:#1f77b4;stroke:#1f77b4;\" x=\"229.124633\" xlink:href=\"#m6e960385da\" y=\"143.175321\"/>\n     <use style=\"fill:#1f77b4;stroke:#1f77b4;\" x=\"240.010949\" xlink:href=\"#m6e960385da\" y=\"136.613864\"/>\n     <use style=\"fill:#1f77b4;stroke:#1f77b4;\" x=\"222.862328\" xlink:href=\"#m6e960385da\" y=\"25.890633\"/>\n     <use style=\"fill:#1f77b4;stroke:#1f77b4;\" x=\"371.562505\" xlink:href=\"#m6e960385da\" y=\"125.357432\"/>\n     <use style=\"fill:#1f77b4;stroke:#1f77b4;\" x=\"276.817458\" xlink:href=\"#m6e960385da\" y=\"148.904402\"/>\n     <use style=\"fill:#1f77b4;stroke:#1f77b4;\" x=\"227.748818\" xlink:href=\"#m6e960385da\" y=\"118.641026\"/>\n     <use style=\"fill:#1f77b4;stroke:#1f77b4;\" x=\"227.894938\" xlink:href=\"#m6e960385da\" y=\"125.821284\"/>\n     <use style=\"fill:#1f77b4;stroke:#1f77b4;\" x=\"334.177442\" xlink:href=\"#m6e960385da\" y=\"175.695545\"/>\n     <use style=\"fill:#1f77b4;stroke:#1f77b4;\" x=\"377.823535\" xlink:href=\"#m6e960385da\" y=\"172.143176\"/>\n     <use style=\"fill:#1f77b4;stroke:#1f77b4;\" x=\"353.427169\" xlink:href=\"#m6e960385da\" y=\"166.76953\"/>\n     <use style=\"fill:#1f77b4;stroke:#1f77b4;\" x=\"343.129625\" xlink:href=\"#m6e960385da\" y=\"188.252508\"/>\n     <use style=\"fill:#1f77b4;stroke:#1f77b4;\" x=\"247.397936\" xlink:href=\"#m6e960385da\" y=\"119.181496\"/>\n     <use style=\"fill:#1f77b4;stroke:#1f77b4;\" x=\"305.782754\" xlink:href=\"#m6e960385da\" y=\"156.211919\"/>\n     <use style=\"fill:#1f77b4;stroke:#1f77b4;\" x=\"345.669796\" xlink:href=\"#m6e960385da\" y=\"152.392331\"/>\n     <use style=\"fill:#1f77b4;stroke:#1f77b4;\" x=\"377.421573\" xlink:href=\"#m6e960385da\" y=\"193.100373\"/>\n     <use style=\"fill:#1f77b4;stroke:#1f77b4;\" x=\"344.964035\" xlink:href=\"#m6e960385da\" y=\"159.484274\"/>\n     <use style=\"fill:#1f77b4;stroke:#1f77b4;\" x=\"348.021175\" xlink:href=\"#m6e960385da\" y=\"179.162538\"/>\n     <use style=\"fill:#1f77b4;stroke:#1f77b4;\" x=\"379.281129\" xlink:href=\"#m6e960385da\" y=\"195.361057\"/>\n     <use style=\"fill:#1f77b4;stroke:#1f77b4;\" x=\"256.481039\" xlink:href=\"#m6e960385da\" y=\"197.014593\"/>\n     <use style=\"fill:#1f77b4;stroke:#1f77b4;\" x=\"231.349489\" xlink:href=\"#m6e960385da\" y=\"83.65258\"/>\n     <use style=\"fill:#1f77b4;stroke:#1f77b4;\" x=\"369.736034\" xlink:href=\"#m6e960385da\" y=\"176.822041\"/>\n     <use style=\"fill:#1f77b4;stroke:#1f77b4;\" x=\"307.035014\" xlink:href=\"#m6e960385da\" y=\"156.194135\"/>\n     <use style=\"fill:#1f77b4;stroke:#1f77b4;\" x=\"255.249696\" xlink:href=\"#m6e960385da\" y=\"163.962479\"/>\n     <use style=\"fill:#1f77b4;stroke:#1f77b4;\" x=\"250.276871\" xlink:href=\"#m6e960385da\" y=\"94.248121\"/>\n     <use style=\"fill:#1f77b4;stroke:#1f77b4;\" x=\"138.913797\" xlink:href=\"#m6e960385da\" y=\"22.025455\"/>\n     <use style=\"fill:#1f77b4;stroke:#1f77b4;\" x=\"252.115761\" xlink:href=\"#m6e960385da\" y=\"117.810629\"/>\n     <use style=\"fill:#1f77b4;stroke:#1f77b4;\" x=\"305.968257\" xlink:href=\"#m6e960385da\" y=\"139.411023\"/>\n     <use style=\"fill:#1f77b4;stroke:#1f77b4;\" x=\"372.237303\" xlink:href=\"#m6e960385da\" y=\"207.318368\"/>\n     <use style=\"fill:#1f77b4;stroke:#1f77b4;\" x=\"347.392056\" xlink:href=\"#m6e960385da\" y=\"192.68726\"/>\n     <use style=\"fill:#1f77b4;stroke:#1f77b4;\" x=\"422.886402\" xlink:href=\"#m6e960385da\" y=\"240.155206\"/>\n     <use style=\"fill:#1f77b4;stroke:#1f77b4;\" x=\"299.839067\" xlink:href=\"#m6e960385da\" y=\"151.224976\"/>\n     <use style=\"fill:#1f77b4;stroke:#1f77b4;\" x=\"336.344354\" xlink:href=\"#m6e960385da\" y=\"164.942885\"/>\n     <use style=\"fill:#1f77b4;stroke:#1f77b4;\" x=\"331.168844\" xlink:href=\"#m6e960385da\" y=\"211.547709\"/>\n     <use style=\"fill:#1f77b4;stroke:#1f77b4;\" x=\"263.705604\" xlink:href=\"#m6e960385da\" y=\"176.375853\"/>\n     <use style=\"fill:#1f77b4;stroke:#1f77b4;\" x=\"120.295512\" xlink:href=\"#m6e960385da\" y=\"97.935206\"/>\n     <use style=\"fill:#1f77b4;stroke:#1f77b4;\" x=\"196.960272\" xlink:href=\"#m6e960385da\" y=\"109.873465\"/>\n     <use style=\"fill:#1f77b4;stroke:#1f77b4;\" x=\"309.105423\" xlink:href=\"#m6e960385da\" y=\"188.922655\"/>\n     <use style=\"fill:#1f77b4;stroke:#1f77b4;\" x=\"307.627492\" xlink:href=\"#m6e960385da\" y=\"192.061633\"/>\n     <use style=\"fill:#1f77b4;stroke:#1f77b4;\" x=\"364.370483\" xlink:href=\"#m6e960385da\" y=\"216.486332\"/>\n     <use style=\"fill:#1f77b4;stroke:#1f77b4;\" x=\"392.552298\" xlink:href=\"#m6e960385da\" y=\"240.0999\"/>\n     <use style=\"fill:#1f77b4;stroke:#1f77b4;\" x=\"411.995021\" xlink:href=\"#m6e960385da\" y=\"193.425752\"/>\n     <use style=\"fill:#1f77b4;stroke:#1f77b4;\" x=\"353.005121\" xlink:href=\"#m6e960385da\" y=\"177.516373\"/>\n     <use style=\"fill:#1f77b4;stroke:#1f77b4;\" x=\"276.533178\" xlink:href=\"#m6e960385da\" y=\"115.460418\"/>\n     <use style=\"fill:#1f77b4;stroke:#1f77b4;\" x=\"358.452515\" xlink:href=\"#m6e960385da\" y=\"115.367989\"/>\n     <use style=\"fill:#1f77b4;stroke:#1f77b4;\" x=\"370.828144\" xlink:href=\"#m6e960385da\" y=\"266.113065\"/>\n     <use style=\"fill:#1f77b4;stroke:#1f77b4;\" x=\"254.686108\" xlink:href=\"#m6e960385da\" y=\"130.773104\"/>\n     <use style=\"fill:#1f77b4;stroke:#1f77b4;\" x=\"410.794738\" xlink:href=\"#m6e960385da\" y=\"197.112685\"/>\n     <use style=\"fill:#1f77b4;stroke:#1f77b4;\" x=\"238.325692\" xlink:href=\"#m6e960385da\" y=\"70.374866\"/>\n     <use style=\"fill:#1f77b4;stroke:#1f77b4;\" x=\"213.744789\" xlink:href=\"#m6e960385da\" y=\"73.336083\"/>\n     <use style=\"fill:#1f77b4;stroke:#1f77b4;\" x=\"305.295364\" xlink:href=\"#m6e960385da\" y=\"128.100295\"/>\n     <use style=\"fill:#1f77b4;stroke:#1f77b4;\" x=\"290.972665\" xlink:href=\"#m6e960385da\" y=\"163.24941\"/>\n     <use style=\"fill:#1f77b4;stroke:#1f77b4;\" x=\"319.853852\" xlink:href=\"#m6e960385da\" y=\"207.998143\"/>\n     <use style=\"fill:#1f77b4;stroke:#1f77b4;\" x=\"232.817157\" xlink:href=\"#m6e960385da\" y=\"71.193169\"/>\n     <use style=\"fill:#1f77b4;stroke:#1f77b4;\" x=\"295.852107\" xlink:href=\"#m6e960385da\" y=\"149.10509\"/>\n     <use style=\"fill:#1f77b4;stroke:#1f77b4;\" x=\"393.490803\" xlink:href=\"#m6e960385da\" y=\"211.257882\"/>\n     <use style=\"fill:#1f77b4;stroke:#1f77b4;\" x=\"295.105754\" xlink:href=\"#m6e960385da\" y=\"168.238013\"/>\n     <use style=\"fill:#1f77b4;stroke:#1f77b4;\" x=\"357.514763\" xlink:href=\"#m6e960385da\" y=\"158.775577\"/>\n     <use style=\"fill:#1f77b4;stroke:#1f77b4;\" x=\"271.903486\" xlink:href=\"#m6e960385da\" y=\"103.480428\"/>\n     <use style=\"fill:#1f77b4;stroke:#1f77b4;\" x=\"308.84076\" xlink:href=\"#m6e960385da\" y=\"129.352247\"/>\n     <use style=\"fill:#1f77b4;stroke:#1f77b4;\" x=\"298.163183\" xlink:href=\"#m6e960385da\" y=\"131.203627\"/>\n     <use style=\"fill:#1f77b4;stroke:#1f77b4;\" x=\"342.495377\" xlink:href=\"#m6e960385da\" y=\"145.360047\"/>\n     <use style=\"fill:#1f77b4;stroke:#1f77b4;\" x=\"345.027301\" xlink:href=\"#m6e960385da\" y=\"186.142985\"/>\n     <use style=\"fill:#1f77b4;stroke:#1f77b4;\" x=\"178.222465\" xlink:href=\"#m6e960385da\" y=\"113.192019\"/>\n     <use style=\"fill:#1f77b4;stroke:#1f77b4;\" x=\"262.254516\" xlink:href=\"#m6e960385da\" y=\"126.394909\"/>\n     <use style=\"fill:#1f77b4;stroke:#1f77b4;\" x=\"438.412988\" xlink:href=\"#m6e960385da\" y=\"208.698437\"/>\n     <use style=\"fill:#1f77b4;stroke:#1f77b4;\" x=\"369.447414\" xlink:href=\"#m6e960385da\" y=\"171.902302\"/>\n     <use style=\"fill:#1f77b4;stroke:#1f77b4;\" x=\"233.416004\" xlink:href=\"#m6e960385da\" y=\"121.960666\"/>\n     <use style=\"fill:#1f77b4;stroke:#1f77b4;\" x=\"234.438533\" xlink:href=\"#m6e960385da\" y=\"148.802826\"/>\n     <use style=\"fill:#1f77b4;stroke:#1f77b4;\" x=\"382.909231\" xlink:href=\"#m6e960385da\" y=\"208.133778\"/>\n     <use style=\"fill:#1f77b4;stroke:#1f77b4;\" x=\"295.103132\" xlink:href=\"#m6e960385da\" y=\"215.174032\"/>\n     <use style=\"fill:#1f77b4;stroke:#1f77b4;\" x=\"351.495274\" xlink:href=\"#m6e960385da\" y=\"204.274733\"/>\n     <use style=\"fill:#1f77b4;stroke:#1f77b4;\" x=\"333.402411\" xlink:href=\"#m6e960385da\" y=\"167.952693\"/>\n     <use style=\"fill:#1f77b4;stroke:#1f77b4;\" x=\"416.236088\" xlink:href=\"#m6e960385da\" y=\"219.251323\"/>\n     <use style=\"fill:#1f77b4;stroke:#1f77b4;\" x=\"505.093818\" xlink:href=\"#m6e960385da\" y=\"260.833641\"/>\n     <use style=\"fill:#1f77b4;stroke:#1f77b4;\" x=\"238.108946\" xlink:href=\"#m6e960385da\" y=\"155.567895\"/>\n     <use style=\"fill:#1f77b4;stroke:#1f77b4;\" x=\"281.725602\" xlink:href=\"#m6e960385da\" y=\"157.954922\"/>\n     <use style=\"fill:#1f77b4;stroke:#1f77b4;\" x=\"359.677471\" xlink:href=\"#m6e960385da\" y=\"204.055669\"/>\n     <use style=\"fill:#1f77b4;stroke:#1f77b4;\" x=\"437.059674\" xlink:href=\"#m6e960385da\" y=\"190.380195\"/>\n     <use style=\"fill:#1f77b4;stroke:#1f77b4;\" x=\"404.434461\" xlink:href=\"#m6e960385da\" y=\"236.775463\"/>\n     <use style=\"fill:#1f77b4;stroke:#1f77b4;\" x=\"384.420998\" xlink:href=\"#m6e960385da\" y=\"252.903727\"/>\n     <use style=\"fill:#1f77b4;stroke:#1f77b4;\" x=\"244.977838\" xlink:href=\"#m6e960385da\" y=\"145.454264\"/>\n     <use style=\"fill:#1f77b4;stroke:#1f77b4;\" x=\"359.44253\" xlink:href=\"#m6e960385da\" y=\"180.193331\"/>\n     <use style=\"fill:#1f77b4;stroke:#1f77b4;\" x=\"362.362614\" xlink:href=\"#m6e960385da\" y=\"164.462015\"/>\n     <use style=\"fill:#1f77b4;stroke:#1f77b4;\" x=\"323.21569\" xlink:href=\"#m6e960385da\" y=\"187.632613\"/>\n     <use style=\"fill:#1f77b4;stroke:#1f77b4;\" x=\"429.673817\" xlink:href=\"#m6e960385da\" y=\"223.588845\"/>\n     <use style=\"fill:#1f77b4;stroke:#1f77b4;\" x=\"313.513127\" xlink:href=\"#m6e960385da\" y=\"126.535957\"/>\n     <use style=\"fill:#1f77b4;stroke:#1f77b4;\" x=\"242.256984\" xlink:href=\"#m6e960385da\" y=\"105.251839\"/>\n     <use style=\"fill:#1f77b4;stroke:#1f77b4;\" x=\"159.017177\" xlink:href=\"#m6e960385da\" y=\"112.951591\"/>\n     <use style=\"fill:#1f77b4;stroke:#1f77b4;\" x=\"317.195205\" xlink:href=\"#m6e960385da\" y=\"179.037903\"/>\n     <use style=\"fill:#1f77b4;stroke:#1f77b4;\" x=\"483.329471\" xlink:href=\"#m6e960385da\" y=\"194.110788\"/>\n     <use style=\"fill:#1f77b4;stroke:#1f77b4;\" x=\"141.190538\" xlink:href=\"#m6e960385da\" y=\"70.497733\"/>\n     <use style=\"fill:#1f77b4;stroke:#1f77b4;\" x=\"312.400875\" xlink:href=\"#m6e960385da\" y=\"167.720882\"/>\n     <use style=\"fill:#1f77b4;stroke:#1f77b4;\" x=\"288.257111\" xlink:href=\"#m6e960385da\" y=\"122.230625\"/>\n     <use style=\"fill:#1f77b4;stroke:#1f77b4;\" x=\"300.249206\" xlink:href=\"#m6e960385da\" y=\"153.478098\"/>\n     <use style=\"fill:#1f77b4;stroke:#1f77b4;\" x=\"342.344672\" xlink:href=\"#m6e960385da\" y=\"147.681577\"/>\n     <use style=\"fill:#1f77b4;stroke:#1f77b4;\" x=\"358.887844\" xlink:href=\"#m6e960385da\" y=\"195.219984\"/>\n     <use style=\"fill:#1f77b4;stroke:#1f77b4;\" x=\"358.324265\" xlink:href=\"#m6e960385da\" y=\"183.682771\"/>\n     <use style=\"fill:#1f77b4;stroke:#1f77b4;\" x=\"264.932683\" xlink:href=\"#m6e960385da\" y=\"125.166952\"/>\n     <use style=\"fill:#1f77b4;stroke:#1f77b4;\" x=\"130.47742\" xlink:href=\"#m6e960385da\" y=\"118.012583\"/>\n     <use style=\"fill:#1f77b4;stroke:#1f77b4;\" x=\"344.706454\" xlink:href=\"#m6e960385da\" y=\"184.103579\"/>\n     <use style=\"fill:#1f77b4;stroke:#1f77b4;\" x=\"253.624888\" xlink:href=\"#m6e960385da\" y=\"145.485222\"/>\n     <use style=\"fill:#1f77b4;stroke:#1f77b4;\" x=\"388.621948\" xlink:href=\"#m6e960385da\" y=\"231.06416\"/>\n     <use style=\"fill:#1f77b4;stroke:#1f77b4;\" x=\"263.361436\" xlink:href=\"#m6e960385da\" y=\"127.085548\"/>\n     <use style=\"fill:#1f77b4;stroke:#1f77b4;\" x=\"242.38489\" xlink:href=\"#m6e960385da\" y=\"118.658594\"/>\n     <use style=\"fill:#1f77b4;stroke:#1f77b4;\" x=\"251.061767\" xlink:href=\"#m6e960385da\" y=\"154.069483\"/>\n     <use style=\"fill:#1f77b4;stroke:#1f77b4;\" x=\"408.114114\" xlink:href=\"#m6e960385da\" y=\"229.82151\"/>\n     <use style=\"fill:#1f77b4;stroke:#1f77b4;\" x=\"512.272772\" xlink:href=\"#m6e960385da\" y=\"291.916672\"/>\n     <use style=\"fill:#1f77b4;stroke:#1f77b4;\" x=\"244.504567\" xlink:href=\"#m6e960385da\" y=\"107.741795\"/>\n     <use style=\"fill:#1f77b4;stroke:#1f77b4;\" x=\"343.188741\" xlink:href=\"#m6e960385da\" y=\"195.448655\"/>\n     <use style=\"fill:#1f77b4;stroke:#1f77b4;\" x=\"365.41405\" xlink:href=\"#m6e960385da\" y=\"155.788874\"/>\n     <use style=\"fill:#1f77b4;stroke:#1f77b4;\" x=\"346.459317\" xlink:href=\"#m6e960385da\" y=\"170.775009\"/>\n     <use style=\"fill:#1f77b4;stroke:#1f77b4;\" x=\"264.760102\" xlink:href=\"#m6e960385da\" y=\"148.66866\"/>\n     <use style=\"fill:#1f77b4;stroke:#1f77b4;\" x=\"373.2943\" xlink:href=\"#m6e960385da\" y=\"217.381678\"/>\n     <use style=\"fill:#1f77b4;stroke:#1f77b4;\" x=\"382.431836\" xlink:href=\"#m6e960385da\" y=\"178.90099\"/>\n     <use style=\"fill:#1f77b4;stroke:#1f77b4;\" x=\"244.615075\" xlink:href=\"#m6e960385da\" y=\"106.260907\"/>\n     <use style=\"fill:#1f77b4;stroke:#1f77b4;\" x=\"306.415899\" xlink:href=\"#m6e960385da\" y=\"147.835644\"/>\n     <use style=\"fill:#1f77b4;stroke:#1f77b4;\" x=\"374.470152\" xlink:href=\"#m6e960385da\" y=\"212.05459\"/>\n     <use style=\"fill:#1f77b4;stroke:#1f77b4;\" x=\"247.41677\" xlink:href=\"#m6e960385da\" y=\"100.036668\"/>\n     <use style=\"fill:#1f77b4;stroke:#1f77b4;\" x=\"259.09831\" xlink:href=\"#m6e960385da\" y=\"161.94105\"/>\n     <use style=\"fill:#1f77b4;stroke:#1f77b4;\" x=\"317.622625\" xlink:href=\"#m6e960385da\" y=\"177.90598\"/>\n     <use style=\"fill:#1f77b4;stroke:#1f77b4;\" x=\"398.244782\" xlink:href=\"#m6e960385da\" y=\"161.662193\"/>\n     <use style=\"fill:#1f77b4;stroke:#1f77b4;\" x=\"261.127292\" xlink:href=\"#m6e960385da\" y=\"131.660088\"/>\n     <use style=\"fill:#1f77b4;stroke:#1f77b4;\" x=\"279.01241\" xlink:href=\"#m6e960385da\" y=\"151.235128\"/>\n     <use style=\"fill:#1f77b4;stroke:#1f77b4;\" x=\"472.802788\" xlink:href=\"#m6e960385da\" y=\"238.980986\"/>\n     <use style=\"fill:#1f77b4;stroke:#1f77b4;\" x=\"397.73002\" xlink:href=\"#m6e960385da\" y=\"222.057534\"/>\n     <use style=\"fill:#1f77b4;stroke:#1f77b4;\" x=\"223.859079\" xlink:href=\"#m6e960385da\" y=\"108.897831\"/>\n     <use style=\"fill:#1f77b4;stroke:#1f77b4;\" x=\"240.342807\" xlink:href=\"#m6e960385da\" y=\"86.014842\"/>\n     <use style=\"fill:#1f77b4;stroke:#1f77b4;\" x=\"362.223564\" xlink:href=\"#m6e960385da\" y=\"163.360303\"/>\n     <use style=\"fill:#1f77b4;stroke:#1f77b4;\" x=\"304.576102\" xlink:href=\"#m6e960385da\" y=\"59.95433\"/>\n     <use style=\"fill:#1f77b4;stroke:#1f77b4;\" x=\"231.624302\" xlink:href=\"#m6e960385da\" y=\"111.609636\"/>\n     <use style=\"fill:#1f77b4;stroke:#1f77b4;\" x=\"363.717839\" xlink:href=\"#m6e960385da\" y=\"206.740683\"/>\n     <use style=\"fill:#1f77b4;stroke:#1f77b4;\" x=\"305.273357\" xlink:href=\"#m6e960385da\" y=\"176.739103\"/>\n     <use style=\"fill:#1f77b4;stroke:#1f77b4;\" x=\"391.335411\" xlink:href=\"#m6e960385da\" y=\"176.114178\"/>\n     <use style=\"fill:#1f77b4;stroke:#1f77b4;\" x=\"322.669445\" xlink:href=\"#m6e960385da\" y=\"133.091817\"/>\n     <use style=\"fill:#1f77b4;stroke:#1f77b4;\" x=\"299.822301\" xlink:href=\"#m6e960385da\" y=\"157.238872\"/>\n     <use style=\"fill:#1f77b4;stroke:#1f77b4;\" x=\"297.141618\" xlink:href=\"#m6e960385da\" y=\"142.906746\"/>\n     <use style=\"fill:#1f77b4;stroke:#1f77b4;\" x=\"375.710924\" xlink:href=\"#m6e960385da\" y=\"157.107771\"/>\n     <use style=\"fill:#1f77b4;stroke:#1f77b4;\" x=\"461.527644\" xlink:href=\"#m6e960385da\" y=\"217.728948\"/>\n     <use style=\"fill:#1f77b4;stroke:#1f77b4;\" x=\"324.948338\" xlink:href=\"#m6e960385da\" y=\"139.956184\"/>\n     <use style=\"fill:#1f77b4;stroke:#1f77b4;\" x=\"236.443268\" xlink:href=\"#m6e960385da\" y=\"81.676243\"/>\n     <use style=\"fill:#1f77b4;stroke:#1f77b4;\" x=\"373.348215\" xlink:href=\"#m6e960385da\" y=\"218.533294\"/>\n     <use style=\"fill:#1f77b4;stroke:#1f77b4;\" x=\"223.668163\" xlink:href=\"#m6e960385da\" y=\"146.920569\"/>\n     <use style=\"fill:#1f77b4;stroke:#1f77b4;\" x=\"358.554602\" xlink:href=\"#m6e960385da\" y=\"136.289682\"/>\n     <use style=\"fill:#1f77b4;stroke:#1f77b4;\" x=\"312.685591\" xlink:href=\"#m6e960385da\" y=\"165.14087\"/>\n     <use style=\"fill:#1f77b4;stroke:#1f77b4;\" x=\"405.848623\" xlink:href=\"#m6e960385da\" y=\"225.283341\"/>\n     <use style=\"fill:#1f77b4;stroke:#1f77b4;\" x=\"312.63677\" xlink:href=\"#m6e960385da\" y=\"144.013072\"/>\n     <use style=\"fill:#1f77b4;stroke:#1f77b4;\" x=\"298.880705\" xlink:href=\"#m6e960385da\" y=\"133.136651\"/>\n     <use style=\"fill:#1f77b4;stroke:#1f77b4;\" x=\"373.294328\" xlink:href=\"#m6e960385da\" y=\"173.575457\"/>\n     <use style=\"fill:#1f77b4;stroke:#1f77b4;\" x=\"335.397268\" xlink:href=\"#m6e960385da\" y=\"160.155323\"/>\n     <use style=\"fill:#1f77b4;stroke:#1f77b4;\" x=\"218.456603\" xlink:href=\"#m6e960385da\" y=\"101.093294\"/>\n     <use style=\"fill:#1f77b4;stroke:#1f77b4;\" x=\"297.822695\" xlink:href=\"#m6e960385da\" y=\"127.920972\"/>\n     <use style=\"fill:#1f77b4;stroke:#1f77b4;\" x=\"335.326312\" xlink:href=\"#m6e960385da\" y=\"188.829003\"/>\n     <use style=\"fill:#1f77b4;stroke:#1f77b4;\" x=\"360.791155\" xlink:href=\"#m6e960385da\" y=\"193.758941\"/>\n     <use style=\"fill:#1f77b4;stroke:#1f77b4;\" x=\"177.443604\" xlink:href=\"#m6e960385da\" y=\"45.961818\"/>\n     <use style=\"fill:#1f77b4;stroke:#1f77b4;\" x=\"409.319133\" xlink:href=\"#m6e960385da\" y=\"187.606811\"/>\n     <use style=\"fill:#1f77b4;stroke:#1f77b4;\" x=\"203.143238\" xlink:href=\"#m6e960385da\" y=\"41.620662\"/>\n     <use style=\"fill:#1f77b4;stroke:#1f77b4;\" x=\"359.018914\" xlink:href=\"#m6e960385da\" y=\"159.179044\"/>\n     <use style=\"fill:#1f77b4;stroke:#1f77b4;\" x=\"224.813557\" xlink:href=\"#m6e960385da\" y=\"108.396127\"/>\n     <use style=\"fill:#1f77b4;stroke:#1f77b4;\" x=\"415.937145\" xlink:href=\"#m6e960385da\" y=\"208.456357\"/>\n     <use style=\"fill:#1f77b4;stroke:#1f77b4;\" x=\"300.74139\" xlink:href=\"#m6e960385da\" y=\"157.866651\"/>\n     <use style=\"fill:#1f77b4;stroke:#1f77b4;\" x=\"487.416613\" xlink:href=\"#m6e960385da\" y=\"246.503762\"/>\n     <use style=\"fill:#1f77b4;stroke:#1f77b4;\" x=\"329.528939\" xlink:href=\"#m6e960385da\" y=\"184.117377\"/>\n     <use style=\"fill:#1f77b4;stroke:#1f77b4;\" x=\"311.84681\" xlink:href=\"#m6e960385da\" y=\"134.865369\"/>\n     <use style=\"fill:#1f77b4;stroke:#1f77b4;\" x=\"304.089673\" xlink:href=\"#m6e960385da\" y=\"105.705849\"/>\n     <use style=\"fill:#1f77b4;stroke:#1f77b4;\" x=\"214.013369\" xlink:href=\"#m6e960385da\" y=\"115.785381\"/>\n     <use style=\"fill:#1f77b4;stroke:#1f77b4;\" x=\"476.950863\" xlink:href=\"#m6e960385da\" y=\"245.805136\"/>\n     <use style=\"fill:#1f77b4;stroke:#1f77b4;\" x=\"292.502429\" xlink:href=\"#m6e960385da\" y=\"162.043259\"/>\n     <use style=\"fill:#1f77b4;stroke:#1f77b4;\" x=\"317.494316\" xlink:href=\"#m6e960385da\" y=\"167.112789\"/>\n     <use style=\"fill:#1f77b4;stroke:#1f77b4;\" x=\"405.025305\" xlink:href=\"#m6e960385da\" y=\"189.40632\"/>\n     <use style=\"fill:#1f77b4;stroke:#1f77b4;\" x=\"444.432227\" xlink:href=\"#m6e960385da\" y=\"205.942525\"/>\n     <use style=\"fill:#1f77b4;stroke:#1f77b4;\" x=\"317.258611\" xlink:href=\"#m6e960385da\" y=\"206.903173\"/>\n     <use style=\"fill:#1f77b4;stroke:#1f77b4;\" x=\"420.370813\" xlink:href=\"#m6e960385da\" y=\"227.72091\"/>\n     <use style=\"fill:#1f77b4;stroke:#1f77b4;\" x=\"380.095074\" xlink:href=\"#m6e960385da\" y=\"226.352425\"/>\n     <use style=\"fill:#1f77b4;stroke:#1f77b4;\" x=\"463.574812\" xlink:href=\"#m6e960385da\" y=\"220.679395\"/>\n     <use style=\"fill:#1f77b4;stroke:#1f77b4;\" x=\"260.386294\" xlink:href=\"#m6e960385da\" y=\"130.846911\"/>\n     <use style=\"fill:#1f77b4;stroke:#1f77b4;\" x=\"489.809441\" xlink:href=\"#m6e960385da\" y=\"261.005908\"/>\n     <use style=\"fill:#1f77b4;stroke:#1f77b4;\" x=\"312.744806\" xlink:href=\"#m6e960385da\" y=\"116.878067\"/>\n     <use style=\"fill:#1f77b4;stroke:#1f77b4;\" x=\"351.500462\" xlink:href=\"#m6e960385da\" y=\"196.085982\"/>\n     <use style=\"fill:#1f77b4;stroke:#1f77b4;\" x=\"321.974431\" xlink:href=\"#m6e960385da\" y=\"158.789824\"/>\n     <use style=\"fill:#1f77b4;stroke:#1f77b4;\" x=\"332.291664\" xlink:href=\"#m6e960385da\" y=\"199.572641\"/>\n     <use style=\"fill:#1f77b4;stroke:#1f77b4;\" x=\"209.492509\" xlink:href=\"#m6e960385da\" y=\"104.548869\"/>\n     <use style=\"fill:#1f77b4;stroke:#1f77b4;\" x=\"325.87524\" xlink:href=\"#m6e960385da\" y=\"207.209559\"/>\n     <use style=\"fill:#1f77b4;stroke:#1f77b4;\" x=\"465.1107\" xlink:href=\"#m6e960385da\" y=\"227.764146\"/>\n     <use style=\"fill:#1f77b4;stroke:#1f77b4;\" x=\"249.092918\" xlink:href=\"#m6e960385da\" y=\"153.37342\"/>\n     <use style=\"fill:#1f77b4;stroke:#1f77b4;\" x=\"318.255865\" xlink:href=\"#m6e960385da\" y=\"109.133909\"/>\n     <use style=\"fill:#1f77b4;stroke:#1f77b4;\" x=\"330.973111\" xlink:href=\"#m6e960385da\" y=\"178.109855\"/>\n     <use style=\"fill:#1f77b4;stroke:#1f77b4;\" x=\"253.931373\" xlink:href=\"#m6e960385da\" y=\"123.434579\"/>\n     <use style=\"fill:#1f77b4;stroke:#1f77b4;\" x=\"336.305193\" xlink:href=\"#m6e960385da\" y=\"136.841067\"/>\n     <use style=\"fill:#1f77b4;stroke:#1f77b4;\" x=\"321.144669\" xlink:href=\"#m6e960385da\" y=\"168.320212\"/>\n     <use style=\"fill:#1f77b4;stroke:#1f77b4;\" x=\"277.022596\" xlink:href=\"#m6e960385da\" y=\"139.223335\"/>\n     <use style=\"fill:#1f77b4;stroke:#1f77b4;\" x=\"275.831558\" xlink:href=\"#m6e960385da\" y=\"150.39932\"/>\n     <use style=\"fill:#1f77b4;stroke:#1f77b4;\" x=\"288.311238\" xlink:href=\"#m6e960385da\" y=\"158.750029\"/>\n     <use style=\"fill:#1f77b4;stroke:#1f77b4;\" x=\"300.148218\" xlink:href=\"#m6e960385da\" y=\"133.16648\"/>\n     <use style=\"fill:#1f77b4;stroke:#1f77b4;\" x=\"306.722074\" xlink:href=\"#m6e960385da\" y=\"172.464531\"/>\n     <use style=\"fill:#1f77b4;stroke:#1f77b4;\" x=\"423.131699\" xlink:href=\"#m6e960385da\" y=\"222.076925\"/>\n     <use style=\"fill:#1f77b4;stroke:#1f77b4;\" x=\"310.817391\" xlink:href=\"#m6e960385da\" y=\"109.549023\"/>\n     <use style=\"fill:#1f77b4;stroke:#1f77b4;\" x=\"338.821914\" xlink:href=\"#m6e960385da\" y=\"173.158996\"/>\n     <use style=\"fill:#1f77b4;stroke:#1f77b4;\" x=\"175.529168\" xlink:href=\"#m6e960385da\" y=\"82.947191\"/>\n     <use style=\"fill:#1f77b4;stroke:#1f77b4;\" x=\"134.85844\" xlink:href=\"#m6e960385da\" y=\"46.467556\"/>\n     <use style=\"fill:#1f77b4;stroke:#1f77b4;\" x=\"308.27752\" xlink:href=\"#m6e960385da\" y=\"159.5598\"/>\n     <use style=\"fill:#1f77b4;stroke:#1f77b4;\" x=\"300.93515\" xlink:href=\"#m6e960385da\" y=\"150.384521\"/>\n     <use style=\"fill:#1f77b4;stroke:#1f77b4;\" x=\"302.238482\" xlink:href=\"#m6e960385da\" y=\"116.91811\"/>\n     <use style=\"fill:#1f77b4;stroke:#1f77b4;\" x=\"418.572304\" xlink:href=\"#m6e960385da\" y=\"262.340315\"/>\n     <use style=\"fill:#1f77b4;stroke:#1f77b4;\" x=\"271.978359\" xlink:href=\"#m6e960385da\" y=\"163.826693\"/>\n     <use style=\"fill:#1f77b4;stroke:#1f77b4;\" x=\"244.325556\" xlink:href=\"#m6e960385da\" y=\"116.206453\"/>\n     <use style=\"fill:#1f77b4;stroke:#1f77b4;\" x=\"277.847821\" xlink:href=\"#m6e960385da\" y=\"141.285288\"/>\n     <use style=\"fill:#1f77b4;stroke:#1f77b4;\" x=\"383.786073\" xlink:href=\"#m6e960385da\" y=\"237.322279\"/>\n     <use style=\"fill:#1f77b4;stroke:#1f77b4;\" x=\"241.68921\" xlink:href=\"#m6e960385da\" y=\"117.196415\"/>\n     <use style=\"fill:#1f77b4;stroke:#1f77b4;\" x=\"338.105291\" xlink:href=\"#m6e960385da\" y=\"182.751056\"/>\n     <use style=\"fill:#1f77b4;stroke:#1f77b4;\" x=\"283.41982\" xlink:href=\"#m6e960385da\" y=\"131.707311\"/>\n     <use style=\"fill:#1f77b4;stroke:#1f77b4;\" x=\"445.160784\" xlink:href=\"#m6e960385da\" y=\"178.532127\"/>\n     <use style=\"fill:#1f77b4;stroke:#1f77b4;\" x=\"306.407186\" xlink:href=\"#m6e960385da\" y=\"154.15951\"/>\n     <use style=\"fill:#1f77b4;stroke:#1f77b4;\" x=\"369.810256\" xlink:href=\"#m6e960385da\" y=\"161.516329\"/>\n     <use style=\"fill:#1f77b4;stroke:#1f77b4;\" x=\"298.012219\" xlink:href=\"#m6e960385da\" y=\"130.633657\"/>\n     <use style=\"fill:#1f77b4;stroke:#1f77b4;\" x=\"364.529459\" xlink:href=\"#m6e960385da\" y=\"190.03357\"/>\n     <use style=\"fill:#1f77b4;stroke:#1f77b4;\" x=\"162.666627\" xlink:href=\"#m6e960385da\" y=\"84.258734\"/>\n     <use style=\"fill:#1f77b4;stroke:#1f77b4;\" x=\"322.945784\" xlink:href=\"#m6e960385da\" y=\"133.049577\"/>\n     <use style=\"fill:#1f77b4;stroke:#1f77b4;\" x=\"406.001748\" xlink:href=\"#m6e960385da\" y=\"246.234945\"/>\n     <use style=\"fill:#1f77b4;stroke:#1f77b4;\" x=\"374.566302\" xlink:href=\"#m6e960385da\" y=\"229.961268\"/>\n     <use style=\"fill:#1f77b4;stroke:#1f77b4;\" x=\"300.782194\" xlink:href=\"#m6e960385da\" y=\"173.893362\"/>\n     <use style=\"fill:#1f77b4;stroke:#1f77b4;\" x=\"288.261249\" xlink:href=\"#m6e960385da\" y=\"136.467634\"/>\n     <use style=\"fill:#1f77b4;stroke:#1f77b4;\" x=\"400.394441\" xlink:href=\"#m6e960385da\" y=\"202.760141\"/>\n     <use style=\"fill:#1f77b4;stroke:#1f77b4;\" x=\"419.681384\" xlink:href=\"#m6e960385da\" y=\"231.078564\"/>\n     <use style=\"fill:#1f77b4;stroke:#1f77b4;\" x=\"244.744681\" xlink:href=\"#m6e960385da\" y=\"130.198605\"/>\n     <use style=\"fill:#1f77b4;stroke:#1f77b4;\" x=\"299.523174\" xlink:href=\"#m6e960385da\" y=\"148.782423\"/>\n     <use style=\"fill:#1f77b4;stroke:#1f77b4;\" x=\"366.306436\" xlink:href=\"#m6e960385da\" y=\"206.865637\"/>\n     <use style=\"fill:#1f77b4;stroke:#1f77b4;\" x=\"372.304497\" xlink:href=\"#m6e960385da\" y=\"210.204736\"/>\n     <use style=\"fill:#1f77b4;stroke:#1f77b4;\" x=\"220.724692\" xlink:href=\"#m6e960385da\" y=\"77.857344\"/>\n     <use style=\"fill:#1f77b4;stroke:#1f77b4;\" x=\"351.950117\" xlink:href=\"#m6e960385da\" y=\"227.671381\"/>\n     <use style=\"fill:#1f77b4;stroke:#1f77b4;\" x=\"382.035448\" xlink:href=\"#m6e960385da\" y=\"164.812885\"/>\n     <use style=\"fill:#1f77b4;stroke:#1f77b4;\" x=\"294.631255\" xlink:href=\"#m6e960385da\" y=\"155.267151\"/>\n     <use style=\"fill:#1f77b4;stroke:#1f77b4;\" x=\"345.202676\" xlink:href=\"#m6e960385da\" y=\"226.55\"/>\n     <use style=\"fill:#1f77b4;stroke:#1f77b4;\" x=\"427.374178\" xlink:href=\"#m6e960385da\" y=\"226.274473\"/>\n     <use style=\"fill:#1f77b4;stroke:#1f77b4;\" x=\"366.383418\" xlink:href=\"#m6e960385da\" y=\"199.79542\"/>\n     <use style=\"fill:#1f77b4;stroke:#1f77b4;\" x=\"217.538354\" xlink:href=\"#m6e960385da\" y=\"116.290331\"/>\n     <use style=\"fill:#1f77b4;stroke:#1f77b4;\" x=\"308.703025\" xlink:href=\"#m6e960385da\" y=\"147.436254\"/>\n     <use style=\"fill:#1f77b4;stroke:#1f77b4;\" x=\"228.662388\" xlink:href=\"#m6e960385da\" y=\"93.576637\"/>\n     <use style=\"fill:#1f77b4;stroke:#1f77b4;\" x=\"348.702991\" xlink:href=\"#m6e960385da\" y=\"173.993004\"/>\n     <use style=\"fill:#1f77b4;stroke:#1f77b4;\" x=\"255.376195\" xlink:href=\"#m6e960385da\" y=\"155.452723\"/>\n     <use style=\"fill:#1f77b4;stroke:#1f77b4;\" x=\"364.848221\" xlink:href=\"#m6e960385da\" y=\"200.352717\"/>\n     <use style=\"fill:#1f77b4;stroke:#1f77b4;\" x=\"367.506866\" xlink:href=\"#m6e960385da\" y=\"176.833397\"/>\n     <use style=\"fill:#1f77b4;stroke:#1f77b4;\" x=\"199.330721\" xlink:href=\"#m6e960385da\" y=\"100.183785\"/>\n     <use style=\"fill:#1f77b4;stroke:#1f77b4;\" x=\"418.807188\" xlink:href=\"#m6e960385da\" y=\"232.894787\"/>\n     <use style=\"fill:#1f77b4;stroke:#1f77b4;\" x=\"252.097209\" xlink:href=\"#m6e960385da\" y=\"123.389826\"/>\n     <use style=\"fill:#1f77b4;stroke:#1f77b4;\" x=\"459.320903\" xlink:href=\"#m6e960385da\" y=\"238.559742\"/>\n     <use style=\"fill:#1f77b4;stroke:#1f77b4;\" x=\"254.453229\" xlink:href=\"#m6e960385da\" y=\"142.177038\"/>\n     <use style=\"fill:#1f77b4;stroke:#1f77b4;\" x=\"312.567901\" xlink:href=\"#m6e960385da\" y=\"196.380783\"/>\n     <use style=\"fill:#1f77b4;stroke:#1f77b4;\" x=\"356.289516\" xlink:href=\"#m6e960385da\" y=\"171.592462\"/>\n     <use style=\"fill:#1f77b4;stroke:#1f77b4;\" x=\"286.481179\" xlink:href=\"#m6e960385da\" y=\"132.478695\"/>\n     <use style=\"fill:#1f77b4;stroke:#1f77b4;\" x=\"530.542289\" xlink:href=\"#m6e960385da\" y=\"318.534545\"/>\n     <use style=\"fill:#1f77b4;stroke:#1f77b4;\" x=\"340.964803\" xlink:href=\"#m6e960385da\" y=\"185.642314\"/>\n     <use style=\"fill:#1f77b4;stroke:#1f77b4;\" x=\"417.298245\" xlink:href=\"#m6e960385da\" y=\"265.181641\"/>\n     <use style=\"fill:#1f77b4;stroke:#1f77b4;\" x=\"328.94177\" xlink:href=\"#m6e960385da\" y=\"132.233266\"/>\n     <use style=\"fill:#1f77b4;stroke:#1f77b4;\" x=\"342.866639\" xlink:href=\"#m6e960385da\" y=\"148.843074\"/>\n     <use style=\"fill:#1f77b4;stroke:#1f77b4;\" x=\"325.876288\" xlink:href=\"#m6e960385da\" y=\"206.884985\"/>\n     <use style=\"fill:#1f77b4;stroke:#1f77b4;\" x=\"358.512931\" xlink:href=\"#m6e960385da\" y=\"160.843574\"/>\n     <use style=\"fill:#1f77b4;stroke:#1f77b4;\" x=\"394.10567\" xlink:href=\"#m6e960385da\" y=\"250.377153\"/>\n     <use style=\"fill:#1f77b4;stroke:#1f77b4;\" x=\"310.958511\" xlink:href=\"#m6e960385da\" y=\"153.626723\"/>\n     <use style=\"fill:#1f77b4;stroke:#1f77b4;\" x=\"255.906003\" xlink:href=\"#m6e960385da\" y=\"177.251726\"/>\n     <use style=\"fill:#1f77b4;stroke:#1f77b4;\" x=\"240.438124\" xlink:href=\"#m6e960385da\" y=\"129.110815\"/>\n     <use style=\"fill:#1f77b4;stroke:#1f77b4;\" x=\"221.822616\" xlink:href=\"#m6e960385da\" y=\"98.901854\"/>\n     <use style=\"fill:#1f77b4;stroke:#1f77b4;\" x=\"345.407282\" xlink:href=\"#m6e960385da\" y=\"233.039552\"/>\n     <use style=\"fill:#1f77b4;stroke:#1f77b4;\" x=\"291.169788\" xlink:href=\"#m6e960385da\" y=\"108.803026\"/>\n     <use style=\"fill:#1f77b4;stroke:#1f77b4;\" x=\"423.689045\" xlink:href=\"#m6e960385da\" y=\"217.367535\"/>\n     <use style=\"fill:#1f77b4;stroke:#1f77b4;\" x=\"282.051206\" xlink:href=\"#m6e960385da\" y=\"110.715783\"/>\n     <use style=\"fill:#1f77b4;stroke:#1f77b4;\" x=\"225.722071\" xlink:href=\"#m6e960385da\" y=\"134.611296\"/>\n     <use style=\"fill:#1f77b4;stroke:#1f77b4;\" x=\"289.900827\" xlink:href=\"#m6e960385da\" y=\"152.653838\"/>\n     <use style=\"fill:#1f77b4;stroke:#1f77b4;\" x=\"321.86108\" xlink:href=\"#m6e960385da\" y=\"123.755062\"/>\n     <use style=\"fill:#1f77b4;stroke:#1f77b4;\" x=\"440.821124\" xlink:href=\"#m6e960385da\" y=\"215.718242\"/>\n     <use style=\"fill:#1f77b4;stroke:#1f77b4;\" x=\"317.167828\" xlink:href=\"#m6e960385da\" y=\"174.303345\"/>\n     <use style=\"fill:#1f77b4;stroke:#1f77b4;\" x=\"321.194829\" xlink:href=\"#m6e960385da\" y=\"210.743386\"/>\n     <use style=\"fill:#1f77b4;stroke:#1f77b4;\" x=\"203.60088\" xlink:href=\"#m6e960385da\" y=\"132.632793\"/>\n     <use style=\"fill:#1f77b4;stroke:#1f77b4;\" x=\"315.10117\" xlink:href=\"#m6e960385da\" y=\"207.411785\"/>\n     <use style=\"fill:#1f77b4;stroke:#1f77b4;\" x=\"320.327278\" xlink:href=\"#m6e960385da\" y=\"152.353306\"/>\n     <use style=\"fill:#1f77b4;stroke:#1f77b4;\" x=\"335.723713\" xlink:href=\"#m6e960385da\" y=\"218.463894\"/>\n     <use style=\"fill:#1f77b4;stroke:#1f77b4;\" x=\"154.680181\" xlink:href=\"#m6e960385da\" y=\"44.81535\"/>\n     <use style=\"fill:#1f77b4;stroke:#1f77b4;\" x=\"174.560502\" xlink:href=\"#m6e960385da\" y=\"117.243266\"/>\n     <use style=\"fill:#1f77b4;stroke:#1f77b4;\" x=\"449.094462\" xlink:href=\"#m6e960385da\" y=\"301.062736\"/>\n     <use style=\"fill:#1f77b4;stroke:#1f77b4;\" x=\"325.175953\" xlink:href=\"#m6e960385da\" y=\"121.922118\"/>\n     <use style=\"fill:#1f77b4;stroke:#1f77b4;\" x=\"377.836796\" xlink:href=\"#m6e960385da\" y=\"178.970866\"/>\n     <use style=\"fill:#1f77b4;stroke:#1f77b4;\" x=\"314.14522\" xlink:href=\"#m6e960385da\" y=\"143.804863\"/>\n     <use style=\"fill:#1f77b4;stroke:#1f77b4;\" x=\"292.450362\" xlink:href=\"#m6e960385da\" y=\"151.217691\"/>\n     <use style=\"fill:#1f77b4;stroke:#1f77b4;\" x=\"272.280432\" xlink:href=\"#m6e960385da\" y=\"162.637715\"/>\n     <use style=\"fill:#1f77b4;stroke:#1f77b4;\" x=\"293.552633\" xlink:href=\"#m6e960385da\" y=\"128.468341\"/>\n     <use style=\"fill:#1f77b4;stroke:#1f77b4;\" x=\"370.047998\" xlink:href=\"#m6e960385da\" y=\"125.353982\"/>\n     <use style=\"fill:#1f77b4;stroke:#1f77b4;\" x=\"336.906996\" xlink:href=\"#m6e960385da\" y=\"166.213773\"/>\n     <use style=\"fill:#1f77b4;stroke:#1f77b4;\" x=\"321.28616\" xlink:href=\"#m6e960385da\" y=\"154.125828\"/>\n     <use style=\"fill:#1f77b4;stroke:#1f77b4;\" x=\"351.071218\" xlink:href=\"#m6e960385da\" y=\"175.042662\"/>\n     <use style=\"fill:#1f77b4;stroke:#1f77b4;\" x=\"403.704567\" xlink:href=\"#m6e960385da\" y=\"195.098523\"/>\n     <use style=\"fill:#1f77b4;stroke:#1f77b4;\" x=\"230.391801\" xlink:href=\"#m6e960385da\" y=\"101.425108\"/>\n     <use style=\"fill:#1f77b4;stroke:#1f77b4;\" x=\"300.520604\" xlink:href=\"#m6e960385da\" y=\"152.384171\"/>\n     <use style=\"fill:#1f77b4;stroke:#1f77b4;\" x=\"230.362322\" xlink:href=\"#m6e960385da\" y=\"135.505491\"/>\n     <use style=\"fill:#1f77b4;stroke:#1f77b4;\" x=\"342.422244\" xlink:href=\"#m6e960385da\" y=\"221.650224\"/>\n     <use style=\"fill:#1f77b4;stroke:#1f77b4;\" x=\"340.223875\" xlink:href=\"#m6e960385da\" y=\"170.090705\"/>\n     <use style=\"fill:#1f77b4;stroke:#1f77b4;\" x=\"238.423589\" xlink:href=\"#m6e960385da\" y=\"70.585526\"/>\n     <use style=\"fill:#1f77b4;stroke:#1f77b4;\" x=\"176.271641\" xlink:href=\"#m6e960385da\" y=\"70.517255\"/>\n     <use style=\"fill:#1f77b4;stroke:#1f77b4;\" x=\"270.733745\" xlink:href=\"#m6e960385da\" y=\"164.74636\"/>\n     <use style=\"fill:#1f77b4;stroke:#1f77b4;\" x=\"283.970726\" xlink:href=\"#m6e960385da\" y=\"160.356992\"/>\n     <use style=\"fill:#1f77b4;stroke:#1f77b4;\" x=\"395.0198\" xlink:href=\"#m6e960385da\" y=\"137.74995\"/>\n     <use style=\"fill:#1f77b4;stroke:#1f77b4;\" x=\"340.159715\" xlink:href=\"#m6e960385da\" y=\"142.344856\"/>\n     <use style=\"fill:#1f77b4;stroke:#1f77b4;\" x=\"446.631672\" xlink:href=\"#m6e960385da\" y=\"232.330067\"/>\n     <use style=\"fill:#1f77b4;stroke:#1f77b4;\" x=\"322.974188\" xlink:href=\"#m6e960385da\" y=\"152.652144\"/>\n     <use style=\"fill:#1f77b4;stroke:#1f77b4;\" x=\"371.129625\" xlink:href=\"#m6e960385da\" y=\"181.039018\"/>\n     <use style=\"fill:#1f77b4;stroke:#1f77b4;\" x=\"417.008801\" xlink:href=\"#m6e960385da\" y=\"211.616781\"/>\n     <use style=\"fill:#1f77b4;stroke:#1f77b4;\" x=\"328.206803\" xlink:href=\"#m6e960385da\" y=\"143.658751\"/>\n     <use style=\"fill:#1f77b4;stroke:#1f77b4;\" x=\"278.403538\" xlink:href=\"#m6e960385da\" y=\"109.043285\"/>\n     <use style=\"fill:#1f77b4;stroke:#1f77b4;\" x=\"325.776975\" xlink:href=\"#m6e960385da\" y=\"163.693926\"/>\n     <use style=\"fill:#1f77b4;stroke:#1f77b4;\" x=\"428.797633\" xlink:href=\"#m6e960385da\" y=\"224.241508\"/>\n     <use style=\"fill:#1f77b4;stroke:#1f77b4;\" x=\"222.212715\" xlink:href=\"#m6e960385da\" y=\"47.696171\"/>\n     <use style=\"fill:#1f77b4;stroke:#1f77b4;\" x=\"342.249555\" xlink:href=\"#m6e960385da\" y=\"183.559204\"/>\n     <use style=\"fill:#1f77b4;stroke:#1f77b4;\" x=\"387.589618\" xlink:href=\"#m6e960385da\" y=\"212.00052\"/>\n     <use style=\"fill:#1f77b4;stroke:#1f77b4;\" x=\"339.237819\" xlink:href=\"#m6e960385da\" y=\"152.948426\"/>\n     <use style=\"fill:#1f77b4;stroke:#1f77b4;\" x=\"292.041789\" xlink:href=\"#m6e960385da\" y=\"174.119144\"/>\n     <use style=\"fill:#1f77b4;stroke:#1f77b4;\" x=\"389.172369\" xlink:href=\"#m6e960385da\" y=\"195.362904\"/>\n     <use style=\"fill:#1f77b4;stroke:#1f77b4;\" x=\"361.49335\" xlink:href=\"#m6e960385da\" y=\"207.088526\"/>\n     <use style=\"fill:#1f77b4;stroke:#1f77b4;\" x=\"152.093161\" xlink:href=\"#m6e960385da\" y=\"78.070486\"/>\n     <use style=\"fill:#1f77b4;stroke:#1f77b4;\" x=\"312.033471\" xlink:href=\"#m6e960385da\" y=\"171.048005\"/>\n     <use style=\"fill:#1f77b4;stroke:#1f77b4;\" x=\"499.701576\" xlink:href=\"#m6e960385da\" y=\"245.463114\"/>\n     <use style=\"fill:#1f77b4;stroke:#1f77b4;\" x=\"268.167315\" xlink:href=\"#m6e960385da\" y=\"165.29754\"/>\n     <use style=\"fill:#1f77b4;stroke:#1f77b4;\" x=\"280.768676\" xlink:href=\"#m6e960385da\" y=\"144.006872\"/>\n     <use style=\"fill:#1f77b4;stroke:#1f77b4;\" x=\"336.88759\" xlink:href=\"#m6e960385da\" y=\"155.572946\"/>\n     <use style=\"fill:#1f77b4;stroke:#1f77b4;\" x=\"260.494613\" xlink:href=\"#m6e960385da\" y=\"84.646818\"/>\n     <use style=\"fill:#1f77b4;stroke:#1f77b4;\" x=\"383.084575\" xlink:href=\"#m6e960385da\" y=\"195.164197\"/>\n     <use style=\"fill:#1f77b4;stroke:#1f77b4;\" x=\"234.239012\" xlink:href=\"#m6e960385da\" y=\"91.259551\"/>\n     <use style=\"fill:#1f77b4;stroke:#1f77b4;\" x=\"228.091917\" xlink:href=\"#m6e960385da\" y=\"140.450591\"/>\n     <use style=\"fill:#1f77b4;stroke:#1f77b4;\" x=\"216.841149\" xlink:href=\"#m6e960385da\" y=\"58.014778\"/>\n     <use style=\"fill:#1f77b4;stroke:#1f77b4;\" x=\"272.793608\" xlink:href=\"#m6e960385da\" y=\"144.70803\"/>\n     <use style=\"fill:#1f77b4;stroke:#1f77b4;\" x=\"354.43471\" xlink:href=\"#m6e960385da\" y=\"181.342774\"/>\n     <use style=\"fill:#1f77b4;stroke:#1f77b4;\" x=\"203.124116\" xlink:href=\"#m6e960385da\" y=\"96.585524\"/>\n     <use style=\"fill:#1f77b4;stroke:#1f77b4;\" x=\"195.56976\" xlink:href=\"#m6e960385da\" y=\"41.020441\"/>\n     <use style=\"fill:#1f77b4;stroke:#1f77b4;\" x=\"325.652902\" xlink:href=\"#m6e960385da\" y=\"143.968008\"/>\n     <use style=\"fill:#1f77b4;stroke:#1f77b4;\" x=\"485.644193\" xlink:href=\"#m6e960385da\" y=\"261.132917\"/>\n     <use style=\"fill:#1f77b4;stroke:#1f77b4;\" x=\"239.518848\" xlink:href=\"#m6e960385da\" y=\"90.871404\"/>\n     <use style=\"fill:#1f77b4;stroke:#1f77b4;\" x=\"293.128947\" xlink:href=\"#m6e960385da\" y=\"136.393666\"/>\n     <use style=\"fill:#1f77b4;stroke:#1f77b4;\" x=\"415.258873\" xlink:href=\"#m6e960385da\" y=\"225.715505\"/>\n     <use style=\"fill:#1f77b4;stroke:#1f77b4;\" x=\"425.207676\" xlink:href=\"#m6e960385da\" y=\"279.958518\"/>\n     <use style=\"fill:#1f77b4;stroke:#1f77b4;\" x=\"364.060275\" xlink:href=\"#m6e960385da\" y=\"202.252204\"/>\n     <use style=\"fill:#1f77b4;stroke:#1f77b4;\" x=\"238.129155\" xlink:href=\"#m6e960385da\" y=\"102.56063\"/>\n     <use style=\"fill:#1f77b4;stroke:#1f77b4;\" x=\"379.337821\" xlink:href=\"#m6e960385da\" y=\"205.884851\"/>\n     <use style=\"fill:#1f77b4;stroke:#1f77b4;\" x=\"467.992964\" xlink:href=\"#m6e960385da\" y=\"250.927272\"/>\n     <use style=\"fill:#1f77b4;stroke:#1f77b4;\" x=\"330.238954\" xlink:href=\"#m6e960385da\" y=\"174.867652\"/>\n     <use style=\"fill:#1f77b4;stroke:#1f77b4;\" x=\"361.697306\" xlink:href=\"#m6e960385da\" y=\"189.277518\"/>\n     <use style=\"fill:#1f77b4;stroke:#1f77b4;\" x=\"338.819916\" xlink:href=\"#m6e960385da\" y=\"140.412813\"/>\n     <use style=\"fill:#1f77b4;stroke:#1f77b4;\" x=\"397.78103\" xlink:href=\"#m6e960385da\" y=\"223.749046\"/>\n     <use style=\"fill:#1f77b4;stroke:#1f77b4;\" x=\"266.032499\" xlink:href=\"#m6e960385da\" y=\"143.644181\"/>\n     <use style=\"fill:#1f77b4;stroke:#1f77b4;\" x=\"273.206007\" xlink:href=\"#m6e960385da\" y=\"104.183484\"/>\n     <use style=\"fill:#1f77b4;stroke:#1f77b4;\" x=\"348.84341\" xlink:href=\"#m6e960385da\" y=\"181.641135\"/>\n     <use style=\"fill:#1f77b4;stroke:#1f77b4;\" x=\"318.935985\" xlink:href=\"#m6e960385da\" y=\"142.839176\"/>\n     <use style=\"fill:#1f77b4;stroke:#1f77b4;\" x=\"479.402629\" xlink:href=\"#m6e960385da\" y=\"266.168212\"/>\n     <use style=\"fill:#1f77b4;stroke:#1f77b4;\" x=\"405.601038\" xlink:href=\"#m6e960385da\" y=\"186.999556\"/>\n     <use style=\"fill:#1f77b4;stroke:#1f77b4;\" x=\"279.001531\" xlink:href=\"#m6e960385da\" y=\"155.199699\"/>\n     <use style=\"fill:#1f77b4;stroke:#1f77b4;\" x=\"388.978233\" xlink:href=\"#m6e960385da\" y=\"207.385903\"/>\n     <use style=\"fill:#1f77b4;stroke:#1f77b4;\" x=\"338.701596\" xlink:href=\"#m6e960385da\" y=\"200.669125\"/>\n     <use style=\"fill:#1f77b4;stroke:#1f77b4;\" x=\"358.574208\" xlink:href=\"#m6e960385da\" y=\"175.057434\"/>\n     <use style=\"fill:#1f77b4;stroke:#1f77b4;\" x=\"364.098749\" xlink:href=\"#m6e960385da\" y=\"213.883053\"/>\n     <use style=\"fill:#1f77b4;stroke:#1f77b4;\" x=\"361.621413\" xlink:href=\"#m6e960385da\" y=\"252.105425\"/>\n     <use style=\"fill:#1f77b4;stroke:#1f77b4;\" x=\"431.12353\" xlink:href=\"#m6e960385da\" y=\"243.507819\"/>\n     <use style=\"fill:#1f77b4;stroke:#1f77b4;\" x=\"236.731431\" xlink:href=\"#m6e960385da\" y=\"117.350302\"/>\n     <use style=\"fill:#1f77b4;stroke:#1f77b4;\" x=\"366.114404\" xlink:href=\"#m6e960385da\" y=\"163.454715\"/>\n     <use style=\"fill:#1f77b4;stroke:#1f77b4;\" x=\"307.647587\" xlink:href=\"#m6e960385da\" y=\"140.325193\"/>\n     <use style=\"fill:#1f77b4;stroke:#1f77b4;\" x=\"248.967389\" xlink:href=\"#m6e960385da\" y=\"132.923974\"/>\n     <use style=\"fill:#1f77b4;stroke:#1f77b4;\" x=\"442.848614\" xlink:href=\"#m6e960385da\" y=\"227.078266\"/>\n     <use style=\"fill:#1f77b4;stroke:#1f77b4;\" x=\"276.384869\" xlink:href=\"#m6e960385da\" y=\"167.403691\"/>\n     <use style=\"fill:#1f77b4;stroke:#1f77b4;\" x=\"333.083081\" xlink:href=\"#m6e960385da\" y=\"85.303347\"/>\n     <use style=\"fill:#1f77b4;stroke:#1f77b4;\" x=\"289.686042\" xlink:href=\"#m6e960385da\" y=\"135.881493\"/>\n     <use style=\"fill:#1f77b4;stroke:#1f77b4;\" x=\"226.355057\" xlink:href=\"#m6e960385da\" y=\"133.024061\"/>\n     <use style=\"fill:#1f77b4;stroke:#1f77b4;\" x=\"378.360474\" xlink:href=\"#m6e960385da\" y=\"239.62834\"/>\n     <use style=\"fill:#1f77b4;stroke:#1f77b4;\" x=\"277.551113\" xlink:href=\"#m6e960385da\" y=\"137.879723\"/>\n     <use style=\"fill:#1f77b4;stroke:#1f77b4;\" x=\"411.085754\" xlink:href=\"#m6e960385da\" y=\"268.930004\"/>\n     <use style=\"fill:#1f77b4;stroke:#1f77b4;\" x=\"231.49607\" xlink:href=\"#m6e960385da\" y=\"134.114506\"/>\n     <use style=\"fill:#1f77b4;stroke:#1f77b4;\" x=\"309.535453\" xlink:href=\"#m6e960385da\" y=\"151.473812\"/>\n     <use style=\"fill:#1f77b4;stroke:#1f77b4;\" x=\"407.632859\" xlink:href=\"#m6e960385da\" y=\"254.286545\"/>\n     <use style=\"fill:#1f77b4;stroke:#1f77b4;\" x=\"250.870206\" xlink:href=\"#m6e960385da\" y=\"103.978607\"/>\n     <use style=\"fill:#1f77b4;stroke:#1f77b4;\" x=\"350.931681\" xlink:href=\"#m6e960385da\" y=\"192.652178\"/>\n     <use style=\"fill:#1f77b4;stroke:#1f77b4;\" x=\"221.745066\" xlink:href=\"#m6e960385da\" y=\"82.438151\"/>\n     <use style=\"fill:#1f77b4;stroke:#1f77b4;\" x=\"307.95651\" xlink:href=\"#m6e960385da\" y=\"128.586479\"/>\n     <use style=\"fill:#1f77b4;stroke:#1f77b4;\" x=\"201.257537\" xlink:href=\"#m6e960385da\" y=\"65.712197\"/>\n     <use style=\"fill:#1f77b4;stroke:#1f77b4;\" x=\"416.072155\" xlink:href=\"#m6e960385da\" y=\"250.518555\"/>\n     <use style=\"fill:#1f77b4;stroke:#1f77b4;\" x=\"399.595149\" xlink:href=\"#m6e960385da\" y=\"188.418406\"/>\n     <use style=\"fill:#1f77b4;stroke:#1f77b4;\" x=\"425.574756\" xlink:href=\"#m6e960385da\" y=\"181.685966\"/>\n     <use style=\"fill:#1f77b4;stroke:#1f77b4;\" x=\"261.16556\" xlink:href=\"#m6e960385da\" y=\"135.628127\"/>\n     <use style=\"fill:#1f77b4;stroke:#1f77b4;\" x=\"424.230678\" xlink:href=\"#m6e960385da\" y=\"195.587232\"/>\n     <use style=\"fill:#1f77b4;stroke:#1f77b4;\" x=\"240.364428\" xlink:href=\"#m6e960385da\" y=\"73.681214\"/>\n     <use style=\"fill:#1f77b4;stroke:#1f77b4;\" x=\"310.362819\" xlink:href=\"#m6e960385da\" y=\"190.957758\"/>\n     <use style=\"fill:#1f77b4;stroke:#1f77b4;\" x=\"439.052611\" xlink:href=\"#m6e960385da\" y=\"215.507302\"/>\n     <use style=\"fill:#1f77b4;stroke:#1f77b4;\" x=\"375.913543\" xlink:href=\"#m6e960385da\" y=\"155.775514\"/>\n     <use style=\"fill:#1f77b4;stroke:#1f77b4;\" x=\"330.8313\" xlink:href=\"#m6e960385da\" y=\"219.722214\"/>\n     <use style=\"fill:#1f77b4;stroke:#1f77b4;\" x=\"315.855823\" xlink:href=\"#m6e960385da\" y=\"129.92635\"/>\n     <use style=\"fill:#1f77b4;stroke:#1f77b4;\" x=\"465.066196\" xlink:href=\"#m6e960385da\" y=\"251.438288\"/>\n     <use style=\"fill:#1f77b4;stroke:#1f77b4;\" x=\"335.66516\" xlink:href=\"#m6e960385da\" y=\"166.210376\"/>\n     <use style=\"fill:#1f77b4;stroke:#1f77b4;\" x=\"267.387503\" xlink:href=\"#m6e960385da\" y=\"147.697289\"/>\n     <use style=\"fill:#1f77b4;stroke:#1f77b4;\" x=\"419.088318\" xlink:href=\"#m6e960385da\" y=\"197.562503\"/>\n     <use style=\"fill:#1f77b4;stroke:#1f77b4;\" x=\"106.423886\" xlink:href=\"#m6e960385da\" y=\"44.913482\"/>\n     <use style=\"fill:#1f77b4;stroke:#1f77b4;\" x=\"407.247713\" xlink:href=\"#m6e960385da\" y=\"187.514053\"/>\n     <use style=\"fill:#1f77b4;stroke:#1f77b4;\" x=\"239.34502\" xlink:href=\"#m6e960385da\" y=\"84.398529\"/>\n     <use style=\"fill:#1f77b4;stroke:#1f77b4;\" x=\"292.126257\" xlink:href=\"#m6e960385da\" y=\"161.737582\"/>\n     <use style=\"fill:#1f77b4;stroke:#1f77b4;\" x=\"398.088268\" xlink:href=\"#m6e960385da\" y=\"236.359761\"/>\n     <use style=\"fill:#1f77b4;stroke:#1f77b4;\" x=\"513.581412\" xlink:href=\"#m6e960385da\" y=\"263.471226\"/>\n     <use style=\"fill:#1f77b4;stroke:#1f77b4;\" x=\"352.375435\" xlink:href=\"#m6e960385da\" y=\"161.140948\"/>\n     <use style=\"fill:#1f77b4;stroke:#1f77b4;\" x=\"340.202986\" xlink:href=\"#m6e960385da\" y=\"179.007729\"/>\n     <use style=\"fill:#1f77b4;stroke:#1f77b4;\" x=\"344.320328\" xlink:href=\"#m6e960385da\" y=\"159.42222\"/>\n     <use style=\"fill:#1f77b4;stroke:#1f77b4;\" x=\"386.854814\" xlink:href=\"#m6e960385da\" y=\"208.723959\"/>\n     <use style=\"fill:#1f77b4;stroke:#1f77b4;\" x=\"196.123641\" xlink:href=\"#m6e960385da\" y=\"115.121338\"/>\n     <use style=\"fill:#1f77b4;stroke:#1f77b4;\" x=\"337.768407\" xlink:href=\"#m6e960385da\" y=\"167.294365\"/>\n     <use style=\"fill:#1f77b4;stroke:#1f77b4;\" x=\"354.684868\" xlink:href=\"#m6e960385da\" y=\"187.930561\"/>\n     <use style=\"fill:#1f77b4;stroke:#1f77b4;\" x=\"267.641768\" xlink:href=\"#m6e960385da\" y=\"144.001151\"/>\n     <use style=\"fill:#1f77b4;stroke:#1f77b4;\" x=\"366.439465\" xlink:href=\"#m6e960385da\" y=\"233.413045\"/>\n     <use style=\"fill:#1f77b4;stroke:#1f77b4;\" x=\"374.349706\" xlink:href=\"#m6e960385da\" y=\"164.265642\"/>\n     <use style=\"fill:#1f77b4;stroke:#1f77b4;\" x=\"325.258388\" xlink:href=\"#m6e960385da\" y=\"176.383343\"/>\n     <use style=\"fill:#1f77b4;stroke:#1f77b4;\" x=\"164.158491\" xlink:href=\"#m6e960385da\" y=\"23.542011\"/>\n     <use style=\"fill:#1f77b4;stroke:#1f77b4;\" x=\"253.548919\" xlink:href=\"#m6e960385da\" y=\"93.646994\"/>\n     <use style=\"fill:#1f77b4;stroke:#1f77b4;\" x=\"389.790475\" xlink:href=\"#m6e960385da\" y=\"160.522756\"/>\n     <use style=\"fill:#1f77b4;stroke:#1f77b4;\" x=\"344.110846\" xlink:href=\"#m6e960385da\" y=\"126.925952\"/>\n     <use style=\"fill:#1f77b4;stroke:#1f77b4;\" x=\"322.943255\" xlink:href=\"#m6e960385da\" y=\"198.28181\"/>\n     <use style=\"fill:#1f77b4;stroke:#1f77b4;\" x=\"326.970345\" xlink:href=\"#m6e960385da\" y=\"180.518831\"/>\n     <use style=\"fill:#1f77b4;stroke:#1f77b4;\" x=\"336.801391\" xlink:href=\"#m6e960385da\" y=\"186.619375\"/>\n     <use style=\"fill:#1f77b4;stroke:#1f77b4;\" x=\"261.6925\" xlink:href=\"#m6e960385da\" y=\"136.09255\"/>\n     <use style=\"fill:#1f77b4;stroke:#1f77b4;\" x=\"375.918533\" xlink:href=\"#m6e960385da\" y=\"196.793556\"/>\n     <use style=\"fill:#1f77b4;stroke:#1f77b4;\" x=\"193.616789\" xlink:href=\"#m6e960385da\" y=\"43.295828\"/>\n     <use style=\"fill:#1f77b4;stroke:#1f77b4;\" x=\"231.620583\" xlink:href=\"#m6e960385da\" y=\"169.188462\"/>\n     <use style=\"fill:#1f77b4;stroke:#1f77b4;\" x=\"286.551017\" xlink:href=\"#m6e960385da\" y=\"177.513186\"/>\n     <use style=\"fill:#1f77b4;stroke:#1f77b4;\" x=\"426.782693\" xlink:href=\"#m6e960385da\" y=\"235.719635\"/>\n     <use style=\"fill:#1f77b4;stroke:#1f77b4;\" x=\"297.025383\" xlink:href=\"#m6e960385da\" y=\"126.493028\"/>\n     <use style=\"fill:#1f77b4;stroke:#1f77b4;\" x=\"278.616652\" xlink:href=\"#m6e960385da\" y=\"162.760762\"/>\n     <use style=\"fill:#1f77b4;stroke:#1f77b4;\" x=\"298.593969\" xlink:href=\"#m6e960385da\" y=\"157.395868\"/>\n     <use style=\"fill:#1f77b4;stroke:#1f77b4;\" x=\"385.172367\" xlink:href=\"#m6e960385da\" y=\"188.640707\"/>\n     <use style=\"fill:#1f77b4;stroke:#1f77b4;\" x=\"194.543465\" xlink:href=\"#m6e960385da\" y=\"127.932594\"/>\n     <use style=\"fill:#1f77b4;stroke:#1f77b4;\" x=\"165.073916\" xlink:href=\"#m6e960385da\" y=\"54.26559\"/>\n     <use style=\"fill:#1f77b4;stroke:#1f77b4;\" x=\"345.166033\" xlink:href=\"#m6e960385da\" y=\"184.973368\"/>\n     <use style=\"fill:#1f77b4;stroke:#1f77b4;\" x=\"225.718258\" xlink:href=\"#m6e960385da\" y=\"105.231932\"/>\n     <use style=\"fill:#1f77b4;stroke:#1f77b4;\" x=\"172.433722\" xlink:href=\"#m6e960385da\" y=\"71.70402\"/>\n     <use style=\"fill:#1f77b4;stroke:#1f77b4;\" x=\"344.572366\" xlink:href=\"#m6e960385da\" y=\"166.930513\"/>\n     <use style=\"fill:#1f77b4;stroke:#1f77b4;\" x=\"355.446059\" xlink:href=\"#m6e960385da\" y=\"201.989268\"/>\n     <use style=\"fill:#1f77b4;stroke:#1f77b4;\" x=\"302.562671\" xlink:href=\"#m6e960385da\" y=\"145.792401\"/>\n     <use style=\"fill:#1f77b4;stroke:#1f77b4;\" x=\"219.914225\" xlink:href=\"#m6e960385da\" y=\"140.737484\"/>\n     <use style=\"fill:#1f77b4;stroke:#1f77b4;\" x=\"240.995743\" xlink:href=\"#m6e960385da\" y=\"103.586217\"/>\n     <use style=\"fill:#1f77b4;stroke:#1f77b4;\" x=\"361.387315\" xlink:href=\"#m6e960385da\" y=\"199.446788\"/>\n     <use style=\"fill:#1f77b4;stroke:#1f77b4;\" x=\"360.509677\" xlink:href=\"#m6e960385da\" y=\"214.303446\"/>\n     <use style=\"fill:#1f77b4;stroke:#1f77b4;\" x=\"354.966511\" xlink:href=\"#m6e960385da\" y=\"157.736785\"/>\n     <use style=\"fill:#1f77b4;stroke:#1f77b4;\" x=\"392.436254\" xlink:href=\"#m6e960385da\" y=\"200.053831\"/>\n     <use style=\"fill:#1f77b4;stroke:#1f77b4;\" x=\"353.152444\" xlink:href=\"#m6e960385da\" y=\"179.134204\"/>\n     <use style=\"fill:#1f77b4;stroke:#1f77b4;\" x=\"358.470107\" xlink:href=\"#m6e960385da\" y=\"148.661933\"/>\n     <use style=\"fill:#1f77b4;stroke:#1f77b4;\" x=\"278.221203\" xlink:href=\"#m6e960385da\" y=\"111.523617\"/>\n     <use style=\"fill:#1f77b4;stroke:#1f77b4;\" x=\"238.752495\" xlink:href=\"#m6e960385da\" y=\"110.023846\"/>\n     <use style=\"fill:#1f77b4;stroke:#1f77b4;\" x=\"316.701819\" xlink:href=\"#m6e960385da\" y=\"174.777804\"/>\n     <use style=\"fill:#1f77b4;stroke:#1f77b4;\" x=\"351.680111\" xlink:href=\"#m6e960385da\" y=\"184.097703\"/>\n     <use style=\"fill:#1f77b4;stroke:#1f77b4;\" x=\"408.941142\" xlink:href=\"#m6e960385da\" y=\"236.990828\"/>\n     <use style=\"fill:#1f77b4;stroke:#1f77b4;\" x=\"263.474594\" xlink:href=\"#m6e960385da\" y=\"130.943796\"/>\n     <use style=\"fill:#1f77b4;stroke:#1f77b4;\" x=\"394.700017\" xlink:href=\"#m6e960385da\" y=\"204.626906\"/>\n     <use style=\"fill:#1f77b4;stroke:#1f77b4;\" x=\"207.434825\" xlink:href=\"#m6e960385da\" y=\"127.574774\"/>\n     <use style=\"fill:#1f77b4;stroke:#1f77b4;\" x=\"345.655217\" xlink:href=\"#m6e960385da\" y=\"164.348317\"/>\n     <use style=\"fill:#1f77b4;stroke:#1f77b4;\" x=\"303.000414\" xlink:href=\"#m6e960385da\" y=\"119.88431\"/>\n     <use style=\"fill:#1f77b4;stroke:#1f77b4;\" x=\"373.675921\" xlink:href=\"#m6e960385da\" y=\"226.950758\"/>\n     <use style=\"fill:#1f77b4;stroke:#1f77b4;\" x=\"209.524567\" xlink:href=\"#m6e960385da\" y=\"128.138458\"/>\n     <use style=\"fill:#1f77b4;stroke:#1f77b4;\" x=\"399.746532\" xlink:href=\"#m6e960385da\" y=\"208.83027\"/>\n     <use style=\"fill:#1f77b4;stroke:#1f77b4;\" x=\"218.661482\" xlink:href=\"#m6e960385da\" y=\"134.838239\"/>\n     <use style=\"fill:#1f77b4;stroke:#1f77b4;\" x=\"277.906247\" xlink:href=\"#m6e960385da\" y=\"129.880405\"/>\n     <use style=\"fill:#1f77b4;stroke:#1f77b4;\" x=\"280.37665\" xlink:href=\"#m6e960385da\" y=\"158.741149\"/>\n     <use style=\"fill:#1f77b4;stroke:#1f77b4;\" x=\"171.126701\" xlink:href=\"#m6e960385da\" y=\"116.892284\"/>\n     <use style=\"fill:#1f77b4;stroke:#1f77b4;\" x=\"315.70486\" xlink:href=\"#m6e960385da\" y=\"191.054117\"/>\n     <use style=\"fill:#1f77b4;stroke:#1f77b4;\" x=\"314.3545\" xlink:href=\"#m6e960385da\" y=\"129.076996\"/>\n     <use style=\"fill:#1f77b4;stroke:#1f77b4;\" x=\"429.248948\" xlink:href=\"#m6e960385da\" y=\"229.920579\"/>\n     <use style=\"fill:#1f77b4;stroke:#1f77b4;\" x=\"169.268501\" xlink:href=\"#m6e960385da\" y=\"111.458312\"/>\n     <use style=\"fill:#1f77b4;stroke:#1f77b4;\" x=\"254.603576\" xlink:href=\"#m6e960385da\" y=\"150.685705\"/>\n     <use style=\"fill:#1f77b4;stroke:#1f77b4;\" x=\"383.372427\" xlink:href=\"#m6e960385da\" y=\"187.937154\"/>\n     <use style=\"fill:#1f77b4;stroke:#1f77b4;\" x=\"174.327228\" xlink:href=\"#m6e960385da\" y=\"100.254452\"/>\n     <use style=\"fill:#1f77b4;stroke:#1f77b4;\" x=\"260.08237\" xlink:href=\"#m6e960385da\" y=\"160.058817\"/>\n     <use style=\"fill:#1f77b4;stroke:#1f77b4;\" x=\"343.262396\" xlink:href=\"#m6e960385da\" y=\"159.22744\"/>\n     <use style=\"fill:#1f77b4;stroke:#1f77b4;\" x=\"267.316533\" xlink:href=\"#m6e960385da\" y=\"115.352488\"/>\n     <use style=\"fill:#1f77b4;stroke:#1f77b4;\" x=\"413.00162\" xlink:href=\"#m6e960385da\" y=\"237.073547\"/>\n     <use style=\"fill:#1f77b4;stroke:#1f77b4;\" x=\"332.359441\" xlink:href=\"#m6e960385da\" y=\"179.850074\"/>\n     <use style=\"fill:#1f77b4;stroke:#1f77b4;\" x=\"332.75218\" xlink:href=\"#m6e960385da\" y=\"158.725419\"/>\n     <use style=\"fill:#1f77b4;stroke:#1f77b4;\" x=\"396.827268\" xlink:href=\"#m6e960385da\" y=\"191.918979\"/>\n     <use style=\"fill:#1f77b4;stroke:#1f77b4;\" x=\"530.399239\" xlink:href=\"#m6e960385da\" y=\"269.331616\"/>\n     <use style=\"fill:#1f77b4;stroke:#1f77b4;\" x=\"360.107748\" xlink:href=\"#m6e960385da\" y=\"169.179728\"/>\n     <use style=\"fill:#1f77b4;stroke:#1f77b4;\" x=\"325.396721\" xlink:href=\"#m6e960385da\" y=\"132.077505\"/>\n     <use style=\"fill:#1f77b4;stroke:#1f77b4;\" x=\"315.800054\" xlink:href=\"#m6e960385da\" y=\"178.932988\"/>\n     <use style=\"fill:#1f77b4;stroke:#1f77b4;\" x=\"354.478494\" xlink:href=\"#m6e960385da\" y=\"188.844904\"/>\n     <use style=\"fill:#1f77b4;stroke:#1f77b4;\" x=\"271.911159\" xlink:href=\"#m6e960385da\" y=\"141.359691\"/>\n     <use style=\"fill:#1f77b4;stroke:#1f77b4;\" x=\"257.270643\" xlink:href=\"#m6e960385da\" y=\"115.89338\"/>\n     <use style=\"fill:#1f77b4;stroke:#1f77b4;\" x=\"228.023386\" xlink:href=\"#m6e960385da\" y=\"126.392718\"/>\n     <use style=\"fill:#1f77b4;stroke:#1f77b4;\" x=\"327.260543\" xlink:href=\"#m6e960385da\" y=\"165.489929\"/>\n     <use style=\"fill:#1f77b4;stroke:#1f77b4;\" x=\"400.67301\" xlink:href=\"#m6e960385da\" y=\"178.212386\"/>\n     <use style=\"fill:#1f77b4;stroke:#1f77b4;\" x=\"224.708919\" xlink:href=\"#m6e960385da\" y=\"62.092503\"/>\n     <use style=\"fill:#1f77b4;stroke:#1f77b4;\" x=\"265.310777\" xlink:href=\"#m6e960385da\" y=\"138.08298\"/>\n     <use style=\"fill:#1f77b4;stroke:#1f77b4;\" x=\"370.193736\" xlink:href=\"#m6e960385da\" y=\"181.196051\"/>\n     <use style=\"fill:#1f77b4;stroke:#1f77b4;\" x=\"468.500637\" xlink:href=\"#m6e960385da\" y=\"287.256566\"/>\n     <use style=\"fill:#1f77b4;stroke:#1f77b4;\" x=\"305.087216\" xlink:href=\"#m6e960385da\" y=\"170.838533\"/>\n     <use style=\"fill:#1f77b4;stroke:#1f77b4;\" x=\"439.211516\" xlink:href=\"#m6e960385da\" y=\"256.837693\"/>\n     <use style=\"fill:#1f77b4;stroke:#1f77b4;\" x=\"207.119302\" xlink:href=\"#m6e960385da\" y=\"76.381346\"/>\n     <use style=\"fill:#1f77b4;stroke:#1f77b4;\" x=\"338.65723\" xlink:href=\"#m6e960385da\" y=\"191.496055\"/>\n     <use style=\"fill:#1f77b4;stroke:#1f77b4;\" x=\"267.176185\" xlink:href=\"#m6e960385da\" y=\"117.734415\"/>\n     <use style=\"fill:#1f77b4;stroke:#1f77b4;\" x=\"321.598059\" xlink:href=\"#m6e960385da\" y=\"153.736354\"/>\n     <use style=\"fill:#1f77b4;stroke:#1f77b4;\" x=\"307.423736\" xlink:href=\"#m6e960385da\" y=\"107.123541\"/>\n     <use style=\"fill:#1f77b4;stroke:#1f77b4;\" x=\"310.295585\" xlink:href=\"#m6e960385da\" y=\"197.631555\"/>\n     <use style=\"fill:#1f77b4;stroke:#1f77b4;\" x=\"389.740688\" xlink:href=\"#m6e960385da\" y=\"196.810461\"/>\n     <use style=\"fill:#1f77b4;stroke:#1f77b4;\" x=\"270.075908\" xlink:href=\"#m6e960385da\" y=\"140.296611\"/>\n     <use style=\"fill:#1f77b4;stroke:#1f77b4;\" x=\"54.305824\" xlink:href=\"#m6e960385da\" y=\"29.254691\"/>\n     <use style=\"fill:#1f77b4;stroke:#1f77b4;\" x=\"412.485474\" xlink:href=\"#m6e960385da\" y=\"229.745864\"/>\n     <use style=\"fill:#1f77b4;stroke:#1f77b4;\" x=\"301.145021\" xlink:href=\"#m6e960385da\" y=\"131.334312\"/>\n     <use style=\"fill:#1f77b4;stroke:#1f77b4;\" x=\"315.010945\" xlink:href=\"#m6e960385da\" y=\"161.98769\"/>\n     <use style=\"fill:#1f77b4;stroke:#1f77b4;\" x=\"252.170279\" xlink:href=\"#m6e960385da\" y=\"163.950831\"/>\n     <use style=\"fill:#1f77b4;stroke:#1f77b4;\" x=\"237.625098\" xlink:href=\"#m6e960385da\" y=\"66.685324\"/>\n     <use style=\"fill:#1f77b4;stroke:#1f77b4;\" x=\"320.790289\" xlink:href=\"#m6e960385da\" y=\"163.650392\"/>\n     <use style=\"fill:#1f77b4;stroke:#1f77b4;\" x=\"439.512776\" xlink:href=\"#m6e960385da\" y=\"185.795807\"/>\n     <use style=\"fill:#1f77b4;stroke:#1f77b4;\" x=\"298.677475\" xlink:href=\"#m6e960385da\" y=\"143.69252\"/>\n     <use style=\"fill:#1f77b4;stroke:#1f77b4;\" x=\"336.786694\" xlink:href=\"#m6e960385da\" y=\"135.590585\"/>\n     <use style=\"fill:#1f77b4;stroke:#1f77b4;\" x=\"280.424501\" xlink:href=\"#m6e960385da\" y=\"107.772089\"/>\n     <use style=\"fill:#1f77b4;stroke:#1f77b4;\" x=\"297.281869\" xlink:href=\"#m6e960385da\" y=\"125.772497\"/>\n     <use style=\"fill:#1f77b4;stroke:#1f77b4;\" x=\"406.491335\" xlink:href=\"#m6e960385da\" y=\"204.475532\"/>\n     <use style=\"fill:#1f77b4;stroke:#1f77b4;\" x=\"210.669274\" xlink:href=\"#m6e960385da\" y=\"121.403622\"/>\n     <use style=\"fill:#1f77b4;stroke:#1f77b4;\" x=\"388.514495\" xlink:href=\"#m6e960385da\" y=\"166.788782\"/>\n     <use style=\"fill:#1f77b4;stroke:#1f77b4;\" x=\"257.190319\" xlink:href=\"#m6e960385da\" y=\"122.651603\"/>\n     <use style=\"fill:#1f77b4;stroke:#1f77b4;\" x=\"276.526221\" xlink:href=\"#m6e960385da\" y=\"101.768538\"/>\n     <use style=\"fill:#1f77b4;stroke:#1f77b4;\" x=\"404.848954\" xlink:href=\"#m6e960385da\" y=\"215.231357\"/>\n     <use style=\"fill:#1f77b4;stroke:#1f77b4;\" x=\"237.818015\" xlink:href=\"#m6e960385da\" y=\"92.869312\"/>\n     <use style=\"fill:#1f77b4;stroke:#1f77b4;\" x=\"279.574312\" xlink:href=\"#m6e960385da\" y=\"146.545994\"/>\n     <use style=\"fill:#1f77b4;stroke:#1f77b4;\" x=\"152.70903\" xlink:href=\"#m6e960385da\" y=\"50.020704\"/>\n     <use style=\"fill:#1f77b4;stroke:#1f77b4;\" x=\"265.972879\" xlink:href=\"#m6e960385da\" y=\"166.287993\"/>\n     <use style=\"fill:#1f77b4;stroke:#1f77b4;\" x=\"557.948901\" xlink:href=\"#m6e960385da\" y=\"268.844215\"/>\n     <use style=\"fill:#1f77b4;stroke:#1f77b4;\" x=\"349.520748\" xlink:href=\"#m6e960385da\" y=\"215.068087\"/>\n     <use style=\"fill:#1f77b4;stroke:#1f77b4;\" x=\"266.421708\" xlink:href=\"#m6e960385da\" y=\"162.791069\"/>\n     <use style=\"fill:#1f77b4;stroke:#1f77b4;\" x=\"274.910234\" xlink:href=\"#m6e960385da\" y=\"154.136793\"/>\n     <use style=\"fill:#1f77b4;stroke:#1f77b4;\" x=\"300.440762\" xlink:href=\"#m6e960385da\" y=\"95.829437\"/>\n     <use style=\"fill:#1f77b4;stroke:#1f77b4;\" x=\"288.320102\" xlink:href=\"#m6e960385da\" y=\"165.846195\"/>\n     <use style=\"fill:#1f77b4;stroke:#1f77b4;\" x=\"257.927787\" xlink:href=\"#m6e960385da\" y=\"85.989165\"/>\n     <use style=\"fill:#1f77b4;stroke:#1f77b4;\" x=\"272.034109\" xlink:href=\"#m6e960385da\" y=\"135.809976\"/>\n     <use style=\"fill:#1f77b4;stroke:#1f77b4;\" x=\"325.492257\" xlink:href=\"#m6e960385da\" y=\"166.123041\"/>\n     <use style=\"fill:#1f77b4;stroke:#1f77b4;\" x=\"391.116805\" xlink:href=\"#m6e960385da\" y=\"200.233301\"/>\n     <use style=\"fill:#1f77b4;stroke:#1f77b4;\" x=\"368.798973\" xlink:href=\"#m6e960385da\" y=\"158.981571\"/>\n     <use style=\"fill:#1f77b4;stroke:#1f77b4;\" x=\"293.119868\" xlink:href=\"#m6e960385da\" y=\"156.773369\"/>\n     <use style=\"fill:#1f77b4;stroke:#1f77b4;\" x=\"377.887589\" xlink:href=\"#m6e960385da\" y=\"203.705482\"/>\n     <use style=\"fill:#1f77b4;stroke:#1f77b4;\" x=\"291.660163\" xlink:href=\"#m6e960385da\" y=\"150.819734\"/>\n     <use style=\"fill:#1f77b4;stroke:#1f77b4;\" x=\"293.602792\" xlink:href=\"#m6e960385da\" y=\"111.2296\"/>\n     <use style=\"fill:#1f77b4;stroke:#1f77b4;\" x=\"209.19784\" xlink:href=\"#m6e960385da\" y=\"84.549853\"/>\n     <use style=\"fill:#1f77b4;stroke:#1f77b4;\" x=\"391.416935\" xlink:href=\"#m6e960385da\" y=\"222.762822\"/>\n     <use style=\"fill:#1f77b4;stroke:#1f77b4;\" x=\"291.933244\" xlink:href=\"#m6e960385da\" y=\"133.282459\"/>\n     <use style=\"fill:#1f77b4;stroke:#1f77b4;\" x=\"474.580179\" xlink:href=\"#m6e960385da\" y=\"222.007011\"/>\n     <use style=\"fill:#1f77b4;stroke:#1f77b4;\" x=\"446.35186\" xlink:href=\"#m6e960385da\" y=\"242.577829\"/>\n     <use style=\"fill:#1f77b4;stroke:#1f77b4;\" x=\"326.817889\" xlink:href=\"#m6e960385da\" y=\"133.46664\"/>\n     <use style=\"fill:#1f77b4;stroke:#1f77b4;\" x=\"394.458293\" xlink:href=\"#m6e960385da\" y=\"235.233261\"/>\n     <use style=\"fill:#1f77b4;stroke:#1f77b4;\" x=\"242.295284\" xlink:href=\"#m6e960385da\" y=\"147.381616\"/>\n     <use style=\"fill:#1f77b4;stroke:#1f77b4;\" x=\"323.465707\" xlink:href=\"#m6e960385da\" y=\"185.097141\"/>\n     <use style=\"fill:#1f77b4;stroke:#1f77b4;\" x=\"199.831766\" xlink:href=\"#m6e960385da\" y=\"98.637344\"/>\n     <use style=\"fill:#1f77b4;stroke:#1f77b4;\" x=\"335.145987\" xlink:href=\"#m6e960385da\" y=\"186.273642\"/>\n     <use style=\"fill:#1f77b4;stroke:#1f77b4;\" x=\"368.471488\" xlink:href=\"#m6e960385da\" y=\"200.605912\"/>\n     <use style=\"fill:#1f77b4;stroke:#1f77b4;\" x=\"252.516692\" xlink:href=\"#m6e960385da\" y=\"146.824491\"/>\n     <use style=\"fill:#1f77b4;stroke:#1f77b4;\" x=\"394.413463\" xlink:href=\"#m6e960385da\" y=\"249.715719\"/>\n     <use style=\"fill:#1f77b4;stroke:#1f77b4;\" x=\"268.455812\" xlink:href=\"#m6e960385da\" y=\"123.573604\"/>\n     <use style=\"fill:#1f77b4;stroke:#1f77b4;\" x=\"379.957522\" xlink:href=\"#m6e960385da\" y=\"204.351892\"/>\n     <use style=\"fill:#1f77b4;stroke:#1f77b4;\" x=\"266.853393\" xlink:href=\"#m6e960385da\" y=\"165.434688\"/>\n     <use style=\"fill:#1f77b4;stroke:#1f77b4;\" x=\"161.275794\" xlink:href=\"#m6e960385da\" y=\"60.059945\"/>\n     <use style=\"fill:#1f77b4;stroke:#1f77b4;\" x=\"313.974757\" xlink:href=\"#m6e960385da\" y=\"134.691867\"/>\n     <use style=\"fill:#1f77b4;stroke:#1f77b4;\" x=\"238.166575\" xlink:href=\"#m6e960385da\" y=\"115.331055\"/>\n     <use style=\"fill:#1f77b4;stroke:#1f77b4;\" x=\"176.091815\" xlink:href=\"#m6e960385da\" y=\"89.703454\"/>\n     <use style=\"fill:#1f77b4;stroke:#1f77b4;\" x=\"412.296582\" xlink:href=\"#m6e960385da\" y=\"217.759476\"/>\n     <use style=\"fill:#1f77b4;stroke:#1f77b4;\" x=\"248.532244\" xlink:href=\"#m6e960385da\" y=\"120.256701\"/>\n     <use style=\"fill:#1f77b4;stroke:#1f77b4;\" x=\"153.976922\" xlink:href=\"#m6e960385da\" y=\"92.0036\"/>\n     <use style=\"fill:#1f77b4;stroke:#1f77b4;\" x=\"196.470046\" xlink:href=\"#m6e960385da\" y=\"125.462154\"/>\n     <use style=\"fill:#1f77b4;stroke:#1f77b4;\" x=\"433.459426\" xlink:href=\"#m6e960385da\" y=\"242.861135\"/>\n     <use style=\"fill:#1f77b4;stroke:#1f77b4;\" x=\"412.028303\" xlink:href=\"#m6e960385da\" y=\"203.359657\"/>\n     <use style=\"fill:#1f77b4;stroke:#1f77b4;\" x=\"252.093255\" xlink:href=\"#m6e960385da\" y=\"118.784402\"/>\n     <use style=\"fill:#1f77b4;stroke:#1f77b4;\" x=\"239.757616\" xlink:href=\"#m6e960385da\" y=\"96.320666\"/>\n     <use style=\"fill:#1f77b4;stroke:#1f77b4;\" x=\"399.009144\" xlink:href=\"#m6e960385da\" y=\"174.35054\"/>\n     <use style=\"fill:#1f77b4;stroke:#1f77b4;\" x=\"327.133437\" xlink:href=\"#m6e960385da\" y=\"191.984425\"/>\n     <use style=\"fill:#1f77b4;stroke:#1f77b4;\" x=\"403.10652\" xlink:href=\"#m6e960385da\" y=\"173.427834\"/>\n     <use style=\"fill:#1f77b4;stroke:#1f77b4;\" x=\"349.133711\" xlink:href=\"#m6e960385da\" y=\"177.210299\"/>\n     <use style=\"fill:#1f77b4;stroke:#1f77b4;\" x=\"289.576852\" xlink:href=\"#m6e960385da\" y=\"188.800409\"/>\n     <use style=\"fill:#1f77b4;stroke:#1f77b4;\" x=\"331.785762\" xlink:href=\"#m6e960385da\" y=\"208.509898\"/>\n     <use style=\"fill:#1f77b4;stroke:#1f77b4;\" x=\"436.422715\" xlink:href=\"#m6e960385da\" y=\"195.78163\"/>\n     <use style=\"fill:#1f77b4;stroke:#1f77b4;\" x=\"280.302702\" xlink:href=\"#m6e960385da\" y=\"148.314172\"/>\n     <use style=\"fill:#1f77b4;stroke:#1f77b4;\" x=\"235.175667\" xlink:href=\"#m6e960385da\" y=\"77.158519\"/>\n     <use style=\"fill:#1f77b4;stroke:#1f77b4;\" x=\"427.547159\" xlink:href=\"#m6e960385da\" y=\"191.771845\"/>\n     <use style=\"fill:#1f77b4;stroke:#1f77b4;\" x=\"424.611814\" xlink:href=\"#m6e960385da\" y=\"234.76788\"/>\n     <use style=\"fill:#1f77b4;stroke:#1f77b4;\" x=\"341.266995\" xlink:href=\"#m6e960385da\" y=\"155.809824\"/>\n     <use style=\"fill:#1f77b4;stroke:#1f77b4;\" x=\"273.907693\" xlink:href=\"#m6e960385da\" y=\"73.055364\"/>\n     <use style=\"fill:#1f77b4;stroke:#1f77b4;\" x=\"317.616059\" xlink:href=\"#m6e960385da\" y=\"197.327096\"/>\n     <use style=\"fill:#1f77b4;stroke:#1f77b4;\" x=\"259.690209\" xlink:href=\"#m6e960385da\" y=\"174.538603\"/>\n     <use style=\"fill:#1f77b4;stroke:#1f77b4;\" x=\"253.016588\" xlink:href=\"#m6e960385da\" y=\"108.058654\"/>\n     <use style=\"fill:#1f77b4;stroke:#1f77b4;\" x=\"418.182478\" xlink:href=\"#m6e960385da\" y=\"185.236327\"/>\n     <use style=\"fill:#1f77b4;stroke:#1f77b4;\" x=\"270.808245\" xlink:href=\"#m6e960385da\" y=\"144.723754\"/>\n     <use style=\"fill:#1f77b4;stroke:#1f77b4;\" x=\"367.216768\" xlink:href=\"#m6e960385da\" y=\"211.063226\"/>\n     <use style=\"fill:#1f77b4;stroke:#1f77b4;\" x=\"380.703327\" xlink:href=\"#m6e960385da\" y=\"217.472273\"/>\n     <use style=\"fill:#1f77b4;stroke:#1f77b4;\" x=\"322.257175\" xlink:href=\"#m6e960385da\" y=\"159.627829\"/>\n     <use style=\"fill:#1f77b4;stroke:#1f77b4;\" x=\"238.368469\" xlink:href=\"#m6e960385da\" y=\"130.817758\"/>\n     <use style=\"fill:#1f77b4;stroke:#1f77b4;\" x=\"386.612916\" xlink:href=\"#m6e960385da\" y=\"190.107794\"/>\n     <use style=\"fill:#1f77b4;stroke:#1f77b4;\" x=\"300.135846\" xlink:href=\"#m6e960385da\" y=\"142.448926\"/>\n     <use style=\"fill:#1f77b4;stroke:#1f77b4;\" x=\"240.55092\" xlink:href=\"#m6e960385da\" y=\"111.77007\"/>\n     <use style=\"fill:#1f77b4;stroke:#1f77b4;\" x=\"249.874787\" xlink:href=\"#m6e960385da\" y=\"123.353251\"/>\n     <use style=\"fill:#1f77b4;stroke:#1f77b4;\" x=\"266.919867\" xlink:href=\"#m6e960385da\" y=\"144.664071\"/>\n     <use style=\"fill:#1f77b4;stroke:#1f77b4;\" x=\"394.318575\" xlink:href=\"#m6e960385da\" y=\"204.639827\"/>\n     <use style=\"fill:#1f77b4;stroke:#1f77b4;\" x=\"453.586221\" xlink:href=\"#m6e960385da\" y=\"260.549959\"/>\n     <use style=\"fill:#1f77b4;stroke:#1f77b4;\" x=\"297.607697\" xlink:href=\"#m6e960385da\" y=\"123.691543\"/>\n     <use style=\"fill:#1f77b4;stroke:#1f77b4;\" x=\"198.555616\" xlink:href=\"#m6e960385da\" y=\"100.120999\"/>\n     <use style=\"fill:#1f77b4;stroke:#1f77b4;\" x=\"217.270226\" xlink:href=\"#m6e960385da\" y=\"76.597864\"/>\n     <use style=\"fill:#1f77b4;stroke:#1f77b4;\" x=\"312.296424\" xlink:href=\"#m6e960385da\" y=\"155.175473\"/>\n     <use style=\"fill:#1f77b4;stroke:#1f77b4;\" x=\"247.727092\" xlink:href=\"#m6e960385da\" y=\"123.456484\"/>\n     <use style=\"fill:#1f77b4;stroke:#1f77b4;\" x=\"325.187143\" xlink:href=\"#m6e960385da\" y=\"116.433619\"/>\n     <use style=\"fill:#1f77b4;stroke:#1f77b4;\" x=\"112.197828\" xlink:href=\"#m6e960385da\" y=\"36.79854\"/>\n     <use style=\"fill:#1f77b4;stroke:#1f77b4;\" x=\"267.73652\" xlink:href=\"#m6e960385da\" y=\"174.232457\"/>\n     <use style=\"fill:#1f77b4;stroke:#1f77b4;\" x=\"319.056513\" xlink:href=\"#m6e960385da\" y=\"209.804826\"/>\n     <use style=\"fill:#1f77b4;stroke:#1f77b4;\" x=\"217.701534\" xlink:href=\"#m6e960385da\" y=\"80.902023\"/>\n     <use style=\"fill:#1f77b4;stroke:#1f77b4;\" x=\"376.154778\" xlink:href=\"#m6e960385da\" y=\"206.101456\"/>\n     <use style=\"fill:#1f77b4;stroke:#1f77b4;\" x=\"364.46001\" xlink:href=\"#m6e960385da\" y=\"174.321591\"/>\n     <use style=\"fill:#1f77b4;stroke:#1f77b4;\" x=\"271.09647\" xlink:href=\"#m6e960385da\" y=\"105.625439\"/>\n     <use style=\"fill:#1f77b4;stroke:#1f77b4;\" x=\"371.280391\" xlink:href=\"#m6e960385da\" y=\"177.046415\"/>\n     <use style=\"fill:#1f77b4;stroke:#1f77b4;\" x=\"309.780594\" xlink:href=\"#m6e960385da\" y=\"156.717701\"/>\n     <use style=\"fill:#1f77b4;stroke:#1f77b4;\" x=\"372.113976\" xlink:href=\"#m6e960385da\" y=\"171.932792\"/>\n     <use style=\"fill:#1f77b4;stroke:#1f77b4;\" x=\"381.529253\" xlink:href=\"#m6e960385da\" y=\"158.697904\"/>\n     <use style=\"fill:#1f77b4;stroke:#1f77b4;\" x=\"457.420232\" xlink:href=\"#m6e960385da\" y=\"233.596696\"/>\n     <use style=\"fill:#1f77b4;stroke:#1f77b4;\" x=\"437.833771\" xlink:href=\"#m6e960385da\" y=\"236.144865\"/>\n     <use style=\"fill:#1f77b4;stroke:#1f77b4;\" x=\"394.836326\" xlink:href=\"#m6e960385da\" y=\"186.211601\"/>\n     <use style=\"fill:#1f77b4;stroke:#1f77b4;\" x=\"386.441328\" xlink:href=\"#m6e960385da\" y=\"197.603656\"/>\n     <use style=\"fill:#1f77b4;stroke:#1f77b4;\" x=\"354.988048\" xlink:href=\"#m6e960385da\" y=\"152.569365\"/>\n     <use style=\"fill:#1f77b4;stroke:#1f77b4;\" x=\"233.779722\" xlink:href=\"#m6e960385da\" y=\"85.15618\"/>\n     <use style=\"fill:#1f77b4;stroke:#1f77b4;\" x=\"117.792661\" xlink:href=\"#m6e960385da\" y=\"80.929191\"/>\n     <use style=\"fill:#1f77b4;stroke:#1f77b4;\" x=\"284.144102\" xlink:href=\"#m6e960385da\" y=\"177.470558\"/>\n     <use style=\"fill:#1f77b4;stroke:#1f77b4;\" x=\"388.515757\" xlink:href=\"#m6e960385da\" y=\"173.418086\"/>\n     <use style=\"fill:#1f77b4;stroke:#1f77b4;\" x=\"421.431689\" xlink:href=\"#m6e960385da\" y=\"243.518167\"/>\n     <use style=\"fill:#1f77b4;stroke:#1f77b4;\" x=\"305.769166\" xlink:href=\"#m6e960385da\" y=\"123.039414\"/>\n     <use style=\"fill:#1f77b4;stroke:#1f77b4;\" x=\"339.406173\" xlink:href=\"#m6e960385da\" y=\"166.773219\"/>\n     <use style=\"fill:#1f77b4;stroke:#1f77b4;\" x=\"219.713612\" xlink:href=\"#m6e960385da\" y=\"113.83659\"/>\n     <use style=\"fill:#1f77b4;stroke:#1f77b4;\" x=\"327.487975\" xlink:href=\"#m6e960385da\" y=\"207.677869\"/>\n     <use style=\"fill:#1f77b4;stroke:#1f77b4;\" x=\"375.891912\" xlink:href=\"#m6e960385da\" y=\"198.042008\"/>\n     <use style=\"fill:#1f77b4;stroke:#1f77b4;\" x=\"221.202143\" xlink:href=\"#m6e960385da\" y=\"148.341482\"/>\n     <use style=\"fill:#1f77b4;stroke:#1f77b4;\" x=\"365.257936\" xlink:href=\"#m6e960385da\" y=\"209.593164\"/>\n     <use style=\"fill:#1f77b4;stroke:#1f77b4;\" x=\"271.727413\" xlink:href=\"#m6e960385da\" y=\"103.354359\"/>\n     <use style=\"fill:#1f77b4;stroke:#1f77b4;\" x=\"365.384346\" xlink:href=\"#m6e960385da\" y=\"172.473324\"/>\n     <use style=\"fill:#1f77b4;stroke:#1f77b4;\" x=\"275.721262\" xlink:href=\"#m6e960385da\" y=\"112.654764\"/>\n     <use style=\"fill:#1f77b4;stroke:#1f77b4;\" x=\"249.59369\" xlink:href=\"#m6e960385da\" y=\"136.255168\"/>\n     <use style=\"fill:#1f77b4;stroke:#1f77b4;\" x=\"270.204667\" xlink:href=\"#m6e960385da\" y=\"145.05491\"/>\n     <use style=\"fill:#1f77b4;stroke:#1f77b4;\" x=\"378.139872\" xlink:href=\"#m6e960385da\" y=\"207.230776\"/>\n     <use style=\"fill:#1f77b4;stroke:#1f77b4;\" x=\"386.320501\" xlink:href=\"#m6e960385da\" y=\"152.524537\"/>\n     <use style=\"fill:#1f77b4;stroke:#1f77b4;\" x=\"220.858695\" xlink:href=\"#m6e960385da\" y=\"143.50335\"/>\n     <use style=\"fill:#1f77b4;stroke:#1f77b4;\" x=\"327.363651\" xlink:href=\"#m6e960385da\" y=\"126.158881\"/>\n     <use style=\"fill:#1f77b4;stroke:#1f77b4;\" x=\"154.895689\" xlink:href=\"#m6e960385da\" y=\"56.336087\"/>\n     <use style=\"fill:#1f77b4;stroke:#1f77b4;\" x=\"157.735802\" xlink:href=\"#m6e960385da\" y=\"96.636805\"/>\n     <use style=\"fill:#1f77b4;stroke:#1f77b4;\" x=\"472.022242\" xlink:href=\"#m6e960385da\" y=\"247.910573\"/>\n     <use style=\"fill:#1f77b4;stroke:#1f77b4;\" x=\"239.338166\" xlink:href=\"#m6e960385da\" y=\"113.005256\"/>\n     <use style=\"fill:#1f77b4;stroke:#1f77b4;\" x=\"455.016511\" xlink:href=\"#m6e960385da\" y=\"234.568744\"/>\n     <use style=\"fill:#1f77b4;stroke:#1f77b4;\" x=\"306.137053\" xlink:href=\"#m6e960385da\" y=\"132.194793\"/>\n     <use style=\"fill:#1f77b4;stroke:#1f77b4;\" x=\"308.544487\" xlink:href=\"#m6e960385da\" y=\"188.135931\"/>\n     <use style=\"fill:#1f77b4;stroke:#1f77b4;\" x=\"394.825198\" xlink:href=\"#m6e960385da\" y=\"235.943492\"/>\n     <use style=\"fill:#1f77b4;stroke:#1f77b4;\" x=\"289.64599\" xlink:href=\"#m6e960385da\" y=\"70.613537\"/>\n     <use style=\"fill:#1f77b4;stroke:#1f77b4;\" x=\"216.289819\" xlink:href=\"#m6e960385da\" y=\"123.459047\"/>\n     <use style=\"fill:#1f77b4;stroke:#1f77b4;\" x=\"158.147367\" xlink:href=\"#m6e960385da\" y=\"104.538084\"/>\n     <use style=\"fill:#1f77b4;stroke:#1f77b4;\" x=\"310.728625\" xlink:href=\"#m6e960385da\" y=\"201.714493\"/>\n     <use style=\"fill:#1f77b4;stroke:#1f77b4;\" x=\"222.256815\" xlink:href=\"#m6e960385da\" y=\"122.913594\"/>\n     <use style=\"fill:#1f77b4;stroke:#1f77b4;\" x=\"305.525087\" xlink:href=\"#m6e960385da\" y=\"166.952079\"/>\n     <use style=\"fill:#1f77b4;stroke:#1f77b4;\" x=\"379.250775\" xlink:href=\"#m6e960385da\" y=\"214.962959\"/>\n     <use style=\"fill:#1f77b4;stroke:#1f77b4;\" x=\"203.164704\" xlink:href=\"#m6e960385da\" y=\"76.296816\"/>\n     <use style=\"fill:#1f77b4;stroke:#1f77b4;\" x=\"303.033566\" xlink:href=\"#m6e960385da\" y=\"126.666822\"/>\n     <use style=\"fill:#1f77b4;stroke:#1f77b4;\" x=\"286.08291\" xlink:href=\"#m6e960385da\" y=\"120.782756\"/>\n     <use style=\"fill:#1f77b4;stroke:#1f77b4;\" x=\"276.965167\" xlink:href=\"#m6e960385da\" y=\"117.143458\"/>\n     <use style=\"fill:#1f77b4;stroke:#1f77b4;\" x=\"288.63097\" xlink:href=\"#m6e960385da\" y=\"167.55711\"/>\n     <use style=\"fill:#1f77b4;stroke:#1f77b4;\" x=\"341.989281\" xlink:href=\"#m6e960385da\" y=\"180.942618\"/>\n     <use style=\"fill:#1f77b4;stroke:#1f77b4;\" x=\"327.831123\" xlink:href=\"#m6e960385da\" y=\"143.869467\"/>\n     <use style=\"fill:#1f77b4;stroke:#1f77b4;\" x=\"311.882182\" xlink:href=\"#m6e960385da\" y=\"137.556007\"/>\n     <use style=\"fill:#1f77b4;stroke:#1f77b4;\" x=\"206.500354\" xlink:href=\"#m6e960385da\" y=\"120.356812\"/>\n     <use style=\"fill:#1f77b4;stroke:#1f77b4;\" x=\"274.773106\" xlink:href=\"#m6e960385da\" y=\"153.828565\"/>\n     <use style=\"fill:#1f77b4;stroke:#1f77b4;\" x=\"253.729394\" xlink:href=\"#m6e960385da\" y=\"154.750188\"/>\n     <use style=\"fill:#1f77b4;stroke:#1f77b4;\" x=\"333.890599\" xlink:href=\"#m6e960385da\" y=\"115.383769\"/>\n     <use style=\"fill:#1f77b4;stroke:#1f77b4;\" x=\"332.895278\" xlink:href=\"#m6e960385da\" y=\"191.114579\"/>\n     <use style=\"fill:#1f77b4;stroke:#1f77b4;\" x=\"254.899653\" xlink:href=\"#m6e960385da\" y=\"112.463073\"/>\n     <use style=\"fill:#1f77b4;stroke:#1f77b4;\" x=\"223.271831\" xlink:href=\"#m6e960385da\" y=\"113.589194\"/>\n     <use style=\"fill:#1f77b4;stroke:#1f77b4;\" x=\"443.533636\" xlink:href=\"#m6e960385da\" y=\"269.756529\"/>\n     <use style=\"fill:#1f77b4;stroke:#1f77b4;\" x=\"234.754132\" xlink:href=\"#m6e960385da\" y=\"121.88609\"/>\n     <use style=\"fill:#1f77b4;stroke:#1f77b4;\" x=\"281.167656\" xlink:href=\"#m6e960385da\" y=\"142.903209\"/>\n     <use style=\"fill:#1f77b4;stroke:#1f77b4;\" x=\"243.981308\" xlink:href=\"#m6e960385da\" y=\"128.49755\"/>\n     <use style=\"fill:#1f77b4;stroke:#1f77b4;\" x=\"190.975294\" xlink:href=\"#m6e960385da\" y=\"82.308918\"/>\n     <use style=\"fill:#1f77b4;stroke:#1f77b4;\" x=\"391.787117\" xlink:href=\"#m6e960385da\" y=\"207.284429\"/>\n     <use style=\"fill:#1f77b4;stroke:#1f77b4;\" x=\"331.264007\" xlink:href=\"#m6e960385da\" y=\"238.453048\"/>\n     <use style=\"fill:#1f77b4;stroke:#1f77b4;\" x=\"389.696476\" xlink:href=\"#m6e960385da\" y=\"200.976812\"/>\n     <use style=\"fill:#1f77b4;stroke:#1f77b4;\" x=\"178.872219\" xlink:href=\"#m6e960385da\" y=\"70.767393\"/>\n     <use style=\"fill:#1f77b4;stroke:#1f77b4;\" x=\"310.510642\" xlink:href=\"#m6e960385da\" y=\"156.77978\"/>\n     <use style=\"fill:#1f77b4;stroke:#1f77b4;\" x=\"317.831887\" xlink:href=\"#m6e960385da\" y=\"180.543165\"/>\n    </g>\n   </g>\n   <g id=\"matplotlib.axis_1\">\n    <g id=\"xtick_1\">\n     <g id=\"line2d_1\">\n      <defs>\n       <path d=\"M 0 0 \nL 0 3.5 \n\" id=\"m450ca8c101\" style=\"stroke:#000000;stroke-width:0.8;\"/>\n      </defs>\n      <g>\n       <use style=\"stroke:#000000;stroke-width:0.8;\" x=\"79.514233\" xlink:href=\"#m450ca8c101\" y=\"333.36\"/>\n      </g>\n     </g>\n     <g id=\"text_1\">\n      <!-- −3 -->\n      <defs>\n       <path d=\"M 10.59375 35.5 \nL 73.1875 35.5 \nL 73.1875 27.203125 \nL 10.59375 27.203125 \nz\n\" id=\"DejaVuSans-8722\"/>\n       <path d=\"M 40.578125 39.3125 \nQ 47.65625 37.796875 51.625 33 \nQ 55.609375 28.21875 55.609375 21.1875 \nQ 55.609375 10.40625 48.1875 4.484375 \nQ 40.765625 -1.421875 27.09375 -1.421875 \nQ 22.515625 -1.421875 17.65625 -0.515625 \nQ 12.796875 0.390625 7.625 2.203125 \nL 7.625 11.71875 \nQ 11.71875 9.328125 16.59375 8.109375 \nQ 21.484375 6.890625 26.8125 6.890625 \nQ 36.078125 6.890625 40.9375 10.546875 \nQ 45.796875 14.203125 45.796875 21.1875 \nQ 45.796875 27.640625 41.28125 31.265625 \nQ 36.765625 34.90625 28.71875 34.90625 \nL 20.21875 34.90625 \nL 20.21875 43.015625 \nL 29.109375 43.015625 \nQ 36.375 43.015625 40.234375 45.921875 \nQ 44.09375 48.828125 44.09375 54.296875 \nQ 44.09375 59.90625 40.109375 62.90625 \nQ 36.140625 65.921875 28.71875 65.921875 \nQ 24.65625 65.921875 20.015625 65.03125 \nQ 15.375 64.15625 9.8125 62.3125 \nL 9.8125 71.09375 \nQ 15.4375 72.65625 20.34375 73.4375 \nQ 25.25 74.21875 29.59375 74.21875 \nQ 40.828125 74.21875 47.359375 69.109375 \nQ 53.90625 64.015625 53.90625 55.328125 \nQ 53.90625 49.265625 50.4375 45.09375 \nQ 46.96875 40.921875 40.578125 39.3125 \nz\n\" id=\"DejaVuSans-51\"/>\n      </defs>\n      <g transform=\"translate(72.143139 347.958438)scale(0.1 -0.1)\">\n       <use xlink:href=\"#DejaVuSans-8722\"/>\n       <use x=\"83.789062\" xlink:href=\"#DejaVuSans-51\"/>\n      </g>\n     </g>\n    </g>\n    <g id=\"xtick_2\">\n     <g id=\"line2d_2\">\n      <g>\n       <use style=\"stroke:#000000;stroke-width:0.8;\" x=\"158.492538\" xlink:href=\"#m450ca8c101\" y=\"333.36\"/>\n      </g>\n     </g>\n     <g id=\"text_2\">\n      <!-- −2 -->\n      <defs>\n       <path d=\"M 19.1875 8.296875 \nL 53.609375 8.296875 \nL 53.609375 0 \nL 7.328125 0 \nL 7.328125 8.296875 \nQ 12.9375 14.109375 22.625 23.890625 \nQ 32.328125 33.6875 34.8125 36.53125 \nQ 39.546875 41.84375 41.421875 45.53125 \nQ 43.3125 49.21875 43.3125 52.78125 \nQ 43.3125 58.59375 39.234375 62.25 \nQ 35.15625 65.921875 28.609375 65.921875 \nQ 23.96875 65.921875 18.8125 64.3125 \nQ 13.671875 62.703125 7.8125 59.421875 \nL 7.8125 69.390625 \nQ 13.765625 71.78125 18.9375 73 \nQ 24.125 74.21875 28.421875 74.21875 \nQ 39.75 74.21875 46.484375 68.546875 \nQ 53.21875 62.890625 53.21875 53.421875 \nQ 53.21875 48.921875 51.53125 44.890625 \nQ 49.859375 40.875 45.40625 35.40625 \nQ 44.1875 33.984375 37.640625 27.21875 \nQ 31.109375 20.453125 19.1875 8.296875 \nz\n\" id=\"DejaVuSans-50\"/>\n      </defs>\n      <g transform=\"translate(151.121444 347.958438)scale(0.1 -0.1)\">\n       <use xlink:href=\"#DejaVuSans-8722\"/>\n       <use x=\"83.789062\" xlink:href=\"#DejaVuSans-50\"/>\n      </g>\n     </g>\n    </g>\n    <g id=\"xtick_3\">\n     <g id=\"line2d_3\">\n      <g>\n       <use style=\"stroke:#000000;stroke-width:0.8;\" x=\"237.470843\" xlink:href=\"#m450ca8c101\" y=\"333.36\"/>\n      </g>\n     </g>\n     <g id=\"text_3\">\n      <!-- −1 -->\n      <defs>\n       <path d=\"M 12.40625 8.296875 \nL 28.515625 8.296875 \nL 28.515625 63.921875 \nL 10.984375 60.40625 \nL 10.984375 69.390625 \nL 28.421875 72.90625 \nL 38.28125 72.90625 \nL 38.28125 8.296875 \nL 54.390625 8.296875 \nL 54.390625 0 \nL 12.40625 0 \nz\n\" id=\"DejaVuSans-49\"/>\n      </defs>\n      <g transform=\"translate(230.099749 347.958438)scale(0.1 -0.1)\">\n       <use xlink:href=\"#DejaVuSans-8722\"/>\n       <use x=\"83.789062\" xlink:href=\"#DejaVuSans-49\"/>\n      </g>\n     </g>\n    </g>\n    <g id=\"xtick_4\">\n     <g id=\"line2d_4\">\n      <g>\n       <use style=\"stroke:#000000;stroke-width:0.8;\" x=\"316.449148\" xlink:href=\"#m450ca8c101\" y=\"333.36\"/>\n      </g>\n     </g>\n     <g id=\"text_4\">\n      <!-- 0 -->\n      <defs>\n       <path d=\"M 31.78125 66.40625 \nQ 24.171875 66.40625 20.328125 58.90625 \nQ 16.5 51.421875 16.5 36.375 \nQ 16.5 21.390625 20.328125 13.890625 \nQ 24.171875 6.390625 31.78125 6.390625 \nQ 39.453125 6.390625 43.28125 13.890625 \nQ 47.125 21.390625 47.125 36.375 \nQ 47.125 51.421875 43.28125 58.90625 \nQ 39.453125 66.40625 31.78125 66.40625 \nz\nM 31.78125 74.21875 \nQ 44.046875 74.21875 50.515625 64.515625 \nQ 56.984375 54.828125 56.984375 36.375 \nQ 56.984375 17.96875 50.515625 8.265625 \nQ 44.046875 -1.421875 31.78125 -1.421875 \nQ 19.53125 -1.421875 13.0625 8.265625 \nQ 6.59375 17.96875 6.59375 36.375 \nQ 6.59375 54.828125 13.0625 64.515625 \nQ 19.53125 74.21875 31.78125 74.21875 \nz\n\" id=\"DejaVuSans-48\"/>\n      </defs>\n      <g transform=\"translate(313.267898 347.958438)scale(0.1 -0.1)\">\n       <use xlink:href=\"#DejaVuSans-48\"/>\n      </g>\n     </g>\n    </g>\n    <g id=\"xtick_5\">\n     <g id=\"line2d_5\">\n      <g>\n       <use style=\"stroke:#000000;stroke-width:0.8;\" x=\"395.427453\" xlink:href=\"#m450ca8c101\" y=\"333.36\"/>\n      </g>\n     </g>\n     <g id=\"text_5\">\n      <!-- 1 -->\n      <g transform=\"translate(392.246203 347.958438)scale(0.1 -0.1)\">\n       <use xlink:href=\"#DejaVuSans-49\"/>\n      </g>\n     </g>\n    </g>\n    <g id=\"xtick_6\">\n     <g id=\"line2d_6\">\n      <g>\n       <use style=\"stroke:#000000;stroke-width:0.8;\" x=\"474.405758\" xlink:href=\"#m450ca8c101\" y=\"333.36\"/>\n      </g>\n     </g>\n     <g id=\"text_6\">\n      <!-- 2 -->\n      <g transform=\"translate(471.224508 347.958438)scale(0.1 -0.1)\">\n       <use xlink:href=\"#DejaVuSans-50\"/>\n      </g>\n     </g>\n    </g>\n    <g id=\"xtick_7\">\n     <g id=\"line2d_7\">\n      <g>\n       <use style=\"stroke:#000000;stroke-width:0.8;\" x=\"553.384063\" xlink:href=\"#m450ca8c101\" y=\"333.36\"/>\n      </g>\n     </g>\n     <g id=\"text_7\">\n      <!-- 3 -->\n      <g transform=\"translate(550.202813 347.958438)scale(0.1 -0.1)\">\n       <use xlink:href=\"#DejaVuSans-51\"/>\n      </g>\n     </g>\n    </g>\n   </g>\n   <g id=\"matplotlib.axis_2\">\n    <g id=\"ytick_1\">\n     <g id=\"line2d_8\">\n      <defs>\n       <path d=\"M 0 0 \nL -3.5 0 \n\" id=\"m936a54869c\" style=\"stroke:#000000;stroke-width:0.8;\"/>\n      </defs>\n      <g>\n       <use style=\"stroke:#000000;stroke-width:0.8;\" x=\"28.942188\" xlink:href=\"#m936a54869c\" y=\"280.252523\"/>\n      </g>\n     </g>\n     <g id=\"text_8\">\n      <!-- −5 -->\n      <defs>\n       <path d=\"M 10.796875 72.90625 \nL 49.515625 72.90625 \nL 49.515625 64.59375 \nL 19.828125 64.59375 \nL 19.828125 46.734375 \nQ 21.96875 47.46875 24.109375 47.828125 \nQ 26.265625 48.1875 28.421875 48.1875 \nQ 40.625 48.1875 47.75 41.5 \nQ 54.890625 34.8125 54.890625 23.390625 \nQ 54.890625 11.625 47.5625 5.09375 \nQ 40.234375 -1.421875 26.90625 -1.421875 \nQ 22.3125 -1.421875 17.546875 -0.640625 \nQ 12.796875 0.140625 7.71875 1.703125 \nL 7.71875 11.625 \nQ 12.109375 9.234375 16.796875 8.0625 \nQ 21.484375 6.890625 26.703125 6.890625 \nQ 35.15625 6.890625 40.078125 11.328125 \nQ 45.015625 15.765625 45.015625 23.390625 \nQ 45.015625 31 40.078125 35.4375 \nQ 35.15625 39.890625 26.703125 39.890625 \nQ 22.75 39.890625 18.8125 39.015625 \nQ 14.890625 38.140625 10.796875 36.28125 \nz\n\" id=\"DejaVuSans-53\"/>\n      </defs>\n      <g transform=\"translate(7.2 284.051741)scale(0.1 -0.1)\">\n       <use xlink:href=\"#DejaVuSans-8722\"/>\n       <use x=\"83.789062\" xlink:href=\"#DejaVuSans-53\"/>\n      </g>\n     </g>\n    </g>\n    <g id=\"ytick_2\">\n     <g id=\"line2d_9\">\n      <g>\n       <use style=\"stroke:#000000;stroke-width:0.8;\" x=\"28.942188\" xlink:href=\"#m936a54869c\" y=\"215.184454\"/>\n      </g>\n     </g>\n     <g id=\"text_9\">\n      <!-- 0 -->\n      <g transform=\"translate(15.579688 218.983673)scale(0.1 -0.1)\">\n       <use xlink:href=\"#DejaVuSans-48\"/>\n      </g>\n     </g>\n    </g>\n    <g id=\"ytick_3\">\n     <g id=\"line2d_10\">\n      <g>\n       <use style=\"stroke:#000000;stroke-width:0.8;\" x=\"28.942188\" xlink:href=\"#m936a54869c\" y=\"150.116386\"/>\n      </g>\n     </g>\n     <g id=\"text_10\">\n      <!-- 5 -->\n      <g transform=\"translate(15.579688 153.915605)scale(0.1 -0.1)\">\n       <use xlink:href=\"#DejaVuSans-53\"/>\n      </g>\n     </g>\n    </g>\n    <g id=\"ytick_4\">\n     <g id=\"line2d_11\">\n      <g>\n       <use style=\"stroke:#000000;stroke-width:0.8;\" x=\"28.942188\" xlink:href=\"#m936a54869c\" y=\"85.048318\"/>\n      </g>\n     </g>\n     <g id=\"text_11\">\n      <!-- 10 -->\n      <g transform=\"translate(9.217188 88.847537)scale(0.1 -0.1)\">\n       <use xlink:href=\"#DejaVuSans-49\"/>\n       <use x=\"63.623047\" xlink:href=\"#DejaVuSans-48\"/>\n      </g>\n     </g>\n    </g>\n    <g id=\"ytick_5\">\n     <g id=\"line2d_12\">\n      <g>\n       <use style=\"stroke:#000000;stroke-width:0.8;\" x=\"28.942188\" xlink:href=\"#m936a54869c\" y=\"19.98025\"/>\n      </g>\n     </g>\n     <g id=\"text_12\">\n      <!-- 15 -->\n      <g transform=\"translate(9.217188 23.779469)scale(0.1 -0.1)\">\n       <use xlink:href=\"#DejaVuSans-49\"/>\n       <use x=\"63.623047\" xlink:href=\"#DejaVuSans-53\"/>\n      </g>\n     </g>\n    </g>\n   </g>\n   <g id=\"patch_3\">\n    <path d=\"M 28.942188 333.36 \nL 28.942188 7.2 \n\" style=\"fill:none;stroke:#000000;stroke-linecap:square;stroke-linejoin:miter;stroke-width:0.8;\"/>\n   </g>\n   <g id=\"patch_4\">\n    <path d=\"M 586.942188 333.36 \nL 586.942188 7.2 \n\" style=\"fill:none;stroke:#000000;stroke-linecap:square;stroke-linejoin:miter;stroke-width:0.8;\"/>\n   </g>\n   <g id=\"patch_5\">\n    <path d=\"M 28.942187 333.36 \nL 586.942188 333.36 \n\" style=\"fill:none;stroke:#000000;stroke-linecap:square;stroke-linejoin:miter;stroke-width:0.8;\"/>\n   </g>\n   <g id=\"patch_6\">\n    <path d=\"M 28.942187 7.2 \nL 586.942188 7.2 \n\" style=\"fill:none;stroke:#000000;stroke-linecap:square;stroke-linejoin:miter;stroke-width:0.8;\"/>\n   </g>\n  </g>\n </g>\n <defs>\n  <clipPath id=\"p7be4fbdabf\">\n   <rect height=\"326.16\" width=\"558\" x=\"28.942188\" y=\"7.2\"/>\n  </clipPath>\n </defs>\n</svg>\n"
          },
          "metadata": {
            "tags": [],
            "needs_background": "light"
          }
        }
      ]
    },
    {
      "cell_type": "markdown",
      "metadata": {
        "id": "tT2NxLvDV69E",
        "colab_type": "text"
      },
      "source": [
        "The plotting function `plt` as well as the `use_svg_display` and `set_figsize` functions are defined in the `d2l` package. Now that you know how to make plots yourself, we will call `d2l.plt` directly for future plotting. To print the vector diagram and set its size, we only need to call `d2l.set_figsize()` before plotting, because `plt` is a global variable in the `d2l` package.\n",
        "\n",
        "\n",
        "## Reading Data\n",
        "\n",
        "Recall that training models, consists of making multiple passes over the dataset, grabbing one mini-batch of examples at a time and using them to update our model. Since this process is so fundamental to training machine learning algortihms, we need a utility for shuffling the data and accessing in mini-batches.\n",
        "\n",
        "In the following code, we define a `data_iter` function to demonstrate one possible implementation of this functionality.\n",
        "The function takes a batch size, a design matrix containing the features,\n",
        "and a vector of labels, yielding minibatches of size `batch_size`,\n",
        "each consisting of a tuple of features and labels."
      ]
    },
    {
      "cell_type": "code",
      "metadata": {
        "attributes": {
          "classes": [],
          "id": "",
          "n": "5"
        },
        "id": "tTaDVXqFV69F",
        "colab_type": "code",
        "colab": {}
      },
      "source": [
        "# This function has been saved in the d2l package for future use\n",
        "def data_iter(batch_size, features, labels):\n",
        "    num_examples = len(features)\n",
        "    indices = list(range(num_examples))\n",
        "    # The examples are read at random, in no particular order\n",
        "    random.shuffle(indices)\n",
        "    for i in range(0, num_examples, batch_size):\n",
        "        j = torch.tensor(indices[i: min(i + batch_size, num_examples)])\n",
        "        yield features[j], labels[j]\n",
        "        # The “take” function will then return the corresponding element based\n",
        "        # on the indices"
      ],
      "execution_count": 0,
      "outputs": []
    },
    {
      "cell_type": "markdown",
      "metadata": {
        "id": "h11ZXIGrV69G",
        "colab_type": "text"
      },
      "source": [
        "In general, note that we want to use reasonably sized minibatches to take advantage of the GPU hardware, which excels at parallelizing operations. Because each example can be fed through our models in parallel and the gradient of the loss function for each example can also be taken in parallel, GPUs allow us to process hundreds of examples in scarcely more time than it might take to process just a single example.\n",
        "\n",
        "To build some intuition, let's read and print the first small batch of data examples. The shape of the features in each mini-batch tells us both the mini-batch size and the number of input features. Likewise, our mini-batch of labels will have a shape given by `batch_size`."
      ]
    },
    {
      "cell_type": "code",
      "metadata": {
        "attributes": {
          "classes": [],
          "id": "",
          "n": "6"
        },
        "id": "ZKRtlHWvV69G",
        "colab_type": "code",
        "outputId": "3bcc2625-6f94-45df-b8b9-db2b002b30b3",
        "colab": {
          "base_uri": "https://localhost:8080/",
          "height": 204
        }
      },
      "source": [
        "batch_size = 10\n",
        "\n",
        "for X, y in data_iter(batch_size, features, labels):\n",
        "    print(X, y)\n",
        "    break"
      ],
      "execution_count": 0,
      "outputs": [
        {
          "output_type": "stream",
          "text": [
            "tensor([[-0.3692, -2.0810],\n",
            "        [ 0.9650, -0.5157],\n",
            "        [-0.8198,  0.6180],\n",
            "        [ 1.0989,  0.9327],\n",
            "        [-0.9014, -1.4231],\n",
            "        [ 0.8769, -0.1306],\n",
            "        [ 0.4140, -0.3100],\n",
            "        [-2.8902,  0.6885],\n",
            "        [-0.5306, -0.1966],\n",
            "        [ 1.2486,  1.0454]]) tensor([10.5362,  7.8786,  0.4296,  3.2323,  7.2271,  6.3771,  6.1089, -3.9135,\n",
            "         3.8058,  3.1378])\n"
          ],
          "name": "stdout"
        }
      ]
    },
    {
      "cell_type": "markdown",
      "metadata": {
        "id": "CktNR7eFV69I",
        "colab_type": "text"
      },
      "source": [
        "It should be no surprise that as we run the iterator,\n",
        "we will obtain distinct minibatches each time\n",
        "until all the data has been exhausted (try this).\n",
        "While the iterator implemented above is good for didactic purposes,\n",
        "it is inefficient in ways that might get us in trouble on real problems.\n",
        "For example, it requires that we load all data in memory\n",
        "and that we perform a lot of random memory access.\n",
        "The built-in iterators implemented in torch\n",
        "are considerably efficient and they can deal\n",
        "both with data stored on file and data fed via a data stream.\n",
        "\n",
        "## Initialize Model Parameters\n",
        "\n",
        "Before we can begin optimizing our model's parameters by gradient descent,\n",
        "we need to have some parameters in the first place.\n",
        "In the following code, we initialize weights by sampling\n",
        "random numbers from a normal distribution with mean 0\n",
        "and a standard deviation of 0.01, setting the bias $b$ to 0."
      ]
    },
    {
      "cell_type": "code",
      "metadata": {
        "attributes": {
          "classes": [],
          "id": "",
          "n": "7"
        },
        "id": "036okhMIV69I",
        "colab_type": "code",
        "outputId": "983097be-dee0-45fd-aac8-15bedcbf6b36",
        "colab": {
          "base_uri": "https://localhost:8080/",
          "height": 51
        }
      },
      "source": [
        "w = torch.zeros(size=(num_inputs, 1)).normal_(std=0.01)\n",
        "b = torch.zeros(size=(1,))\n",
        "w,b"
      ],
      "execution_count": 0,
      "outputs": [
        {
          "output_type": "execute_result",
          "data": {
            "text/plain": [
              "(tensor([[ 0.0027],\n",
              "         [-0.0039]]), tensor([0.]))"
            ]
          },
          "metadata": {
            "tags": []
          },
          "execution_count": 26
        }
      ]
    },
    {
      "cell_type": "markdown",
      "metadata": {
        "id": "yJSuTfK-V69K",
        "colab_type": "text"
      },
      "source": [
        "Now that we have initialized our parameters,\n",
        "our next task is to update them until they fit our data sufficiently well.\n",
        "Each update will require taking the gradient\n",
        "(a multi-dimensional derivative)\n",
        "of our loss function with respect to the parameters.\n",
        "Given this gradient, we will update each parameter\n",
        "in the direction that reduces the loss.\n",
        "\n",
        "Since nobody wants to compute gradients explicitly\n",
        "(this is tedious and error prone),\n",
        "we use automatic differentiation to compute the gradient.\n",
        "See :numref:`chapter_autograd`\n",
        "for more details.\n",
        "Recall from the autograd chapter\n",
        "that in order for `autograd` to know\n",
        "that it should store a gradient for our parameters,\n",
        "we need to invoke the `attach_grad` function,\n",
        "allocating memory to store the gradients that we plan to take."
      ]
    },
    {
      "cell_type": "code",
      "metadata": {
        "attributes": {
          "classes": [],
          "id": "",
          "n": "8"
        },
        "id": "732atNBiV69K",
        "colab_type": "code",
        "outputId": "61906ce4-0496-414e-d9c9-d5424dceda5f",
        "colab": {
          "base_uri": "https://localhost:8080/",
          "height": 34
        }
      },
      "source": [
        "w.requires_grad_(True)\n",
        "b.requires_grad_(True)"
      ],
      "execution_count": 0,
      "outputs": [
        {
          "output_type": "execute_result",
          "data": {
            "text/plain": [
              "tensor([0.], requires_grad=True)"
            ]
          },
          "metadata": {
            "tags": []
          },
          "execution_count": 31
        }
      ]
    },
    {
      "cell_type": "markdown",
      "metadata": {
        "id": "hS6oDhC0V69L",
        "colab_type": "text"
      },
      "source": [
        "## Define the Model\n",
        "\n",
        "Next, we must define our model,\n",
        "relating its inputs and parameters to its outputs.\n",
        "Recall that to calculate the output of the linear model,\n",
        "we simply take the matrix-vector dot product\n",
        "of the examples $\\mathbf{X}$ and the models weights $w$,\n",
        "and add the offset $b$ to each example.\n",
        "Note that below `torch.matmul(X, w)` is a vector and `b` is a scalar.\n",
        "Recall that when we add a vector and a scalar,\n",
        "the scalar is added to each component of the vector."
      ]
    },
    {
      "cell_type": "code",
      "metadata": {
        "attributes": {
          "classes": [],
          "id": "",
          "n": "9"
        },
        "id": "LJyCyNPcV69M",
        "colab_type": "code",
        "colab": {}
      },
      "source": [
        "# This function has been saved in the d2l package for future use\n",
        "def linreg(X, w, b):\n",
        "    return torch.matmul(X, w) + b"
      ],
      "execution_count": 0,
      "outputs": []
    },
    {
      "cell_type": "markdown",
      "metadata": {
        "id": "wZEpep1PV69N",
        "colab_type": "text"
      },
      "source": [
        "## Define the Loss Function\n",
        "\n",
        "Since updating our model requires taking the gradient of our loss function,\n",
        "we ought to define the loss function first.\n",
        "Here we will use the squared loss function\n",
        "as described in the previous section.\n",
        "In the implementation, we need to transform the true value `y` into the predicted value's shape `y_hat`.\n",
        "The result returned by the following function\n",
        "will also be the same as the `y_hat` shape."
      ]
    },
    {
      "cell_type": "code",
      "metadata": {
        "attributes": {
          "classes": [],
          "id": "",
          "n": "10"
        },
        "id": "_BaH6JghV69O",
        "colab_type": "code",
        "colab": {}
      },
      "source": [
        "# This function has been saved in the d2l package for future use\n",
        "def squared_loss(y_hat, y):\n",
        "    return (y_hat - y.reshape(y_hat.shape)) ** 2 / 2"
      ],
      "execution_count": 0,
      "outputs": []
    },
    {
      "cell_type": "markdown",
      "metadata": {
        "id": "Wr3y07A6V69P",
        "colab_type": "text"
      },
      "source": [
        "## Define the Optimization Algorithm\n",
        "\n",
        "As we discussed in the previous section,\n",
        "linear regression has a closed-form solution.\n",
        "However, this isn't a book about linear regression,\n",
        "its a book about deep learning.\n",
        "Since none of the other models that this book introduces\n",
        "can be solved analytically, we will take this opportunity to introduce your first working example of stochastic gradient descent (SGD).\n",
        "\n",
        "\n",
        "At each step, using one batch randomly drawn from our dataset,\n",
        "we'll estimate the gradient of the loss with respect to our parameters.\n",
        "Then, we'll update our parameters a small amount\n",
        "in the direction that reduces the loss.\n",
        "Assuming that the gradient has already been calculated,\n",
        "each parameter (`param`) already has its gradient stored in `param.grad`.\n",
        "The following code applies the SGD update,\n",
        "given a set of parameters, a learning rate, and a batch size.\n",
        "The size of the update step is determined by the learning rate `lr`.\n",
        "Because our loss is calculated as a sum over the batch of examples,\n",
        "we normalize our step size by the batch size (`batch_size`),\n",
        "so that the magnitude of a typical step size\n",
        "doesn't depend heavily on our choice of the batch size."
      ]
    },
    {
      "cell_type": "code",
      "metadata": {
        "attributes": {
          "classes": [],
          "id": "",
          "n": "11"
        },
        "id": "zNAQ-BXaV69Q",
        "colab_type": "code",
        "colab": {}
      },
      "source": [
        "# This function has been saved in the d2l package for future use\n",
        "def sgd(params, lr, batch_size):\n",
        "    for param in params:\n",
        "        param.data.sub_(lr*param.grad/batch_size)\n",
        "        param.grad.data.zero_()"
      ],
      "execution_count": 0,
      "outputs": []
    },
    {
      "cell_type": "markdown",
      "metadata": {
        "id": "K4rhsMDtV69R",
        "colab_type": "text"
      },
      "source": [
        "## Training\n",
        "\n",
        "Now that we have all of the parts in place,\n",
        "we are ready to implement the main training loop.\n",
        "It is crucial that you understand this code\n",
        "because you will see training loops that are nearly identical to this one\n",
        "over and over again throughout your career in deep learning.\n",
        "\n",
        "In each iteration, we will grab minibatches of models,\n",
        "first passing them through our model to obtain a set of predictions.\n",
        "After calculating the loss, we will call the `backward` function\n",
        "to backpropagate through the network, storing the gradients\n",
        "with respect to each parameter in its corresponding `.grad` attribute.\n",
        "Finally, we will call the optimization algorithm `sgd`\n",
        "to update the model parameters.\n",
        "Since we previously set the batch size `batch_size` to 10,\n",
        "the loss shape `l` for each small batch is (10, 1).\n",
        "\n",
        "In summary, we'll execute the following loop:\n",
        "\n",
        "* Initialize parameters $(\\mathbf{w}, b)$\n",
        "* Repeat until done\n",
        "    * Compute gradient $\\mathbf{g} \\leftarrow \\partial_{(\\mathbf{w},b)} \\frac{1}{\\mathcal{B}} \\sum_{i \\in \\mathcal{B}} l(\\mathbf{x}^i, y^i, \\mathbf{w}, b)$\n",
        "    * Update parameters $(\\mathbf{w}, b) \\leftarrow (\\mathbf{w}, b) - \\eta \\mathbf{g}$\n",
        "\n",
        "In the code below, `l` is a vector of the losses\n",
        "for each example in the minibatch.\n",
        "Because `l` is not a scalar variable,\n",
        "running `l.backward()` adds together the elements in `l`\n",
        "to obtain the new variable and then calculates the gradient.\n",
        "\n",
        "In each epoch (a pass through the data),\n",
        "we will iterate through the entire dataset\n",
        "(using the `data_iter` function) once\n",
        "passing through every examples in the training dataset\n",
        "(assuming the number of examples is divisible by the batch size).\n",
        "The number of epochs `num_epochs` and the learning rate `lr` are both hyper-parameters, which we set here to $3$ and $0.03$, respectively. Unfortunately, setting hyper-parameters is tricky\n",
        "and requires some adjustment by trial and error.\n",
        "We elide these details for now but revise them\n",
        "later in\n",
        ":numref:`chapter_optimization`."
      ]
    },
    {
      "cell_type": "code",
      "metadata": {
        "attributes": {
          "classes": [],
          "id": "",
          "n": "12"
        },
        "id": "naEUaVEtV69R",
        "colab_type": "code",
        "outputId": "46a1a37f-1ca4-4dcd-cc9a-31e77176e21c",
        "colab": {
          "base_uri": "https://localhost:8080/",
          "height": 68
        }
      },
      "source": [
        "lr = 0.03  # Learning rate\n",
        "num_epochs = 3  # Number of iterations\n",
        "net = linreg  # Our fancy linear model\n",
        "loss = squared_loss  # 0.5 (y-y')^2\n",
        "\n",
        "for epoch in range(num_epochs):\n",
        "    # Assuming the number of examples can be divided by the batch size, all\n",
        "    # the examples in the training data set are used once in one epoch\n",
        "    # iteration. The features and tags of mini-batch examples are given by X\n",
        "    # and y respectively\n",
        "    for X, y in data_iter(batch_size, features, labels):\n",
        "        l = loss(net(X, w, b), y)  # Minibatch loss in X and y\n",
        "        l.mean().backward()  # Compute gradient on l with respect to [w,b]\n",
        "        sgd([w, b], lr, batch_size)  # Update parameters using their gradient\n",
        "    with torch.no_grad():\n",
        "        train_l = loss(net(features, w, b), labels)\n",
        "        print('epoch %d, loss %f' % (epoch + 1, train_l.mean().numpy()))"
      ],
      "execution_count": 0,
      "outputs": [
        {
          "output_type": "stream",
          "text": [
            "epoch 1, loss 9.002969\n",
            "epoch 2, loss 5.002596\n",
            "epoch 3, loss 2.780279\n"
          ],
          "name": "stdout"
        }
      ]
    },
    {
      "cell_type": "markdown",
      "metadata": {
        "id": "Iv1OiKd6V69T",
        "colab_type": "text"
      },
      "source": [
        "In this case, because we used synthetic data (that we synthesized ourselves!),\n",
        "we know precisely what the true parameters are. Thus, we can evaluate our success in training by comparing the true parameters with those that we learned through our training loop. Indeed they turn out to be very close to each other."
      ]
    },
    {
      "cell_type": "code",
      "metadata": {
        "attributes": {
          "classes": [],
          "id": "",
          "n": "13"
        },
        "id": "nNMUA2uKV69T",
        "colab_type": "code",
        "outputId": "53dd5a8b-ce85-4b7d-e608-438daee40fb2",
        "colab": {
          "base_uri": "https://localhost:8080/",
          "height": 51
        }
      },
      "source": [
        "print('Error in estimating w', true_w - w.reshape(true_w.shape))\n",
        "print('Error in estimating b', true_b - b)"
      ],
      "execution_count": 0,
      "outputs": [
        {
          "output_type": "stream",
          "text": [
            "Error in estimating w tensor([ 0.8582, -1.4201], grad_fn=<SubBackward0>)\n",
            "Error in estimating b tensor([1.7151], grad_fn=<RsubBackward1>)\n"
          ],
          "name": "stdout"
        }
      ]
    },
    {
      "cell_type": "markdown",
      "metadata": {
        "id": "JHVvha45V69U",
        "colab_type": "text"
      },
      "source": [
        "Note that we should not take it for granted\n",
        "that we are able to recover the parameters accurately.\n",
        "This only happens for a special category problems:\n",
        "strongly convex optimization problems with 'enough' data to ensure\n",
        "that the noisy samples allow us to recover the underlying dependency.\n",
        "In most cases this is *not* the case.\n",
        "In fact, the parameters of a deep network are rarely the same (or even close) between two different runs, unless all conditions are identical,\n",
        "including the order in which the data is traversed.\n",
        "However, in machine learning we are typically less concerned\n",
        "with recovering true underlying parameters,\n",
        "and more concerned with parameters that lead to accurate prediction.\n",
        "Fortunately, even on difficult optimization problems,\n",
        "that stochastic gradient descent can often lead to remarkably good solutions,\n",
        "due in part to the fact that for the models we will be working with,\n",
        "there exist many sets of parameters that work well.\n",
        "\n",
        "## Summary\n",
        "\n",
        "We saw how a deep network can be implemented\n",
        "and optimized from scratch, using just `torch.Tensor` and `autograd`,\n",
        "without any need for defining layers, fancy optimizers, etc.\n",
        "This only scratches the surface of what is possible.\n",
        "In the following sections, we will describe additional models\n",
        "based on the concepts that we have just introduced\n",
        "and learn how to implement them more concisely.\n"
      ]
    },
    {
      "cell_type": "markdown",
      "metadata": {
        "id": "9Ai3iZkPnHaR",
        "colab_type": "text"
      },
      "source": [
        "**Exercise:** Given a batch size b and a certain number of training examples n, how often are the parameters updated in each epoch (the number of epochs is num_epochs)? Compute the number of updates and return it from the following function."
      ]
    },
    {
      "cell_type": "code",
      "metadata": {
        "id": "fd4Av7c6nIzP",
        "colab_type": "code",
        "colab": {}
      },
      "source": [
        "def compute_num_updates(num_epochs, n, b):\n",
        "  num_updates = 0\n",
        "  ## write your code here\n",
        "  \n",
        "  ## end of function\n",
        "  return num_updates"
      ],
      "execution_count": 0,
      "outputs": []
    },
    {
      "cell_type": "markdown",
      "metadata": {
        "id": "Zya6Txj0oXBS",
        "colab_type": "text"
      },
      "source": [
        "**Exercise:** Deep learning is all about iterating and looking for the best loss for your application. Another loss function is the *L1* loss, which gives comparatively more importance to small errors and less for larger errors. Implement and return the *L1* loss, given `y` and `y_hat`. (Hint: assume both lists have the same shape)"
      ]
    },
    {
      "cell_type": "code",
      "metadata": {
        "id": "hCpEUt2zo9BZ",
        "colab_type": "code",
        "colab": {}
      },
      "source": [
        "def l1_loss(y, y_hat):\n",
        "  ## write your code here\n",
        "  \n",
        "  ## end of function"
      ],
      "execution_count": 0,
      "outputs": []
    },
    {
      "cell_type": "markdown",
      "metadata": {
        "id": "eNCFnRfSV69U",
        "colab_type": "text"
      },
      "source": [
        "# Concise Implementation of Linear Regression"
      ]
    },
    {
      "cell_type": "markdown",
      "metadata": {
        "id": "66bS8p98V69V",
        "colab_type": "text"
      },
      "source": [
        "The surge of deep learning has inspired the development of a variety of mature software frameworks, that\n",
        "automate much of the repetitive work of implementing deep learning models. In the previous section we\n",
        "relied only on NDarray for data storage and linear algebra and the auto-differentiation capabilities in the\n",
        "autograd package. In practice, because many of the more abstract operations, e.g. data iterators, loss\n",
        "functions, model architectures, and optimizers, are so common, deep learning libraries will give us library\n",
        "functions for these as well.\n",
        "\n",
        "We have used DataLoader to load the MNIST dataset in Section 4.5. In this section, we will learn how we can\n",
        "implement the linear regression model in Section 5.2 much more concisely with DataLoader."
      ]
    },
    {
      "cell_type": "markdown",
      "metadata": {
        "id": "wQYUjSg5V69V",
        "colab_type": "text"
      },
      "source": [
        "##  Generating Data Sets"
      ]
    },
    {
      "cell_type": "markdown",
      "metadata": {
        "id": "lFr3mZuWV69V",
        "colab_type": "text"
      },
      "source": [
        "To start, we will generate the same data set as that used in the previous section."
      ]
    },
    {
      "cell_type": "code",
      "metadata": {
        "id": "bd7Ej51rV69V",
        "colab_type": "code",
        "colab": {}
      },
      "source": [
        "import torch\n",
        "import numpy as np\n",
        "def synthetic_data(w, b, num_examples):\n",
        "    \"\"\"generate y = X w + b + noise\"\"\"\n",
        "    X = np.random.normal(scale=1, size=(num_examples, len(w)))\n",
        "    y = np.dot(X, w) + b\n",
        "    y += np.random.normal(scale=0.01, size=y.shape)\n",
        "    X=torch.from_numpy(X).float()\n",
        "    y=torch.from_numpy( y).float().reshape(-1,1)\n",
        "    return X,y\n",
        "true_w = torch.Tensor([2, -3.4])\n",
        "true_b = 4.2\n",
        "features, labels = synthetic_data(true_w, true_b, 1000)"
      ],
      "execution_count": 0,
      "outputs": []
    },
    {
      "cell_type": "markdown",
      "metadata": {
        "id": "su3r2_T9V69W",
        "colab_type": "text"
      },
      "source": [
        "##  Reading Data"
      ]
    },
    {
      "cell_type": "markdown",
      "metadata": {
        "id": "IgUmmq5XV69X",
        "colab_type": "text"
      },
      "source": [
        "Rather than rolling our own iterator, we can call upon DataLoader module to read data. The first step will be to instantiate an ArrayDataset, which takes in one or more NDArrays as arguments. Here, we pass in features and\n",
        "labels as arguments. Next, we will use the ArrayDataset to instantiate a DataLoader, which also requires\n",
        "that we specify a batch_size and specify a Boolean value shuffle indicating whether or not we want the\n",
        "DataLoader to shuffle the data on each epoch (pass through the dataset)."
      ]
    },
    {
      "cell_type": "code",
      "metadata": {
        "id": "uUkg6xYAV69X",
        "colab_type": "code",
        "colab": {}
      },
      "source": [
        "from torch.utils.data import TensorDataset,DataLoader\n",
        "def load_array(data_arrays, batch_size, is_train=True):\n",
        "    dataset=TensorDataset(*(features,labels))\n",
        "    dataloader = DataLoader(dataset=dataset,batch_size=batch_size,shuffle=True)\n",
        "    return dataloader\n",
        "batch_size =10\n",
        "data_iter = load_array((features, labels), batch_size)"
      ],
      "execution_count": 0,
      "outputs": []
    },
    {
      "cell_type": "markdown",
      "metadata": {
        "id": "Mj_FSE1JV69Y",
        "colab_type": "text"
      },
      "source": [
        "Now we can use data_iter in much the same way as we called the data_iter function in the previous\n",
        "section. To verify that it’s working, we can read and print the first mini-batch of instances."
      ]
    },
    {
      "cell_type": "code",
      "metadata": {
        "id": "ZDc4a6C0V69Y",
        "colab_type": "code",
        "colab": {}
      },
      "source": [
        "for X, y in data_iter:\n",
        "    print(X)\n",
        "    print(y)\n",
        "    break"
      ],
      "execution_count": 0,
      "outputs": []
    },
    {
      "cell_type": "markdown",
      "metadata": {
        "id": "JsPxeKISV69Z",
        "colab_type": "text"
      },
      "source": [
        "##  Define the Model"
      ]
    },
    {
      "cell_type": "markdown",
      "metadata": {
        "id": "Ief1DBgzV69Z",
        "colab_type": "text"
      },
      "source": [
        "When we implemented linear regression from scratch in the previous section, we had to define the model\n",
        "parameters and explicitly write out the calculation to produce output using basic linear algebra operations.\n",
        "You should know how to do this. But once your models get more complex, even qualitatively simple changes\n",
        "to the model might result in many low-level changes.\n",
        "\n",
        "We import torch.nn as nn .For standard operations, we can use nn's predefined layers, which allow us to focus especially on thelayers used to construct the model rather than having to focus on the implementation.\n",
        "To define a linear model, we first import the nn module, which defines a large number of neural network\n",
        "layers (note that “nn” is an abbreviation for neural networks). We will first define a model variable net,\n",
        "which is a Sequential instance. In nn, a Sequential instance can be regarded as a container that\n",
        "concatenates the various layers in sequence. When input data is given, each layer in the container will be\n",
        "calculated in order, and the output of one layer will be the input of the next layer. In this example, since\n",
        "our model consists of only one layer, we do not really need Sequential. But since nearly all of our future\n",
        "models will involve multiple layers, let’s get into the habit early.\n",
        "Recall the architecture of a single layer network. The layer is fully connected since it connects all inputs\n",
        "with all outputs by means of a matrix-vector multiplication. In nn, the fully-connected layer is defined\n",
        "in the Linear class. Since we only want to generate a single scalar output,we set that number to 1.\n",
        "\n",
        "![alt text](https://drive.google.com/uc?id=1-8TFMQ8pA1p4fpRTILCFXv_3X5a5RkST)"
      ]
    },
    {
      "cell_type": "code",
      "metadata": {
        "id": "n5f6ul-cV69b",
        "colab_type": "code",
        "colab": {}
      },
      "source": [
        "class LinearRegressionModel(torch.nn.Module): \n",
        "    def __init__(self): \n",
        "        super(LinearRegressionModel, self).__init__() \n",
        "        self.layer1 = torch.nn.Linear(2, 1, bias=True)\n",
        "    def forward(self, x): \n",
        "        y_pred = self.layer1(x)\n",
        "        return y_pred \n",
        "    \n",
        "net = LinearRegressionModel()"
      ],
      "execution_count": 0,
      "outputs": []
    },
    {
      "cell_type": "markdown",
      "metadata": {
        "id": "0KSRca5kV69c",
        "colab_type": "text"
      },
      "source": [
        "##  Initialize Model Parameters"
      ]
    },
    {
      "cell_type": "markdown",
      "metadata": {
        "id": "AefztaZQV69c",
        "colab_type": "text"
      },
      "source": [
        "Before using net, we need to initialize the model parameters, such as the weights and biases in the linear\n",
        "regression model. we specify that each weight parameter should be randomly sampled from a normal distribution with mean 0 and standard deviation 0.01.\n",
        "The bias parameter will be initialized to zero by default. Both weight and bias will be attached with\n",
        "gradients."
      ]
    },
    {
      "cell_type": "code",
      "metadata": {
        "id": "tu44i8J6V69c",
        "colab_type": "code",
        "colab": {}
      },
      "source": [
        "net.layer1.weight.data=torch.Tensor(np.random.normal(size=(1,2),scale=0.01,loc=0))\n",
        "net.layer1.bias.data=torch.Tensor([0])"
      ],
      "execution_count": 0,
      "outputs": []
    },
    {
      "cell_type": "markdown",
      "metadata": {
        "id": "tSPNDetZV69d",
        "colab_type": "text"
      },
      "source": [
        "The code above looks straightforward but in reality something quite strange is happening here. We are\n",
        "initializing parameters for a network even though we haven’t yet told nn how many dimensions the input\n",
        "will have. It might be 2 as in our example or it might be 2,000, so we couldn’t just preallocate enough space\n",
        "to make it work.\n",
        "nn let’s us get away with this because behind the scenes, the initialization is deferred until the first time\n",
        "that we attempt to pass data through our network. Just be careful to remember that since the parameters\n",
        "have not been initialized yet we cannot yet manipulate them in any way."
      ]
    },
    {
      "cell_type": "markdown",
      "metadata": {
        "id": "L-zB4BdaV69d",
        "colab_type": "text"
      },
      "source": [
        "##  Define the Loss Function"
      ]
    },
    {
      "cell_type": "markdown",
      "metadata": {
        "id": "tDfQE8UwV69d",
        "colab_type": "text"
      },
      "source": [
        "In nn, there are many loss modules that defines various loss functions and we will directly use its implementation of squared loss (MSELoss)."
      ]
    },
    {
      "cell_type": "code",
      "metadata": {
        "id": "41046gF0V69e",
        "colab_type": "code",
        "colab": {}
      },
      "source": [
        "loss = torch.nn.MSELoss(reduction = \"sum\") "
      ],
      "execution_count": 0,
      "outputs": []
    },
    {
      "cell_type": "markdown",
      "metadata": {
        "id": "pq-Ru3BRV69e",
        "colab_type": "text"
      },
      "source": [
        "## Define the Optimization Algorithm"
      ]
    },
    {
      "cell_type": "markdown",
      "metadata": {
        "id": "p2Lbt1NsV69f",
        "colab_type": "text"
      },
      "source": [
        "Not surpisingly, we aren’t the first people to implement mini-batch stochastic gradient descent, and thus\n",
        "torch supports SGD alongside a number of variations on this algorithm through its Trainer class. When\n",
        "we instantiate the Trainer, we’ll specify the parameters to optimize over (obtainable from our net via net.parameters()), the optimization algortihm we wish to use (sgd), and a dictionary of hyper-parameters\n",
        "required by our optimization algorithm. SGD just requires that we set the value learning_rate, (here we\n",
        "set it to 0.03).\n"
      ]
    },
    {
      "cell_type": "code",
      "metadata": {
        "id": "EDfVjP18V69f",
        "colab_type": "code",
        "colab": {}
      },
      "source": [
        "trainer = torch.optim.SGD(net.parameters(), lr = 0.03) "
      ],
      "execution_count": 0,
      "outputs": []
    },
    {
      "cell_type": "markdown",
      "metadata": {
        "id": "KYjH6byaV69g",
        "colab_type": "text"
      },
      "source": [
        "##  Training"
      ]
    },
    {
      "cell_type": "markdown",
      "metadata": {
        "id": "c8QSo_-4V69g",
        "colab_type": "text"
      },
      "source": [
        "You might have noticed that expressing our model through torch requires comparatively few lines of code.\n",
        "We didn’t have to individually allocate parameters, define our loss function, or implement stochastic gradient descent. Once we start working with much more complex models, the benefits of relying on torch\n",
        "abstractions will grow considerably. But once we have all the basic pieces in place, the training loop itself strikingly similar to what we did when implementing everything from scratch.\n",
        "To refresh your memory: for some number of epochs, we’ll make a complete pass over the dataset\n",
        "(train_data), grabbing one mini-batch of inputs and corresponding ground-truth labels at a time. \n",
        "\n",
        "For\n",
        "each batch, we’ll go through the following ritual:\n",
        "\n",
        "• Generate predictions by calling net(X) and calculate the loss l (the forward pass).\n",
        "\n",
        "• Calculate gradients by calling l.backward() (the backward pass).\n",
        "\n",
        "• Update the model parameters by invoking our SGD optimizer (note that trainer already knows which parameters to optimize over, so we just need to pass in the batch size.\n",
        "\n",
        "For good measure, we compute the loss after each epoch and print it to monitor progress."
      ]
    },
    {
      "cell_type": "code",
      "metadata": {
        "id": "ofqcGmNPV69g",
        "colab_type": "code",
        "colab": {}
      },
      "source": [
        "num_epochs = 3\n",
        "for epoch in range(num_epochs): \n",
        "    for X,y in data_iter:\n",
        "        l=loss(net(X) ,y)\n",
        "        trainer.zero_grad() \n",
        "        l.backward() \n",
        "        trainer.step() \n",
        "    l_epoch = loss(net(features), labels) \n",
        "    print('epoch {}, loss {}'.format(epoch+1, l_epoch)) "
      ],
      "execution_count": 0,
      "outputs": []
    },
    {
      "cell_type": "markdown",
      "metadata": {
        "id": "-KTBoSvKmhJ_",
        "colab_type": "text"
      },
      "source": [
        "The model parameters we have learned and the actual model parameters are compared as below. We get\n",
        "the layer we need from the net and access its weight (weight) and bias (bias). The parameters we have\n",
        "learned and the actual parameters are very close."
      ]
    },
    {
      "cell_type": "code",
      "metadata": {
        "id": "-Od4letZV69i",
        "colab_type": "code",
        "colab": {}
      },
      "source": [
        "w = list(net.parameters())[0][0]\n",
        "print('Error in estimating w', true_w.reshape(w.shape) - w)\n",
        "b = list(net.parameters())[1][0]\n",
        "print('Error in estimating b', true_b - b)"
      ],
      "execution_count": 0,
      "outputs": []
    },
    {
      "cell_type": "markdown",
      "metadata": {
        "id": "GJLq-ainV69h",
        "colab_type": "text"
      },
      "source": [
        "**Exercise**: You probably have asked yourself what zero_grad() is good for. It makes sure that the gradient is reset to zero after each gradient descent iteration. Without it, you would end up summing the gradients. As an exercise, wrap above code into a function and transform it to use batch gradient descent instead of mini-batch gradient descent. Return the loss after a single epoch, after updating the parameters. (Hint: You do not need a data_iter. You need to call the loss function two times)\n"
      ]
    },
    {
      "cell_type": "code",
      "metadata": {
        "id": "n8zXJ7B-mmY5",
        "colab_type": "code",
        "colab": {}
      },
      "source": [
        "def batch_gradient_descent(features, labels):\n",
        "  ## write your code here\n",
        "\n",
        "  ## end of function"
      ],
      "execution_count": 0,
      "outputs": []
    }
  ]
}